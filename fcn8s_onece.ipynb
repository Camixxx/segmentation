{
 "cells": [
  {
   "cell_type": "code",
   "execution_count": 1,
   "metadata": {},
   "outputs": [],
   "source": [
    "#!/usr/bin/env python\n",
    "\n",
    "import argparse\n",
    "import os\n",
    "import os.path as osp\n",
    "import torch\n",
    "import models\n",
    "from utils import get_log_dir, get_parameters\n",
    "import dataset\n",
    "from trainer import Trainer\n",
    "\n",
    "\n",
    "configurations = {\n",
    "    # same configuration as original work\n",
    "    # https://github.com/shelhamer/fcn.berkeleyvision.org\n",
    "    1: dict(\n",
    "        max_iteration=100000,\n",
    "        lr=1.0e-10,\n",
    "        momentum=0.99,\n",
    "        weight_decay=0.0005,\n",
    "        interval_validate=4000,\n",
    "    )\n",
    "}\n",
    "\n",
    "\n",
    "cfg = configurations[1]\n",
    "out = get_log_dir('fcn8s-atonce', 1, cfg)\n",
    "# resume= 'checkpoint'\n",
    "resume = False\n",
    "os.environ['CUDA_VISIBLE_DEVICES'] = '0'\n",
    "# cuda = torch.cuda.is_available()\n",
    "cuda = False\n",
    "torch.manual_seed(1337)\n",
    "if cuda:\n",
    "    torch.cuda.manual_seed(1337)"
   ]
  },
  {
   "cell_type": "code",
   "execution_count": 2,
   "metadata": {},
   "outputs": [],
   "source": [
    "# 1. dataset benchmark\n",
    "\n",
    "root = '../datasets/'\n",
    "kwargs = {'num_workers': 4, 'pin_memory': True} if cuda else {}\n",
    "\n",
    "train_loader = torch.utils.data.DataLoader(\n",
    "    dataset.SBDClassSeg(root, split='train', transform=True),\n",
    "    batch_size=1, shuffle=True, **kwargs)\n",
    "\n",
    "val_loader = torch.utils.data.DataLoader(\n",
    "    dataset.SBDClassSeg(root, split='val', transform=True),\n",
    "    batch_size=1, shuffle=False, **kwargs)\n",
    "\n",
    "# test_loader = torch.utils.data.DataLoader(\n",
    "#     dataset.VOC2012ClassSeg(\n",
    "#         root, split='seg11valid', transform=True),\n",
    "#     batch_size=1, shuffle=False, **kwargs)\n",
    "\n"
   ]
  },
  {
   "cell_type": "code",
   "execution_count": 3,
   "metadata": {},
   "outputs": [],
   "source": [
    "# 2. model\n",
    "\n",
    "mod = models.FCN8sAtOnce(n_class=21)\n",
    "start_epoch = 0\n",
    "start_iteration = 0\n",
    "if resume:\n",
    "    checkpoint = torch.load(resume)\n",
    "    mod.load_state_dict(checkpoint['model_state_dict'])\n",
    "    start_epoch = checkpoint['epoch']\n",
    "    start_iteration = checkpoint['iteration']\n",
    "else:\n",
    "    vgg16 = models.VGG16(pretrained=True)\n",
    "    mod.copy_params_from_vgg16(vgg16)\n",
    "if cuda:\n",
    "    mod = mod.cuda()\n",
    "\n",
    "# 3. optimizer\n",
    "\n",
    "optim = torch.optim.SGD(\n",
    "    [\n",
    "        {'params': get_parameters(mod, bias=False)},\n",
    "        {'params': get_parameters(mod, bias=True),\n",
    "         'lr': cfg['lr'] * 2, 'weight_decay': 0},\n",
    "    ],\n",
    "    lr=cfg['lr'],\n",
    "    momentum=cfg['momentum'],\n",
    "    weight_decay=cfg['weight_decay'])\n",
    "if resume:\n",
    "    optim.load_state_dict(checkpoint['optim_state_dict'])\n",
    "\n"
   ]
  },
  {
   "cell_type": "code",
   "execution_count": null,
   "metadata": {},
   "outputs": [],
   "source": [
    "# 3. optimizer\n",
    "# optimizer_seg = torch.optim.Adam(seg.parameters(), lr=1e-3)\n",
    "# optimizer_feat = torch.optim.Adam(res50.parameters(), lr=1e-4)\n",
    "\n",
    "\n",
    "# optim = torch.optim.Adam(\n",
    "#     [\n",
    "#         {'params': get_parameters(mod, bias=False)},\n",
    "#         {'params': get_parameters(mod, bias=True),\n",
    "#          'lr': cfg['lr'] * 2, 'weight_decay': 0},\n",
    "#     ],\n",
    "#     lr=cfg['lr'],\n",
    "# #     momentum=cfg['momentum'],\n",
    "#     weight_decay=cfg['weight_decay'])\n",
    "\n"
   ]
  },
  {
   "cell_type": "code",
   "execution_count": null,
   "metadata": {},
   "outputs": [
    {
     "name": "stderr",
     "output_type": "stream",
     "text": [
      "Train:   0%|                                             | 0/12 [00:00<?, ?it/s]\n",
      "Train epoch=0:   0%|                                   | 0/8498 [00:00<?, ?it/s]\u001b[A/home/lijilan/Documents/MR/segmentation/trainer.py:193: UserWarning: invalid index of a 0-dim tensor. This will be an error in PyTorch 0.5. Use tensor.item() to convert a 0-dim tensor to a Python number\n",
      "  if np.isnan(float(loss.data[0])):\n",
      "/home/lijilan/Documents/MR/segmentation/utils.py:92: RuntimeWarning: invalid value encountered in true_divide\n",
      "  acc_cls = np.diag(hist) / hist.sum(axis=1)\n",
      "/home/lijilan/Documents/MR/segmentation/utils.py:94: RuntimeWarning: invalid value encountered in true_divide\n",
      "  iu = np.diag(hist) / (hist.sum(axis=1) + hist.sum(axis=0) - np.diag(hist))\n",
      "/home/lijilan/Documents/MR/segmentation/trainer.py:213: UserWarning: invalid index of a 0-dim tensor. This will be an error in PyTorch 0.5. Use tensor.item() to convert a 0-dim tensor to a Python number\n",
      "  metrics.tolist() + [''] * 5 + [elapsed_time]\n",
      "\n",
      "Train epoch=0:   0%|                        | 1/8498 [00:11<26:30:19, 11.23s/it]\u001b[A"
     ]
    },
    {
     "name": "stdout",
     "output_type": "stream",
     "text": [
      "[(0.99536, 0.3333333333333333, 0.3317866666666667, 0.9907415296000001)]\n"
     ]
    },
    {
     "name": "stderr",
     "output_type": "stream",
     "text": [
      "\n",
      "Train epoch=0:   0%|                        | 2/8498 [00:22<26:50:11, 11.37s/it]\u001b[A"
     ]
    },
    {
     "name": "stdout",
     "output_type": "stream",
     "text": [
      "[(0.933296, 0.25, 0.233324, 0.871041423616)]\n"
     ]
    },
    {
     "name": "stderr",
     "output_type": "stream",
     "text": [
      "\n",
      "Train epoch=0:   0%|                        | 3/8498 [00:33<26:06:10, 11.06s/it]\u001b[A"
     ]
    },
    {
     "name": "stdout",
     "output_type": "stream",
     "text": [
      "[(0.8033731343283582, 0.3333333333333333, 0.2677910447761194, 0.6454083929605703)]\n"
     ]
    },
    {
     "name": "stderr",
     "output_type": "stream",
     "text": [
      "\n",
      "Train epoch=0:   0%|                        | 4/8498 [00:43<25:53:19, 10.97s/it]\u001b[A"
     ]
    },
    {
     "name": "stdout",
     "output_type": "stream",
     "text": [
      "[(0.968624, 0.5, 0.484312, 0.938232453376)]\n"
     ]
    },
    {
     "name": "stderr",
     "output_type": "stream",
     "text": [
      "\n",
      "Train epoch=0:   0%|                        | 5/8498 [00:53<25:21:26, 10.75s/it]\u001b[A"
     ]
    },
    {
     "name": "stdout",
     "output_type": "stream",
     "text": [
      "[(0.7304307692307692, 0.5, 0.3652153846153846, 0.5335291086390532)]\n"
     ]
    },
    {
     "name": "stderr",
     "output_type": "stream",
     "text": [
      "\n",
      "Train epoch=0:   0%|                        | 6/8498 [01:04<25:29:44, 10.81s/it]\u001b[A"
     ]
    },
    {
     "name": "stdout",
     "output_type": "stream",
     "text": [
      "[(0.817824, 0.3333333333333333, 0.272608, 0.6688360949759999)]\n"
     ]
    },
    {
     "name": "stderr",
     "output_type": "stream",
     "text": [
      "\n",
      "Train epoch=0:   0%|                        | 7/8498 [01:15<25:30:08, 10.81s/it]\u001b[A"
     ]
    },
    {
     "name": "stdout",
     "output_type": "stream",
     "text": [
      "[(0.5559626666666667, 0.3333333333333333, 0.1853208888888889, 0.30909448672711115)]\n"
     ]
    },
    {
     "name": "stderr",
     "output_type": "stream",
     "text": [
      "\n",
      "Train epoch=0:   0%|                        | 8/8498 [01:22<24:11:40, 10.26s/it]\u001b[A"
     ]
    },
    {
     "name": "stdout",
     "output_type": "stream",
     "text": [
      "[(0.7152110042735043, 0.3333333333333333, 0.23840366809116809, 0.5115267806339145)]\n"
     ]
    },
    {
     "name": "stderr",
     "output_type": "stream",
     "text": [
      "\n",
      "Train epoch=0:   0%|                        | 9/8498 [01:32<24:08:34, 10.24s/it]\u001b[A"
     ]
    },
    {
     "name": "stdout",
     "output_type": "stream",
     "text": [
      "[(0.42333532934131735, 0.5, 0.21166766467065867, 0.1792128010685216)]\n"
     ]
    },
    {
     "name": "stderr",
     "output_type": "stream",
     "text": [
      "\n",
      "Train epoch=0:   0%|                       | 10/8498 [01:43<24:28:06, 10.38s/it]\u001b[A"
     ]
    },
    {
     "name": "stdout",
     "output_type": "stream",
     "text": [
      "[(0.8330634146341463, 0.5, 0.4165317073170732, 0.6939946528019036)]\n"
     ]
    },
    {
     "name": "stderr",
     "output_type": "stream",
     "text": [
      "\n",
      "Train epoch=0:   0%|                       | 11/8498 [01:53<24:19:50, 10.32s/it]\u001b[A"
     ]
    },
    {
     "name": "stdout",
     "output_type": "stream",
     "text": [
      "[(0.4786966966966967, 0.5, 0.23934834834834834, 0.2291505274283292)]\n"
     ]
    },
    {
     "name": "stderr",
     "output_type": "stream",
     "text": [
      "\n",
      "Train epoch=0:   0%|                       | 12/8498 [02:03<24:11:56, 10.27s/it]\u001b[A"
     ]
    },
    {
     "name": "stdout",
     "output_type": "stream",
     "text": [
      "[(0.9618558558558559, 0.5, 0.48092792792792793, 0.9251666874442009)]\n"
     ]
    },
    {
     "name": "stderr",
     "output_type": "stream",
     "text": [
      "\n",
      "Train epoch=0:   0%|                       | 13/8498 [02:14<24:22:37, 10.34s/it]\u001b[A"
     ]
    },
    {
     "name": "stdout",
     "output_type": "stream",
     "text": [
      "[(0.33921197007481296, 0.5, 0.16960598503740648, 0.1150647606420358)]\n"
     ]
    },
    {
     "name": "stderr",
     "output_type": "stream",
     "text": [
      "\n",
      "Train epoch=0:   0%|                       | 14/8498 [02:25<24:27:45, 10.38s/it]\u001b[A"
     ]
    },
    {
     "name": "stdout",
     "output_type": "stream",
     "text": [
      "[(0.5640586666666667, 0.5, 0.28202933333333335, 0.3181621794417778)]\n"
     ]
    },
    {
     "name": "stderr",
     "output_type": "stream",
     "text": [
      "\n",
      "Train epoch=0:   0%|                       | 15/8498 [02:36<24:31:28, 10.41s/it]\u001b[A"
     ]
    },
    {
     "name": "stdout",
     "output_type": "stream",
     "text": [
      "[(0.298624, 0.3333333333333333, 0.09954133333333333, 0.089176293376)]\n"
     ]
    },
    {
     "name": "stderr",
     "output_type": "stream",
     "text": [
      "\n",
      "Train epoch=0:   0%|                       | 16/8498 [02:46<24:26:49, 10.38s/it]\u001b[A"
     ]
    },
    {
     "name": "stdout",
     "output_type": "stream",
     "text": [
      "[(0.8916396396396397, 0.5, 0.44581981981981983, 0.7950212469767065)]\n"
     ]
    },
    {
     "name": "stderr",
     "output_type": "stream",
     "text": [
      "\n",
      "Train epoch=0:   0%|                       | 17/8498 [02:56<24:29:29, 10.40s/it]\u001b[A"
     ]
    },
    {
     "name": "stdout",
     "output_type": "stream",
     "text": [
      "[(0.3241386666666667, 0.3333333333333333, 0.10804622222222222, 0.10506587522844446)]\n"
     ]
    },
    {
     "name": "stderr",
     "output_type": "stream",
     "text": [
      "\n",
      "Train epoch=0:   0%|                       | 18/8498 [03:06<24:23:54, 10.36s/it]\u001b[A"
     ]
    },
    {
     "name": "stdout",
     "output_type": "stream",
     "text": [
      "[(0.5533873873873874, 0.5, 0.2766936936936937, 0.3062376005194383)]\n"
     ]
    },
    {
     "name": "stderr",
     "output_type": "stream",
     "text": [
      "\n",
      "Train epoch=0:   0%|                       | 19/8498 [03:16<24:17:55, 10.32s/it]\u001b[A"
     ]
    },
    {
     "name": "stdout",
     "output_type": "stream",
     "text": [
      "[(0.8537014925373134, 0.5, 0.4268507462686567, 0.7288062383604366)]\n"
     ]
    },
    {
     "name": "stderr",
     "output_type": "stream",
     "text": [
      "\n",
      "Train epoch=0:   0%|                       | 20/8498 [03:25<24:11:59, 10.28s/it]\u001b[A"
     ]
    },
    {
     "name": "stdout",
     "output_type": "stream",
     "text": [
      "[(0.7534894894894895, 0.5, 0.37674474474474473, 0.5677464107711314)]\n"
     ]
    },
    {
     "name": "stderr",
     "output_type": "stream",
     "text": [
      "\n",
      "Train epoch=0:   0%|                       | 21/8498 [03:35<24:11:50, 10.28s/it]\u001b[A"
     ]
    },
    {
     "name": "stdout",
     "output_type": "stream",
     "text": [
      "[(0.7547786666666667, 0.5, 0.37738933333333335, 0.5696908356551111)]\n"
     ]
    },
    {
     "name": "stderr",
     "output_type": "stream",
     "text": [
      "\n",
      "Train epoch=0:   0%|                       | 22/8498 [03:45<24:10:57, 10.27s/it]\u001b[A"
     ]
    },
    {
     "name": "stdout",
     "output_type": "stream",
     "text": [
      "[(0.466272, 0.25, 0.116568, 0.217409577984)]\n"
     ]
    },
    {
     "name": "stderr",
     "output_type": "stream",
     "text": [
      "\n",
      "Train epoch=0:   0%|                       | 23/8498 [03:56<24:10:51, 10.27s/it]\u001b[A"
     ]
    },
    {
     "name": "stdout",
     "output_type": "stream",
     "text": [
      "[(0.733808, 0.5, 0.366904, 0.538474180864)]\n"
     ]
    },
    {
     "name": "stderr",
     "output_type": "stream",
     "text": [
      "\n",
      "Train epoch=0:   0%|                       | 24/8498 [04:06<24:10:47, 10.27s/it]\u001b[A"
     ]
    },
    {
     "name": "stdout",
     "output_type": "stream",
     "text": [
      "[(0.8801832884097035, 0.5, 0.44009164420485175, 0.7747226211957193)]\n"
     ]
    },
    {
     "name": "stderr",
     "output_type": "stream",
     "text": [
      "\n",
      "Train epoch=0:   0%|                       | 25/8498 [04:17<24:17:17, 10.32s/it]\u001b[A"
     ]
    },
    {
     "name": "stdout",
     "output_type": "stream",
     "text": [
      "[(0.828912, 0.5, 0.414456, 0.687095103744)]\n"
     ]
    },
    {
     "name": "stderr",
     "output_type": "stream",
     "text": [
      "\n",
      "Train epoch=0:   0%|                       | 26/8498 [04:28<24:17:31, 10.32s/it]\u001b[A"
     ]
    },
    {
     "name": "stdout",
     "output_type": "stream",
     "text": [
      "[(0.7374171122994653, 0.5, 0.36870855614973264, 0.5437839975120822)]\n"
     ]
    },
    {
     "name": "stderr",
     "output_type": "stream",
     "text": [
      "\n",
      "Train epoch=0:   0%|                       | 27/8498 [04:36<24:06:59, 10.25s/it]\u001b[A"
     ]
    },
    {
     "name": "stdout",
     "output_type": "stream",
     "text": [
      "[(0.9164982206405694, 0.5, 0.4582491103202847, 0.8399689884373298)]\n"
     ]
    },
    {
     "name": "stderr",
     "output_type": "stream",
     "text": [
      "\n",
      "Train epoch=0:   0%|                       | 28/8498 [04:46<24:06:26, 10.25s/it]\u001b[A"
     ]
    },
    {
     "name": "stdout",
     "output_type": "stream",
     "text": [
      "[(0.7323733333333333, 0.5, 0.36618666666666666, 0.5363706993777777)]\n"
     ]
    },
    {
     "name": "stderr",
     "output_type": "stream",
     "text": [
      "\n",
      "Train epoch=0:   0%|                       | 29/8498 [04:56<24:03:50, 10.23s/it]\u001b[A"
     ]
    },
    {
     "name": "stdout",
     "output_type": "stream",
     "text": [
      "[(0.6635975975975976, 0.5, 0.3317987987987988, 0.4403617715373031)]\n"
     ]
    },
    {
     "name": "stderr",
     "output_type": "stream",
     "text": [
      "\n",
      "Train epoch=0:   0%|                       | 30/8498 [05:06<24:01:26, 10.21s/it]\u001b[A"
     ]
    },
    {
     "name": "stdout",
     "output_type": "stream",
     "text": [
      "[(0.7463243243243243, 0.5, 0.37316216216216214, 0.5569999970781592)]\n"
     ]
    },
    {
     "name": "stderr",
     "output_type": "stream",
     "text": [
      "\n",
      "Train epoch=0:   0%|                       | 31/8498 [05:16<23:59:24, 10.20s/it]\u001b[A"
     ]
    },
    {
     "name": "stdout",
     "output_type": "stream",
     "text": [
      "[(0.9331951951951952, 0.5, 0.4665975975975976, 0.8708532723353986)]\n"
     ]
    },
    {
     "name": "stderr",
     "output_type": "stream",
     "text": [
      "\n",
      "Train epoch=0:   0%|                       | 32/8498 [05:26<23:59:49, 10.20s/it]\u001b[A"
     ]
    },
    {
     "name": "stdout",
     "output_type": "stream",
     "text": [
      "[(0.10120441988950277, 0.5, 0.05060220994475138, 0.010242334605170784)]\n"
     ]
    },
    {
     "name": "stderr",
     "output_type": "stream",
     "text": [
      "\n",
      "Train epoch=0:   0%|                       | 33/8498 [05:35<23:55:47, 10.18s/it]\u001b[A"
     ]
    },
    {
     "name": "stdout",
     "output_type": "stream",
     "text": [
      "[(0.7370159093120561, 0.3333333333333333, 0.24567196977068537, 0.5431924505790768)]\n"
     ]
    },
    {
     "name": "stderr",
     "output_type": "stream",
     "text": [
      "\n",
      "Train epoch=0:   0%|                       | 34/8498 [05:46<23:55:53, 10.18s/it]\u001b[A"
     ]
    },
    {
     "name": "stdout",
     "output_type": "stream",
     "text": [
      "[(0.967328, 0.5, 0.483664, 0.9357234595839999)]\n"
     ]
    },
    {
     "name": "stderr",
     "output_type": "stream",
     "text": [
      "\n",
      "Train epoch=0:   0%|                       | 35/8498 [05:56<23:55:08, 10.17s/it]\u001b[A"
     ]
    },
    {
     "name": "stdout",
     "output_type": "stream",
     "text": [
      "[(0.9572887700534759, 0.5, 0.47864438502673795, 0.9164017892704966)]\n"
     ]
    },
    {
     "name": "stderr",
     "output_type": "stream",
     "text": [
      "\n",
      "Train epoch=0:   0%|                       | 36/8498 [06:06<23:55:52, 10.18s/it]\u001b[A"
     ]
    },
    {
     "name": "stdout",
     "output_type": "stream",
     "text": [
      "[(0.4591871657754011, 0.5, 0.22959358288770054, 0.21085285321284566)]\n"
     ]
    },
    {
     "name": "stderr",
     "output_type": "stream",
     "text": [
      "\n",
      "Train epoch=0:   0%|                       | 37/8498 [06:14<23:48:28, 10.13s/it]\u001b[A"
     ]
    },
    {
     "name": "stdout",
     "output_type": "stream",
     "text": [
      "[(0.7800711743772242, 0.5, 0.3900355871886121, 0.6085110370942617)]\n"
     ]
    },
    {
     "name": "stderr",
     "output_type": "stream",
     "text": [
      "\n",
      "Train epoch=0:   0%|                       | 38/8498 [06:25<23:49:22, 10.14s/it]\u001b[A"
     ]
    },
    {
     "name": "stdout",
     "output_type": "stream",
     "text": [
      "[(0.33187733333333336, 0.25, 0.08296933333333334, 0.11014256438044447)]\n"
     ]
    },
    {
     "name": "stderr",
     "output_type": "stream",
     "text": [
      "\n",
      "Train epoch=0:   0%|                       | 39/8498 [06:34<23:46:10, 10.12s/it]\u001b[A"
     ]
    },
    {
     "name": "stdout",
     "output_type": "stream",
     "text": [
      "[(0.7639221556886228, 0.5, 0.3819610778443114, 0.5835770599519524)]\n"
     ]
    },
    {
     "name": "stderr",
     "output_type": "stream",
     "text": [
      "\n",
      "Train epoch=0:   0%|                       | 40/8498 [06:44<23:46:41, 10.12s/it]\u001b[A"
     ]
    },
    {
     "name": "stdout",
     "output_type": "stream",
     "text": [
      "[(0.44747733333333334, 0.5, 0.22373866666666667, 0.20023596384711112)]\n"
     ]
    },
    {
     "name": "stderr",
     "output_type": "stream",
     "text": [
      "\n",
      "Train epoch=0:   0%|                       | 41/8498 [06:54<23:45:38, 10.11s/it]\u001b[A"
     ]
    },
    {
     "name": "stdout",
     "output_type": "stream",
     "text": [
      "[(0.7221981981981982, 0.5, 0.3610990990990991, 0.521570237480724)]\n"
     ]
    },
    {
     "name": "stderr",
     "output_type": "stream",
     "text": [
      "\n",
      "Train epoch=0:   0%|                       | 42/8498 [07:04<23:45:29, 10.11s/it]\u001b[A"
     ]
    },
    {
     "name": "stdout",
     "output_type": "stream",
     "text": [
      "[(0.35083333333333333, 0.3333333333333333, 0.11694444444444445, 0.12308402777777777)]\n"
     ]
    },
    {
     "name": "stderr",
     "output_type": "stream",
     "text": [
      "\n",
      "Train epoch=0:   1%|                       | 43/8498 [07:14<23:45:22, 10.11s/it]\u001b[A"
     ]
    },
    {
     "name": "stdout",
     "output_type": "stream",
     "text": [
      "[(0.580624, 0.25, 0.145156, 0.337124229376)]\n"
     ]
    },
    {
     "name": "stderr",
     "output_type": "stream",
     "text": [
      "\n",
      "Train epoch=0:   1%|                       | 44/8498 [07:25<23:47:38, 10.13s/it]\u001b[A"
     ]
    },
    {
     "name": "stdout",
     "output_type": "stream",
     "text": [
      "[(0.6982462462462462, 0.5, 0.3491231231231231, 0.4875478203969735)]\n"
     ]
    },
    {
     "name": "stderr",
     "output_type": "stream",
     "text": [
      "\n",
      "Train epoch=0:   1%|                       | 45/8498 [07:35<23:44:54, 10.11s/it]\u001b[A"
     ]
    },
    {
     "name": "stdout",
     "output_type": "stream",
     "text": [
      "[(0.9739579579579579, 0.5, 0.48697897897897896, 0.9485941038696353)]\n"
     ]
    },
    {
     "name": "stderr",
     "output_type": "stream",
     "text": [
      "\n",
      "Train epoch=0:   1%|                       | 46/8498 [07:45<23:44:36, 10.11s/it]\u001b[A"
     ]
    },
    {
     "name": "stdout",
     "output_type": "stream",
     "text": [
      "[(0.4151976047904192, 0.5, 0.2075988023952096, 0.1723890510237011)]\n"
     ]
    },
    {
     "name": "stderr",
     "output_type": "stream",
     "text": [
      "\n",
      "Train epoch=0:   1%|▏                      | 47/8498 [07:55<23:46:26, 10.13s/it]\u001b[A"
     ]
    },
    {
     "name": "stdout",
     "output_type": "stream",
     "text": [
      "[(0.08779, 0.5, 0.043895, 0.007707084100000001)]\n"
     ]
    },
    {
     "name": "stderr",
     "output_type": "stream",
     "text": [
      "\n",
      "Train epoch=0:   1%|▏                      | 48/8498 [08:06<23:46:49, 10.13s/it]\u001b[A"
     ]
    },
    {
     "name": "stdout",
     "output_type": "stream",
     "text": [
      "[(0.6517653333333333, 0.5, 0.32588266666666665, 0.4247980497351111)]\n"
     ]
    },
    {
     "name": "stderr",
     "output_type": "stream",
     "text": [
      "\n",
      "Train epoch=0:   1%|▏                      | 49/8498 [08:16<23:46:40, 10.13s/it]\u001b[A"
     ]
    },
    {
     "name": "stdout",
     "output_type": "stream",
     "text": [
      "[(0.8550453333333333, 0.5, 0.42752266666666666, 0.7311025220551111)]\n"
     ]
    },
    {
     "name": "stderr",
     "output_type": "stream",
     "text": [
      "\n",
      "Train epoch=0:   1%|▏                      | 50/8498 [08:26<23:47:09, 10.14s/it]\u001b[A"
     ]
    },
    {
     "name": "stdout",
     "output_type": "stream",
     "text": [
      "[(0.5922453333333333, 0.5, 0.29612266666666665, 0.35075453485511104)]\n"
     ]
    },
    {
     "name": "stderr",
     "output_type": "stream",
     "text": [
      "\n",
      "Train epoch=0:   1%|▏                      | 51/8498 [08:37<23:49:53, 10.16s/it]\u001b[A"
     ]
    },
    {
     "name": "stdout",
     "output_type": "stream",
     "text": [
      "[(0.7511626666666666, 0.3333333333333333, 0.25038755555555553, 0.5642453517937778)]\n"
     ]
    },
    {
     "name": "stderr",
     "output_type": "stream",
     "text": [
      "\n",
      "Train epoch=0:   1%|▏                      | 52/8498 [08:46<23:45:42, 10.13s/it]\u001b[A"
     ]
    },
    {
     "name": "stdout",
     "output_type": "stream",
     "text": [
      "[(0.7197785234899329, 0.3333333333333333, 0.2399261744966443, 0.5180811228773479)]\n"
     ]
    },
    {
     "name": "stderr",
     "output_type": "stream",
     "text": [
      "\n",
      "Train epoch=0:   1%|▏                      | 53/8498 [08:57<23:47:00, 10.14s/it]\u001b[A"
     ]
    },
    {
     "name": "stdout",
     "output_type": "stream",
     "text": [
      "[(0.5687567567567567, 0.5, 0.28437837837837837, 0.32348424835646455)]\n"
     ]
    },
    {
     "name": "stderr",
     "output_type": "stream",
     "text": [
      "\n",
      "Train epoch=0:   1%|▏                      | 54/8498 [09:07<23:46:23, 10.14s/it]\u001b[A"
     ]
    },
    {
     "name": "stdout",
     "output_type": "stream",
     "text": [
      "[(0.8541039755351681, 0.3333333333333333, 0.28470132517838936, 0.7294936010249791)]\n"
     ]
    },
    {
     "name": "stderr",
     "output_type": "stream",
     "text": [
      "\n",
      "Train epoch=0:   1%|▏                      | 55/8498 [09:16<23:44:36, 10.12s/it]\u001b[A"
     ]
    },
    {
     "name": "stdout",
     "output_type": "stream",
     "text": [
      "[(0.9894457831325301, 0.5, 0.49472289156626503, 0.9790029577587457)]\n"
     ]
    },
    {
     "name": "stderr",
     "output_type": "stream",
     "text": [
      "\n",
      "Train epoch=0:   1%|▏                      | 56/8498 [09:27<23:44:56, 10.13s/it]\u001b[A"
     ]
    },
    {
     "name": "stdout",
     "output_type": "stream",
     "text": [
      "[(0.8557973333333333, 0.5, 0.42789866666666665, 0.7323890757404444)]\n"
     ]
    },
    {
     "name": "stderr",
     "output_type": "stream",
     "text": [
      "\n",
      "Train epoch=0:   1%|▏                      | 57/8498 [09:37<23:44:49, 10.13s/it]\u001b[A"
     ]
    },
    {
     "name": "stdout",
     "output_type": "stream",
     "text": [
      "[(0.48225066666666666, 0.25, 0.12056266666666667, 0.23256570550044445)]\n"
     ]
    },
    {
     "name": "stderr",
     "output_type": "stream",
     "text": [
      "\n",
      "Train epoch=0:   1%|▏                      | 58/8498 [09:48<23:46:39, 10.14s/it]\u001b[A"
     ]
    },
    {
     "name": "stdout",
     "output_type": "stream",
     "text": [
      "[(0.47485333333333335, 0.3333333333333333, 0.15828444444444445, 0.22548568817777778)]\n"
     ]
    },
    {
     "name": "stderr",
     "output_type": "stream",
     "text": [
      "\n",
      "Train epoch=0:   1%|▏                      | 59/8498 [09:58<23:45:44, 10.14s/it]\u001b[A"
     ]
    },
    {
     "name": "stdout",
     "output_type": "stream",
     "text": [
      "[(0.8738567164179104, 0.3333333333333333, 0.29128557213930345, 0.7636255608286923)]\n"
     ]
    },
    {
     "name": "stderr",
     "output_type": "stream",
     "text": [
      "\n",
      "Train epoch=0:   1%|▏                      | 60/8498 [10:08<23:45:22, 10.14s/it]\u001b[A"
     ]
    },
    {
     "name": "stdout",
     "output_type": "stream",
     "text": [
      "[(0.959088, 0.5, 0.479544, 0.9198497917440001)]\n"
     ]
    },
    {
     "name": "stderr",
     "output_type": "stream",
     "text": [
      "\n",
      "Train epoch=0:   1%|▏                      | 61/8498 [10:19<23:48:30, 10.16s/it]\u001b[A"
     ]
    },
    {
     "name": "stdout",
     "output_type": "stream",
     "text": [
      "[(0.305417943107221, 0.3333333333333333, 0.10180598103574033, 0.09328011997184567)]\n"
     ]
    },
    {
     "name": "stderr",
     "output_type": "stream",
     "text": [
      "\n",
      "Train epoch=0:   1%|▏                      | 62/8498 [10:29<23:48:04, 10.16s/it]\u001b[A"
     ]
    },
    {
     "name": "stdout",
     "output_type": "stream",
     "text": [
      "[(0.626992, 0.5, 0.313496, 0.393118968064)]\n"
     ]
    },
    {
     "name": "stderr",
     "output_type": "stream",
     "text": [
      "\n",
      "Train epoch=0:   1%|▏                      | 63/8498 [10:43<23:55:55, 10.21s/it]\u001b[A"
     ]
    },
    {
     "name": "stdout",
     "output_type": "stream",
     "text": [
      "[(0.7901773195876288, 0.5, 0.3950886597938144, 0.6243801963906896)]\n"
     ]
    },
    {
     "name": "stderr",
     "output_type": "stream",
     "text": [
      "\n",
      "Train epoch=0:   1%|▏                      | 64/8498 [10:54<23:57:20, 10.23s/it]\u001b[A"
     ]
    },
    {
     "name": "stdout",
     "output_type": "stream",
     "text": [
      "[(0.8588373333333333, 0.3333333333333333, 0.2862791111111111, 0.7376015651271112)]\n"
     ]
    },
    {
     "name": "stderr",
     "output_type": "stream",
     "text": [
      "\n",
      "Train epoch=0:   1%|▏                      | 65/8498 [11:04<23:57:01, 10.22s/it]\u001b[A"
     ]
    },
    {
     "name": "stdout",
     "output_type": "stream",
     "text": [
      "[(0.4037226666666667, 0.5, 0.20186133333333334, 0.16299199158044445)]\n"
     ]
    },
    {
     "name": "stderr",
     "output_type": "stream",
     "text": [
      "\n",
      "Train epoch=0:   1%|▏                      | 66/8498 [11:14<23:55:15, 10.21s/it]\u001b[A"
     ]
    },
    {
     "name": "stdout",
     "output_type": "stream",
     "text": [
      "[(0.6348588588588588, 0.5, 0.3174294294294294, 0.40304577067157243)]\n"
     ]
    },
    {
     "name": "stderr",
     "output_type": "stream",
     "text": [
      "\n",
      "Train epoch=0:   1%|▏                      | 67/8498 [11:24<23:54:48, 10.21s/it]\u001b[A"
     ]
    },
    {
     "name": "stdout",
     "output_type": "stream",
     "text": [
      "[(0.32714666666666664, 0.5, 0.16357333333333332, 0.1070249415111111)]\n"
     ]
    },
    {
     "name": "stderr",
     "output_type": "stream",
     "text": [
      "\n",
      "Train epoch=0:   1%|▏                      | 68/8498 [11:34<23:54:50, 10.21s/it]\u001b[A"
     ]
    },
    {
     "name": "stdout",
     "output_type": "stream",
     "text": [
      "[(0.257984, 0.3333333333333333, 0.08599466666666666, 0.066555744256)]\n"
     ]
    },
    {
     "name": "stderr",
     "output_type": "stream",
     "text": [
      "\n",
      "Train epoch=0:   1%|▏                      | 69/8498 [11:43<23:52:22, 10.20s/it]\u001b[A"
     ]
    },
    {
     "name": "stdout",
     "output_type": "stream",
     "text": [
      "[(0.9802066666666667, 0.5, 0.49010333333333334, 0.9608051093777777)]\n"
     ]
    },
    {
     "name": "stderr",
     "output_type": "stream",
     "text": [
      "\n",
      "Train epoch=0:   1%|▏                      | 70/8498 [11:53<23:51:56, 10.19s/it]\u001b[A"
     ]
    },
    {
     "name": "stdout",
     "output_type": "stream",
     "text": [
      "[(0.682528, 0.5, 0.341264, 0.46584447078400004)]\n"
     ]
    },
    {
     "name": "stderr",
     "output_type": "stream",
     "text": [
      "\n",
      "Train epoch=0:   1%|▏                      | 71/8498 [12:04<23:52:50, 10.20s/it]\u001b[A"
     ]
    },
    {
     "name": "stdout",
     "output_type": "stream",
     "text": [
      "[(0.410128, 0.5, 0.205064, 0.168204976384)]\n"
     ]
    },
    {
     "name": "stderr",
     "output_type": "stream",
     "text": [
      "\n",
      "Train epoch=0:   1%|▏                      | 72/8498 [12:15<23:54:36, 10.22s/it]\u001b[A"
     ]
    },
    {
     "name": "stdout",
     "output_type": "stream",
     "text": [
      "[(0.4391893333333333, 0.5, 0.21959466666666666, 0.19288727051377777)]\n"
     ]
    },
    {
     "name": "stderr",
     "output_type": "stream",
     "text": [
      "\n",
      "Train epoch=0:   1%|▏                      | 73/8498 [12:25<23:53:41, 10.21s/it]\u001b[A"
     ]
    },
    {
     "name": "stdout",
     "output_type": "stream",
     "text": [
      "[(0.42803003003003004, 0.3333333333333333, 0.1426766766766767, 0.1832097066075084)]\n"
     ]
    },
    {
     "name": "stderr",
     "output_type": "stream",
     "text": [
      "\n",
      "Train epoch=0:   1%|▏                      | 74/8498 [12:34<23:52:13, 10.20s/it]\u001b[A"
     ]
    },
    {
     "name": "stdout",
     "output_type": "stream",
     "text": [
      "[(0.8609939759036145, 0.25, 0.21524849397590362, 0.7413106265423138)]\n"
     ]
    },
    {
     "name": "stderr",
     "output_type": "stream",
     "text": [
      "\n",
      "Train epoch=0:   1%|▏                      | 75/8498 [12:45<23:53:16, 10.21s/it]\u001b[A"
     ]
    },
    {
     "name": "stdout",
     "output_type": "stream",
     "text": [
      "[(0.7776576576576577, 0.3333333333333333, 0.25921921921921925, 0.6047514325135948)]\n"
     ]
    },
    {
     "name": "stderr",
     "output_type": "stream",
     "text": [
      "\n",
      "Train epoch=0:   1%|▏                      | 76/8498 [12:55<23:51:45, 10.20s/it]\u001b[A"
     ]
    },
    {
     "name": "stdout",
     "output_type": "stream",
     "text": [
      "[(0.7113592814371258, 0.5, 0.3556796407185629, 0.5060320272867439)]\n"
     ]
    },
    {
     "name": "stderr",
     "output_type": "stream",
     "text": [
      "\n",
      "Train epoch=0:   1%|▏                      | 77/8498 [13:04<23:49:50, 10.19s/it]\u001b[A"
     ]
    },
    {
     "name": "stdout",
     "output_type": "stream",
     "text": [
      "[(0.6423694779116466, 0.5147552149851, 0.33397400364440333, 0.4140447138143698)]\n"
     ]
    },
    {
     "name": "stderr",
     "output_type": "stream",
     "text": [
      "\n",
      "Train epoch=0:   1%|▏                      | 78/8498 [13:13<23:48:14, 10.18s/it]\u001b[A"
     ]
    },
    {
     "name": "stdout",
     "output_type": "stream",
     "text": [
      "[(0.5206746268656717, 0.25, 0.13016865671641792, 0.2711020670617064)]\n"
     ]
    },
    {
     "name": "stderr",
     "output_type": "stream",
     "text": [
      "\n",
      "Train epoch=0:   1%|▏                      | 79/8498 [13:23<23:47:56, 10.18s/it]\u001b[A"
     ]
    },
    {
     "name": "stdout",
     "output_type": "stream",
     "text": [
      "[(0.6453813333333334, 0.5, 0.3226906666666667, 0.41651706541511113)]\n"
     ]
    },
    {
     "name": "stderr",
     "output_type": "stream",
     "text": [
      "\n",
      "Train epoch=0:   1%|▏                      | 80/8498 [13:36<23:52:01, 10.21s/it]\u001b[A"
     ]
    },
    {
     "name": "stdout",
     "output_type": "stream",
     "text": [
      "[(0.556779443254818, 0.5, 0.278389721627409, 0.3100033484311451)]\n"
     ]
    },
    {
     "name": "stderr",
     "output_type": "stream",
     "text": [
      "\n",
      "Train epoch=0:   1%|▏                      | 81/8498 [13:45<23:50:16, 10.20s/it]\u001b[A"
     ]
    },
    {
     "name": "stdout",
     "output_type": "stream",
     "text": [
      "[(0.9279020979020979, 0.5, 0.46395104895104894, 0.8610023032911144)]\n"
     ]
    },
    {
     "name": "stderr",
     "output_type": "stream",
     "text": [
      "\n",
      "Train epoch=0:   1%|▏                      | 82/8498 [13:57<23:52:33, 10.21s/it]\u001b[A"
     ]
    },
    {
     "name": "stdout",
     "output_type": "stream",
     "text": [
      "[(0.5933827751196172, 0.3333333333333333, 0.19779425837320574, 0.3521031178086582)]\n"
     ]
    },
    {
     "name": "stderr",
     "output_type": "stream",
     "text": [
      "\n",
      "Train epoch=0:   1%|▏                      | 83/8498 [14:07<23:51:23, 10.21s/it]\u001b[A"
     ]
    },
    {
     "name": "stdout",
     "output_type": "stream",
     "text": [
      "[(0.858453172205438, 0.3333333333333333, 0.2861510574018127, 0.7369418488695795)]\n"
     ]
    },
    {
     "name": "stderr",
     "output_type": "stream",
     "text": [
      "\n",
      "Train epoch=0:   1%|▏                      | 84/8498 [14:16<23:49:48, 10.20s/it]\u001b[A"
     ]
    },
    {
     "name": "stdout",
     "output_type": "stream",
     "text": [
      "[(0.6132852852852853, 0.5, 0.3066426426426426, 0.3761188411474537)]\n"
     ]
    },
    {
     "name": "stderr",
     "output_type": "stream",
     "text": [
      "\n",
      "Train epoch=0:   1%|▏                      | 85/8498 [14:26<23:49:36, 10.20s/it]\u001b[A"
     ]
    },
    {
     "name": "stdout",
     "output_type": "stream",
     "text": [
      "[(0.994416, 0.5, 0.497208, 0.9888631810559999)]\n"
     ]
    },
    {
     "name": "stderr",
     "output_type": "stream",
     "text": [
      "\n",
      "Train epoch=0:   1%|▏                      | 86/8498 [14:37<23:51:12, 10.21s/it]\u001b[A"
     ]
    },
    {
     "name": "stdout",
     "output_type": "stream",
     "text": [
      "[(0.410576, 0.5, 0.205288, 0.168572651776)]\n"
     ]
    },
    {
     "name": "stderr",
     "output_type": "stream",
     "text": [
      "\n",
      "Train epoch=0:   1%|▏                      | 87/8498 [14:47<23:50:06, 10.20s/it]\u001b[A"
     ]
    },
    {
     "name": "stdout",
     "output_type": "stream",
     "text": [
      "[(0.9850240963855421, 0.5, 0.49251204819277106, 0.9702724704601537)]\n"
     ]
    },
    {
     "name": "stderr",
     "output_type": "stream",
     "text": [
      "\n",
      "Train epoch=0:   1%|▏                      | 88/8498 [14:57<23:49:11, 10.20s/it]\u001b[A"
     ]
    },
    {
     "name": "stdout",
     "output_type": "stream",
     "text": [
      "[(0.810996996996997, 0.5, 0.4054984984984985, 0.6577161291381471)]\n"
     ]
    },
    {
     "name": "stderr",
     "output_type": "stream",
     "text": [
      "\n",
      "Train epoch=0:   1%|▏                      | 89/8498 [15:07<23:48:52, 10.20s/it]\u001b[A"
     ]
    },
    {
     "name": "stdout",
     "output_type": "stream",
     "text": [
      "[(0.27925866666666666, 0.3333333333333333, 0.09308622222222222, 0.07798540290844444)]\n"
     ]
    },
    {
     "name": "stderr",
     "output_type": "stream",
     "text": [
      "\n",
      "Train epoch=0:   1%|▏                      | 90/8498 [15:16<23:47:40, 10.19s/it]\u001b[A"
     ]
    },
    {
     "name": "stdout",
     "output_type": "stream",
     "text": [
      "[(0.6492732732732732, 0.3333333333333333, 0.21642442442442442, 0.4215557833869905)]\n"
     ]
    },
    {
     "name": "stderr",
     "output_type": "stream",
     "text": [
      "\n",
      "Train epoch=0:   1%|▏                      | 91/8498 [15:26<23:47:11, 10.19s/it]\u001b[A"
     ]
    },
    {
     "name": "stdout",
     "output_type": "stream",
     "text": [
      "[(0.957744, 0.5, 0.478872, 0.917273569536)]\n"
     ]
    },
    {
     "name": "stderr",
     "output_type": "stream",
     "text": [
      "\n",
      "Train epoch=0:   1%|▏                      | 92/8498 [15:39<23:50:35, 10.21s/it]\u001b[A"
     ]
    },
    {
     "name": "stdout",
     "output_type": "stream",
     "text": [
      "[(0.86912, 0.3333333333333333, 0.28970666666666667, 0.7553695744)]\n"
     ]
    },
    {
     "name": "stderr",
     "output_type": "stream",
     "text": [
      "\n",
      "Train epoch=0:   1%|▎                      | 93/8498 [15:48<23:49:20, 10.20s/it]\u001b[A"
     ]
    },
    {
     "name": "stdout",
     "output_type": "stream",
     "text": [
      "[(0.6469489489489489, 0.5, 0.32347447447447447, 0.41854294254614977)]\n"
     ]
    },
    {
     "name": "stderr",
     "output_type": "stream",
     "text": [
      "\n",
      "Train epoch=0:   1%|▎                      | 94/8498 [16:01<23:52:34, 10.23s/it]\u001b[A"
     ]
    },
    {
     "name": "stdout",
     "output_type": "stream",
     "text": [
      "[(0.5352955465587045, 0.3333333333333333, 0.1784318488529015, 0.28654132216558215)]\n"
     ]
    },
    {
     "name": "stderr",
     "output_type": "stream",
     "text": [
      "\n",
      "Train epoch=0:   1%|▎                      | 95/8498 [16:13<23:54:51, 10.25s/it]\u001b[A"
     ]
    },
    {
     "name": "stdout",
     "output_type": "stream",
     "text": [
      "[(0.2983093333333333, 0.5, 0.14915466666666666, 0.08898845835377776)]\n"
     ]
    },
    {
     "name": "stderr",
     "output_type": "stream",
     "text": [
      "\n",
      "Train epoch=0:   1%|▎                      | 96/8498 [16:23<23:55:18, 10.25s/it]\u001b[A"
     ]
    },
    {
     "name": "stdout",
     "output_type": "stream",
     "text": [
      "[(0.30895466666666666, 0.25, 0.06216825318466211, 0.0960358596995811)]\n"
     ]
    },
    {
     "name": "stderr",
     "output_type": "stream",
     "text": [
      "\n",
      "Train epoch=0:   1%|▎                      | 97/8498 [16:33<23:54:17, 10.24s/it]\u001b[A"
     ]
    },
    {
     "name": "stdout",
     "output_type": "stream",
     "text": [
      "[(0.3433975903614458, 0.5, 0.1716987951807229, 0.11792190506604733)]\n"
     ]
    },
    {
     "name": "stderr",
     "output_type": "stream",
     "text": [
      "\n",
      "Train epoch=0:   1%|▎                      | 98/8498 [16:43<23:53:25, 10.24s/it]\u001b[A"
     ]
    },
    {
     "name": "stdout",
     "output_type": "stream",
     "text": [
      "[(0.620424778761062, 0.33338066299388497, 0.2068518568344113, 0.3849311562953667)]\n"
     ]
    },
    {
     "name": "stderr",
     "output_type": "stream",
     "text": [
      "\n",
      "Train epoch=0:   1%|▎                      | 99/8498 [16:53<23:53:46, 10.24s/it]\u001b[A"
     ]
    },
    {
     "name": "stdout",
     "output_type": "stream",
     "text": [
      "[(0.6402168674698795, 0.36607139993672105, 0.24602317867052834, 0.4238349171663013)]\n"
     ]
    },
    {
     "name": "stderr",
     "output_type": "stream",
     "text": [
      "\n",
      "Train epoch=0:   1%|▎                     | 100/8498 [17:04<23:54:28, 10.25s/it]\u001b[A"
     ]
    },
    {
     "name": "stdout",
     "output_type": "stream",
     "text": [
      "[(0.9467573333333333, 0.3333333333333333, 0.3155857777777778, 0.8963494482204445)]\n"
     ]
    },
    {
     "name": "stderr",
     "output_type": "stream",
     "text": [
      "\n",
      "Train epoch=0:   1%|▎                     | 101/8498 [17:15<23:55:03, 10.25s/it]\u001b[A"
     ]
    },
    {
     "name": "stdout",
     "output_type": "stream",
     "text": [
      "[(0.8976853333333333, 0.3333333333333333, 0.29922844444444446, 0.8058389576817778)]\n"
     ]
    },
    {
     "name": "stderr",
     "output_type": "stream",
     "text": [
      "\n",
      "Train epoch=0:   1%|▎                     | 102/8498 [17:26<23:55:15, 10.26s/it]\u001b[A"
     ]
    },
    {
     "name": "stdout",
     "output_type": "stream",
     "text": [
      "[(0.9543093333333333, 0.4965561068744658, 0.3181031111111111, 0.9170225590613333)]\n"
     ]
    },
    {
     "name": "stderr",
     "output_type": "stream",
     "text": [
      "\n",
      "Train epoch=0:   1%|▎                     | 103/8498 [17:35<23:54:10, 10.25s/it]\u001b[A"
     ]
    },
    {
     "name": "stdout",
     "output_type": "stream",
     "text": [
      "[(0.5353470588235294, 0.5, 0.17877818178960872, 0.28712512140865587)]\n"
     ]
    },
    {
     "name": "stderr",
     "output_type": "stream",
     "text": [
      "\n",
      "Train epoch=0:   1%|▎                     | 104/8498 [17:45<23:52:41, 10.24s/it]\u001b[A"
     ]
    },
    {
     "name": "stdout",
     "output_type": "stream",
     "text": [
      "[(0.6621987951807229, 0.5, 0.33109939759036144, 0.438507244338801)]\n"
     ]
    },
    {
     "name": "stderr",
     "output_type": "stream",
     "text": [
      "\n",
      "Train epoch=0:   1%|▎                     | 105/8498 [17:55<23:53:11, 10.25s/it]\u001b[A"
     ]
    },
    {
     "name": "stdout",
     "output_type": "stream",
     "text": [
      "[(0.8491786666666666, 0.5, 0.2830686137511956, 0.7211274840012658)]\n"
     ]
    },
    {
     "name": "stderr",
     "output_type": "stream",
     "text": [
      "\n",
      "Train epoch=0:   1%|▎                     | 106/8498 [18:05<23:52:48, 10.24s/it]\u001b[A"
     ]
    },
    {
     "name": "stdout",
     "output_type": "stream",
     "text": [
      "[(0.8886898395721925, 0.5, 0.44434491978609625, 0.7897696309588492)]\n"
     ]
    },
    {
     "name": "stderr",
     "output_type": "stream",
     "text": [
      "\n",
      "Train epoch=0:   1%|▎                     | 107/8498 [18:16<23:53:26, 10.25s/it]\u001b[A"
     ]
    },
    {
     "name": "stdout",
     "output_type": "stream",
     "text": [
      "[(0.7173173333333334, 0.5439526793269751, 0.4175451903829897, 0.5445370566529905)]\n"
     ]
    },
    {
     "name": "stderr",
     "output_type": "stream",
     "text": [
      "\n",
      "Train epoch=0:   1%|▎                     | 108/8498 [18:26<23:52:51, 10.25s/it]\u001b[A"
     ]
    },
    {
     "name": "stdout",
     "output_type": "stream",
     "text": [
      "[(0.537271186440678, 0.5, 0.268635593220339, 0.2886603277793737)]\n"
     ]
    },
    {
     "name": "stderr",
     "output_type": "stream",
     "text": [
      "\n",
      "Train epoch=0:   1%|▎                     | 109/8498 [18:38<23:54:42, 10.26s/it]\u001b[A"
     ]
    },
    {
     "name": "stdout",
     "output_type": "stream",
     "text": [
      "[(0.46640533333333334, 0.25, 0.11660133333333333, 0.21753393496177778)]\n"
     ]
    },
    {
     "name": "stderr",
     "output_type": "stream",
     "text": [
      "\n",
      "Train epoch=0:   1%|▎                     | 110/8498 [18:47<23:53:13, 10.25s/it]\u001b[A"
     ]
    },
    {
     "name": "stdout",
     "output_type": "stream",
     "text": [
      "[(0.8660479041916168, 0.5, 0.4330239520958084, 0.7500389723546919)]\n"
     ]
    },
    {
     "name": "stderr",
     "output_type": "stream",
     "text": [
      "\n",
      "Train epoch=0:   1%|▎                     | 111/8498 [18:57<23:52:31, 10.25s/it]\u001b[A"
     ]
    },
    {
     "name": "stdout",
     "output_type": "stream",
     "text": [
      "[(0.9848768768768769, 0.5, 0.49243843843843843, 0.9699824626067509)]\n"
     ]
    },
    {
     "name": "stderr",
     "output_type": "stream",
     "text": [
      "\n",
      "Train epoch=0:   1%|▎                     | 112/8498 [19:08<23:52:51, 10.25s/it]\u001b[A"
     ]
    },
    {
     "name": "stdout",
     "output_type": "stream",
     "text": [
      "[(0.5712252252252252, 0.5, 0.2856126126126126, 0.3262982579336093)]\n"
     ]
    },
    {
     "name": "stderr",
     "output_type": "stream",
     "text": [
      "\n",
      "Train epoch=0:   1%|▎                     | 113/8498 [19:17<23:51:43, 10.24s/it]\u001b[A"
     ]
    },
    {
     "name": "stdout",
     "output_type": "stream",
     "text": [
      "[(0.5344219653179191, 0.5, 0.26721098265895954, 0.2856068370142671)]\n"
     ]
    },
    {
     "name": "stderr",
     "output_type": "stream",
     "text": [
      "\n",
      "Train epoch=0:   1%|▎                     | 114/8498 [19:28<23:52:52, 10.25s/it]\u001b[A"
     ]
    },
    {
     "name": "stdout",
     "output_type": "stream",
     "text": [
      "[(0.6320746666666667, 0.6265738505342702, 0.4164006204606032, 0.4188054447985279)]\n"
     ]
    },
    {
     "name": "stderr",
     "output_type": "stream",
     "text": [
      "\n",
      "Train epoch=0:   1%|▎                     | 115/8498 [19:37<23:50:18, 10.24s/it]\u001b[A"
     ]
    },
    {
     "name": "stdout",
     "output_type": "stream",
     "text": [
      "[(0.9474242339677401, 0.5, 0.47371211698387006, 0.8976126791093592)]\n"
     ]
    },
    {
     "name": "stderr",
     "output_type": "stream",
     "text": [
      "\n",
      "Train epoch=0:   1%|▎                     | 116/8498 [19:47<23:50:19, 10.24s/it]\u001b[A"
     ]
    },
    {
     "name": "stdout",
     "output_type": "stream",
     "text": [
      "[(0.907632, 0.5, 0.453816, 0.823795847424)]\n"
     ]
    },
    {
     "name": "stderr",
     "output_type": "stream",
     "text": [
      "\n",
      "Train epoch=0:   1%|▎                     | 117/8498 [19:57<23:50:14, 10.24s/it]\u001b[A"
     ]
    },
    {
     "name": "stdout",
     "output_type": "stream",
     "text": [
      "[(0.7479413333333333, 0.2, 0.14958826666666666, 0.5594162381084444)]\n"
     ]
    },
    {
     "name": "stderr",
     "output_type": "stream",
     "text": [
      "\n",
      "Train epoch=0:   1%|▎                     | 118/8498 [20:09<23:51:18, 10.25s/it]\u001b[A"
     ]
    },
    {
     "name": "stdout",
     "output_type": "stream",
     "text": [
      "[(0.654016, 0.2, 0.1308032, 0.42773692825600007)]\n"
     ]
    },
    {
     "name": "stderr",
     "output_type": "stream",
     "text": [
      "\n",
      "Train epoch=0:   1%|▎                     | 119/8498 [20:19<23:51:00, 10.25s/it]\u001b[A"
     ]
    },
    {
     "name": "stdout",
     "output_type": "stream",
     "text": [
      "[(0.9206773333333333, 0.5, 0.4603386666666667, 0.8476467521137778)]\n"
     ]
    },
    {
     "name": "stderr",
     "output_type": "stream",
     "text": [
      "\n",
      "Train epoch=0:   1%|▎                     | 120/8498 [20:29<23:50:20, 10.24s/it]\u001b[A"
     ]
    },
    {
     "name": "stdout",
     "output_type": "stream",
     "text": [
      "[(0.9246066066066067, 0.5, 0.4623033033033033, 0.8548973769805843)]\n"
     ]
    },
    {
     "name": "stderr",
     "output_type": "stream",
     "text": [
      "\n",
      "Train epoch=0:   1%|▎                     | 121/8498 [20:39<23:49:42, 10.24s/it]\u001b[A"
     ]
    },
    {
     "name": "stdout",
     "output_type": "stream",
     "text": [
      "[(0.39801197604790417, 0.3333333333333333, 0.13267065868263472, 0.15841353307755746)]\n"
     ]
    },
    {
     "name": "stderr",
     "output_type": "stream",
     "text": [
      "\n",
      "Train epoch=0:   1%|▎                     | 122/8498 [20:50<23:51:07, 10.25s/it]\u001b[A"
     ]
    },
    {
     "name": "stdout",
     "output_type": "stream",
     "text": [
      "[(0.972064, 0.5, 0.486032, 0.9449084200960001)]\n"
     ]
    },
    {
     "name": "stderr",
     "output_type": "stream",
     "text": [
      "\n",
      "Train epoch=0:   1%|▎                     | 123/8498 [21:01<23:51:59, 10.26s/it]\u001b[A"
     ]
    },
    {
     "name": "stdout",
     "output_type": "stream",
     "text": [
      "[(0.8740586666666667, 0.25, 0.21851466666666666, 0.7639785527751111)]\n"
     ]
    },
    {
     "name": "stderr",
     "output_type": "stream",
     "text": [
      "\n",
      "Train epoch=0:   1%|▎                     | 124/8498 [21:13<23:53:26, 10.27s/it]\u001b[A"
     ]
    },
    {
     "name": "stdout",
     "output_type": "stream",
     "text": [
      "[(0.45245054945054947, 0.3333333333333333, 0.15281265019884238, 0.20742050263638256)]\n"
     ]
    },
    {
     "name": "stderr",
     "output_type": "stream",
     "text": [
      "\n",
      "Train epoch=0:   1%|▎                     | 125/8498 [21:25<23:54:55, 10.28s/it]\u001b[A"
     ]
    },
    {
     "name": "stdout",
     "output_type": "stream",
     "text": [
      "[(0.941088, 0.5, 0.470544, 0.885646623744)]\n"
     ]
    },
    {
     "name": "stderr",
     "output_type": "stream",
     "text": [
      "\n",
      "Train epoch=0:   1%|▎                     | 126/8498 [21:35<23:55:10, 10.29s/it]\u001b[A"
     ]
    },
    {
     "name": "stdout",
     "output_type": "stream",
     "text": [
      "[(0.4801201201201201, 0.5, 0.24006006006006006, 0.23051532974415856)]\n"
     ]
    },
    {
     "name": "stderr",
     "output_type": "stream",
     "text": [
      "\n",
      "Train epoch=0:   1%|▎                     | 127/8498 [21:46<23:55:31, 10.29s/it]\u001b[A"
     ]
    },
    {
     "name": "stdout",
     "output_type": "stream",
     "text": [
      "[(0.9600373333333333, 0.5, 0.48001866666666665, 0.9216716813937778)]\n"
     ]
    },
    {
     "name": "stderr",
     "output_type": "stream",
     "text": [
      "\n",
      "Train epoch=0:   2%|▎                     | 128/8498 [21:56<23:55:18, 10.29s/it]\u001b[A"
     ]
    },
    {
     "name": "stdout",
     "output_type": "stream",
     "text": [
      "[(0.35151601423487544, 0.5, 0.17575800711743772, 0.12356350826357315)]\n"
     ]
    },
    {
     "name": "stderr",
     "output_type": "stream",
     "text": [
      "\n",
      "Train epoch=0:   2%|▎                     | 129/8498 [22:07<23:55:28, 10.29s/it]\u001b[A"
     ]
    },
    {
     "name": "stdout",
     "output_type": "stream",
     "text": [
      "[(0.9772426666666667, 0.3333333333333333, 0.32574755555555557, 0.9550032295537778)]\n"
     ]
    },
    {
     "name": "stderr",
     "output_type": "stream",
     "text": [
      "\n",
      "Train epoch=0:   2%|▎                     | 130/8498 [22:19<23:57:02, 10.30s/it]\u001b[A"
     ]
    },
    {
     "name": "stdout",
     "output_type": "stream",
     "text": [
      "[(0.558544, 0.3333333333333333, 0.18618133333333334, 0.31197139993600004)]\n"
     ]
    },
    {
     "name": "stderr",
     "output_type": "stream",
     "text": [
      "\n",
      "Train epoch=0:   2%|▎                     | 131/8498 [22:29<23:56:56, 10.30s/it]\u001b[A"
     ]
    },
    {
     "name": "stdout",
     "output_type": "stream",
     "text": [
      "[(0.9246453333333333, 0.3333333333333333, 0.3082151111111111, 0.854968992455111)]\n"
     ]
    },
    {
     "name": "stderr",
     "output_type": "stream",
     "text": [
      "\n",
      "Train epoch=0:   2%|▎                     | 132/8498 [22:40<23:57:08, 10.31s/it]\u001b[A"
     ]
    },
    {
     "name": "stdout",
     "output_type": "stream",
     "text": [
      "[(0.7719306666666667, 0.5, 0.3859653333333333, 0.5958769541404444)]\n"
     ]
    },
    {
     "name": "stderr",
     "output_type": "stream",
     "text": [
      "\n",
      "Train epoch=0:   2%|▎                     | 133/8498 [22:50<23:56:44, 10.31s/it]\u001b[A"
     ]
    },
    {
     "name": "stdout",
     "output_type": "stream",
     "text": [
      "[(0.727009009009009, 0.25, 0.18175225225225225, 0.5285420991802613)]\n"
     ]
    },
    {
     "name": "stderr",
     "output_type": "stream",
     "text": [
      "\n",
      "Train epoch=0:   2%|▎                     | 134/8498 [23:01<23:57:21, 10.31s/it]\u001b[A"
     ]
    },
    {
     "name": "stdout",
     "output_type": "stream",
     "text": [
      "[(0.7787284345047923, 0.3333333333333333, 0.2595761448349308, 0.6064179747062847)]\n"
     ]
    },
    {
     "name": "stderr",
     "output_type": "stream",
     "text": [
      "\n",
      "Train epoch=0:   2%|▎                     | 135/8498 [23:12<23:57:32, 10.31s/it]\u001b[A"
     ]
    },
    {
     "name": "stdout",
     "output_type": "stream",
     "text": [
      "[(0.504672, 0.3333333333333333, 0.168224, 0.254693827584)]\n"
     ]
    },
    {
     "name": "stderr",
     "output_type": "stream",
     "text": [
      "\n",
      "Train epoch=0:   2%|▎                     | 136/8498 [23:22<23:56:52, 10.31s/it]\u001b[A"
     ]
    },
    {
     "name": "stdout",
     "output_type": "stream",
     "text": [
      "[(0.9858318318318319, 0.5, 0.49291591591591594, 0.9718644006529052)]\n"
     ]
    },
    {
     "name": "stderr",
     "output_type": "stream",
     "text": [
      "\n",
      "Train epoch=0:   2%|▎                     | 137/8498 [23:34<23:58:21, 10.32s/it]\u001b[A"
     ]
    },
    {
     "name": "stdout",
     "output_type": "stream",
     "text": [
      "[(0.491664, 0.25, 0.122916, 0.241733488896)]\n"
     ]
    },
    {
     "name": "stderr",
     "output_type": "stream",
     "text": [
      "\n",
      "Train epoch=0:   2%|▎                     | 138/8498 [23:44<23:57:53, 10.32s/it]\u001b[A"
     ]
    },
    {
     "name": "stdout",
     "output_type": "stream",
     "text": [
      "[(0.9107447447447448, 0.5, 0.4553723723723724, 0.8294559900801702)]\n"
     ]
    },
    {
     "name": "stderr",
     "output_type": "stream",
     "text": [
      "\n",
      "Train epoch=0:   2%|▎                     | 139/8498 [23:53<23:57:08, 10.32s/it]\u001b[A"
     ]
    },
    {
     "name": "stdout",
     "output_type": "stream",
     "text": [
      "[(0.9470630630630631, 0.5, 0.47353153153153155, 0.8969284454183915)]\n"
     ]
    },
    {
     "name": "stderr",
     "output_type": "stream",
     "text": [
      "\n",
      "Train epoch=0:   2%|▎                     | 140/8498 [24:05<23:58:07, 10.32s/it]\u001b[A"
     ]
    },
    {
     "name": "stdout",
     "output_type": "stream",
     "text": [
      "[(0.8165573770491803, 0.504623806508051, 0.41275449360241345, 0.6668370186617048)]\n"
     ]
    },
    {
     "name": "stderr",
     "output_type": "stream",
     "text": [
      "\n",
      "Train epoch=0:   2%|▎                     | 141/8498 [24:16<23:58:19, 10.33s/it]\u001b[A"
     ]
    },
    {
     "name": "stdout",
     "output_type": "stream",
     "text": [
      "[(0.6643946666666667, 0.3333333333333333, 0.2214648888888889, 0.4414202730951111)]\n"
     ]
    },
    {
     "name": "stderr",
     "output_type": "stream",
     "text": [
      "\n",
      "Train epoch=0:   2%|▎                     | 142/8498 [24:27<23:59:06, 10.33s/it]\u001b[A"
     ]
    },
    {
     "name": "stdout",
     "output_type": "stream",
     "text": [
      "[(0.6209009009009009, 0.3428100775685334, 0.22204918713842633, 0.40002772274874404)]\n"
     ]
    },
    {
     "name": "stderr",
     "output_type": "stream",
     "text": [
      "\n",
      "Train epoch=0:   2%|▎                     | 143/8498 [24:37<23:59:07, 10.33s/it]\u001b[A"
     ]
    },
    {
     "name": "stdout",
     "output_type": "stream",
     "text": [
      "[(0.7753386666666666, 0.5006283045261636, 0.3882658767465778, 0.6011643190163974)]\n"
     ]
    },
    {
     "name": "stderr",
     "output_type": "stream",
     "text": [
      "\n",
      "Train epoch=0:   2%|▎                     | 144/8498 [24:49<24:00:35, 10.35s/it]\u001b[A"
     ]
    },
    {
     "name": "stdout",
     "output_type": "stream",
     "text": [
      "[(0.7880426666666667, 0.6062826373267208, 0.49493472773959635, 0.6261199295414461)]\n"
     ]
    },
    {
     "name": "stderr",
     "output_type": "stream",
     "text": [
      "\n",
      "Train epoch=0:   2%|▍                     | 145/8498 [24:59<23:59:52, 10.34s/it]\u001b[A"
     ]
    },
    {
     "name": "stdout",
     "output_type": "stream",
     "text": [
      "[(0.9808192771084338, 0.5, 0.4904096385542169, 0.9620064543475105)]\n"
     ]
    },
    {
     "name": "stderr",
     "output_type": "stream",
     "text": [
      "\n",
      "Train epoch=0:   2%|▍                     | 146/8498 [25:10<24:00:08, 10.35s/it]\u001b[A"
     ]
    },
    {
     "name": "stdout",
     "output_type": "stream",
     "text": [
      "[(0.764016, 0.25, 0.191004, 0.583720448256)]\n"
     ]
    },
    {
     "name": "stderr",
     "output_type": "stream",
     "text": [
      "\n",
      "Train epoch=0:   2%|▍                     | 147/8498 [25:21<24:00:30, 10.35s/it]\u001b[A"
     ]
    },
    {
     "name": "stdout",
     "output_type": "stream",
     "text": [
      "[(0.9117099697885196, 0.482239426644089, 0.43252258170929153, 0.8448286625668826)]\n"
     ]
    },
    {
     "name": "stderr",
     "output_type": "stream",
     "text": [
      "\n",
      "Train epoch=0:   2%|▍                     | 148/8498 [25:32<24:01:25, 10.36s/it]\u001b[A"
     ]
    },
    {
     "name": "stdout",
     "output_type": "stream",
     "text": [
      "[(0.6375146666666667, 0.3333333333333333, 0.21250488888888888, 0.4064249502151111)]\n"
     ]
    },
    {
     "name": "stderr",
     "output_type": "stream",
     "text": [
      "\n",
      "Train epoch=0:   2%|▍                     | 149/8498 [25:44<24:02:18, 10.37s/it]\u001b[A"
     ]
    },
    {
     "name": "stdout",
     "output_type": "stream",
     "text": [
      "[(0.8546186666666666, 0.5, 0.28621619690636946, 0.7338171137355768)]\n"
     ]
    },
    {
     "name": "stderr",
     "output_type": "stream",
     "text": [
      "\n",
      "Train epoch=0:   2%|▍                     | 150/8498 [25:55<24:02:42, 10.37s/it]\u001b[A"
     ]
    },
    {
     "name": "stdout",
     "output_type": "stream",
     "text": [
      "[(0.9979786666666667, 0.5, 0.49898933333333334, 0.9959614191217778)]\n"
     ]
    },
    {
     "name": "stderr",
     "output_type": "stream",
     "text": [
      "\n",
      "Train epoch=0:   2%|▍                     | 151/8498 [26:05<24:02:41, 10.37s/it]\u001b[A"
     ]
    },
    {
     "name": "stdout",
     "output_type": "stream",
     "text": [
      "[(0.857664, 0.7029670331818851, 0.6230927717311683, 0.7400554128437316)]\n"
     ]
    },
    {
     "name": "stderr",
     "output_type": "stream",
     "text": [
      "\n",
      "Train epoch=0:   2%|▍                     | 152/8498 [26:17<24:03:32, 10.38s/it]\u001b[A"
     ]
    },
    {
     "name": "stdout",
     "output_type": "stream",
     "text": [
      "[(0.9538059299191375, 0.5, 0.47690296495956874, 0.9097457519489106)]\n"
     ]
    },
    {
     "name": "stderr",
     "output_type": "stream",
     "text": [
      "\n",
      "Train epoch=0:   2%|▍                     | 153/8498 [26:27<24:03:20, 10.38s/it]\u001b[A"
     ]
    },
    {
     "name": "stdout",
     "output_type": "stream",
     "text": [
      "[(0.9529473684210527, 0.5, 0.4764736842105263, 0.9081086869806094)]\n"
     ]
    },
    {
     "name": "stderr",
     "output_type": "stream",
     "text": [
      "\n",
      "Train epoch=0:   2%|▍                     | 154/8498 [26:38<24:03:22, 10.38s/it]\u001b[A"
     ]
    },
    {
     "name": "stdout",
     "output_type": "stream",
     "text": [
      "[(0.766336, 0.20269343261230316, 0.15622025202115725, 0.5887578695492117)]\n"
     ]
    },
    {
     "name": "stderr",
     "output_type": "stream",
     "text": [
      "\n",
      "Train epoch=0:   2%|▍                     | 155/8498 [26:49<24:03:57, 10.38s/it]\u001b[A"
     ]
    },
    {
     "name": "stdout",
     "output_type": "stream",
     "text": [
      "[(0.8012450980392157, 0.5, 0.40062254901960787, 0.6419937071318724)]\n"
     ]
    },
    {
     "name": "stderr",
     "output_type": "stream",
     "text": [
      "\n",
      "Train epoch=0:   2%|▍                     | 156/8498 [27:01<24:04:55, 10.39s/it]\u001b[A"
     ]
    },
    {
     "name": "stdout",
     "output_type": "stream",
     "text": [
      "[(0.74432, 0.2, 0.148864, 0.5540122624)]\n"
     ]
    },
    {
     "name": "stderr",
     "output_type": "stream",
     "text": [
      "\n",
      "Train epoch=0:   2%|▍                     | 157/8498 [27:12<24:05:06, 10.40s/it]\u001b[A"
     ]
    },
    {
     "name": "stdout",
     "output_type": "stream",
     "text": [
      "[(0.5593866666666667, 0.47281237783164026, 0.2807918004573806, 0.37597754005916784)]\n"
     ]
    },
    {
     "name": "stderr",
     "output_type": "stream",
     "text": [
      "\n",
      "Train epoch=0:   2%|▍                     | 158/8498 [27:23<24:05:32, 10.40s/it]\u001b[A"
     ]
    },
    {
     "name": "stdout",
     "output_type": "stream",
     "text": [
      "[(0.9957477477477478, 0.5, 0.4978738738738739, 0.9915135771447123)]\n"
     ]
    },
    {
     "name": "stderr",
     "output_type": "stream",
     "text": [
      "\n",
      "Train epoch=0:   2%|▍                     | 159/8498 [27:33<24:05:17, 10.40s/it]\u001b[A"
     ]
    },
    {
     "name": "stdout",
     "output_type": "stream",
     "text": [
      "[(0.542032, 0.6293701766198788, 0.35681690003872124, 0.3337053579386391)]\n"
     ]
    },
    {
     "name": "stderr",
     "output_type": "stream",
     "text": [
      "\n",
      "Train epoch=0:   2%|▍                     | 160/8498 [27:45<24:06:44, 10.41s/it]\u001b[A"
     ]
    },
    {
     "name": "stdout",
     "output_type": "stream",
     "text": [
      "[(0.7788451443569554, 0.25, 0.19471128608923885, 0.6065997588884067)]\n"
     ]
    },
    {
     "name": "stderr",
     "output_type": "stream",
     "text": [
      "\n",
      "Train epoch=0:   2%|▍                     | 161/8498 [27:55<24:05:54, 10.41s/it]\u001b[A"
     ]
    },
    {
     "name": "stdout",
     "output_type": "stream",
     "text": [
      "[(0.5483363363363364, 0.500073125656469, 0.2742263730181565, 0.3006862161189955)]\n"
     ]
    },
    {
     "name": "stderr",
     "output_type": "stream",
     "text": [
      "\n",
      "Train epoch=0:   2%|▍                     | 162/8498 [28:05<24:05:40, 10.41s/it]\u001b[A"
     ]
    },
    {
     "name": "stdout",
     "output_type": "stream",
     "text": [
      "[(0.995696, 0.5, 0.497848, 0.9914105244160001)]\n"
     ]
    },
    {
     "name": "stderr",
     "output_type": "stream",
     "text": [
      "\n",
      "Train epoch=0:   2%|▍                     | 163/8498 [28:15<24:04:48, 10.40s/it]\u001b[A"
     ]
    },
    {
     "name": "stdout",
     "output_type": "stream",
     "text": [
      "[(0.6774954954954955, 0.39849916661159696, 0.2849448446449038, 0.464856332011631)]\n"
     ]
    },
    {
     "name": "stderr",
     "output_type": "stream",
     "text": [
      "\n",
      "Train epoch=0:   2%|▍                     | 164/8498 [28:27<24:06:01, 10.41s/it]\u001b[A"
     ]
    },
    {
     "name": "stdout",
     "output_type": "stream",
     "text": [
      "[(0.892448, 0.5, 0.446224, 0.796463432704)]\n"
     ]
    },
    {
     "name": "stderr",
     "output_type": "stream",
     "text": [
      "\n",
      "Train epoch=0:   2%|▍                     | 165/8498 [28:38<24:06:35, 10.42s/it]\u001b[A"
     ]
    },
    {
     "name": "stdout",
     "output_type": "stream",
     "text": [
      "[(0.6257013333333333, 0.5, 0.31285066666666667, 0.3915021585351111)]\n"
     ]
    },
    {
     "name": "stderr",
     "output_type": "stream",
     "text": [
      "\n",
      "Train epoch=0:   2%|▍                     | 166/8498 [28:49<24:06:56, 10.42s/it]\u001b[A"
     ]
    },
    {
     "name": "stdout",
     "output_type": "stream",
     "text": [
      "[(0.6806826666666667, 0.48263458393642056, 0.35805818314816173, 0.516638355123006)]\n"
     ]
    },
    {
     "name": "stderr",
     "output_type": "stream",
     "text": [
      "\n",
      "Train epoch=0:   2%|▍                     | 167/8498 [29:01<24:07:49, 10.43s/it]\u001b[A"
     ]
    },
    {
     "name": "stdout",
     "output_type": "stream",
     "text": [
      "[(0.7422293333333333, 0.5240446402152344, 0.40177175633940293, 0.5858712602549374)]\n"
     ]
    },
    {
     "name": "stderr",
     "output_type": "stream",
     "text": [
      "\n",
      "Train epoch=0:   2%|▍                     | 168/8498 [29:11<24:07:02, 10.42s/it]\u001b[A"
     ]
    },
    {
     "name": "stdout",
     "output_type": "stream",
     "text": [
      "[(0.4766706231454006, 0.595795604464001, 0.3126253696243573, 0.30668825717353815)]\n"
     ]
    },
    {
     "name": "stderr",
     "output_type": "stream",
     "text": [
      "\n",
      "Train epoch=0:   2%|▍                     | 169/8498 [29:22<24:08:03, 10.43s/it]\u001b[A"
     ]
    },
    {
     "name": "stdout",
     "output_type": "stream",
     "text": [
      "[(0.754864, 0.4996893203883495, 0.26693409677273344, 0.604872663287014)]\n"
     ]
    },
    {
     "name": "stderr",
     "output_type": "stream",
     "text": [
      "\n",
      "Train epoch=0:   2%|▍                     | 170/8498 [29:32<24:07:09, 10.43s/it]\u001b[A"
     ]
    },
    {
     "name": "stdout",
     "output_type": "stream",
     "text": [
      "[(0.5262276923076923, 0.5, 0.17602015611105623, 0.27788004164988256)]\n"
     ]
    },
    {
     "name": "stderr",
     "output_type": "stream",
     "text": [
      "\n",
      "Train epoch=0:   2%|▍                     | 171/8498 [29:44<24:08:05, 10.43s/it]\u001b[A"
     ]
    },
    {
     "name": "stdout",
     "output_type": "stream",
     "text": [
      "[(0.8775733333333333, 0.8126358223704638, 0.5077747293705078, 0.8118164060094568)]\n"
     ]
    },
    {
     "name": "stderr",
     "output_type": "stream",
     "text": [
      "\n",
      "Train epoch=0:   2%|▍                     | 172/8498 [29:54<24:07:24, 10.43s/it]\u001b[A"
     ]
    },
    {
     "name": "stdout",
     "output_type": "stream",
     "text": [
      "[(0.07323529411764707, 0.3333333333333333, 0.01873498943617463, 0.00548824984659704)]\n"
     ]
    },
    {
     "name": "stderr",
     "output_type": "stream",
     "text": [
      "\n",
      "Train epoch=0:   2%|▍                     | 173/8498 [30:03<24:06:43, 10.43s/it]\u001b[A"
     ]
    },
    {
     "name": "stdout",
     "output_type": "stream",
     "text": [
      "[(0.7217914110429448, 0.4999957502146142, 0.24059713701431493, 0.5209872692235312)]\n"
     ]
    },
    {
     "name": "stderr",
     "output_type": "stream",
     "text": [
      "\n",
      "Train epoch=0:   2%|▍                     | 174/8498 [30:14<24:06:52, 10.43s/it]\u001b[A"
     ]
    },
    {
     "name": "stdout",
     "output_type": "stream",
     "text": [
      "[(0.04288, 0.5, 0.01444954252101384, 0.0018587891499032207)]\n"
     ]
    },
    {
     "name": "stderr",
     "output_type": "stream",
     "text": [
      "\n",
      "Train epoch=0:   2%|▍                     | 175/8498 [30:25<24:07:03, 10.43s/it]\u001b[A"
     ]
    },
    {
     "name": "stdout",
     "output_type": "stream",
     "text": [
      "[(0.7579573333333334, 0.42082163257032623, 0.3269267695600647, 0.5984850683574201)]\n"
     ]
    },
    {
     "name": "stderr",
     "output_type": "stream",
     "text": [
      "\n",
      "Train epoch=0:   2%|▍                     | 176/8498 [30:35<24:06:17, 10.43s/it]\u001b[A"
     ]
    },
    {
     "name": "stdout",
     "output_type": "stream",
     "text": [
      "[(0.794978978978979, 0.5, 0.2650710018764281, 0.6321776232859735)]\n"
     ]
    },
    {
     "name": "stderr",
     "output_type": "stream",
     "text": [
      "\n",
      "Train epoch=0:   2%|▍                     | 177/8498 [30:46<24:07:08, 10.43s/it]\u001b[A"
     ]
    },
    {
     "name": "stdout",
     "output_type": "stream",
     "text": [
      "[(0.5884702380952381, 0.4222388314683523, 0.18751612217956695, 0.5226788672276644)]\n"
     ]
    },
    {
     "name": "stderr",
     "output_type": "stream",
     "text": [
      "\n",
      "Train epoch=0:   2%|▍                     | 178/8498 [30:58<24:07:44, 10.44s/it]\u001b[A"
     ]
    },
    {
     "name": "stdout",
     "output_type": "stream",
     "text": [
      "[(0.90968, 0.8967234221727096, 0.8252679280093302, 0.8335024845563211)]\n"
     ]
    },
    {
     "name": "stderr",
     "output_type": "stream",
     "text": [
      "\n",
      "Train epoch=0:   2%|▍                     | 179/8498 [31:09<24:07:51, 10.44s/it]\u001b[A"
     ]
    },
    {
     "name": "stdout",
     "output_type": "stream",
     "text": [
      "[(0.428208, 0.5, 0.214104, 0.183362091264)]\n"
     ]
    },
    {
     "name": "stderr",
     "output_type": "stream",
     "text": [
      "\n",
      "Train epoch=0:   2%|▍                     | 180/8498 [31:20<24:07:59, 10.44s/it]\u001b[A"
     ]
    },
    {
     "name": "stdout",
     "output_type": "stream",
     "text": [
      "[(0.789936, 0.5, 0.2637086177611127, 0.624938792039227)]\n"
     ]
    },
    {
     "name": "stderr",
     "output_type": "stream",
     "text": [
      "\n",
      "Train epoch=0:   2%|▍                     | 181/8498 [31:30<24:07:46, 10.44s/it]\u001b[A"
     ]
    },
    {
     "name": "stdout",
     "output_type": "stream",
     "text": [
      "[(0.949584, 0.9311464577714983, 0.8623049003166907, 0.906793449450367)]\n"
     ]
    },
    {
     "name": "stderr",
     "output_type": "stream",
     "text": [
      "\n",
      "Train epoch=0:   2%|▍                     | 182/8498 [31:42<24:08:29, 10.45s/it]\u001b[A"
     ]
    },
    {
     "name": "stdout",
     "output_type": "stream",
     "text": [
      "[(0.7752853333333334, 0.5322121563046608, 0.42081114637577266, 0.6353685408535762)]\n"
     ]
    },
    {
     "name": "stderr",
     "output_type": "stream",
     "text": [
      "\n",
      "Train epoch=0:   2%|▍                     | 183/8498 [31:53<24:08:55, 10.46s/it]\u001b[A"
     ]
    },
    {
     "name": "stdout",
     "output_type": "stream",
     "text": [
      "[(0.917072, 0.35362540658589847, 0.3100195222369971, 0.853299086377055)]\n"
     ]
    },
    {
     "name": "stderr",
     "output_type": "stream",
     "text": [
      "\n",
      "Train epoch=0:   2%|▍                     | 184/8498 [32:03<24:08:47, 10.46s/it]\u001b[A"
     ]
    },
    {
     "name": "stdout",
     "output_type": "stream",
     "text": [
      "[(0.722144, 0.7436311866115276, 0.4084901313297888, 0.6065993935542299)]\n"
     ]
    },
    {
     "name": "stderr",
     "output_type": "stream",
     "text": [
      "\n",
      "Train epoch=0:   2%|▍                     | 185/8498 [32:15<24:09:41, 10.46s/it]\u001b[A"
     ]
    },
    {
     "name": "stdout",
     "output_type": "stream",
     "text": [
      "[(0.7915466666666666, 0.8469621465473622, 0.633390933664033, 0.676314569989676)]\n"
     ]
    },
    {
     "name": "stderr",
     "output_type": "stream",
     "text": [
      "\n",
      "Train epoch=0:   2%|▍                     | 186/8498 [32:26<24:09:37, 10.46s/it]\u001b[A"
     ]
    },
    {
     "name": "stdout",
     "output_type": "stream",
     "text": [
      "[(0.41741333333333336, 0.5, 0.14429627335261833, 0.18069356534308278)]\n"
     ]
    },
    {
     "name": "stderr",
     "output_type": "stream",
     "text": [
      "\n",
      "Train epoch=0:   2%|▍                     | 187/8498 [32:37<24:09:38, 10.47s/it]\u001b[A"
     ]
    },
    {
     "name": "stdout",
     "output_type": "stream",
     "text": [
      "[(0.7851891891891892, 0.5689541940915684, 0.4563024171082007, 0.6371369456366944)]\n"
     ]
    },
    {
     "name": "stderr",
     "output_type": "stream",
     "text": [
      "\n",
      "Train epoch=0:   2%|▍                     | 188/8498 [32:47<24:09:28, 10.47s/it]\u001b[A"
     ]
    },
    {
     "name": "stdout",
     "output_type": "stream",
     "text": [
      "[(0.972006006006006, 0.5, 0.486003003003003, 0.9447956757117477)]\n"
     ]
    },
    {
     "name": "stderr",
     "output_type": "stream",
     "text": [
      "\n",
      "Train epoch=0:   2%|▍                     | 189/8498 [32:59<24:10:29, 10.47s/it]\u001b[A"
     ]
    },
    {
     "name": "stdout",
     "output_type": "stream",
     "text": [
      "[(0.8096266666666667, 0.8817303972190408, 0.6341203707678658, 0.7135849789558072)]\n"
     ]
    },
    {
     "name": "stderr",
     "output_type": "stream",
     "text": [
      "\n",
      "Train epoch=0:   2%|▍                     | 190/8498 [33:10<24:10:50, 10.48s/it]\u001b[A"
     ]
    },
    {
     "name": "stdout",
     "output_type": "stream",
     "text": [
      "[(0.813136, 0.7054481205963111, 0.5958398467800601, 0.6824221992375186)]\n"
     ]
    },
    {
     "name": "stderr",
     "output_type": "stream",
     "text": [
      "\n",
      "Train epoch=0:   2%|▍                     | 191/8498 [33:21<24:10:52, 10.48s/it]\u001b[A"
     ]
    },
    {
     "name": "stdout",
     "output_type": "stream",
     "text": [
      "[(0.6140426666666666, 0.40674492663830564, 0.2623424029438175, 0.4510746554164467)]\n"
     ]
    },
    {
     "name": "stderr",
     "output_type": "stream",
     "text": [
      "\n",
      "Train epoch=0:   2%|▍                     | 192/8498 [33:32<24:10:47, 10.48s/it]\u001b[A"
     ]
    },
    {
     "name": "stdout",
     "output_type": "stream",
     "text": [
      "[(0.375536, 0.46019162396737423, 0.23810779828147666, 0.29145918399561743)]\n"
     ]
    },
    {
     "name": "stderr",
     "output_type": "stream",
     "text": [
      "\n",
      "Train epoch=0:   2%|▍                     | 193/8498 [33:41<24:10:05, 10.48s/it]\u001b[A"
     ]
    },
    {
     "name": "stdout",
     "output_type": "stream",
     "text": [
      "[(0.5147387387387388, 0.28514481884439286, 0.1646209300464966, 0.2968367874569682)]\n"
     ]
    },
    {
     "name": "stderr",
     "output_type": "stream",
     "text": [
      "\n",
      "Train epoch=0:   2%|▌                     | 194/8498 [33:53<24:10:32, 10.48s/it]\u001b[A"
     ]
    },
    {
     "name": "stdout",
     "output_type": "stream",
     "text": [
      "[(0.9043048128342246, 0.3270901292166454, 0.2892166993374562, 0.8224622486769376)]\n"
     ]
    },
    {
     "name": "stderr",
     "output_type": "stream",
     "text": [
      "\n",
      "Train epoch=0:   2%|▌                     | 195/8498 [34:04<24:11:00, 10.49s/it]\u001b[A"
     ]
    },
    {
     "name": "stdout",
     "output_type": "stream",
     "text": [
      "[(0.8995786666666666, 0.4999792504060992, 0.30340003165832036, 0.8188305686409946)]\n"
     ]
    },
    {
     "name": "stderr",
     "output_type": "stream",
     "text": [
      "\n",
      "Train epoch=0:   2%|▌                     | 196/8498 [34:15<24:11:04, 10.49s/it]\u001b[A"
     ]
    },
    {
     "name": "stdout",
     "output_type": "stream",
     "text": [
      "[(0.431184, 0.4179068477887906, 0.2543331529811315, 0.32440564373796427)]\n"
     ]
    },
    {
     "name": "stderr",
     "output_type": "stream",
     "text": [
      "\n",
      "Train epoch=0:   2%|▌                     | 197/8498 [34:26<24:11:32, 10.49s/it]\u001b[A"
     ]
    },
    {
     "name": "stdout",
     "output_type": "stream",
     "text": [
      "[(0.673993993993994, 0.4385474259406665, 0.2088239755644166, 0.5828940169550036)]\n"
     ]
    },
    {
     "name": "stderr",
     "output_type": "stream",
     "text": [
      "\n",
      "Train epoch=0:   2%|▌                     | 198/8498 [34:37<24:11:18, 10.49s/it]\u001b[A"
     ]
    },
    {
     "name": "stdout",
     "output_type": "stream",
     "text": [
      "[(0.8895253333333333, 0.5, 0.44476266666666664, 0.7912553186417777)]\n"
     ]
    },
    {
     "name": "stderr",
     "output_type": "stream",
     "text": [
      "\n",
      "Train epoch=0:   2%|▌                     | 199/8498 [34:47<24:10:49, 10.49s/it]\u001b[A"
     ]
    },
    {
     "name": "stdout",
     "output_type": "stream",
     "text": [
      "[(0.8116347305389222, 0.8116869084311511, 0.68068202951698, 0.6806680669716201)]\n"
     ]
    },
    {
     "name": "stderr",
     "output_type": "stream",
     "text": [
      "\n",
      "Train epoch=0:   2%|▌                     | 200/8498 [34:58<24:10:58, 10.49s/it]\u001b[A"
     ]
    },
    {
     "name": "stdout",
     "output_type": "stream",
     "text": [
      "[(0.3799306666666667, 0.33891521755354875, 0.15600477307973704, 0.21352996279165382)]\n"
     ]
    },
    {
     "name": "stderr",
     "output_type": "stream",
     "text": [
      "\n",
      "Train epoch=0:   2%|▌                     | 201/8498 [35:09<24:11:23, 10.50s/it]\u001b[A"
     ]
    },
    {
     "name": "stdout",
     "output_type": "stream",
     "text": [
      "[(0.7373386666666667, 0.5731177352990352, 0.409919908206193, 0.5816446839236191)]\n"
     ]
    },
    {
     "name": "stderr",
     "output_type": "stream",
     "text": [
      "\n",
      "Train epoch=0:   2%|▌                     | 202/8498 [35:20<24:11:28, 10.50s/it]\u001b[A"
     ]
    },
    {
     "name": "stdout",
     "output_type": "stream",
     "text": [
      "[(0.9051626666666667, 0.632496175845949, 0.5734760958891327, 0.8311847208362864)]\n"
     ]
    },
    {
     "name": "stderr",
     "output_type": "stream",
     "text": [
      "\n",
      "Train epoch=0:   2%|▌                     | 203/8498 [35:31<24:11:28, 10.50s/it]\u001b[A"
     ]
    },
    {
     "name": "stdout",
     "output_type": "stream",
     "text": [
      "[(0.594288, 0.4932887688698039, 0.22106296869420305, 0.3994873119866682)]\n"
     ]
    },
    {
     "name": "stderr",
     "output_type": "stream",
     "text": [
      "\n",
      "Train epoch=0:   2%|▌                     | 204/8498 [35:42<24:11:40, 10.50s/it]\u001b[A"
     ]
    },
    {
     "name": "stdout",
     "output_type": "stream",
     "text": [
      "[(0.5702822822822823, 0.4990224726187223, 0.1564273052566375, 0.35752987309323675)]\n"
     ]
    },
    {
     "name": "stderr",
     "output_type": "stream",
     "text": [
      "\n",
      "Train epoch=0:   2%|▌                     | 205/8498 [35:52<24:11:20, 10.50s/it]\u001b[A"
     ]
    },
    {
     "name": "stdout",
     "output_type": "stream",
     "text": [
      "[(0.9772906666666666, 0.5, 0.4886453333333333, 0.9550970471537777)]\n"
     ]
    },
    {
     "name": "stderr",
     "output_type": "stream",
     "text": [
      "\n",
      "Train epoch=0:   2%|▌                     | 206/8498 [36:04<24:12:04, 10.51s/it]\u001b[A"
     ]
    },
    {
     "name": "stdout",
     "output_type": "stream",
     "text": [
      "[(0.24280533333333335, 0.26461503743156245, 0.17637580793694585, 0.24276932170177412)]\n"
     ]
    },
    {
     "name": "stderr",
     "output_type": "stream",
     "text": [
      "\n",
      "Train epoch=0:   2%|▌                     | 207/8498 [36:11<24:09:34, 10.49s/it]\u001b[A"
     ]
    },
    {
     "name": "stdout",
     "output_type": "stream",
     "text": [
      "[(0.7092251534760246, 0.6063323610021435, 0.401453354226953, 0.5679981800407882)]\n"
     ]
    },
    {
     "name": "stderr",
     "output_type": "stream",
     "text": [
      "\n",
      "Train epoch=0:   2%|▌                     | 208/8498 [36:21<24:09:14, 10.49s/it]\u001b[A"
     ]
    },
    {
     "name": "stdout",
     "output_type": "stream",
     "text": [
      "[(0.8970826666666667, 0.8995341362405205, 0.8018013228615681, 0.816416414865045)]\n"
     ]
    },
    {
     "name": "stderr",
     "output_type": "stream",
     "text": [
      "\n",
      "Train epoch=0:   2%|▌                     | 209/8498 [36:32<24:09:00, 10.49s/it]\u001b[A"
     ]
    },
    {
     "name": "stdout",
     "output_type": "stream",
     "text": [
      "[(0.6885866666666667, 0.5091295790108409, 0.3583163440706807, 0.5141407049765762)]\n"
     ]
    },
    {
     "name": "stderr",
     "output_type": "stream",
     "text": [
      "\n",
      "Train epoch=0:   2%|▌                     | 210/8498 [36:42<24:08:57, 10.49s/it]\u001b[A"
     ]
    },
    {
     "name": "stdout",
     "output_type": "stream",
     "text": [
      "[(0.868256, 0.7773629953725589, 0.4845954988206393, 0.8042336835026719)]\n"
     ]
    },
    {
     "name": "stderr",
     "output_type": "stream",
     "text": [
      "\n",
      "Train epoch=0:   2%|▌                     | 211/8498 [36:52<24:08:27, 10.49s/it]\u001b[A"
     ]
    },
    {
     "name": "stdout",
     "output_type": "stream",
     "text": [
      "[(0.9066007326007326, 0.8162756453086477, 0.7153371072722484, 0.8387483219632557)]\n"
     ]
    },
    {
     "name": "stderr",
     "output_type": "stream",
     "text": [
      "\n",
      "Train epoch=0:   2%|▌                     | 212/8498 [37:03<24:08:14, 10.49s/it]\u001b[A"
     ]
    },
    {
     "name": "stdout",
     "output_type": "stream",
     "text": [
      "[(0.927584, 0.4590297555983132, 0.4271605103080218, 0.8626481527845336)]\n"
     ]
    },
    {
     "name": "stderr",
     "output_type": "stream",
     "text": [
      "\n",
      "Train epoch=0:   3%|▌                     | 213/8498 [37:14<24:08:50, 10.49s/it]\u001b[A"
     ]
    },
    {
     "name": "stdout",
     "output_type": "stream",
     "text": [
      "[(0.8372413793103448, 0.4964896735055552, 0.2833419884119195, 0.7167086744812535)]\n"
     ]
    },
    {
     "name": "stderr",
     "output_type": "stream",
     "text": [
      "\n",
      "Train epoch=0:   3%|▌                     | 214/8498 [37:24<24:08:05, 10.49s/it]\u001b[A"
     ]
    },
    {
     "name": "stdout",
     "output_type": "stream",
     "text": [
      "[(0.6593033033033033, 0.3184208617964002, 0.1653212932452214, 0.4564059198384292)]\n"
     ]
    },
    {
     "name": "stderr",
     "output_type": "stream",
     "text": [
      "\n",
      "Train epoch=0:   3%|▌                     | 215/8498 [37:35<24:08:14, 10.49s/it]\u001b[A"
     ]
    },
    {
     "name": "stdout",
     "output_type": "stream",
     "text": [
      "[(0.5399940298507463, 0.49737151781099126, 0.19380045938394555, 0.42081658197979743)]\n"
     ]
    },
    {
     "name": "stderr",
     "output_type": "stream",
     "text": [
      "\n",
      "Train epoch=0:   3%|▌                     | 216/8498 [37:45<24:07:54, 10.49s/it]\u001b[A"
     ]
    },
    {
     "name": "stdout",
     "output_type": "stream",
     "text": [
      "[(0.6985173333333333, 0.6855030174362495, 0.28335657903333805, 0.5747490701508207)]\n"
     ]
    },
    {
     "name": "stderr",
     "output_type": "stream",
     "text": [
      "\n",
      "Train epoch=0:   3%|▌                     | 217/8498 [37:55<24:07:29, 10.49s/it]\u001b[A"
     ]
    },
    {
     "name": "stdout",
     "output_type": "stream",
     "text": [
      "[(0.9116306818181819, 0.49736819263961907, 0.30728143253854256, 0.8448283967511948)]\n"
     ]
    },
    {
     "name": "stderr",
     "output_type": "stream",
     "text": [
      "\n",
      "Train epoch=0:   3%|▌                     | 218/8498 [38:07<24:07:46, 10.49s/it]\u001b[A"
     ]
    },
    {
     "name": "stdout",
     "output_type": "stream",
     "text": [
      "[(0.8801437125748502, 0.4975761679079215, 0.3105645706558486, 0.8240189296862666)]\n"
     ]
    },
    {
     "name": "stderr",
     "output_type": "stream",
     "text": [
      "\n",
      "Train epoch=0:   3%|▌                     | 219/8498 [38:17<24:07:29, 10.49s/it]\u001b[A"
     ]
    },
    {
     "name": "stdout",
     "output_type": "stream",
     "text": [
      "[(0.616784, 0.5981952113098639, 0.2954821251084353, 0.5133113472878851)]\n"
     ]
    },
    {
     "name": "stderr",
     "output_type": "stream",
     "text": [
      "\n",
      "Train epoch=0:   3%|▌                     | 220/8498 [38:27<24:07:14, 10.49s/it]\u001b[A"
     ]
    },
    {
     "name": "stdout",
     "output_type": "stream",
     "text": [
      "[(0.75936, 0.45205626069760096, 0.32393639964061516, 0.6371226548708191)]\n"
     ]
    },
    {
     "name": "stderr",
     "output_type": "stream",
     "text": [
      "\n",
      "Train epoch=0:   3%|▌                     | 221/8498 [38:37<24:06:45, 10.49s/it]\u001b[A"
     ]
    },
    {
     "name": "stdout",
     "output_type": "stream",
     "text": [
      "[(0.5345405405405406, 0.4999494438827098, 0.18480427578302147, 0.29638610067471605)]\n"
     ]
    },
    {
     "name": "stderr",
     "output_type": "stream",
     "text": [
      "\n",
      "Train epoch=0:   3%|▌                     | 222/8498 [38:48<24:06:40, 10.49s/it]\u001b[A"
     ]
    },
    {
     "name": "stdout",
     "output_type": "stream",
     "text": [
      "[(0.9461173333333334, 0.8576584459237532, 0.8178633861145997, 0.8970765413240802)]\n"
     ]
    },
    {
     "name": "stderr",
     "output_type": "stream",
     "text": [
      "\n",
      "Train epoch=0:   3%|▌                     | 223/8498 [38:58<24:06:15, 10.49s/it]\u001b[A"
     ]
    },
    {
     "name": "stdout",
     "output_type": "stream",
     "text": [
      "[(0.8744906666666666, 0.62940282051753, 0.5610380560547493, 0.7753565102941482)]\n"
     ]
    },
    {
     "name": "stderr",
     "output_type": "stream",
     "text": [
      "\n",
      "Train epoch=0:   3%|▌                     | 224/8498 [39:09<24:06:09, 10.49s/it]\u001b[A"
     ]
    },
    {
     "name": "stdout",
     "output_type": "stream",
     "text": [
      "[(0.9218186666666667, 0.5, 0.46090933333333334, 0.8497496542151112)]\n"
     ]
    },
    {
     "name": "stderr",
     "output_type": "stream",
     "text": [
      "\n",
      "Train epoch=0:   3%|▌                     | 225/8498 [39:16<24:03:50, 10.47s/it]\u001b[A"
     ]
    },
    {
     "name": "stdout",
     "output_type": "stream",
     "text": [
      "[(0.7379405864934568, 0.493680026583508, 0.24893103526053095, 0.5581438510724516)]\n"
     ]
    },
    {
     "name": "stderr",
     "output_type": "stream",
     "text": [
      "\n",
      "Train epoch=0:   3%|▌                     | 226/8498 [39:26<24:03:52, 10.47s/it]\u001b[A"
     ]
    },
    {
     "name": "stdout",
     "output_type": "stream",
     "text": [
      "[(0.863968, 0.5547896383899088, 0.48838595355617676, 0.7539785165938367)]\n"
     ]
    },
    {
     "name": "stderr",
     "output_type": "stream",
     "text": [
      "\n",
      "Train epoch=0:   3%|▌                     | 227/8498 [39:36<24:03:04, 10.47s/it]\u001b[A"
     ]
    },
    {
     "name": "stdout",
     "output_type": "stream",
     "text": [
      "[(0.8883783783783784, 0.6098578970739248, 0.5522000111412714, 0.7897521066045905)]\n"
     ]
    },
    {
     "name": "stderr",
     "output_type": "stream",
     "text": [
      "\n",
      "Train epoch=0:   3%|▌                     | 228/8498 [39:45<24:01:52, 10.46s/it]\u001b[A"
     ]
    },
    {
     "name": "stdout",
     "output_type": "stream",
     "text": [
      "[(0.5608301886792453, 0.5, 0.28041509433962264, 0.31453050053399784)]\n"
     ]
    },
    {
     "name": "stderr",
     "output_type": "stream",
     "text": [
      "\n",
      "Train epoch=0:   3%|▌                     | 229/8498 [39:54<24:01:06, 10.46s/it]\u001b[A"
     ]
    },
    {
     "name": "stdout",
     "output_type": "stream",
     "text": [
      "[(0.9786186186186187, 0.5, 0.4893093093093093, 0.9576944007070134)]\n"
     ]
    },
    {
     "name": "stderr",
     "output_type": "stream",
     "text": [
      "\n",
      "Train epoch=0:   3%|▌                     | 230/8498 [40:04<24:00:39, 10.45s/it]\u001b[A"
     ]
    },
    {
     "name": "stdout",
     "output_type": "stream",
     "text": [
      "[(0.8909456521739131, 0.6560492105772335, 0.5280013806802736, 0.7987982058420123)]\n"
     ]
    },
    {
     "name": "stderr",
     "output_type": "stream",
     "text": [
      "\n",
      "Train epoch=0:   3%|▌                     | 231/8498 [40:16<24:01:13, 10.46s/it]\u001b[A"
     ]
    },
    {
     "name": "stdout",
     "output_type": "stream",
     "text": [
      "[(0.8112139037433155, 0.5, 0.40560695187165774, 0.6580679976264691)]\n"
     ]
    },
    {
     "name": "stderr",
     "output_type": "stream",
     "text": [
      "\n",
      "Train epoch=0:   3%|▌                     | 232/8498 [40:26<24:00:48, 10.46s/it]\u001b[A"
     ]
    },
    {
     "name": "stdout",
     "output_type": "stream",
     "text": [
      "[(0.8194534598808209, 0.2, 0.16389069197616418, 0.6715039729106481)]\n"
     ]
    },
    {
     "name": "stderr",
     "output_type": "stream",
     "text": [
      "\n",
      "Train epoch=0:   3%|▌                     | 233/8498 [40:35<24:00:00, 10.45s/it]\u001b[A"
     ]
    },
    {
     "name": "stdout",
     "output_type": "stream",
     "text": [
      "[(0.8786666666666667, 0.35012699495811067, 0.3095746544967028, 0.7720943852612857)]\n"
     ]
    },
    {
     "name": "stderr",
     "output_type": "stream",
     "text": [
      "\n",
      "Train epoch=0:   3%|▌                     | 234/8498 [40:47<24:00:33, 10.46s/it]\u001b[A"
     ]
    },
    {
     "name": "stdout",
     "output_type": "stream",
     "text": [
      "[(0.9235786666666667, 0.3333333333333333, 0.30785955555555555, 0.8529975535217778)]\n"
     ]
    },
    {
     "name": "stderr",
     "output_type": "stream",
     "text": [
      "\n",
      "Train epoch=0:   3%|▌                     | 235/8498 [40:57<24:00:21, 10.46s/it]\u001b[A"
     ]
    },
    {
     "name": "stdout",
     "output_type": "stream",
     "text": [
      "[(0.792, 0.5, 0.396, 0.627264)]\n"
     ]
    },
    {
     "name": "stderr",
     "output_type": "stream",
     "text": [
      "\n",
      "Train epoch=0:   3%|▌                     | 236/8498 [41:03<23:57:13, 10.44s/it]\u001b[A"
     ]
    },
    {
     "name": "stdout",
     "output_type": "stream",
     "text": [
      "[(0.8643162393162394, 0.5, 0.4321581196581197, 0.7470425615457668)]\n"
     ]
    },
    {
     "name": "stderr",
     "output_type": "stream",
     "text": [
      "\n",
      "Train epoch=0:   3%|▌                     | 237/8498 [41:13<23:57:10, 10.44s/it]\u001b[A"
     ]
    },
    {
     "name": "stdout",
     "output_type": "stream",
     "text": [
      "[(0.6441141439205955, 0.43037432246794993, 0.33728650884586675, 0.5961536262769732)]\n"
     ]
    },
    {
     "name": "stderr",
     "output_type": "stream",
     "text": [
      "\n",
      "Train epoch=0:   3%|▌                     | 238/8498 [41:24<23:57:16, 10.44s/it]\u001b[A"
     ]
    },
    {
     "name": "stdout",
     "output_type": "stream",
     "text": [
      "[(0.7895075075075075, 0.7892684964564811, 0.6520044476810045, 0.6521018418738646)]\n"
     ]
    },
    {
     "name": "stderr",
     "output_type": "stream",
     "text": [
      "\n",
      "Train epoch=0:   3%|▌                     | 239/8498 [41:35<23:56:58, 10.44s/it]\u001b[A"
     ]
    },
    {
     "name": "stdout",
     "output_type": "stream",
     "text": [
      "[(0.9496593406593407, 0.5, 0.47482967032967033, 0.9018528633015336)]\n"
     ]
    },
    {
     "name": "stderr",
     "output_type": "stream",
     "text": [
      "\n",
      "Train epoch=0:   3%|▌                     | 240/8498 [41:45<23:57:06, 10.44s/it]\u001b[A"
     ]
    },
    {
     "name": "stdout",
     "output_type": "stream",
     "text": [
      "[(0.6436756756756756, 0.6671047911263108, 0.46775524720689254, 0.48793409807159926)]\n"
     ]
    },
    {
     "name": "stderr",
     "output_type": "stream",
     "text": [
      "\n",
      "Train epoch=0:   3%|▌                     | 241/8498 [41:56<23:56:54, 10.44s/it]\u001b[A"
     ]
    },
    {
     "name": "stdout",
     "output_type": "stream",
     "text": [
      "[(0.608192, 0.2662239033180654, 0.18014821293508318, 0.3879437090417628)]\n"
     ]
    },
    {
     "name": "stderr",
     "output_type": "stream",
     "text": [
      "\n",
      "Train epoch=0:   3%|▋                     | 242/8498 [42:06<23:56:41, 10.44s/it]\u001b[A"
     ]
    },
    {
     "name": "stdout",
     "output_type": "stream",
     "text": [
      "[(0.4225813333333333, 0.3622893540238032, 0.1264593607831877, 0.19230588708435836)]\n"
     ]
    },
    {
     "name": "stderr",
     "output_type": "stream",
     "text": [
      "\n",
      "Train epoch=0:   3%|▋                     | 243/8498 [42:16<23:55:54, 10.44s/it]\u001b[A"
     ]
    },
    {
     "name": "stdout",
     "output_type": "stream",
     "text": [
      "[(0.8901223241590214, 0.5, 0.4450611620795107, 0.792317751966258)]\n"
     ]
    },
    {
     "name": "stderr",
     "output_type": "stream",
     "text": [
      "\n",
      "Train epoch=0:   3%|▋                     | 244/8498 [42:26<23:55:32, 10.44s/it]\u001b[A"
     ]
    },
    {
     "name": "stdout",
     "output_type": "stream",
     "text": [
      "[(0.9725653333333333, 0.3333333333333333, 0.32418844444444445, 0.9458833276017776)]\n"
     ]
    },
    {
     "name": "stderr",
     "output_type": "stream",
     "text": [
      "\n",
      "Train epoch=0:   3%|▋                     | 245/8498 [42:36<23:55:22, 10.44s/it]\u001b[A"
     ]
    },
    {
     "name": "stdout",
     "output_type": "stream",
     "text": [
      "[(0.7225546666666667, 0.5217448511261095, 0.40006340801371576, 0.5474648935654947)]\n"
     ]
    },
    {
     "name": "stderr",
     "output_type": "stream",
     "text": [
      "\n",
      "Train epoch=0:   3%|▋                     | 246/8498 [42:46<23:55:03, 10.43s/it]\u001b[A"
     ]
    },
    {
     "name": "stdout",
     "output_type": "stream",
     "text": [
      "[(0.903168, 0.5, 0.451584, 0.8157124362239999)]\n"
     ]
    },
    {
     "name": "stderr",
     "output_type": "stream",
     "text": [
      "\n",
      "Train epoch=0:   3%|▋                     | 247/8498 [42:58<23:55:40, 10.44s/it]\u001b[A"
     ]
    },
    {
     "name": "stdout",
     "output_type": "stream",
     "text": [
      "[(0.3286807387862797, 0.5, 0.16434036939313984, 0.10803102804909462)]\n"
     ]
    },
    {
     "name": "stderr",
     "output_type": "stream",
     "text": [
      "\n",
      "Train epoch=0:   3%|▋                     | 248/8498 [43:09<23:55:30, 10.44s/it]\u001b[A"
     ]
    },
    {
     "name": "stdout",
     "output_type": "stream",
     "text": [
      "[(0.2903253333333333, 0.5726899571738597, 0.0911059602552936, 0.18162457812439375)]\n"
     ]
    },
    {
     "name": "stderr",
     "output_type": "stream",
     "text": [
      "\n",
      "Train epoch=0:   3%|▋                     | 249/8498 [43:18<23:54:44, 10.44s/it]\u001b[A"
     ]
    },
    {
     "name": "stdout",
     "output_type": "stream",
     "text": [
      "[(0.5734534534534534, 0.24614591389533386, 0.19007198369219008, 0.4428163511963996)]\n"
     ]
    },
    {
     "name": "stderr",
     "output_type": "stream",
     "text": [
      "\n",
      "Train epoch=0:   3%|▋                     | 250/8498 [43:28<23:54:33, 10.44s/it]\u001b[A"
     ]
    },
    {
     "name": "stdout",
     "output_type": "stream",
     "text": [
      "[(0.7043636363636364, 0.25, 0.17820097058350007, 0.502073134574894)]\n"
     ]
    },
    {
     "name": "stderr",
     "output_type": "stream",
     "text": [
      "\n",
      "Train epoch=0:   3%|▋                     | 251/8498 [43:40<23:55:03, 10.44s/it]\u001b[A"
     ]
    },
    {
     "name": "stdout",
     "output_type": "stream",
     "text": [
      "[(0.6000533333333333, 0.33415098329456544, 0.20079417603329708, 0.36011349829102696)]\n"
     ]
    },
    {
     "name": "stderr",
     "output_type": "stream",
     "text": [
      "\n",
      "Train epoch=0:   3%|▋                     | 252/8498 [43:51<23:55:00, 10.44s/it]\u001b[A"
     ]
    },
    {
     "name": "stdout",
     "output_type": "stream",
     "text": [
      "[(0.6019946666666667, 0.5, 0.30099733333333334, 0.36239757869511113)]\n"
     ]
    },
    {
     "name": "stderr",
     "output_type": "stream",
     "text": [
      "\n",
      "Train epoch=0:   3%|▋                     | 253/8498 [44:01<23:54:59, 10.44s/it]\u001b[A"
     ]
    },
    {
     "name": "stdout",
     "output_type": "stream",
     "text": [
      "[(0.794375, 0.5, 0.3971875, 0.6310316406250001)]\n"
     ]
    },
    {
     "name": "stderr",
     "output_type": "stream",
     "text": [
      "\n",
      "Train epoch=0:   3%|▋                     | 254/8498 [44:11<23:54:25, 10.44s/it]\u001b[A"
     ]
    },
    {
     "name": "stdout",
     "output_type": "stream",
     "text": [
      "[(0.5762590361445783, 0.5, 0.19376368523503662, 0.334974223480091)]\n"
     ]
    },
    {
     "name": "stderr",
     "output_type": "stream",
     "text": [
      "\n",
      "Train epoch=0:   3%|▋                     | 255/8498 [44:23<23:55:13, 10.45s/it]\u001b[A"
     ]
    },
    {
     "name": "stdout",
     "output_type": "stream",
     "text": [
      "[(0.8567626666666667, 0.5, 0.42838133333333334, 0.7340422669937778)]\n"
     ]
    },
    {
     "name": "stderr",
     "output_type": "stream",
     "text": [
      "\n",
      "Train epoch=0:   3%|▋                     | 256/8498 [44:35<23:55:28, 10.45s/it]\u001b[A"
     ]
    },
    {
     "name": "stdout",
     "output_type": "stream",
     "text": [
      "[(0.765985, 0.3333333333333333, 0.2553283333333333, 0.5867330202250001)]\n"
     ]
    },
    {
     "name": "stderr",
     "output_type": "stream",
     "text": [
      "\n",
      "Train epoch=0:   3%|▋                     | 257/8498 [44:46<23:55:51, 10.45s/it]\u001b[A"
     ]
    },
    {
     "name": "stdout",
     "output_type": "stream",
     "text": [
      "[(0.9796853333333333, 0.5, 0.48984266666666665, 0.9597833523484444)]\n"
     ]
    },
    {
     "name": "stderr",
     "output_type": "stream",
     "text": [
      "\n",
      "Train epoch=0:   3%|▋                     | 258/8498 [44:57<23:55:45, 10.45s/it]\u001b[A"
     ]
    },
    {
     "name": "stdout",
     "output_type": "stream",
     "text": [
      "[(0.981792, 0.3333333333333333, 0.327264, 0.963915531264)]\n"
     ]
    },
    {
     "name": "stderr",
     "output_type": "stream",
     "text": [
      "\n",
      "Train epoch=0:   3%|▋                     | 259/8498 [45:07<23:55:34, 10.45s/it]\u001b[A"
     ]
    },
    {
     "name": "stdout",
     "output_type": "stream",
     "text": [
      "[(0.5435786666666667, 0.39802204928664076, 0.2678356519138446, 0.30140599846486343)]\n"
     ]
    },
    {
     "name": "stderr",
     "output_type": "stream",
     "text": [
      "\n",
      "Train epoch=0:   3%|▋                     | 260/8498 [45:17<23:55:11, 10.45s/it]\u001b[A"
     ]
    },
    {
     "name": "stdout",
     "output_type": "stream",
     "text": [
      "[(0.8882292993630573, 0.7175142152837399, 0.45487621385664107, 0.842333135057793)]\n"
     ]
    },
    {
     "name": "stderr",
     "output_type": "stream",
     "text": [
      "\n",
      "Train epoch=0:   3%|▋                     | 261/8498 [45:27<23:54:52, 10.45s/it]\u001b[A"
     ]
    },
    {
     "name": "stdout",
     "output_type": "stream",
     "text": [
      "[(0.9151566265060241, 0.5, 0.45757831325301207, 0.8375116510378866)]\n"
     ]
    },
    {
     "name": "stderr",
     "output_type": "stream",
     "text": [
      "\n",
      "Train epoch=0:   3%|▋                     | 262/8498 [45:36<23:53:54, 10.45s/it]\u001b[A"
     ]
    },
    {
     "name": "stdout",
     "output_type": "stream",
     "text": [
      "[(0.9479739010989011, 0.5, 0.47398695054945056, 0.8986545171646692)]\n"
     ]
    },
    {
     "name": "stderr",
     "output_type": "stream",
     "text": [
      "\n",
      "Train epoch=0:   3%|▋                     | 263/8498 [45:46<23:53:19, 10.44s/it]\u001b[A"
     ]
    },
    {
     "name": "stdout",
     "output_type": "stream",
     "text": [
      "[(0.9450299401197605, 0.3333333333333333, 0.31500998003992015, 0.8930815877227581)]\n"
     ]
    },
    {
     "name": "stderr",
     "output_type": "stream",
     "text": [
      "\n",
      "Train epoch=0:   3%|▋                     | 264/8498 [45:58<23:53:44, 10.45s/it]\u001b[A"
     ]
    },
    {
     "name": "stdout",
     "output_type": "stream",
     "text": [
      "[(0.6727306666666667, 0.5, 0.33636533333333335, 0.4525665498737778)]\n"
     ]
    },
    {
     "name": "stderr",
     "output_type": "stream",
     "text": [
      "\n",
      "Train epoch=0:   3%|▋                     | 265/8498 [46:09<23:53:55, 10.45s/it]\u001b[A"
     ]
    },
    {
     "name": "stdout",
     "output_type": "stream",
     "text": [
      "[(0.29330133333333336, 0.5, 0.14665066666666668, 0.08602567213511113)]\n"
     ]
    },
    {
     "name": "stderr",
     "output_type": "stream",
     "text": [
      "\n",
      "Train epoch=0:   3%|▋                     | 266/8498 [46:19<23:53:26, 10.45s/it]\u001b[A"
     ]
    },
    {
     "name": "stdout",
     "output_type": "stream",
     "text": [
      "[(0.7844423676012461, 0.776208094881835, 0.4471802952018953, 0.6773662446101232)]\n"
     ]
    },
    {
     "name": "stderr",
     "output_type": "stream",
     "text": [
      "\n",
      "Train epoch=0:   3%|▋                     | 267/8498 [46:31<23:54:11, 10.45s/it]\u001b[A"
     ]
    },
    {
     "name": "stdout",
     "output_type": "stream",
     "text": [
      "[(0.75792, 0.43316807989236084, 0.29636246602140454, 0.6449569897523747)]\n"
     ]
    },
    {
     "name": "stderr",
     "output_type": "stream",
     "text": [
      "\n",
      "Train epoch=0:   3%|▋                     | 268/8498 [46:41<23:53:45, 10.45s/it]\u001b[A"
     ]
    },
    {
     "name": "stdout",
     "output_type": "stream",
     "text": [
      "[(0.9744970059880239, 0.5, 0.48724850299401196, 0.9496444146796227)]\n"
     ]
    },
    {
     "name": "stderr",
     "output_type": "stream",
     "text": [
      "\n",
      "Train epoch=0:   3%|▋                     | 269/8498 [46:51<23:53:26, 10.45s/it]\u001b[A"
     ]
    },
    {
     "name": "stdout",
     "output_type": "stream",
     "text": [
      "[(0.7564053333333334, 0.5462610106711873, 0.4234358441285779, 0.5766893283757383)]\n"
     ]
    },
    {
     "name": "stderr",
     "output_type": "stream",
     "text": [
      "\n",
      "Train epoch=0:   3%|▋                     | 270/8498 [47:02<23:53:19, 10.45s/it]\u001b[A"
     ]
    },
    {
     "name": "stdout",
     "output_type": "stream",
     "text": [
      "[(0.8273453453453453, 0.5922983243749144, 0.43716549887633244, 0.7372218247587718)]\n"
     ]
    },
    {
     "name": "stderr",
     "output_type": "stream",
     "text": [
      "\n",
      "Train epoch=0:   3%|▋                     | 271/8498 [47:13<23:53:41, 10.46s/it]\u001b[A"
     ]
    },
    {
     "name": "stdout",
     "output_type": "stream",
     "text": [
      "[(0.7296666666666667, 0.5, 0.36483333333333334, 0.5324134444444445)]\n"
     ]
    },
    {
     "name": "stderr",
     "output_type": "stream",
     "text": [
      "\n",
      "Train epoch=0:   3%|▋                     | 272/8498 [47:24<23:53:38, 10.46s/it]\u001b[A"
     ]
    },
    {
     "name": "stdout",
     "output_type": "stream",
     "text": [
      "[(0.8759733333333334, 0.49944656291241707, 0.22827785005059098, 0.8007475637390618)]\n"
     ]
    },
    {
     "name": "stderr",
     "output_type": "stream",
     "text": [
      "\n",
      "Train epoch=0:   3%|▋                     | 273/8498 [47:35<23:53:45, 10.46s/it]\u001b[A"
     ]
    },
    {
     "name": "stdout",
     "output_type": "stream",
     "text": [
      "[(0.6908906666666667, 0.5, 0.23977403765175367, 0.4969729341677356)]\n"
     ]
    },
    {
     "name": "stderr",
     "output_type": "stream",
     "text": [
      "\n",
      "Train epoch=0:   3%|▋                     | 274/8498 [47:46<23:53:59, 10.46s/it]\u001b[A"
     ]
    },
    {
     "name": "stdout",
     "output_type": "stream",
     "text": [
      "[(0.90512, 0.6452448651249978, 0.3989195526917138, 0.8251141400950197)]\n"
     ]
    },
    {
     "name": "stderr",
     "output_type": "stream",
     "text": [
      "\n",
      "Train epoch=0:   3%|▋                     | 275/8498 [47:56<23:53:34, 10.46s/it]\u001b[A"
     ]
    },
    {
     "name": "stdout",
     "output_type": "stream",
     "text": [
      "[(0.861728, 0.5, 0.430864, 0.7425751459840001)]\n"
     ]
    },
    {
     "name": "stderr",
     "output_type": "stream",
     "text": [
      "\n",
      "Train epoch=0:   3%|▋                     | 276/8498 [48:06<23:53:20, 10.46s/it]\u001b[A"
     ]
    },
    {
     "name": "stdout",
     "output_type": "stream",
     "text": [
      "[(0.9922666666666666, 0.9657332438036637, 0.9328817799349562, 0.9850743877116882)]\n"
     ]
    },
    {
     "name": "stderr",
     "output_type": "stream",
     "text": [
      "\n",
      "Train epoch=0:   3%|▋                     | 277/8498 [48:17<23:52:59, 10.46s/it]\u001b[A"
     ]
    },
    {
     "name": "stdout",
     "output_type": "stream",
     "text": [
      "[(0.866048048048048, 0.5, 0.433024024024024, 0.7500392215278341)]\n"
     ]
    },
    {
     "name": "stderr",
     "output_type": "stream",
     "text": [
      "\n",
      "Train epoch=0:   3%|▋                     | 278/8498 [48:29<23:53:38, 10.46s/it]\u001b[A"
     ]
    },
    {
     "name": "stdout",
     "output_type": "stream",
     "text": [
      "[(0.3383419203747073, 0.4235128614246767, 0.26941710696531845, 0.3285593294556451)]\n"
     ]
    },
    {
     "name": "stderr",
     "output_type": "stream",
     "text": [
      "\n",
      "Train epoch=0:   3%|▋                     | 279/8498 [48:39<23:53:14, 10.46s/it]\u001b[A"
     ]
    },
    {
     "name": "stdout",
     "output_type": "stream",
     "text": [
      "[(0.75576, 0.5, 0.19630429000476543, 0.593435720856006)]\n"
     ]
    },
    {
     "name": "stderr",
     "output_type": "stream",
     "text": [
      "\n",
      "Train epoch=0:   3%|▋                     | 280/8498 [48:48<23:52:36, 10.46s/it]\u001b[A"
     ]
    },
    {
     "name": "stdout",
     "output_type": "stream",
     "text": [
      "[(0.8377177177177177, 0.5, 0.4188588588588589, 0.7017709745781818)]\n"
     ]
    },
    {
     "name": "stderr",
     "output_type": "stream",
     "text": [
      "\n",
      "Train epoch=0:   3%|▋                     | 281/8498 [48:59<23:52:30, 10.46s/it]\u001b[A"
     ]
    },
    {
     "name": "stdout",
     "output_type": "stream",
     "text": [
      "[(0.9880853333333334, 0.5, 0.4940426666666667, 0.9763126259484445)]\n"
     ]
    },
    {
     "name": "stderr",
     "output_type": "stream",
     "text": [
      "\n",
      "Train epoch=0:   3%|▋                     | 282/8498 [49:08<23:51:46, 10.46s/it]\u001b[A"
     ]
    },
    {
     "name": "stdout",
     "output_type": "stream",
     "text": [
      "[(0.8724984984984985, 0.5, 0.43624924924924924, 0.7612536298821343)]\n"
     ]
    },
    {
     "name": "stderr",
     "output_type": "stream",
     "text": [
      "\n",
      "Train epoch=0:   3%|▋                     | 283/8498 [49:19<23:51:40, 10.46s/it]\u001b[A"
     ]
    },
    {
     "name": "stdout",
     "output_type": "stream",
     "text": [
      "[(0.532064, 0.48994204891464493, 0.2275146754970512, 0.3706123057976765)]\n"
     ]
    },
    {
     "name": "stderr",
     "output_type": "stream",
     "text": [
      "\n",
      "Train epoch=0:   3%|▋                     | 284/8498 [49:26<23:49:50, 10.44s/it]\u001b[A"
     ]
    },
    {
     "name": "stdout",
     "output_type": "stream",
     "text": [
      "[(0.7455960382030421, 0.513215422505193, 0.39977112406519383, 0.5988177828181067)]\n"
     ]
    },
    {
     "name": "stderr",
     "output_type": "stream",
     "text": [
      "\n",
      "Train epoch=0:   3%|▋                     | 285/8498 [49:35<23:49:08, 10.44s/it]\u001b[A"
     ]
    },
    {
     "name": "stdout",
     "output_type": "stream",
     "text": [
      "[(0.8941611940298507, 0.609047917772199, 0.47550293625719897, 0.8204857692746174)]\n"
     ]
    },
    {
     "name": "stderr",
     "output_type": "stream",
     "text": [
      "\n",
      "Train epoch=0:   3%|▋                     | 286/8498 [49:47<23:49:29, 10.44s/it]\u001b[A"
     ]
    },
    {
     "name": "stdout",
     "output_type": "stream",
     "text": [
      "[(0.9709333333333333, 0.5, 0.48546666666666666, 0.9427115377777777)]\n"
     ]
    },
    {
     "name": "stderr",
     "output_type": "stream",
     "text": [
      "\n",
      "Train epoch=0:   3%|▋                     | 287/8498 [49:57<23:49:20, 10.44s/it]\u001b[A"
     ]
    },
    {
     "name": "stdout",
     "output_type": "stream",
     "text": [
      "[(0.786832, 0.793731615298414, 0.3869529800262879, 0.695727411251732)]\n"
     ]
    },
    {
     "name": "stderr",
     "output_type": "stream",
     "text": [
      "\n",
      "Train epoch=0:   3%|▋                     | 288/8498 [50:07<23:49:02, 10.44s/it]\u001b[A"
     ]
    },
    {
     "name": "stdout",
     "output_type": "stream",
     "text": [
      "[(0.317888, 0.5060104777223784, 0.1538836953142263, 0.24705716651887746)]\n"
     ]
    },
    {
     "name": "stderr",
     "output_type": "stream",
     "text": [
      "\n",
      "Train epoch=0:   3%|▋                     | 289/8498 [50:19<23:49:33, 10.45s/it]\u001b[A"
     ]
    },
    {
     "name": "stdout",
     "output_type": "stream",
     "text": [
      "[(0.8805580110497238, 0.5, 0.4402790055248619, 0.7753824108238454)]\n"
     ]
    },
    {
     "name": "stderr",
     "output_type": "stream",
     "text": [
      "\n",
      "Train epoch=0:   3%|▊                     | 290/8498 [50:30<23:49:33, 10.45s/it]\u001b[A"
     ]
    },
    {
     "name": "stdout",
     "output_type": "stream",
     "text": [
      "[(0.972176, 0.49949306179713704, 0.329991473369214, 0.9634061466037397)]\n"
     ]
    },
    {
     "name": "stderr",
     "output_type": "stream",
     "text": [
      "\n",
      "Train epoch=0:   3%|▊                     | 291/8498 [50:36<23:47:29, 10.44s/it]\u001b[A"
     ]
    },
    {
     "name": "stdout",
     "output_type": "stream",
     "text": [
      "[(0.7622025912838634, 0.7060883091479997, 0.5658721672116136, 0.5957738105651667)]\n"
     ]
    },
    {
     "name": "stderr",
     "output_type": "stream",
     "text": [
      "\n",
      "Train epoch=0:   3%|▊                     | 292/8498 [50:46<23:47:01, 10.43s/it]\u001b[A"
     ]
    },
    {
     "name": "stdout",
     "output_type": "stream",
     "text": [
      "[(0.8550450450450451, 0.49960695410487305, 0.21811972568991195, 0.7465956554263444)]\n"
     ]
    },
    {
     "name": "stderr",
     "output_type": "stream",
     "text": [
      "\n",
      "Train epoch=0:   3%|▊                     | 293/8498 [50:56<23:46:41, 10.43s/it]\u001b[A"
     ]
    },
    {
     "name": "stdout",
     "output_type": "stream",
     "text": [
      "[(0.5633653333333334, 0.5, 0.2816826666666667, 0.3173804988017778)]\n"
     ]
    },
    {
     "name": "stderr",
     "output_type": "stream",
     "text": [
      "\n",
      "Train epoch=0:   3%|▊                     | 294/8498 [51:08<23:47:06, 10.44s/it]\u001b[A"
     ]
    },
    {
     "name": "stdout",
     "output_type": "stream",
     "text": [
      "[(0.48805988023952096, 0.4836347669230039, 0.22137842058803558, 0.3351059502831778)]\n"
     ]
    },
    {
     "name": "stderr",
     "output_type": "stream",
     "text": [
      "\n",
      "Train epoch=0:   3%|▊                     | 295/8498 [51:18<23:46:42, 10.44s/it]\u001b[A"
     ]
    },
    {
     "name": "stdout",
     "output_type": "stream",
     "text": [
      "[(0.8718202247191011, 0.5249018477607117, 0.4604196258268204, 0.7602694749943075)]\n"
     ]
    },
    {
     "name": "stderr",
     "output_type": "stream",
     "text": [
      "\n",
      "Train epoch=0:   3%|▊                     | 296/8498 [51:28<23:46:26, 10.43s/it]\u001b[A"
     ]
    },
    {
     "name": "stdout",
     "output_type": "stream",
     "text": [
      "[(0.7565647668393782, 0.5, 0.3782823834196891, 0.5723902464227227)]\n"
     ]
    },
    {
     "name": "stderr",
     "output_type": "stream",
     "text": [
      "\n",
      "Train epoch=0:   3%|▊                     | 297/8498 [51:38<23:46:07, 10.43s/it]\u001b[A"
     ]
    },
    {
     "name": "stdout",
     "output_type": "stream",
     "text": [
      "[(0.2836044568245125, 0.2279952167896059, 0.07030625280530331, 0.14575719993148495)]\n"
     ]
    },
    {
     "name": "stderr",
     "output_type": "stream",
     "text": [
      "\n",
      "Train epoch=0:   4%|▊                     | 298/8498 [51:46<23:44:48, 10.43s/it]\u001b[A"
     ]
    },
    {
     "name": "stdout",
     "output_type": "stream",
     "text": [
      "[(0.6796433267587114, 0.7023731078106138, 0.37737125906338503, 0.5201328178119903)]\n"
     ]
    },
    {
     "name": "stderr",
     "output_type": "stream",
     "text": [
      "\n",
      "Train epoch=0:   4%|▊                     | 299/8498 [51:56<23:44:30, 10.42s/it]\u001b[A"
     ]
    },
    {
     "name": "stdout",
     "output_type": "stream",
     "text": [
      "[(0.5628106666666667, 0.43718565900786316, 0.2873664632469276, 0.5549115373249351)]\n"
     ]
    },
    {
     "name": "stderr",
     "output_type": "stream",
     "text": [
      "\n",
      "Train epoch=0:   4%|▊                     | 300/8498 [52:06<23:43:59, 10.42s/it]\u001b[A"
     ]
    },
    {
     "name": "stdout",
     "output_type": "stream",
     "text": [
      "[(0.5166101694915254, 0.5159756416587722, 0.3217924125898219, 0.49411225295022987)]\n"
     ]
    },
    {
     "name": "stderr",
     "output_type": "stream",
     "text": [
      "\n",
      "Train epoch=0:   4%|▊                     | 301/8498 [52:18<23:44:22, 10.43s/it]\u001b[A"
     ]
    },
    {
     "name": "stdout",
     "output_type": "stream",
     "text": [
      "[(0.5706933333333334, 0.2772384136038485, 0.16872843489152278, 0.3282179814442011)]\n"
     ]
    },
    {
     "name": "stderr",
     "output_type": "stream",
     "text": [
      "\n",
      "Train epoch=0:   4%|▊                     | 302/8498 [52:27<23:43:42, 10.42s/it]\u001b[A"
     ]
    },
    {
     "name": "stdout",
     "output_type": "stream",
     "text": [
      "[(0.771301775147929, 0.8040899457157252, 0.6267645558183037, 0.6314313446531754)]\n"
     ]
    },
    {
     "name": "stderr",
     "output_type": "stream",
     "text": [
      "\n",
      "Train epoch=0:   4%|▊                     | 303/8498 [52:37<23:43:07, 10.42s/it]\u001b[A"
     ]
    },
    {
     "name": "stdout",
     "output_type": "stream",
     "text": [
      "[(0.8214294294294294, 0.5, 0.20651458322008612, 0.678548625053327)]\n"
     ]
    },
    {
     "name": "stderr",
     "output_type": "stream",
     "text": [
      "\n",
      "Train epoch=0:   4%|▊                     | 304/8498 [52:46<23:42:36, 10.42s/it]\u001b[A"
     ]
    },
    {
     "name": "stdout",
     "output_type": "stream",
     "text": [
      "[(0.8812732732732733, 0.24996763224782115, 0.17625465465465467, 0.7767431479046615)]\n"
     ]
    },
    {
     "name": "stderr",
     "output_type": "stream",
     "text": [
      "\n",
      "Train epoch=0:   4%|▊                     | 305/8498 [52:56<23:42:10, 10.41s/it]\u001b[A"
     ]
    },
    {
     "name": "stdout",
     "output_type": "stream",
     "text": [
      "[(0.5473314606741573, 0.49752323562455314, 0.1390188982939595, 0.30587281644857467)]\n"
     ]
    },
    {
     "name": "stderr",
     "output_type": "stream",
     "text": [
      "\n",
      "Train epoch=0:   4%|▊                     | 306/8498 [53:06<23:41:55, 10.41s/it]\u001b[A"
     ]
    },
    {
     "name": "stdout",
     "output_type": "stream",
     "text": [
      "[(0.6181813333333334, 0.3572927013668346, 0.14561899931674777, 0.4255726484621043)]\n"
     ]
    },
    {
     "name": "stderr",
     "output_type": "stream",
     "text": [
      "\n",
      "Train epoch=0:   4%|▊                     | 307/8498 [53:16<23:41:17, 10.41s/it]\u001b[A"
     ]
    },
    {
     "name": "stdout",
     "output_type": "stream",
     "text": [
      "[(0.7726766467065869, 0.6859341263878279, 0.5594734141351536, 0.6169567026810212)]\n"
     ]
    },
    {
     "name": "stderr",
     "output_type": "stream",
     "text": [
      "\n",
      "Train epoch=0:   4%|▊                     | 308/8498 [53:28<23:41:49, 10.42s/it]\u001b[A"
     ]
    },
    {
     "name": "stdout",
     "output_type": "stream",
     "text": [
      "[(0.48225857519788917, 0.45636498012504245, 0.22219952928361636, 0.46961372177417143)]\n"
     ]
    },
    {
     "name": "stderr",
     "output_type": "stream",
     "text": [
      "\n",
      "Train epoch=0:   4%|▊                     | 309/8498 [53:38<23:41:37, 10.42s/it]\u001b[A"
     ]
    },
    {
     "name": "stdout",
     "output_type": "stream",
     "text": [
      "[(0.8773866666666666, 0.6524895144415691, 0.5667795694053972, 0.797005046060508)]\n"
     ]
    },
    {
     "name": "stderr",
     "output_type": "stream",
     "text": [
      "\n",
      "Train epoch=0:   4%|▊                     | 310/8498 [53:47<23:40:58, 10.41s/it]\u001b[A"
     ]
    },
    {
     "name": "stdout",
     "output_type": "stream",
     "text": [
      "[(0.9915735735735736, 0.5, 0.4957867867867868, 0.9832181518094671)]\n"
     ]
    },
    {
     "name": "stderr",
     "output_type": "stream",
     "text": [
      "\n",
      "Train epoch=0:   4%|▊                     | 311/8498 [53:57<23:40:30, 10.41s/it]\u001b[A"
     ]
    },
    {
     "name": "stdout",
     "output_type": "stream",
     "text": [
      "[(0.8743094555873926, 0.49999344558855335, 0.3067474918069043, 0.8045872448851733)]\n"
     ]
    },
    {
     "name": "stderr",
     "output_type": "stream",
     "text": [
      "\n",
      "Train epoch=0:   4%|▊                     | 312/8498 [54:07<23:39:59, 10.41s/it]\u001b[A"
     ]
    },
    {
     "name": "stdout",
     "output_type": "stream",
     "text": [
      "[(0.9728048048048048, 0.4963472334583609, 0.32447679089064246, 0.9539266866465007)]\n"
     ]
    },
    {
     "name": "stderr",
     "output_type": "stream",
     "text": [
      "\n",
      "Train epoch=0:   4%|▊                     | 313/8498 [54:17<23:39:52, 10.41s/it]\u001b[A"
     ]
    },
    {
     "name": "stdout",
     "output_type": "stream",
     "text": [
      "[(0.8580954907161804, 0.2479900283327814, 0.1716190981432361, 0.7422958456613359)]\n"
     ]
    },
    {
     "name": "stderr",
     "output_type": "stream",
     "text": [
      "\n",
      "Train epoch=0:   4%|▊                     | 314/8498 [54:28<23:39:37, 10.41s/it]\u001b[A"
     ]
    },
    {
     "name": "stdout",
     "output_type": "stream",
     "text": [
      "[(0.901152, 0.499346876533067, 0.3004865660812224, 0.8134147304893403)]\n"
     ]
    },
    {
     "name": "stderr",
     "output_type": "stream",
     "text": [
      "\n",
      "Train epoch=0:   4%|▊                     | 315/8498 [54:38<23:39:22, 10.41s/it]\u001b[A"
     ]
    },
    {
     "name": "stdout",
     "output_type": "stream",
     "text": [
      "[(0.834768, 0.45150840309469276, 0.2196560589645281, 0.8122189876109375)]\n"
     ]
    },
    {
     "name": "stderr",
     "output_type": "stream",
     "text": [
      "\n",
      "Train epoch=0:   4%|▊                     | 316/8498 [54:48<23:39:12, 10.41s/it]\u001b[A"
     ]
    },
    {
     "name": "stdout",
     "output_type": "stream",
     "text": [
      "[(0.8876, 0.6477555671262025, 0.39331137976238123, 0.790582182640192)]\n"
     ]
    },
    {
     "name": "stderr",
     "output_type": "stream",
     "text": [
      "\n",
      "Train epoch=0:   4%|▊                     | 317/8498 [54:58<23:38:44, 10.41s/it]\u001b[A"
     ]
    },
    {
     "name": "stdout",
     "output_type": "stream",
     "text": [
      "[(0.41971171171171173, 0.2804920851784629, 0.13689178713452374, 0.2730170545958147)]\n"
     ]
    },
    {
     "name": "stderr",
     "output_type": "stream",
     "text": [
      "\n",
      "Train epoch=0:   4%|▊                     | 318/8498 [55:09<23:38:55, 10.41s/it]\u001b[A"
     ]
    },
    {
     "name": "stdout",
     "output_type": "stream",
     "text": [
      "[(0.6485173333333333, 0.6250738967329122, 0.44301257464653193, 0.49210822070398036)]\n"
     ]
    },
    {
     "name": "stderr",
     "output_type": "stream",
     "text": [
      "\n",
      "Train epoch=0:   4%|▊                     | 319/8498 [55:20<23:38:45, 10.41s/it]\u001b[A"
     ]
    },
    {
     "name": "stdout",
     "output_type": "stream",
     "text": [
      "[(0.8505973333333333, 0.8565886626157353, 0.7399321988221061, 0.739564418222277)]\n"
     ]
    },
    {
     "name": "stderr",
     "output_type": "stream",
     "text": [
      "\n",
      "Train epoch=0:   4%|▊                     | 320/8498 [55:30<23:38:29, 10.41s/it]\u001b[A"
     ]
    },
    {
     "name": "stdout",
     "output_type": "stream",
     "text": [
      "[(0.791008, 0.8091327885765898, 0.42295563550204673, 0.6690112174070055)]\n"
     ]
    },
    {
     "name": "stderr",
     "output_type": "stream",
     "text": [
      "\n",
      "Train epoch=0:   4%|▊                     | 321/8498 [55:41<23:38:43, 10.41s/it]\u001b[A"
     ]
    },
    {
     "name": "stdout",
     "output_type": "stream",
     "text": [
      "[(0.85384, 0.5299127522757008, 0.32387914597247763, 0.7788124973276974)]\n"
     ]
    },
    {
     "name": "stderr",
     "output_type": "stream",
     "text": [
      "\n",
      "Train epoch=0:   4%|▊                     | 322/8498 [55:51<23:38:29, 10.41s/it]\u001b[A"
     ]
    },
    {
     "name": "stdout",
     "output_type": "stream",
     "text": [
      "[(0.9816426666666667, 0.3333333333333333, 0.32721422222222224, 0.9636223250204444)]\n"
     ]
    },
    {
     "name": "stderr",
     "output_type": "stream",
     "text": [
      "\n",
      "Train epoch=0:   4%|▊                     | 323/8498 [55:59<23:37:14, 10.40s/it]\u001b[A"
     ]
    },
    {
     "name": "stdout",
     "output_type": "stream",
     "text": [
      "[(0.7383833333333333, 0.7184034118695224, 0.4202822724595663, 0.6680976510035536)]\n"
     ]
    },
    {
     "name": "stderr",
     "output_type": "stream",
     "text": [
      "\n",
      "Train epoch=0:   4%|▊                     | 324/8498 [56:10<23:37:03, 10.40s/it]\u001b[A"
     ]
    },
    {
     "name": "stdout",
     "output_type": "stream",
     "text": [
      "[(0.6408693333333333, 0.7352830594568076, 0.33401755204740785, 0.49915102992947835)]\n"
     ]
    },
    {
     "name": "stderr",
     "output_type": "stream",
     "text": [
      "\n",
      "Train epoch=0:   4%|▊                     | 325/8498 [56:19<23:36:27, 10.40s/it]\u001b[A"
     ]
    },
    {
     "name": "stdout",
     "output_type": "stream",
     "text": [
      "[(0.8504804804804805, 0.8923567932174257, 0.7031632618224626, 0.7595043338011038)]\n"
     ]
    },
    {
     "name": "stderr",
     "output_type": "stream",
     "text": [
      "\n",
      "Train epoch=0:   4%|▊                     | 326/8498 [56:29<23:36:05, 10.40s/it]\u001b[A"
     ]
    },
    {
     "name": "stdout",
     "output_type": "stream",
     "text": [
      "[(0.4582507462686567, 0.5642124539694907, 0.28085696641675945, 0.22822769809611468)]\n"
     ]
    },
    {
     "name": "stderr",
     "output_type": "stream",
     "text": [
      "\n",
      "Train epoch=0:   4%|▊                     | 327/8498 [56:41<23:36:31, 10.40s/it]\u001b[A"
     ]
    },
    {
     "name": "stdout",
     "output_type": "stream",
     "text": [
      "[(0.869152, 0.9158767024739425, 0.701792113511689, 0.7951463013083034)]\n"
     ]
    },
    {
     "name": "stderr",
     "output_type": "stream",
     "text": [
      "\n",
      "Train epoch=0:   4%|▊                     | 328/8498 [56:51<23:36:16, 10.40s/it]\u001b[A"
     ]
    },
    {
     "name": "stdout",
     "output_type": "stream",
     "text": [
      "[(0.9795733333333333, 0.5, 0.48978666666666665, 0.9595639153777777)]\n"
     ]
    },
    {
     "name": "stderr",
     "output_type": "stream",
     "text": [
      "\n",
      "Train epoch=0:   4%|▊                     | 329/8498 [57:02<23:36:11, 10.40s/it]\u001b[A"
     ]
    },
    {
     "name": "stdout",
     "output_type": "stream",
     "text": [
      "[(0.8360853333333333, 0.5, 0.22787213135723797, 0.7620821876127737)]\n"
     ]
    },
    {
     "name": "stderr",
     "output_type": "stream",
     "text": [
      "\n",
      "Train epoch=0:   4%|▊                     | 330/8498 [57:12<23:35:49, 10.40s/it]\u001b[A"
     ]
    },
    {
     "name": "stdout",
     "output_type": "stream",
     "text": [
      "[(0.8276723163841808, 0.3332741848889374, 0.2071404332334144, 0.6858993183975777)]\n"
     ]
    },
    {
     "name": "stderr",
     "output_type": "stream",
     "text": [
      "\n",
      "Train epoch=0:   4%|▊                     | 331/8498 [57:23<23:35:54, 10.40s/it]\u001b[A"
     ]
    },
    {
     "name": "stdout",
     "output_type": "stream",
     "text": [
      "[(0.9924848484848485, 0.5, 0.49624242424242426, 0.9850261744719927)]\n"
     ]
    },
    {
     "name": "stderr",
     "output_type": "stream",
     "text": [
      "\n",
      "Train epoch=0:   4%|▊                     | 332/8498 [57:32<23:35:20, 10.40s/it]\u001b[A"
     ]
    },
    {
     "name": "stdout",
     "output_type": "stream",
     "text": [
      "[(0.865246290801187, 0.5, 0.4326231454005935, 0.7486511437452122)]\n"
     ]
    },
    {
     "name": "stderr",
     "output_type": "stream",
     "text": [
      "\n",
      "Train epoch=0:   4%|▊                     | 333/8498 [57:43<23:35:32, 10.40s/it]\u001b[A"
     ]
    },
    {
     "name": "stdout",
     "output_type": "stream",
     "text": [
      "[(0.6343946666666667, 0.6165694360032089, 0.3275354318839117, 0.50323287550897)]\n"
     ]
    },
    {
     "name": "stderr",
     "output_type": "stream",
     "text": [
      "\n",
      "Train epoch=0:   4%|▊                     | 334/8498 [57:54<23:35:16, 10.40s/it]\u001b[A"
     ]
    },
    {
     "name": "stdout",
     "output_type": "stream",
     "text": [
      "[(0.84872, 0.48825751774135906, 0.32314128272577447, 0.7248601559104804)]\n"
     ]
    },
    {
     "name": "stderr",
     "output_type": "stream",
     "text": [
      "\n",
      "Train epoch=0:   4%|▊                     | 335/8498 [58:03<23:34:38, 10.40s/it]\u001b[A"
     ]
    },
    {
     "name": "stdout",
     "output_type": "stream",
     "text": [
      "[(0.7983486842105263, 0.42937511351521396, 0.2680312100689217, 0.6425027453069624)]\n"
     ]
    },
    {
     "name": "stderr",
     "output_type": "stream",
     "text": [
      "\n",
      "Train epoch=0:   4%|▊                     | 336/8498 [58:14<23:34:41, 10.40s/it]\u001b[A"
     ]
    },
    {
     "name": "stdout",
     "output_type": "stream",
     "text": [
      "[(0.7966114285714285, 0.5269941725900846, 0.43654640443323006, 0.6620255887003725)]\n"
     ]
    },
    {
     "name": "stderr",
     "output_type": "stream",
     "text": [
      "\n",
      "Train epoch=0:   4%|▊                     | 337/8498 [58:23<23:34:04, 10.40s/it]\u001b[A"
     ]
    },
    {
     "name": "stdout",
     "output_type": "stream",
     "text": [
      "[(0.7979519519519519, 0.49223080115000445, 0.265983983983984, 0.6467771989647305)]\n"
     ]
    },
    {
     "name": "stderr",
     "output_type": "stream",
     "text": [
      "\n",
      "Train epoch=0:   4%|▉                     | 338/8498 [58:33<23:33:50, 10.40s/it]\u001b[A"
     ]
    },
    {
     "name": "stdout",
     "output_type": "stream",
     "text": [
      "[(0.6178921832884097, 0.44313259446636233, 0.25621556161026965, 0.4189588189448029)]\n"
     ]
    },
    {
     "name": "stderr",
     "output_type": "stream",
     "text": [
      "\n",
      "Train epoch=0:   4%|▉                     | 339/8498 [58:39<23:31:51, 10.38s/it]\u001b[A"
     ]
    },
    {
     "name": "stdout",
     "output_type": "stream",
     "text": [
      "[(0.785144596651446, 0.5, 0.2622817454264417, 0.6177872856656426)]\n"
     ]
    },
    {
     "name": "stderr",
     "output_type": "stream",
     "text": [
      "\n",
      "Train epoch=0:   4%|▉                     | 340/8498 [58:50<23:31:41, 10.38s/it]\u001b[A"
     ]
    },
    {
     "name": "stdout",
     "output_type": "stream",
     "text": [
      "[(0.9106506666666667, 0.4950192792740556, 0.15189987153893508, 0.8383171630387981)]\n"
     ]
    },
    {
     "name": "stderr",
     "output_type": "stream",
     "text": [
      "\n",
      "Train epoch=0:   4%|▉                     | 341/8498 [58:59<23:31:13, 10.38s/it]\u001b[A"
     ]
    },
    {
     "name": "stdout",
     "output_type": "stream",
     "text": [
      "[(0.79995166163142, 0.5, 0.39997583081571, 0.6399226609468698)]\n"
     ]
    },
    {
     "name": "stderr",
     "output_type": "stream",
     "text": [
      "\n",
      "Train epoch=0:   4%|▉                     | 342/8498 [59:11<23:31:42, 10.39s/it]\u001b[A"
     ]
    },
    {
     "name": "stdout",
     "output_type": "stream",
     "text": [
      "[(0.8617667386609071, 0.5, 0.43088336933045357, 0.7426419118622563)]\n"
     ]
    },
    {
     "name": "stderr",
     "output_type": "stream",
     "text": [
      "\n",
      "Train epoch=0:   4%|▉                     | 343/8498 [59:22<23:31:31, 10.39s/it]\u001b[A"
     ]
    },
    {
     "name": "stdout",
     "output_type": "stream",
     "text": [
      "[(0.802512, 0.784906245509077, 0.6569311926633731, 0.6667855354600829)]\n"
     ]
    },
    {
     "name": "stderr",
     "output_type": "stream",
     "text": [
      "\n",
      "Train epoch=0:   4%|▉                     | 344/8498 [59:32<23:31:14, 10.38s/it]\u001b[A"
     ]
    },
    {
     "name": "stdout",
     "output_type": "stream",
     "text": [
      "[(0.7986453333333333, 0.3346508563899868, 0.2675290543383218, 0.6378365309012035)]\n"
     ]
    },
    {
     "name": "stderr",
     "output_type": "stream",
     "text": [
      "\n",
      "Train epoch=0:   4%|▉                     | 345/8498 [59:43<23:31:20, 10.39s/it]\u001b[A"
     ]
    },
    {
     "name": "stdout",
     "output_type": "stream",
     "text": [
      "[(0.9954864048338369, 0.5, 0.49774320241691844, 0.9909931822089978)]\n"
     ]
    },
    {
     "name": "stderr",
     "output_type": "stream",
     "text": [
      "\n",
      "Train epoch=0:   4%|▉                     | 346/8498 [59:53<23:31:07, 10.39s/it]\u001b[A"
     ]
    },
    {
     "name": "stdout",
     "output_type": "stream",
     "text": [
      "[(0.932992, 0.3333333333333333, 0.31099733333333335, 0.8704740720640001)]\n"
     ]
    },
    {
     "name": "stderr",
     "output_type": "stream",
     "text": [
      "\n",
      "Train epoch=0:   4%|▊                   | 347/8498 [1:00:05<23:31:28, 10.39s/it]\u001b[A"
     ]
    },
    {
     "name": "stdout",
     "output_type": "stream",
     "text": [
      "[(0.8860213333333333, 0.6140702251250278, 0.5427470804152653, 0.7933173059328528)]\n"
     ]
    },
    {
     "name": "stderr",
     "output_type": "stream",
     "text": [
      "\n",
      "Train epoch=0:   4%|▊                   | 348/8498 [1:00:15<23:31:10, 10.39s/it]\u001b[A"
     ]
    },
    {
     "name": "stdout",
     "output_type": "stream",
     "text": [
      "[(0.4981333333333333, 0.49929188798789587, 0.29864328226706943, 0.293806660256795)]\n"
     ]
    },
    {
     "name": "stderr",
     "output_type": "stream",
     "text": [
      "\n",
      "Train epoch=0:   4%|▊                   | 349/8498 [1:00:25<23:30:53, 10.39s/it]\u001b[A"
     ]
    },
    {
     "name": "stdout",
     "output_type": "stream",
     "text": [
      "[(0.8380853333333333, 0.5, 0.28036661171416133, 0.7049134357020004)]\n"
     ]
    },
    {
     "name": "stderr",
     "output_type": "stream",
     "text": [
      "\n",
      "Train epoch=0:   4%|▊                   | 350/8498 [1:00:36<23:31:07, 10.39s/it]\u001b[A"
     ]
    },
    {
     "name": "stdout",
     "output_type": "stream",
     "text": [
      "[(0.983568, 0.5114176974310181, 0.5031985412750541, 0.9674061143479096)]\n"
     ]
    },
    {
     "name": "stderr",
     "output_type": "stream",
     "text": [
      "\n",
      "Train epoch=0:   4%|▊                   | 351/8498 [1:00:47<23:31:02, 10.39s/it]\u001b[A"
     ]
    },
    {
     "name": "stdout",
     "output_type": "stream",
     "text": [
      "[(0.8110826666666666, 0.7498802493668002, 0.4504203514237088, 0.7542926398097156)]\n"
     ]
    },
    {
     "name": "stderr",
     "output_type": "stream",
     "text": [
      "\n",
      "Train epoch=0:   4%|▊                   | 352/8498 [1:00:57<23:30:45, 10.39s/it]\u001b[A"
     ]
    },
    {
     "name": "stdout",
     "output_type": "stream",
     "text": [
      "[(0.901170868347339, 0.800527168764582, 0.7370240014472078, 0.8165278370875264)]\n"
     ]
    },
    {
     "name": "stderr",
     "output_type": "stream",
     "text": [
      "\n",
      "Train epoch=0:   4%|▊                   | 353/8498 [1:01:07<23:30:27, 10.39s/it]\u001b[A"
     ]
    },
    {
     "name": "stdout",
     "output_type": "stream",
     "text": [
      "[(0.5343146666666667, 0.4921982470620603, 0.20244099579696087, 0.32964520038797285)]\n"
     ]
    },
    {
     "name": "stderr",
     "output_type": "stream",
     "text": [
      "\n",
      "Train epoch=0:   4%|▊                   | 354/8498 [1:01:17<23:29:54, 10.39s/it]\u001b[A"
     ]
    },
    {
     "name": "stdout",
     "output_type": "stream",
     "text": [
      "[(0.7625645645645646, 0.5, 0.3812822822822823, 0.5815047151295439)]\n"
     ]
    },
    {
     "name": "stderr",
     "output_type": "stream",
     "text": [
      "\n",
      "Train epoch=0:   4%|▊                   | 355/8498 [1:01:27<23:29:40, 10.39s/it]\u001b[A"
     ]
    },
    {
     "name": "stdout",
     "output_type": "stream",
     "text": [
      "[(0.5589066666666667, 0.5, 0.27945333333333333, 0.3123766620444444)]\n"
     ]
    },
    {
     "name": "stderr",
     "output_type": "stream",
     "text": [
      "\n",
      "Train epoch=0:   4%|▊                   | 356/8498 [1:01:37<23:29:30, 10.39s/it]\u001b[A"
     ]
    },
    {
     "name": "stdout",
     "output_type": "stream",
     "text": [
      "[(0.9152853333333333, 0.46093876820569607, 0.4230359183870833, 0.8385149859627957)]\n"
     ]
    },
    {
     "name": "stderr",
     "output_type": "stream",
     "text": [
      "\n",
      "Train epoch=0:   4%|▊                   | 357/8498 [1:01:48<23:29:19, 10.39s/it]\u001b[A"
     ]
    },
    {
     "name": "stdout",
     "output_type": "stream",
     "text": [
      "[(0.6001813333333333, 0.2734050086513465, 0.18402904997287722, 0.37935432132202457)]\n"
     ]
    },
    {
     "name": "stderr",
     "output_type": "stream",
     "text": [
      "\n",
      "Train epoch=0:   4%|▊                   | 358/8498 [1:01:58<23:29:05, 10.39s/it]\u001b[A"
     ]
    },
    {
     "name": "stdout",
     "output_type": "stream",
     "text": [
      "[(0.690768, 0.5, 0.23199316481815838, 0.4807603634253289)]\n"
     ]
    },
    {
     "name": "stderr",
     "output_type": "stream",
     "text": [
      "\n",
      "Train epoch=0:   4%|▊                   | 359/8498 [1:02:08<23:28:52, 10.39s/it]\u001b[A"
     ]
    },
    {
     "name": "stdout",
     "output_type": "stream",
     "text": [
      "[(0.9452586666666667, 0.5, 0.31737129555018356, 0.8999939030101173)]\n"
     ]
    },
    {
     "name": "stderr",
     "output_type": "stream",
     "text": [
      "\n",
      "Train epoch=0:   4%|▊                   | 360/8498 [1:02:19<23:28:46, 10.39s/it]\u001b[A"
     ]
    },
    {
     "name": "stdout",
     "output_type": "stream",
     "text": [
      "[(0.809568, 0.8062409687739542, 0.6741788564544136, 0.6818323983685842)]\n"
     ]
    },
    {
     "name": "stderr",
     "output_type": "stream",
     "text": [
      "\n",
      "Train epoch=0:   4%|▊                   | 361/8498 [1:02:29<23:28:44, 10.39s/it]\u001b[A"
     ]
    },
    {
     "name": "stdout",
     "output_type": "stream",
     "text": [
      "[(0.8041561561561562, 0.5, 0.4020780780780781, 0.6466671234838443)]\n"
     ]
    },
    {
     "name": "stderr",
     "output_type": "stream",
     "text": [
      "\n",
      "Train epoch=0:   4%|▊                   | 362/8498 [1:02:39<23:28:21, 10.39s/it]\u001b[A"
     ]
    },
    {
     "name": "stdout",
     "output_type": "stream",
     "text": [
      "[(0.6926966966966966, 0.3585476550680787, 0.2553713343480118, 0.4809717751619552)]\n"
     ]
    },
    {
     "name": "stderr",
     "output_type": "stream",
     "text": [
      "\n",
      "Train epoch=0:   4%|▊                   | 363/8498 [1:02:48<23:27:38, 10.38s/it]\u001b[A"
     ]
    },
    {
     "name": "stdout",
     "output_type": "stream",
     "text": [
      "[(0.9947524752475247, 0.3333333333333333, 0.3315841584158416, 0.9895324870110773)]\n"
     ]
    },
    {
     "name": "stderr",
     "output_type": "stream",
     "text": [
      "\n",
      "Train epoch=0:   4%|▊                   | 364/8498 [1:02:58<23:27:25, 10.38s/it]\u001b[A"
     ]
    },
    {
     "name": "stdout",
     "output_type": "stream",
     "text": [
      "[(0.4195265957446809, 0.5, 0.20976329787234044, 0.17600256453712088)]\n"
     ]
    },
    {
     "name": "stderr",
     "output_type": "stream",
     "text": [
      "\n",
      "Train epoch=0:   4%|▊                   | 365/8498 [1:03:09<23:27:09, 10.38s/it]\u001b[A"
     ]
    },
    {
     "name": "stdout",
     "output_type": "stream",
     "text": [
      "[(0.7244853333333333, 0.45445835959396647, 0.31161682179411193, 0.5598538865304995)]\n"
     ]
    },
    {
     "name": "stderr",
     "output_type": "stream",
     "text": [
      "\n",
      "Train epoch=0:   4%|▊                   | 366/8498 [1:03:19<23:26:49, 10.38s/it]\u001b[A"
     ]
    },
    {
     "name": "stdout",
     "output_type": "stream",
     "text": [
      "[(0.8391531531531532, 0.7779634298747018, 0.6742289066491187, 0.7189486950386687)]\n"
     ]
    },
    {
     "name": "stderr",
     "output_type": "stream",
     "text": [
      "\n",
      "Train epoch=0:   4%|▊                   | 367/8498 [1:03:28<23:26:16, 10.38s/it]\u001b[A"
     ]
    },
    {
     "name": "stdout",
     "output_type": "stream",
     "text": [
      "[(0.905987987987988, 0.6464676122504291, 0.5975565726603906, 0.8211724264588933)]\n"
     ]
    },
    {
     "name": "stderr",
     "output_type": "stream",
     "text": [
      "\n",
      "Train epoch=0:   4%|▊                   | 368/8498 [1:03:38<23:26:02, 10.38s/it]\u001b[A"
     ]
    },
    {
     "name": "stdout",
     "output_type": "stream",
     "text": [
      "[(0.7866133333333334, 0.43864469292763564, 0.3495428122775519, 0.6380203975910876)]\n"
     ]
    },
    {
     "name": "stderr",
     "output_type": "stream",
     "text": [
      "\n",
      "Train epoch=0:   4%|▊                   | 369/8498 [1:03:48<23:25:45, 10.38s/it]\u001b[A"
     ]
    },
    {
     "name": "stdout",
     "output_type": "stream",
     "text": [
      "[(0.88584, 0.8834707604163583, 0.7916267552035238, 0.7954737504614882)]\n"
     ]
    },
    {
     "name": "stderr",
     "output_type": "stream",
     "text": [
      "\n",
      "Train epoch=0:   4%|▊                   | 370/8498 [1:03:59<23:25:35, 10.38s/it]\u001b[A"
     ]
    },
    {
     "name": "stdout",
     "output_type": "stream",
     "text": [
      "[(0.5469493333333333, 0.5, 0.27347466666666664, 0.2991535732337777)]\n"
     ]
    },
    {
     "name": "stderr",
     "output_type": "stream",
     "text": [
      "\n",
      "Train epoch=0:   4%|▊                   | 371/8498 [1:04:09<23:25:32, 10.38s/it]\u001b[A"
     ]
    },
    {
     "name": "stdout",
     "output_type": "stream",
     "text": [
      "[(0.38255089820359284, 0.3333333333333333, 0.09602007995911864, 0.14693027133576655)]\n"
     ]
    },
    {
     "name": "stderr",
     "output_type": "stream",
     "text": [
      "\n",
      "Train epoch=0:   4%|▉                   | 372/8498 [1:04:19<23:25:14, 10.38s/it]\u001b[A"
     ]
    },
    {
     "name": "stdout",
     "output_type": "stream",
     "text": [
      "[(0.39645645645645644, 0.5, 0.1376429914882792, 0.1637083579845281)]\n"
     ]
    },
    {
     "name": "stderr",
     "output_type": "stream",
     "text": [
      "\n",
      "Train epoch=0:   4%|▉                   | 373/8498 [1:04:30<23:25:14, 10.38s/it]\u001b[A"
     ]
    },
    {
     "name": "stdout",
     "output_type": "stream",
     "text": [
      "[(0.847155, 0.26117495541906083, 0.22274697159026643, 0.7178041007532483)]\n"
     ]
    },
    {
     "name": "stderr",
     "output_type": "stream",
     "text": [
      "\n",
      "Train epoch=0:   4%|▉                   | 374/8498 [1:04:42<23:25:38, 10.38s/it]\u001b[A"
     ]
    },
    {
     "name": "stdout",
     "output_type": "stream",
     "text": [
      "[(0.8800434782608696, 0.5, 0.4400217391304348, 0.7744765236294896)]\n"
     ]
    },
    {
     "name": "stderr",
     "output_type": "stream",
     "text": [
      "\n",
      "Train epoch=0:   4%|▉                   | 375/8498 [1:04:52<23:25:27, 10.38s/it]\u001b[A"
     ]
    },
    {
     "name": "stdout",
     "output_type": "stream",
     "text": [
      "[(0.8446186666666666, 0.6230368704317396, 0.49997046885087676, 0.7297414350380749)]\n"
     ]
    },
    {
     "name": "stderr",
     "output_type": "stream",
     "text": [
      "\n",
      "Train epoch=0:   4%|▉                   | 376/8498 [1:05:03<23:25:17, 10.38s/it]\u001b[A"
     ]
    },
    {
     "name": "stdout",
     "output_type": "stream",
     "text": [
      "[(0.848256, 0.3953109860318223, 0.3452761317508018, 0.7266544594602513)]\n"
     ]
    },
    {
     "name": "stderr",
     "output_type": "stream",
     "text": [
      "\n",
      "Train epoch=0:   4%|▉                   | 377/8498 [1:05:13<23:24:52, 10.38s/it]\u001b[A"
     ]
    },
    {
     "name": "stdout",
     "output_type": "stream",
     "text": [
      "[(0.5441621621621622, 0.5632235503244847, 0.13280738035557452, 0.3230523244256915)]\n"
     ]
    },
    {
     "name": "stderr",
     "output_type": "stream",
     "text": [
      "\n",
      "Train epoch=0:   4%|▉                   | 378/8498 [1:05:23<23:24:44, 10.38s/it]\u001b[A"
     ]
    },
    {
     "name": "stdout",
     "output_type": "stream",
     "text": [
      "[(0.63848, 0.3339875629612569, 0.22393590713235892, 0.4361013352585477)]\n"
     ]
    },
    {
     "name": "stderr",
     "output_type": "stream",
     "text": [
      "\n",
      "Train epoch=0:   4%|▉                   | 379/8498 [1:05:33<23:24:31, 10.38s/it]\u001b[A"
     ]
    },
    {
     "name": "stdout",
     "output_type": "stream",
     "text": [
      "[(0.700672, 0.49983259777811595, 0.17656071088748043, 0.4950103173297638)]\n"
     ]
    },
    {
     "name": "stderr",
     "output_type": "stream",
     "text": [
      "\n",
      "Train epoch=0:   4%|▉                   | 380/8498 [1:05:45<23:24:41, 10.38s/it]\u001b[A"
     ]
    },
    {
     "name": "stdout",
     "output_type": "stream",
     "text": [
      "[(0.25721066666666664, 0.5, 0.08573826070106011, 0.06615838558128041)]\n"
     ]
    },
    {
     "name": "stderr",
     "output_type": "stream",
     "text": [
      "\n",
      "Train epoch=0:   4%|▉                   | 381/8498 [1:05:57<23:25:03, 10.39s/it]\u001b[A"
     ]
    },
    {
     "name": "stdout",
     "output_type": "stream",
     "text": [
      "[(0.903031847133758, 0.5, 0.451515923566879, 0.8154665169378068)]\n"
     ]
    },
    {
     "name": "stderr",
     "output_type": "stream",
     "text": [
      "\n",
      "Train epoch=0:   4%|▉                   | 382/8498 [1:06:07<23:24:45, 10.39s/it]\u001b[A"
     ]
    },
    {
     "name": "stdout",
     "output_type": "stream",
     "text": [
      "[(0.9142395209580838, 0.3333333333333333, 0.30474650698602795, 0.8358339016816666)]\n"
     ]
    },
    {
     "name": "stderr",
     "output_type": "stream",
     "text": [
      "\n",
      "Train epoch=0:   5%|▉                   | 383/8498 [1:06:17<23:24:34, 10.39s/it]\u001b[A"
     ]
    },
    {
     "name": "stdout",
     "output_type": "stream",
     "text": [
      "[(0.7938186666666667, 0.5, 0.2788961154551706, 0.6641788275274088)]\n"
     ]
    },
    {
     "name": "stderr",
     "output_type": "stream",
     "text": [
      "\n",
      "Train epoch=0:   5%|▉                   | 384/8498 [1:06:28<23:24:27, 10.39s/it]\u001b[A"
     ]
    },
    {
     "name": "stdout",
     "output_type": "stream",
     "text": [
      "[(0.830272, 0.7743408971711145, 0.6674243115761318, 0.7019695781588088)]\n"
     ]
    },
    {
     "name": "stderr",
     "output_type": "stream",
     "text": [
      "\n",
      "Train epoch=0:   5%|▉                   | 385/8498 [1:06:39<23:24:45, 10.39s/it]\u001b[A"
     ]
    },
    {
     "name": "stdout",
     "output_type": "stream",
     "text": [
      "[(0.7968213333333334, 0.8185268837254337, 0.6621433816772644, 0.6632728768898399)]\n"
     ]
    },
    {
     "name": "stderr",
     "output_type": "stream",
     "text": [
      "\n",
      "Train epoch=0:   5%|▉                   | 386/8498 [1:06:50<23:24:39, 10.39s/it]\u001b[A"
     ]
    },
    {
     "name": "stdout",
     "output_type": "stream",
     "text": [
      "[(0.8142642642642642, 0.6639814274078714, 0.5620833005647222, 0.6677896076308493)]\n"
     ]
    },
    {
     "name": "stderr",
     "output_type": "stream",
     "text": [
      "\n",
      "Train epoch=0:   5%|▉                   | 387/8498 [1:07:00<23:24:23, 10.39s/it]\u001b[A"
     ]
    },
    {
     "name": "stdout",
     "output_type": "stream",
     "text": [
      "[(0.775248, 0.5368417151594754, 0.4305096449850372, 0.6337055747887217)]\n"
     ]
    },
    {
     "name": "stderr",
     "output_type": "stream",
     "text": [
      "\n",
      "Train epoch=0:   5%|▉                   | 388/8498 [1:07:11<23:24:21, 10.39s/it]\u001b[A"
     ]
    },
    {
     "name": "stdout",
     "output_type": "stream",
     "text": [
      "[(0.5672, 0.5, 0.2836, 0.32171584000000003)]\n"
     ]
    },
    {
     "name": "stderr",
     "output_type": "stream",
     "text": [
      "\n",
      "Train epoch=0:   5%|▉                   | 389/8498 [1:07:20<23:23:56, 10.39s/it]\u001b[A"
     ]
    },
    {
     "name": "stdout",
     "output_type": "stream",
     "text": [
      "[(0.8668948948948949, 0.5, 0.43344744744744745, 0.7515067587948309)]\n"
     ]
    },
    {
     "name": "stderr",
     "output_type": "stream",
     "text": [
      "\n",
      "Train epoch=0:   5%|▉                   | 390/8498 [1:07:30<23:23:26, 10.39s/it]\u001b[A"
     ]
    },
    {
     "name": "stdout",
     "output_type": "stream",
     "text": [
      "[(0.8804730538922155, 0.5, 0.44023652694610776, 0.7752327986302843)]\n"
     ]
    },
    {
     "name": "stderr",
     "output_type": "stream",
     "text": [
      "\n",
      "Train epoch=0:   5%|▉                   | 391/8498 [1:07:40<23:23:15, 10.39s/it]\u001b[A"
     ]
    },
    {
     "name": "stdout",
     "output_type": "stream",
     "text": [
      "[(0.765872, 0.5, 0.382936, 0.586559920384)]\n"
     ]
    },
    {
     "name": "stderr",
     "output_type": "stream",
     "text": [
      "\n",
      "Train epoch=0:   5%|▉                   | 392/8498 [1:07:50<23:22:59, 10.38s/it]\u001b[A"
     ]
    },
    {
     "name": "stdout",
     "output_type": "stream",
     "text": [
      "[(0.9844373333333334, 0.6127712535617725, 0.5190253120417793, 0.9721806024195163)]\n"
     ]
    },
    {
     "name": "stderr",
     "output_type": "stream",
     "text": [
      "\n",
      "Train epoch=0:   5%|▉                   | 393/8498 [1:08:00<23:22:29, 10.38s/it]\u001b[A"
     ]
    },
    {
     "name": "stdout",
     "output_type": "stream",
     "text": [
      "[(0.9190833333333334, 0.5328621123528976, 0.3295427537281231, 0.8486645721397149)]\n"
     ]
    },
    {
     "name": "stderr",
     "output_type": "stream",
     "text": [
      "\n",
      "Train epoch=0:   5%|▉                   | 394/8498 [1:08:10<23:22:15, 10.38s/it]\u001b[A"
     ]
    },
    {
     "name": "stdout",
     "output_type": "stream",
     "text": [
      "[(0.4591306666666667, 0.32756488552522933, 0.12952659231931246, 0.24206758542823958)]\n"
     ]
    },
    {
     "name": "stderr",
     "output_type": "stream",
     "text": [
      "\n",
      "Train epoch=0:   5%|▉                   | 395/8498 [1:08:20<23:22:00, 10.38s/it]\u001b[A"
     ]
    },
    {
     "name": "stdout",
     "output_type": "stream",
     "text": [
      "[(0.645104, 0.7745355157660265, 0.3288235942205136, 0.5302961306120826)]\n"
     ]
    },
    {
     "name": "stderr",
     "output_type": "stream",
     "text": [
      "\n",
      "Train epoch=0:   5%|▉                   | 396/8498 [1:08:30<23:21:44, 10.38s/it]\u001b[A"
     ]
    },
    {
     "name": "stdout",
     "output_type": "stream",
     "text": [
      "[(0.6395573333333333, 0.6026210018490078, 0.2976727734178361, 0.46841179976946107)]\n"
     ]
    },
    {
     "name": "stderr",
     "output_type": "stream",
     "text": [
      "\n",
      "Train epoch=0:   5%|▉                   | 397/8498 [1:08:37<23:20:12, 10.37s/it]\u001b[A"
     ]
    },
    {
     "name": "stdout",
     "output_type": "stream",
     "text": [
      "[(0.7412917271407837, 0.5, 0.37064586357039186, 0.5495134247273662)]\n"
     ]
    },
    {
     "name": "stderr",
     "output_type": "stream",
     "text": [
      "\n",
      "Train epoch=0:   5%|▉                   | 398/8498 [1:08:47<23:19:53, 10.37s/it]\u001b[A"
     ]
    },
    {
     "name": "stdout",
     "output_type": "stream",
     "text": [
      "[(0.5383483483483483, 0.6768613108000168, 0.36799287071322107, 0.36187594771497367)]\n"
     ]
    },
    {
     "name": "stderr",
     "output_type": "stream",
     "text": [
      "\n",
      "Train epoch=0:   5%|▉                   | 399/8498 [1:08:58<23:20:11, 10.37s/it]\u001b[A"
     ]
    },
    {
     "name": "stdout",
     "output_type": "stream",
     "text": [
      "[(0.8982118863049096, 0.6309704051937001, 0.5041450993602933, 0.8232431245856968)]\n"
     ]
    },
    {
     "name": "stderr",
     "output_type": "stream",
     "text": [
      "\n",
      "Train epoch=0:   5%|▉                   | 400/8498 [1:09:09<23:20:06, 10.37s/it]\u001b[A"
     ]
    },
    {
     "name": "stdout",
     "output_type": "stream",
     "text": [
      "[(0.4893866666666667, 0.4996025393921575, 0.1655794649704516, 0.24329054410610368)]\n"
     ]
    },
    {
     "name": "stderr",
     "output_type": "stream",
     "text": [
      "\n",
      "Train epoch=0:   5%|▉                   | 401/8498 [1:09:20<23:20:17, 10.38s/it]\u001b[A"
     ]
    },
    {
     "name": "stdout",
     "output_type": "stream",
     "text": [
      "[(0.835696, 0.5542347434319777, 0.4368427006859938, 0.7331740016088252)]\n"
     ]
    },
    {
     "name": "stderr",
     "output_type": "stream",
     "text": [
      "\n",
      "Train epoch=0:   5%|▉                   | 402/8498 [1:09:32<23:20:27, 10.38s/it]\u001b[A"
     ]
    },
    {
     "name": "stdout",
     "output_type": "stream",
     "text": [
      "[(0.7084094488188977, 0.498249966771521, 0.23613648293963255, 0.5036066037572076)]\n"
     ]
    },
    {
     "name": "stderr",
     "output_type": "stream",
     "text": [
      "\n",
      "Train epoch=0:   5%|▉                   | 403/8498 [1:09:41<23:20:01, 10.38s/it]\u001b[A"
     ]
    },
    {
     "name": "stdout",
     "output_type": "stream",
     "text": [
      "[(0.922996996996997, 0.897051296565706, 0.8351572309939652, 0.8565092852694954)]\n"
     ]
    },
    {
     "name": "stderr",
     "output_type": "stream",
     "text": [
      "\n",
      "Train epoch=0:   5%|▉                   | 404/8498 [1:09:53<23:20:10, 10.38s/it]\u001b[A"
     ]
    },
    {
     "name": "stdout",
     "output_type": "stream",
     "text": [
      "[(0.062101333333333335, 0.5, 0.021082286823389678, 0.00392771436434479)]\n"
     ]
    },
    {
     "name": "stderr",
     "output_type": "stream",
     "text": [
      "\n",
      "Train epoch=0:   5%|▉                   | 405/8498 [1:10:03<23:20:01, 10.38s/it]\u001b[A"
     ]
    },
    {
     "name": "stdout",
     "output_type": "stream",
     "text": [
      "[(0.9464045698924731, 0.5, 0.47320228494623656, 0.8956816099133571)]\n"
     ]
    },
    {
     "name": "stderr",
     "output_type": "stream",
     "text": [
      "\n",
      "Train epoch=0:   5%|▉                   | 406/8498 [1:10:14<23:19:51, 10.38s/it]\u001b[A"
     ]
    },
    {
     "name": "stdout",
     "output_type": "stream",
     "text": [
      "[(0.5314024390243902, 0.5341687879817787, 0.2931762405184268, 0.4376507838961634)]\n"
     ]
    },
    {
     "name": "stderr",
     "output_type": "stream",
     "text": [
      "\n",
      "Train epoch=0:   5%|▉                   | 407/8498 [1:10:24<23:19:34, 10.38s/it]\u001b[A"
     ]
    },
    {
     "name": "stdout",
     "output_type": "stream",
     "text": [
      "[(0.8656216216216216, 0.8219768920922625, 0.46209166040390826, 0.8556295980513536)]\n"
     ]
    },
    {
     "name": "stderr",
     "output_type": "stream",
     "text": [
      "\n",
      "Train epoch=0:   5%|▉                   | 408/8498 [1:10:34<23:19:17, 10.38s/it]\u001b[A"
     ]
    },
    {
     "name": "stdout",
     "output_type": "stream",
     "text": [
      "[(0.9063483796296297, 0.6247562687564756, 0.40526468555720857, 0.8597410183400361)]\n"
     ]
    },
    {
     "name": "stderr",
     "output_type": "stream",
     "text": [
      "\n",
      "Train epoch=0:   5%|▉                   | 409/8498 [1:10:44<23:18:57, 10.38s/it]\u001b[A"
     ]
    },
    {
     "name": "stdout",
     "output_type": "stream",
     "text": [
      "[(0.8654954954954955, 0.4990441955658986, 0.15239143676556433, 0.7928802894287907)]\n"
     ]
    },
    {
     "name": "stderr",
     "output_type": "stream",
     "text": [
      "\n",
      "Train epoch=0:   5%|▉                   | 410/8498 [1:10:55<23:19:00, 10.38s/it]\u001b[A"
     ]
    },
    {
     "name": "stdout",
     "output_type": "stream",
     "text": [
      "[(0.7369742268041237, 0.7521429954105623, 0.45581014273697984, 0.6728025976274369)]\n"
     ]
    },
    {
     "name": "stderr",
     "output_type": "stream",
     "text": [
      "\n",
      "Train epoch=0:   5%|▉                   | 411/8498 [1:11:03<23:18:17, 10.37s/it]\u001b[A"
     ]
    },
    {
     "name": "stdout",
     "output_type": "stream",
     "text": [
      "[(0.5852824145962733, 0.5, 0.29264120729813664, 0.34255550483564395)]\n"
     ]
    },
    {
     "name": "stderr",
     "output_type": "stream",
     "text": [
      "\n",
      "Train epoch=0:   5%|▉                   | 412/8498 [1:11:14<23:18:03, 10.37s/it]\u001b[A"
     ]
    },
    {
     "name": "stdout",
     "output_type": "stream",
     "text": [
      "[(0.7226826666666667, 0.6145403976110706, 0.35813536056924566, 0.5702681889267981)]\n"
     ]
    },
    {
     "name": "stderr",
     "output_type": "stream",
     "text": [
      "\n",
      "Train epoch=0:   5%|▉                   | 413/8498 [1:11:23<23:17:41, 10.37s/it]\u001b[A"
     ]
    },
    {
     "name": "stdout",
     "output_type": "stream",
     "text": [
      "[(0.944532857510288, 0.6417129166610145, 0.33713501190129097, 0.9241814600285818)]\n"
     ]
    },
    {
     "name": "stderr",
     "output_type": "stream",
     "text": [
      "\n",
      "Train epoch=0:   5%|▉                   | 414/8498 [1:11:34<23:17:32, 10.37s/it]\u001b[A"
     ]
    },
    {
     "name": "stdout",
     "output_type": "stream",
     "text": [
      "[(0.7269493333333333, 0.7577525119995263, 0.31351870685742267, 0.6273920904723178)]\n"
     ]
    },
    {
     "name": "stderr",
     "output_type": "stream",
     "text": [
      "\n",
      "Train epoch=0:   5%|▉                   | 415/8498 [1:11:44<23:17:23, 10.37s/it]\u001b[A"
     ]
    },
    {
     "name": "stdout",
     "output_type": "stream",
     "text": [
      "[(0.46197333333333335, 0.30982943768039045, 0.14338746897840027, 0.23618029002181623)]\n"
     ]
    },
    {
     "name": "stderr",
     "output_type": "stream",
     "text": [
      "\n",
      "Train epoch=0:   5%|▉                   | 416/8498 [1:11:54<23:16:52, 10.37s/it]\u001b[A"
     ]
    },
    {
     "name": "stdout",
     "output_type": "stream",
     "text": [
      "[(0.4876086400817996, 0.4632955842074359, 0.26779246017806907, 0.4665123734349517)]\n"
     ]
    },
    {
     "name": "stderr",
     "output_type": "stream",
     "text": [
      "\n",
      "Train epoch=0:   5%|▉                   | 417/8498 [1:12:04<23:16:39, 10.37s/it]\u001b[A"
     ]
    },
    {
     "name": "stdout",
     "output_type": "stream",
     "text": [
      "[(0.5751871657754011, 0.24576665945309245, 0.13716398247076028, 0.4005650466739225)]\n"
     ]
    },
    {
     "name": "stderr",
     "output_type": "stream",
     "text": [
      "\n",
      "Train epoch=0:   5%|▉                   | 418/8498 [1:12:14<23:16:30, 10.37s/it]\u001b[A"
     ]
    },
    {
     "name": "stdout",
     "output_type": "stream",
     "text": [
      "[(0.5985653333333333, 0.31513522923826853, 0.14964133333333332, 0.5684551028053333)]\n"
     ]
    },
    {
     "name": "stderr",
     "output_type": "stream",
     "text": [
      "\n",
      "Train epoch=0:   5%|▉                   | 419/8498 [1:12:24<23:16:12, 10.37s/it]\u001b[A"
     ]
    },
    {
     "name": "stdout",
     "output_type": "stream",
     "text": [
      "[(0.9285285285285285, 0.49999676586826736, 0.3103744569450802, 0.8645802057327269)]\n"
     ]
    },
    {
     "name": "stderr",
     "output_type": "stream",
     "text": [
      "\n",
      "Train epoch=0:   5%|▉                   | 420/8498 [1:12:34<23:15:46, 10.37s/it]\u001b[A"
     ]
    },
    {
     "name": "stdout",
     "output_type": "stream",
     "text": [
      "[(0.46434234234234234, 0.5455449403917808, 0.2388191650659155, 0.35764420426970917)]\n"
     ]
    },
    {
     "name": "stderr",
     "output_type": "stream",
     "text": [
      "\n",
      "Train epoch=0:   5%|▉                   | 421/8498 [1:12:44<23:15:37, 10.37s/it]\u001b[A"
     ]
    },
    {
     "name": "stdout",
     "output_type": "stream",
     "text": [
      "[(0.9703786666666666, 0.5, 0.3241077710977511, 0.9435218003224226)]\n"
     ]
    },
    {
     "name": "stderr",
     "output_type": "stream",
     "text": [
      "\n",
      "Train epoch=0:   5%|▉                   | 422/8498 [1:12:54<23:15:24, 10.37s/it]\u001b[A"
     ]
    },
    {
     "name": "stdout",
     "output_type": "stream",
     "text": [
      "[(0.9450186666666667, 0.6553833735896963, 0.4076192573473665, 0.9018167478956843)]\n"
     ]
    },
    {
     "name": "stderr",
     "output_type": "stream",
     "text": [
      "\n",
      "Train epoch=0:   5%|▉                   | 423/8498 [1:13:04<23:15:06, 10.37s/it]\u001b[A"
     ]
    },
    {
     "name": "stdout",
     "output_type": "stream",
     "text": [
      "[(0.5976756756756757, 0.3010537015692076, 0.15085315643626795, 0.39931419424906456)]\n"
     ]
    },
    {
     "name": "stderr",
     "output_type": "stream",
     "text": [
      "\n",
      "Train epoch=0:   5%|▉                   | 424/8498 [1:13:14<23:14:38, 10.36s/it]\u001b[A"
     ]
    },
    {
     "name": "stdout",
     "output_type": "stream",
     "text": [
      "[(0.8428108108108108, 0.8397448581868703, 0.6988524053447221, 0.7386533466604199)]\n"
     ]
    },
    {
     "name": "stderr",
     "output_type": "stream",
     "text": [
      "\n",
      "Train epoch=0:   5%|█                   | 425/8498 [1:13:26<23:14:56, 10.37s/it]\u001b[A"
     ]
    },
    {
     "name": "stdout",
     "output_type": "stream",
     "text": [
      "[(0.6805493333333333, 0.5927556664556056, 0.3313073716991699, 0.49827334271206325)]\n"
     ]
    },
    {
     "name": "stderr",
     "output_type": "stream",
     "text": [
      "\n",
      "Train epoch=0:   5%|█                   | 426/8498 [1:13:38<23:15:18, 10.37s/it]\u001b[A"
     ]
    },
    {
     "name": "stdout",
     "output_type": "stream",
     "text": [
      "[(0.7260208333333333, 0.7304855782154462, 0.29432679419260654, 0.5877443883747396)]\n"
     ]
    },
    {
     "name": "stderr",
     "output_type": "stream",
     "text": [
      "\n",
      "Train epoch=0:   5%|█                   | 427/8498 [1:13:48<23:15:01, 10.37s/it]\u001b[A"
     ]
    },
    {
     "name": "stdout",
     "output_type": "stream",
     "text": [
      "[(0.9073715846994536, 0.9348738766113396, 0.7394445275404609, 0.8520021289650308)]\n"
     ]
    },
    {
     "name": "stderr",
     "output_type": "stream",
     "text": [
      "\n",
      "Train epoch=0:   5%|█                   | 428/8498 [1:13:58<23:14:46, 10.37s/it]\u001b[A"
     ]
    },
    {
     "name": "stdout",
     "output_type": "stream",
     "text": [
      "[(0.8676853333333333, 0.872932957786358, 0.7657307870580021, 0.765133639969968)]\n"
     ]
    },
    {
     "name": "stderr",
     "output_type": "stream",
     "text": [
      "\n",
      "Train epoch=0:   5%|█                   | 429/8498 [1:14:07<23:14:12, 10.37s/it]\u001b[A"
     ]
    },
    {
     "name": "stdout",
     "output_type": "stream",
     "text": [
      "[(0.8143236514522821, 0.5, 0.20793812248357704, 0.6773157247078334)]\n"
     ]
    },
    {
     "name": "stderr",
     "output_type": "stream",
     "text": [
      "\n",
      "Train epoch=0:   5%|█                   | 430/8498 [1:14:17<23:13:58, 10.37s/it]\u001b[A"
     ]
    },
    {
     "name": "stdout",
     "output_type": "stream",
     "text": [
      "[(0.8069333333333333, 0.43614517825337373, 0.27132492719832846, 0.6807535112697918)]\n"
     ]
    },
    {
     "name": "stderr",
     "output_type": "stream",
     "text": [
      "\n",
      "Train epoch=0:   5%|█                   | 431/8498 [1:14:27<23:13:37, 10.37s/it]\u001b[A"
     ]
    },
    {
     "name": "stdout",
     "output_type": "stream",
     "text": [
      "[(0.6421141141141141, 0.3333333333333333, 0.13073043084842964, 0.41971927395997927)]\n"
     ]
    },
    {
     "name": "stderr",
     "output_type": "stream",
     "text": [
      "\n",
      "Train epoch=0:   5%|█                   | 432/8498 [1:14:38<23:13:35, 10.37s/it]\u001b[A"
     ]
    },
    {
     "name": "stdout",
     "output_type": "stream",
     "text": [
      "[(0.5961801801801802, 0.3238999559492927, 0.15702229639413762, 0.48170008072501885)]\n"
     ]
    },
    {
     "name": "stderr",
     "output_type": "stream",
     "text": [
      "\n",
      "Train epoch=0:   5%|█                   | 433/8498 [1:14:49<23:13:43, 10.37s/it]\u001b[A"
     ]
    },
    {
     "name": "stdout",
     "output_type": "stream",
     "text": [
      "[(0.82528, 0.7880978892179713, 0.6697364157966137, 0.7034767510063176)]\n"
     ]
    },
    {
     "name": "stderr",
     "output_type": "stream",
     "text": [
      "\n",
      "Train epoch=0:   5%|█                   | 434/8498 [1:15:00<23:13:39, 10.37s/it]\u001b[A"
     ]
    },
    {
     "name": "stdout",
     "output_type": "stream",
     "text": [
      "[(0.8497866666666667, 0.8633348687436677, 0.616058423293628, 0.7840002259768304)]\n"
     ]
    },
    {
     "name": "stderr",
     "output_type": "stream",
     "text": [
      "\n",
      "Train epoch=0:   5%|█                   | 435/8498 [1:15:10<23:13:28, 10.37s/it]\u001b[A"
     ]
    },
    {
     "name": "stdout",
     "output_type": "stream",
     "text": [
      "[(0.8394933333333333, 0.7905067644717323, 0.6821245550680688, 0.7226336720021089)]\n"
     ]
    },
    {
     "name": "stderr",
     "output_type": "stream",
     "text": [
      "\n",
      "Train epoch=0:   5%|█                   | 436/8498 [1:15:20<23:13:14, 10.37s/it]\u001b[A"
     ]
    },
    {
     "name": "stdout",
     "output_type": "stream",
     "text": [
      "[(0.8196142433234421, 0.4392279930606826, 0.3100109305408046, 0.6947208388807509)]\n"
     ]
    },
    {
     "name": "stderr",
     "output_type": "stream",
     "text": [
      "\n",
      "Train epoch=0:   5%|█                   | 437/8498 [1:15:31<23:13:04, 10.37s/it]\u001b[A"
     ]
    },
    {
     "name": "stdout",
     "output_type": "stream",
     "text": [
      "[(0.648688, 0.5169546008003053, 0.3627853736880664, 0.46949077999597955)]\n"
     ]
    },
    {
     "name": "stderr",
     "output_type": "stream",
     "text": [
      "\n",
      "Train epoch=0:   5%|█                   | 438/8498 [1:15:41<23:12:46, 10.37s/it]\u001b[A"
     ]
    },
    {
     "name": "stdout",
     "output_type": "stream",
     "text": [
      "[(0.8753093093093093, 0.6945822158122749, 0.5564058742940654, 0.7806984857102606)]\n"
     ]
    },
    {
     "name": "stderr",
     "output_type": "stream",
     "text": [
      "\n",
      "Train epoch=0:   5%|█                   | 439/8498 [1:15:47<23:11:27, 10.36s/it]\u001b[A"
     ]
    },
    {
     "name": "stdout",
     "output_type": "stream",
     "text": [
      "[(0.32044541010320476, 0.5430250783699059, 0.264987982757692, 0.19703320199357538)]\n"
     ]
    },
    {
     "name": "stderr",
     "output_type": "stream",
     "text": [
      "\n",
      "Train epoch=0:   5%|█                   | 440/8498 [1:15:58<23:11:25, 10.36s/it]\u001b[A"
     ]
    },
    {
     "name": "stdout",
     "output_type": "stream",
     "text": [
      "[(0.9087567567567567, 0.6444154475111432, 0.4084783477963623, 0.8837825769998905)]\n"
     ]
    },
    {
     "name": "stderr",
     "output_type": "stream",
     "text": [
      "\n",
      "Train epoch=0:   5%|█                   | 441/8498 [1:16:08<23:11:10, 10.36s/it]\u001b[A"
     ]
    },
    {
     "name": "stdout",
     "output_type": "stream",
     "text": [
      "[(0.9844586666666667, 0.4999918738386361, 0.32985405620810615, 0.9741988861023697)]\n"
     ]
    },
    {
     "name": "stderr",
     "output_type": "stream",
     "text": [
      "\n",
      "Train epoch=0:   5%|█                   | 442/8498 [1:16:19<23:10:59, 10.36s/it]\u001b[A"
     ]
    },
    {
     "name": "stdout",
     "output_type": "stream",
     "text": [
      "[(0.7669173333333333, 0.43198887259967794, 0.28799258173311865, 0.7669173333333333)]\n"
     ]
    },
    {
     "name": "stderr",
     "output_type": "stream",
     "text": [
      "\n",
      "Train epoch=0:   5%|█                   | 443/8498 [1:16:28<23:10:30, 10.36s/it]\u001b[A"
     ]
    },
    {
     "name": "stdout",
     "output_type": "stream",
     "text": [
      "[(0.7487207207207207, 0.3305991582665701, 0.18742557823456538, 0.5659599568777712)]\n"
     ]
    },
    {
     "name": "stderr",
     "output_type": "stream",
     "text": [
      "\n",
      "Train epoch=0:   5%|█                   | 444/8498 [1:16:39<23:10:25, 10.36s/it]\u001b[A"
     ]
    },
    {
     "name": "stdout",
     "output_type": "stream",
     "text": [
      "[(0.9290506666666667, 0.7338043853245306, 0.6952471275810528, 0.8637535007047531)]\n"
     ]
    },
    {
     "name": "stderr",
     "output_type": "stream",
     "text": [
      "\n",
      "Train epoch=0:   5%|█                   | 445/8498 [1:16:48<23:10:00, 10.36s/it]\u001b[A"
     ]
    },
    {
     "name": "stdout",
     "output_type": "stream",
     "text": [
      "[(0.43104819277108436, 0.5040452300413929, 0.15554740398888797, 0.3330508437194578)]\n"
     ]
    },
    {
     "name": "stderr",
     "output_type": "stream",
     "text": [
      "\n",
      "Train epoch=0:   5%|█                   | 446/8498 [1:16:59<23:09:51, 10.36s/it]\u001b[A"
     ]
    },
    {
     "name": "stdout",
     "output_type": "stream",
     "text": [
      "[(0.475216, 0.5020949084616085, 0.11994881419133538, 0.22717317788884359)]\n"
     ]
    },
    {
     "name": "stderr",
     "output_type": "stream",
     "text": [
      "\n",
      "Train epoch=0:   5%|█                   | 447/8498 [1:17:12<23:10:30, 10.36s/it]\u001b[A"
     ]
    },
    {
     "name": "stdout",
     "output_type": "stream",
     "text": [
      "[(0.982684, 0.5524594244571212, 0.5434660372144509, 0.9657949342614824)]\n"
     ]
    },
    {
     "name": "stderr",
     "output_type": "stream",
     "text": [
      "\n",
      "Train epoch=0:   5%|█                   | 448/8498 [1:17:23<23:10:30, 10.36s/it]\u001b[A"
     ]
    },
    {
     "name": "stdout",
     "output_type": "stream",
     "text": [
      "[(0.6448108108108108, 0.39102074756672756, 0.2494450509278307, 0.49076624921387924)]\n"
     ]
    },
    {
     "name": "stderr",
     "output_type": "stream",
     "text": [
      "\n",
      "Train epoch=0:   5%|█                   | 449/8498 [1:17:34<23:10:33, 10.37s/it]\u001b[A"
     ]
    },
    {
     "name": "stdout",
     "output_type": "stream",
     "text": [
      "[(0.8100819277108434, 0.8030052523658348, 0.4510975379488406, 0.6861870762731741)]\n"
     ]
    },
    {
     "name": "stderr",
     "output_type": "stream",
     "text": [
      "\n",
      "Train epoch=0:   5%|█                   | 450/8498 [1:17:45<23:10:40, 10.37s/it]\u001b[A"
     ]
    },
    {
     "name": "stdout",
     "output_type": "stream",
     "text": [
      "[(0.975088, 0.5, 0.487544, 0.9507966077439999)]\n"
     ]
    },
    {
     "name": "stderr",
     "output_type": "stream",
     "text": [
      "\n",
      "Train epoch=0:   5%|█                   | 451/8498 [1:17:55<23:10:15, 10.37s/it]\u001b[A"
     ]
    },
    {
     "name": "stdout",
     "output_type": "stream",
     "text": [
      "[(0.940748502994012, 0.6344595671681373, 0.38140803732433615, 0.9155418042543366)]\n"
     ]
    },
    {
     "name": "stderr",
     "output_type": "stream",
     "text": [
      "\n",
      "Train epoch=0:   5%|█                   | 452/8498 [1:18:05<23:10:00, 10.37s/it]\u001b[A"
     ]
    },
    {
     "name": "stdout",
     "output_type": "stream",
     "text": [
      "[(0.7961653333333333, 0.33976295988451094, 0.20552837134798044, 0.6395744904572919)]\n"
     ]
    },
    {
     "name": "stderr",
     "output_type": "stream",
     "text": [
      "\n",
      "Train epoch=0:   5%|█                   | 453/8498 [1:18:15<23:09:55, 10.37s/it]\u001b[A"
     ]
    },
    {
     "name": "stdout",
     "output_type": "stream",
     "text": [
      "[(0.8541173333333333, 0.4787424218871444, 0.2908786097140563, 0.7784283920568581)]\n"
     ]
    },
    {
     "name": "stderr",
     "output_type": "stream",
     "text": [
      "\n",
      "Train epoch=0:   5%|█                   | 454/8498 [1:18:26<23:09:48, 10.37s/it]\u001b[A"
     ]
    },
    {
     "name": "stdout",
     "output_type": "stream",
     "text": [
      "[(0.9763733333333333, 0.5, 0.48818666666666666, 0.9533048860444444)]\n"
     ]
    },
    {
     "name": "stderr",
     "output_type": "stream",
     "text": [
      "\n",
      "Train epoch=0:   5%|█                   | 455/8498 [1:18:37<23:09:44, 10.37s/it]\u001b[A"
     ]
    },
    {
     "name": "stdout",
     "output_type": "stream",
     "text": [
      "[(0.6276936936936937, 0.25, 0.12655114792211566, 0.3971767874020489)]\n"
     ]
    },
    {
     "name": "stderr",
     "output_type": "stream",
     "text": [
      "\n",
      "Train epoch=0:   5%|█                   | 456/8498 [1:18:47<23:09:38, 10.37s/it]\u001b[A"
     ]
    },
    {
     "name": "stdout",
     "output_type": "stream",
     "text": [
      "[(0.988432, 0.4999946043068423, 0.3310008197731425, 0.9815259988962531)]\n"
     ]
    },
    {
     "name": "stderr",
     "output_type": "stream",
     "text": [
      "\n",
      "Train epoch=0:   5%|█                   | 457/8498 [1:18:57<23:09:10, 10.37s/it]\u001b[A"
     ]
    },
    {
     "name": "stdout",
     "output_type": "stream",
     "text": [
      "[(0.2103063063063063, 0.4905713244977444, 0.10753110835411318, 0.09219646188708577)]\n"
     ]
    },
    {
     "name": "stderr",
     "output_type": "stream",
     "text": [
      "\n",
      "Train epoch=0:   5%|█                   | 458/8498 [1:19:07<23:08:57, 10.37s/it]\u001b[A"
     ]
    },
    {
     "name": "stdout",
     "output_type": "stream",
     "text": [
      "[(0.6748746666666666, 0.583073616008618, 0.24853163920038135, 0.49018913596532976)]\n"
     ]
    },
    {
     "name": "stderr",
     "output_type": "stream",
     "text": [
      "\n",
      "Train epoch=0:   5%|█                   | 459/8498 [1:19:17<23:08:41, 10.36s/it]\u001b[A"
     ]
    },
    {
     "name": "stdout",
     "output_type": "stream",
     "text": [
      "[(0.68712, 0.3316600378422211, 0.21119383901172398, 0.5833905972145723)]\n"
     ]
    },
    {
     "name": "stderr",
     "output_type": "stream",
     "text": [
      "\n",
      "Train epoch=0:   5%|█                   | 460/8498 [1:19:28<23:08:46, 10.37s/it]\u001b[A"
     ]
    },
    {
     "name": "stdout",
     "output_type": "stream",
     "text": [
      "[(0.6244853333333333, 0.5083377550418815, 0.2955993071728209, 0.48861662023051056)]\n"
     ]
    },
    {
     "name": "stderr",
     "output_type": "stream",
     "text": [
      "\n",
      "Train epoch=0:   5%|█                   | 461/8498 [1:19:38<23:08:24, 10.37s/it]\u001b[A"
     ]
    },
    {
     "name": "stdout",
     "output_type": "stream",
     "text": [
      "[(0.718990990990991, 0.4999916467581068, 0.20486422474279026, 0.5891919711917932)]\n"
     ]
    },
    {
     "name": "stderr",
     "output_type": "stream",
     "text": [
      "\n",
      "Train epoch=0:   5%|█                   | 462/8498 [1:19:48<23:08:13, 10.37s/it]\u001b[A"
     ]
    },
    {
     "name": "stdout",
     "output_type": "stream",
     "text": [
      "[(0.718752, 0.7833238368303548, 0.5607076647633602, 0.5640656713486305)]\n"
     ]
    },
    {
     "name": "stderr",
     "output_type": "stream",
     "text": [
      "\n",
      "Train epoch=0:   5%|█                   | 463/8498 [1:19:59<23:08:03, 10.37s/it]\u001b[A"
     ]
    },
    {
     "name": "stdout",
     "output_type": "stream",
     "text": [
      "[(0.8039306666666667, 0.4442221095812901, 0.29008692773855094, 0.7874769361253361)]\n"
     ]
    },
    {
     "name": "stderr",
     "output_type": "stream",
     "text": [
      "\n",
      "Train epoch=0:   5%|█                   | 464/8498 [1:20:11<23:08:28, 10.37s/it]\u001b[A"
     ]
    },
    {
     "name": "stdout",
     "output_type": "stream",
     "text": [
      "[(0.7414779116465864, 0.3282135517773464, 0.23156072844027492, 0.6975018324237602)]\n"
     ]
    },
    {
     "name": "stderr",
     "output_type": "stream",
     "text": [
      "\n",
      "Train epoch=0:   5%|█                   | 465/8498 [1:20:22<23:08:24, 10.37s/it]\u001b[A"
     ]
    },
    {
     "name": "stdout",
     "output_type": "stream",
     "text": [
      "[(0.543584, 0.5691322495878637, 0.36723100188710134, 0.39006153001008176)]\n"
     ]
    },
    {
     "name": "stderr",
     "output_type": "stream",
     "text": [
      "\n",
      "Train epoch=0:   5%|█                   | 466/8498 [1:20:32<23:08:13, 10.37s/it]\u001b[A"
     ]
    },
    {
     "name": "stdout",
     "output_type": "stream",
     "text": [
      "[(0.9212597014925373, 0.9267803954861908, 0.808575814644982, 0.862426856556111)]\n"
     ]
    },
    {
     "name": "stderr",
     "output_type": "stream",
     "text": [
      "\n",
      "Train epoch=0:   5%|█                   | 467/8498 [1:20:43<23:08:15, 10.37s/it]\u001b[A"
     ]
    },
    {
     "name": "stdout",
     "output_type": "stream",
     "text": [
      "[(0.6583413333333333, 0.4356567556237651, 0.3162640828297707, 0.45247742414190967)]\n"
     ]
    },
    {
     "name": "stderr",
     "output_type": "stream",
     "text": [
      "\n",
      "Train epoch=0:   6%|█                   | 468/8498 [1:20:54<23:08:06, 10.37s/it]\u001b[A"
     ]
    },
    {
     "name": "stdout",
     "output_type": "stream",
     "text": [
      "[(0.9013066666666667, 0.5, 0.45065333333333335, 0.8123537073777778)]\n"
     ]
    },
    {
     "name": "stderr",
     "output_type": "stream",
     "text": [
      "\n",
      "Train epoch=0:   6%|█                   | 469/8498 [1:21:05<23:08:08, 10.37s/it]\u001b[A"
     ]
    },
    {
     "name": "stdout",
     "output_type": "stream",
     "text": [
      "[(0.6453093093093093, 0.5, 0.21992561616384912, 0.42576014239835325)]\n"
     ]
    },
    {
     "name": "stderr",
     "output_type": "stream",
     "text": [
      "\n",
      "Train epoch=0:   6%|█                   | 470/8498 [1:21:15<23:07:55, 10.37s/it]\u001b[A"
     ]
    },
    {
     "name": "stdout",
     "output_type": "stream",
     "text": [
      "[(0.7395573333333333, 0.7790521635669945, 0.5835520391811664, 0.5947401367809917)]\n"
     ]
    },
    {
     "name": "stderr",
     "output_type": "stream",
     "text": [
      "\n",
      "Train epoch=0:   6%|█                   | 471/8498 [1:21:25<23:07:40, 10.37s/it]\u001b[A"
     ]
    },
    {
     "name": "stdout",
     "output_type": "stream",
     "text": [
      "[(0.6823573333333334, 0.7117873077630343, 0.5046074281234197, 0.49633300556347903)]\n"
     ]
    },
    {
     "name": "stderr",
     "output_type": "stream",
     "text": [
      "\n",
      "Train epoch=0:   6%|█                   | 472/8498 [1:21:35<23:07:31, 10.37s/it]\u001b[A"
     ]
    },
    {
     "name": "stdout",
     "output_type": "stream",
     "text": [
      "[(0.6011946666666667, 0.6430024157587679, 0.40568910607975145, 0.39167296047528677)]\n"
     ]
    },
    {
     "name": "stderr",
     "output_type": "stream",
     "text": [
      "\n",
      "Train epoch=0:   6%|█                   | 473/8498 [1:21:46<23:07:23, 10.37s/it]\u001b[A"
     ]
    },
    {
     "name": "stdout",
     "output_type": "stream",
     "text": [
      "[(0.773392, 0.5005055017398664, 0.3871755113954141, 0.5981469649039513)]\n"
     ]
    },
    {
     "name": "stderr",
     "output_type": "stream",
     "text": [
      "\n",
      "Train epoch=0:   6%|█                   | 474/8498 [1:21:55<23:06:45, 10.37s/it]\u001b[A"
     ]
    },
    {
     "name": "stdout",
     "output_type": "stream",
     "text": [
      "[(0.994, 0.5, 0.497, 0.988036)]\n"
     ]
    },
    {
     "name": "stderr",
     "output_type": "stream",
     "text": [
      "\n",
      "Train epoch=0:   6%|█                   | 475/8498 [1:22:05<23:06:39, 10.37s/it]\u001b[A"
     ]
    },
    {
     "name": "stdout",
     "output_type": "stream",
     "text": [
      "[(0.669632, 0.4559501790306391, 0.2142784760290569, 0.510880774019339)]\n"
     ]
    },
    {
     "name": "stderr",
     "output_type": "stream",
     "text": [
      "\n",
      "Train epoch=0:   6%|█                   | 476/8498 [1:22:15<23:06:23, 10.37s/it]\u001b[A"
     ]
    },
    {
     "name": "stdout",
     "output_type": "stream",
     "text": [
      "[(0.893392, 0.5, 0.446696, 0.7981492656639999)]\n"
     ]
    },
    {
     "name": "stderr",
     "output_type": "stream",
     "text": [
      "\n",
      "Train epoch=0:   6%|█                   | 477/8498 [1:22:25<23:06:07, 10.37s/it]\u001b[A"
     ]
    },
    {
     "name": "stdout",
     "output_type": "stream",
     "text": [
      "[(0.9893949579831933, 0.5, 0.49469747899159666, 0.9789023828825649)]\n"
     ]
    },
    {
     "name": "stderr",
     "output_type": "stream",
     "text": [
      "\n",
      "Train epoch=0:   6%|█                   | 478/8498 [1:22:36<23:06:09, 10.37s/it]\u001b[A"
     ]
    },
    {
     "name": "stdout",
     "output_type": "stream",
     "text": [
      "[(0.7489417721518987, 0.7806465867132779, 0.5960847094707242, 0.5913374989939156)]\n"
     ]
    },
    {
     "name": "stderr",
     "output_type": "stream",
     "text": [
      "\n",
      "Train epoch=0:   6%|█▏                  | 479/8498 [1:22:48<23:06:21, 10.37s/it]\u001b[A"
     ]
    },
    {
     "name": "stdout",
     "output_type": "stream",
     "text": [
      "[(0.3206773333333333, 0.6413886886796702, 0.09071746348426511, 0.2720669667089709)]\n"
     ]
    },
    {
     "name": "stderr",
     "output_type": "stream",
     "text": [
      "\n",
      "Train epoch=0:   6%|█▏                  | 480/8498 [1:22:59<23:06:15, 10.37s/it]\u001b[A"
     ]
    },
    {
     "name": "stdout",
     "output_type": "stream",
     "text": [
      "[(0.8685386666666667, 0.4994571484652943, 0.22791281566116003, 0.7926649709142954)]\n"
     ]
    },
    {
     "name": "stderr",
     "output_type": "stream",
     "text": [
      "\n",
      "Train epoch=0:   6%|█▏                  | 481/8498 [1:23:10<23:06:10, 10.37s/it]\u001b[A"
     ]
    },
    {
     "name": "stdout",
     "output_type": "stream",
     "text": [
      "[(0.7988010335917313, 0.7317833867662646, 0.6112349761882084, 0.6496146078822569)]\n"
     ]
    },
    {
     "name": "stderr",
     "output_type": "stream",
     "text": [
      "\n",
      "Train epoch=0:   6%|█▏                  | 482/8498 [1:23:19<23:05:47, 10.37s/it]\u001b[A"
     ]
    },
    {
     "name": "stdout",
     "output_type": "stream",
     "text": [
      "[(0.8077777777777778, 0.7309073875390949, 0.6144612291101798, 0.6753373099544467)]\n"
     ]
    },
    {
     "name": "stderr",
     "output_type": "stream",
     "text": [
      "\n",
      "Train epoch=0:   6%|█▏                  | 483/8498 [1:23:31<23:05:56, 10.38s/it]\u001b[A"
     ]
    },
    {
     "name": "stdout",
     "output_type": "stream",
     "text": [
      "[(0.9080586666666667, 0.8309835218061576, 0.5294156417764194, 0.8729736174354144)]\n"
     ]
    },
    {
     "name": "stderr",
     "output_type": "stream",
     "text": [
      "\n",
      "Train epoch=0:   6%|█▏                  | 484/8498 [1:23:41<23:05:45, 10.38s/it]\u001b[A"
     ]
    },
    {
     "name": "stdout",
     "output_type": "stream",
     "text": [
      "[(0.6846453333333333, 0.43916647210080034, 0.32782581823433654, 0.47933167509895136)]\n"
     ]
    },
    {
     "name": "stderr",
     "output_type": "stream",
     "text": [
      "\n",
      "Train epoch=0:   6%|█▏                  | 485/8498 [1:23:51<23:05:28, 10.37s/it]\u001b[A"
     ]
    },
    {
     "name": "stdout",
     "output_type": "stream",
     "text": [
      "[(0.6437653333333333, 0.2761798396856654, 0.1864534404680574, 0.423253069705569)]\n"
     ]
    },
    {
     "name": "stderr",
     "output_type": "stream",
     "text": [
      "\n",
      "Train epoch=0:   6%|█▏                  | 486/8498 [1:24:01<23:05:18, 10.37s/it]\u001b[A"
     ]
    },
    {
     "name": "stdout",
     "output_type": "stream",
     "text": [
      "[(0.8931306666666666, 0.6010032835137572, 0.4921491503877034, 0.8237777121577563)]\n"
     ]
    },
    {
     "name": "stderr",
     "output_type": "stream",
     "text": [
      "\n",
      "Train epoch=0:   6%|█▏                  | 487/8498 [1:24:10<23:04:36, 10.37s/it]\u001b[A"
     ]
    },
    {
     "name": "stdout",
     "output_type": "stream",
     "text": [
      "[(0.5140811808118081, 0.5637341931069815, 0.20152037516225282, 0.2823977647367496)]\n"
     ]
    },
    {
     "name": "stderr",
     "output_type": "stream",
     "text": [
      "\n",
      "Train epoch=0:   6%|█▏                  | 488/8498 [1:24:21<23:04:41, 10.37s/it]\u001b[A"
     ]
    },
    {
     "name": "stdout",
     "output_type": "stream",
     "text": [
      "[(0.4681706666666667, 0.5, 0.17266291765751837, 0.24250713980499644)]\n"
     ]
    },
    {
     "name": "stderr",
     "output_type": "stream",
     "text": [
      "\n",
      "Train epoch=0:   6%|█▏                  | 489/8498 [1:24:30<23:03:58, 10.37s/it]\u001b[A"
     ]
    },
    {
     "name": "stdout",
     "output_type": "stream",
     "text": [
      "[(0.8702638424377555, 0.5, 0.4351319212188777, 0.7573591554545265)]\n"
     ]
    },
    {
     "name": "stderr",
     "output_type": "stream",
     "text": [
      "\n",
      "Train epoch=0:   6%|█▏                  | 490/8498 [1:24:40<23:03:49, 10.37s/it]\u001b[A"
     ]
    },
    {
     "name": "stdout",
     "output_type": "stream",
     "text": [
      "[(0.7212266666666667, 0.7011841703299817, 0.5471734679607043, 0.5583191673239465)]\n"
     ]
    },
    {
     "name": "stderr",
     "output_type": "stream",
     "text": [
      "\n",
      "Train epoch=0:   6%|█▏                  | 491/8498 [1:24:50<23:03:39, 10.37s/it]\u001b[A"
     ]
    },
    {
     "name": "stdout",
     "output_type": "stream",
     "text": [
      "[(0.791344, 0.6303361868586654, 0.5177234964507348, 0.6296826270595143)]\n"
     ]
    },
    {
     "name": "stderr",
     "output_type": "stream",
     "text": [
      "\n",
      "Train epoch=0:   6%|█▏                  | 492/8498 [1:25:02<23:03:50, 10.37s/it]\u001b[A"
     ]
    },
    {
     "name": "stdout",
     "output_type": "stream",
     "text": [
      "[(0.6228, 0.5, 0.3114, 0.38787984000000003)]\n"
     ]
    },
    {
     "name": "stderr",
     "output_type": "stream",
     "text": [
      "\n",
      "Train epoch=0:   6%|█▏                  | 493/8498 [1:25:11<23:03:24, 10.37s/it]\u001b[A"
     ]
    },
    {
     "name": "stdout",
     "output_type": "stream",
     "text": [
      "[(0.9050630630630631, 0.8210096899545385, 0.7627739278450973, 0.8214810021313533)]\n"
     ]
    },
    {
     "name": "stderr",
     "output_type": "stream",
     "text": [
      "\n",
      "Train epoch=0:   6%|█▏                  | 494/8498 [1:25:22<23:03:21, 10.37s/it]\u001b[A"
     ]
    },
    {
     "name": "stdout",
     "output_type": "stream",
     "text": [
      "[(0.8045333333333333, 0.49952977641199536, 0.26827077831426005, 0.6481078617476281)]\n"
     ]
    },
    {
     "name": "stderr",
     "output_type": "stream",
     "text": [
      "\n",
      "Train epoch=0:   6%|█▏                  | 495/8498 [1:25:34<23:03:31, 10.37s/it]\u001b[A"
     ]
    },
    {
     "name": "stdout",
     "output_type": "stream",
     "text": [
      "[(0.5659786666666666, 0.4518093309562203, 0.2899907925158611, 0.3431722516173256)]\n"
     ]
    },
    {
     "name": "stderr",
     "output_type": "stream",
     "text": [
      "\n",
      "Train epoch=0:   6%|█▏                  | 496/8498 [1:25:45<23:03:25, 10.37s/it]\u001b[A"
     ]
    },
    {
     "name": "stdout",
     "output_type": "stream",
     "text": [
      "[(0.8663146666666667, 0.7502715790559229, 0.27715734722888696, 0.8230901818112881)]\n"
     ]
    },
    {
     "name": "stderr",
     "output_type": "stream",
     "text": [
      "\n",
      "Train epoch=0:   6%|█▏                  | 497/8498 [1:25:56<23:03:33, 10.38s/it]\u001b[A"
     ]
    },
    {
     "name": "stdout",
     "output_type": "stream",
     "text": [
      "[(0.27886893203883495, 0.5, 0.09665451902401599, 0.08086182749086378)]\n"
     ]
    },
    {
     "name": "stderr",
     "output_type": "stream",
     "text": [
      "\n",
      "Train epoch=0:   6%|█▏                  | 498/8498 [1:26:07<23:03:27, 10.38s/it]\u001b[A"
     ]
    },
    {
     "name": "stdout",
     "output_type": "stream",
     "text": [
      "[(0.597376, 0.5705123584774017, 0.3055813751483412, 0.4781364759218538)]\n"
     ]
    },
    {
     "name": "stderr",
     "output_type": "stream",
     "text": [
      "\n",
      "Train epoch=0:   6%|█▏                  | 499/8498 [1:26:17<23:03:10, 10.38s/it]\u001b[A"
     ]
    },
    {
     "name": "stdout",
     "output_type": "stream",
     "text": [
      "[(0.9976693333333333, 0.5, 0.49883466666666665, 0.9953440986737777)]\n"
     ]
    },
    {
     "name": "stderr",
     "output_type": "stream",
     "text": [
      "\n",
      "Train epoch=0:   6%|█▏                  | 500/8498 [1:26:27<23:02:57, 10.37s/it]\u001b[A"
     ]
    },
    {
     "name": "stdout",
     "output_type": "stream",
     "text": [
      "[(0.6853813333333333, 0.3333333333333333, 0.22846044444444444, 0.4697475720817777)]\n"
     ]
    },
    {
     "name": "stderr",
     "output_type": "stream",
     "text": [
      "\n",
      "Train epoch=0:   6%|█▏                  | 501/8498 [1:26:37<23:02:46, 10.37s/it]\u001b[A"
     ]
    },
    {
     "name": "stdout",
     "output_type": "stream",
     "text": [
      "[(0.6873968253968255, 0.47435995122141805, 0.35499958041800644, 0.48826477131521584)]\n"
     ]
    },
    {
     "name": "stderr",
     "output_type": "stream",
     "text": [
      "\n",
      "Train epoch=0:   6%|█▏                  | 502/8498 [1:26:48<23:02:37, 10.37s/it]\u001b[A"
     ]
    },
    {
     "name": "stdout",
     "output_type": "stream",
     "text": [
      "[(0.9197173333333334, 0.5695694057191862, 0.26371951405702304, 0.8984952636120521)]\n"
     ]
    },
    {
     "name": "stderr",
     "output_type": "stream",
     "text": [
      "\n",
      "Train epoch=0:   6%|█▏                  | 503/8498 [1:26:55<23:01:37, 10.37s/it]\u001b[A"
     ]
    },
    {
     "name": "stdout",
     "output_type": "stream",
     "text": [
      "[(0.902018779342723, 0.5, 0.4510093896713615, 0.813637878286936)]\n"
     ]
    },
    {
     "name": "stderr",
     "output_type": "stream",
     "text": [
      "\n",
      "Train epoch=0:   6%|█▏                  | 504/8498 [1:27:05<23:01:24, 10.37s/it]\u001b[A"
     ]
    },
    {
     "name": "stdout",
     "output_type": "stream",
     "text": [
      "[(0.284176, 0.5, 0.05731727650694105, 0.0814409718431824)]\n"
     ]
    },
    {
     "name": "stderr",
     "output_type": "stream",
     "text": [
      "\n",
      "Train epoch=0:   6%|█▏                  | 505/8498 [1:27:15<23:01:13, 10.37s/it]\u001b[A"
     ]
    },
    {
     "name": "stdout",
     "output_type": "stream",
     "text": [
      "[(0.7446437994722955, 0.5, 0.37232189973614777, 0.5544943880925363)]\n"
     ]
    },
    {
     "name": "stderr",
     "output_type": "stream",
     "text": [
      "\n",
      "Train epoch=0:   6%|█▏                  | 506/8498 [1:27:26<23:01:01, 10.37s/it]\u001b[A"
     ]
    },
    {
     "name": "stdout",
     "output_type": "stream",
     "text": [
      "[(0.9708426666666666, 0.9481143615901721, 0.8976629889298262, 0.9448679307835014)]\n"
     ]
    },
    {
     "name": "stderr",
     "output_type": "stream",
     "text": [
      "\n",
      "Train epoch=0:   6%|█▏                  | 507/8498 [1:27:35<23:00:31, 10.37s/it]\u001b[A"
     ]
    },
    {
     "name": "stdout",
     "output_type": "stream",
     "text": [
      "[(0.757583596214511, 0.36445399274348234, 0.2950852992563956, 0.5891594438514433)]\n"
     ]
    },
    {
     "name": "stderr",
     "output_type": "stream",
     "text": [
      "\n",
      "Train epoch=0:   6%|█▏                  | 508/8498 [1:27:45<23:00:19, 10.37s/it]\u001b[A"
     ]
    },
    {
     "name": "stdout",
     "output_type": "stream",
     "text": [
      "[(0.967808, 0.5, 0.483904, 0.936652324864)]\n"
     ]
    },
    {
     "name": "stderr",
     "output_type": "stream",
     "text": [
      "\n",
      "Train epoch=0:   6%|█▏                  | 509/8498 [1:27:55<23:00:03, 10.36s/it]\u001b[A"
     ]
    },
    {
     "name": "stdout",
     "output_type": "stream",
     "text": [
      "[(0.958544, 0.572739560044855, 0.36795762251578606, 0.9196397024952532)]\n"
     ]
    },
    {
     "name": "stderr",
     "output_type": "stream",
     "text": [
      "\n",
      "Train epoch=0:   6%|█▏                  | 510/8498 [1:28:05<22:59:49, 10.36s/it]\u001b[A"
     ]
    },
    {
     "name": "stdout",
     "output_type": "stream",
     "text": [
      "[(0.9864853333333333, 0.4999783753392369, 0.3288284444444444, 0.9731954029226666)]\n"
     ]
    },
    {
     "name": "stderr",
     "output_type": "stream",
     "text": [
      "\n",
      "Train epoch=0:   6%|█▏                  | 511/8498 [1:28:16<22:59:41, 10.36s/it]\u001b[A"
     ]
    },
    {
     "name": "stdout",
     "output_type": "stream",
     "text": [
      "[(0.879904, 0.7209169378984787, 0.3298293573199876, 0.7856268746906072)]\n"
     ]
    },
    {
     "name": "stderr",
     "output_type": "stream",
     "text": [
      "\n",
      "Train epoch=0:   6%|█▏                  | 512/8498 [1:28:26<22:59:33, 10.36s/it]\u001b[A"
     ]
    },
    {
     "name": "stdout",
     "output_type": "stream",
     "text": [
      "[(0.9907893333333333, 0.4650316430244957, 0.43212836441188446, 0.9830545746929757)]\n"
     ]
    },
    {
     "name": "stderr",
     "output_type": "stream",
     "text": [
      "\n",
      "Train epoch=0:   6%|█▏                  | 513/8498 [1:28:37<22:59:23, 10.36s/it]\u001b[A"
     ]
    },
    {
     "name": "stdout",
     "output_type": "stream",
     "text": [
      "[(0.8079893333333333, 0.5514230246371333, 0.3533036384151019, 0.6646529559682752)]\n"
     ]
    },
    {
     "name": "stderr",
     "output_type": "stream",
     "text": [
      "\n",
      "Train epoch=0:   6%|█▏                  | 514/8498 [1:28:47<22:59:05, 10.36s/it]\u001b[A"
     ]
    },
    {
     "name": "stdout",
     "output_type": "stream",
     "text": [
      "[(0.8308, 0.8046110674921002, 0.6833330976102275, 0.7136547001521889)]\n"
     ]
    },
    {
     "name": "stderr",
     "output_type": "stream",
     "text": [
      "\n",
      "Train epoch=0:   6%|█▏                  | 515/8498 [1:28:57<22:58:57, 10.36s/it]\u001b[A"
     ]
    },
    {
     "name": "stdout",
     "output_type": "stream",
     "text": [
      "[(0.7776053333333334, 0.5520828621658578, 0.4462468042501597, 0.6212721679302975)]\n"
     ]
    },
    {
     "name": "stderr",
     "output_type": "stream",
     "text": [
      "\n",
      "Train epoch=0:   6%|█▏                  | 516/8498 [1:29:07<22:58:46, 10.36s/it]\u001b[A"
     ]
    },
    {
     "name": "stdout",
     "output_type": "stream",
     "text": [
      "[(0.775664, 0.6909322439471215, 0.40829177037009146, 0.6777135666633561)]\n"
     ]
    },
    {
     "name": "stderr",
     "output_type": "stream",
     "text": [
      "\n",
      "Train epoch=0:   6%|█▏                  | 517/8498 [1:29:17<22:58:22, 10.36s/it]\u001b[A"
     ]
    },
    {
     "name": "stdout",
     "output_type": "stream",
     "text": [
      "[(0.8206126126126126, 0.8276823737359154, 0.6950939895701846, 0.6941526102830158)]\n"
     ]
    },
    {
     "name": "stderr",
     "output_type": "stream",
     "text": [
      "\n",
      "Train epoch=0:   6%|█▏                  | 518/8498 [1:29:29<22:58:34, 10.37s/it]\u001b[A"
     ]
    },
    {
     "name": "stdout",
     "output_type": "stream",
     "text": [
      "[(0.8131306666666667, 0.5040484393127428, 0.32203810090988727, 0.6710698503343437)]\n"
     ]
    },
    {
     "name": "stderr",
     "output_type": "stream",
     "text": [
      "\n",
      "Train epoch=0:   6%|█▏                  | 519/8498 [1:29:39<22:58:27, 10.37s/it]\u001b[A"
     ]
    },
    {
     "name": "stdout",
     "output_type": "stream",
     "text": [
      "[(0.8486453333333334, 0.3907726514730406, 0.3402375445406902, 0.7202368394607973)]\n"
     ]
    },
    {
     "name": "stderr",
     "output_type": "stream",
     "text": [
      "\n",
      "Train epoch=0:   6%|█▏                  | 520/8498 [1:29:49<22:58:14, 10.37s/it]\u001b[A"
     ]
    },
    {
     "name": "stdout",
     "output_type": "stream",
     "text": [
      "[(0.993536, 0.5, 0.496768, 0.987113783296)]\n"
     ]
    },
    {
     "name": "stderr",
     "output_type": "stream",
     "text": [
      "\n",
      "Train epoch=0:   6%|█▏                  | 521/8498 [1:29:59<22:57:52, 10.36s/it]\u001b[A"
     ]
    },
    {
     "name": "stdout",
     "output_type": "stream",
     "text": [
      "[(0.6595075075075075, 0.5, 0.32975375375375376, 0.4349501524587651)]\n"
     ]
    },
    {
     "name": "stderr",
     "output_type": "stream",
     "text": [
      "\n",
      "Train epoch=0:   6%|█▏                  | 522/8498 [1:30:09<22:57:33, 10.36s/it]\u001b[A"
     ]
    },
    {
     "name": "stdout",
     "output_type": "stream",
     "text": [
      "[(0.7811601208459215, 0.48316283034953117, 0.4092746316931384, 0.6108292950864755)]\n"
     ]
    },
    {
     "name": "stderr",
     "output_type": "stream",
     "text": [
      "\n",
      "Train epoch=0:   6%|█▏                  | 523/8498 [1:30:20<22:57:32, 10.36s/it]\u001b[A"
     ]
    },
    {
     "name": "stdout",
     "output_type": "stream",
     "text": [
      "[(0.832224, 0.49999679575501627, 0.2814945502170172, 0.7028040655922243)]\n"
     ]
    },
    {
     "name": "stderr",
     "output_type": "stream",
     "text": [
      "\n",
      "Train epoch=0:   6%|█▏                  | 524/8498 [1:30:30<22:57:16, 10.36s/it]\u001b[A"
     ]
    },
    {
     "name": "stdout",
     "output_type": "stream",
     "text": [
      "[(0.569248, 0.5, 0.19081893708199024, 0.3258698948881463)]\n"
     ]
    },
    {
     "name": "stderr",
     "output_type": "stream",
     "text": [
      "\n",
      "Train epoch=0:   6%|█▏                  | 525/8498 [1:30:40<22:57:02, 10.36s/it]\u001b[A"
     ]
    },
    {
     "name": "stdout",
     "output_type": "stream",
     "text": [
      "[(0.8748373333333334, 0.5, 0.2919004528912972, 0.7660962414186442)]\n"
     ]
    },
    {
     "name": "stderr",
     "output_type": "stream",
     "text": [
      "\n",
      "Train epoch=0:   6%|█▏                  | 526/8498 [1:30:50<22:56:46, 10.36s/it]\u001b[A"
     ]
    },
    {
     "name": "stdout",
     "output_type": "stream",
     "text": [
      "[(0.7780840991367307, 0.7926172869980195, 0.6358421329412725, 0.6339647459475704)]\n"
     ]
    },
    {
     "name": "stderr",
     "output_type": "stream",
     "text": [
      "\n",
      "Train epoch=0:   6%|█▏                  | 527/8498 [1:30:59<22:56:21, 10.36s/it]\u001b[A"
     ]
    },
    {
     "name": "stdout",
     "output_type": "stream",
     "text": [
      "[(0.9516144578313253, 0.7315097343153862, 0.706215414054817, 0.9056836881890654)]\n"
     ]
    },
    {
     "name": "stderr",
     "output_type": "stream",
     "text": [
      "\n",
      "Train epoch=0:   6%|█▏                  | 528/8498 [1:31:13<22:57:01, 10.37s/it]\u001b[A"
     ]
    },
    {
     "name": "stdout",
     "output_type": "stream",
     "text": [
      "[(0.5867615230460922, 0.499924873138049, 0.20362697111191785, 0.3584952803595499)]\n"
     ]
    },
    {
     "name": "stderr",
     "output_type": "stream",
     "text": [
      "\n",
      "Train epoch=0:   6%|█▏                  | 529/8498 [1:31:23<22:56:48, 10.37s/it]\u001b[A"
     ]
    },
    {
     "name": "stdout",
     "output_type": "stream",
     "text": [
      "[(0.579008, 0.4889257697196958, 0.22190783263402403, 0.43028912773141204)]\n"
     ]
    },
    {
     "name": "stderr",
     "output_type": "stream",
     "text": [
      "\n",
      "Train epoch=0:   6%|█▏                  | 530/8498 [1:31:33<22:56:24, 10.36s/it]\u001b[A"
     ]
    },
    {
     "name": "stdout",
     "output_type": "stream",
     "text": [
      "[(0.791987987987988, 0.5, 0.395993993993994, 0.6272449731172614)]\n"
     ]
    },
    {
     "name": "stderr",
     "output_type": "stream",
     "text": [
      "\n",
      "Train epoch=0:   6%|█▏                  | 531/8498 [1:31:43<22:56:16, 10.36s/it]\u001b[A"
     ]
    },
    {
     "name": "stdout",
     "output_type": "stream",
     "text": [
      "[(0.623696, 0.7678923148595839, 0.14399899520811674, 0.5273499284290384)]\n"
     ]
    },
    {
     "name": "stderr",
     "output_type": "stream",
     "text": [
      "\n",
      "Train epoch=0:   6%|█▎                  | 532/8498 [1:31:53<22:55:51, 10.36s/it]\u001b[A"
     ]
    },
    {
     "name": "stdout",
     "output_type": "stream",
     "text": [
      "[(0.9429938650306748, 0.49987967088360596, 0.3263813685645488, 0.9235491443550287)]\n"
     ]
    },
    {
     "name": "stderr",
     "output_type": "stream",
     "text": [
      "\n",
      "Train epoch=0:   6%|█▎                  | 533/8498 [1:32:04<22:55:59, 10.37s/it]\u001b[A"
     ]
    },
    {
     "name": "stdout",
     "output_type": "stream",
     "text": [
      "[(0.9499946666666667, 0.8812039011137707, 0.505810044320879, 0.9170650461486055)]\n"
     ]
    },
    {
     "name": "stderr",
     "output_type": "stream",
     "text": [
      "\n",
      "Train epoch=0:   6%|█▎                  | 534/8498 [1:32:15<22:55:53, 10.37s/it]\u001b[A"
     ]
    },
    {
     "name": "stdout",
     "output_type": "stream",
     "text": [
      "[(0.621984, 0.7295214688813279, 0.4370467433277182, 0.48759033769967314)]\n"
     ]
    },
    {
     "name": "stderr",
     "output_type": "stream",
     "text": [
      "\n",
      "Train epoch=0:   6%|█▎                  | 535/8498 [1:32:25<22:55:45, 10.37s/it]\u001b[A"
     ]
    },
    {
     "name": "stdout",
     "output_type": "stream",
     "text": [
      "[(0.24303048780487804, 0.4094802438257474, 0.17674689865728807, 0.12101508844114256)]\n"
     ]
    },
    {
     "name": "stderr",
     "output_type": "stream",
     "text": [
      "\n",
      "Train epoch=0:   6%|█▎                  | 536/8498 [1:32:36<22:55:33, 10.37s/it]\u001b[A"
     ]
    },
    {
     "name": "stdout",
     "output_type": "stream",
     "text": [
      "[(0.8870506666666667, 0.8886930336832259, 0.7970232230026337, 0.7969878797265386)]\n"
     ]
    },
    {
     "name": "stderr",
     "output_type": "stream",
     "text": [
      "\n",
      "Train epoch=0:   6%|█▎                  | 537/8498 [1:32:46<22:55:23, 10.37s/it]\u001b[A"
     ]
    },
    {
     "name": "stdout",
     "output_type": "stream",
     "text": [
      "[(0.7885706666666666, 0.8041972862265375, 0.650180385725974, 0.6484072031710213)]\n"
     ]
    },
    {
     "name": "stderr",
     "output_type": "stream",
     "text": [
      "\n",
      "Train epoch=0:   6%|█▎                  | 538/8498 [1:32:59<22:55:46, 10.37s/it]\u001b[A"
     ]
    },
    {
     "name": "stdout",
     "output_type": "stream",
     "text": [
      "[(0.9019718875502009, 0.5, 0.3009388973081907, 0.8143152757270344)]\n"
     ]
    },
    {
     "name": "stderr",
     "output_type": "stream",
     "text": [
      "\n",
      "Train epoch=0:   6%|█▎                  | 539/8498 [1:33:10<22:55:52, 10.37s/it]\u001b[A"
     ]
    },
    {
     "name": "stdout",
     "output_type": "stream",
     "text": [
      "[(0.6769653333333333, 0.4471454152510004, 0.33121332512497026, 0.491920470990837)]\n"
     ]
    },
    {
     "name": "stderr",
     "output_type": "stream",
     "text": [
      "\n",
      "Train epoch=0:   6%|█▎                  | 540/8498 [1:33:21<22:55:42, 10.37s/it]\u001b[A"
     ]
    },
    {
     "name": "stdout",
     "output_type": "stream",
     "text": [
      "[(0.6719733333333333, 0.49295747094956766, 0.09399357237493883, 0.5125080994839598)]\n"
     ]
    },
    {
     "name": "stderr",
     "output_type": "stream",
     "text": [
      "\n",
      "Train epoch=0:   6%|█▎                  | 541/8498 [1:33:30<22:55:21, 10.37s/it]\u001b[A"
     ]
    },
    {
     "name": "stdout",
     "output_type": "stream",
     "text": [
      "[(0.8517724550898204, 0.5867186867087115, 0.5085761795710781, 0.7374681587202002)]\n"
     ]
    },
    {
     "name": "stderr",
     "output_type": "stream",
     "text": [
      "\n",
      "Train epoch=0:   6%|█▎                  | 542/8498 [1:33:40<22:55:09, 10.37s/it]\u001b[A"
     ]
    },
    {
     "name": "stdout",
     "output_type": "stream",
     "text": [
      "[(0.9225813333333334, 0.5, 0.4612906666666667, 0.8511563166151112)]\n"
     ]
    },
    {
     "name": "stderr",
     "output_type": "stream",
     "text": [
      "\n",
      "Train epoch=0:   6%|█▎                  | 543/8498 [1:33:51<22:55:07, 10.37s/it]\u001b[A"
     ]
    },
    {
     "name": "stdout",
     "output_type": "stream",
     "text": [
      "[(0.8675384615384616, 0.4987076491196038, 0.3113660571473355, 0.8124660730683323)]\n"
     ]
    },
    {
     "name": "stderr",
     "output_type": "stream",
     "text": [
      "\n",
      "Train epoch=0:   6%|█▎                  | 544/8498 [1:34:02<22:54:54, 10.37s/it]\u001b[A"
     ]
    },
    {
     "name": "stdout",
     "output_type": "stream",
     "text": [
      "[(0.3869706666666667, 0.3861532982246599, 0.10737585463834662, 0.17492877007437896)]\n"
     ]
    },
    {
     "name": "stderr",
     "output_type": "stream",
     "text": [
      "\n",
      "Train epoch=0:   6%|█▎                  | 545/8498 [1:34:12<22:54:38, 10.37s/it]\u001b[A"
     ]
    },
    {
     "name": "stdout",
     "output_type": "stream",
     "text": [
      "[(0.9523363363363363, 0.5900636140309644, 0.49565234106278416, 0.9154542577946778)]\n"
     ]
    },
    {
     "name": "stderr",
     "output_type": "stream",
     "text": [
      "\n",
      "Train epoch=0:   6%|█▎                  | 546/8498 [1:34:21<22:54:17, 10.37s/it]\u001b[A"
     ]
    },
    {
     "name": "stdout",
     "output_type": "stream",
     "text": [
      "[(0.9953093093093093, 0.553028596624113, 0.4762011122591681, 0.9919298842652507)]\n"
     ]
    },
    {
     "name": "stderr",
     "output_type": "stream",
     "text": [
      "\n",
      "Train epoch=0:   6%|█▎                  | 547/8498 [1:34:33<22:54:22, 10.37s/it]\u001b[A"
     ]
    },
    {
     "name": "stdout",
     "output_type": "stream",
     "text": [
      "[(0.957808, 0.8872579662009089, 0.8113670318707866, 0.9223063272881497)]\n"
     ]
    },
    {
     "name": "stderr",
     "output_type": "stream",
     "text": [
      "\n",
      "Train epoch=0:   6%|█▎                  | 548/8498 [1:34:42<22:54:04, 10.37s/it]\u001b[A"
     ]
    },
    {
     "name": "stdout",
     "output_type": "stream",
     "text": [
      "[(0.8231531531531532, 0.564569853798067, 0.4740395506554136, 0.6965883982127566)]\n"
     ]
    },
    {
     "name": "stderr",
     "output_type": "stream",
     "text": [
      "\n",
      "Train epoch=0:   6%|█▎                  | 549/8498 [1:34:54<22:54:11, 10.37s/it]\u001b[A"
     ]
    },
    {
     "name": "stdout",
     "output_type": "stream",
     "text": [
      "[(0.7675573333333333, 0.5277864426787632, 0.3269579371452558, 0.6057876917294789)]\n"
     ]
    },
    {
     "name": "stderr",
     "output_type": "stream",
     "text": [
      "\n",
      "Train epoch=0:   6%|█▎                  | 550/8498 [1:35:03<22:53:46, 10.37s/it]\u001b[A"
     ]
    },
    {
     "name": "stdout",
     "output_type": "stream",
     "text": [
      "[(0.6048528528528528, 0.5416893512163783, 0.22556091397270953, 0.3734733840497979)]\n"
     ]
    },
    {
     "name": "stderr",
     "output_type": "stream",
     "text": [
      "\n",
      "Train epoch=0:   6%|█▎                  | 551/8498 [1:35:14<22:53:35, 10.37s/it]\u001b[A"
     ]
    },
    {
     "name": "stdout",
     "output_type": "stream",
     "text": [
      "[(0.4945386666666667, 0.5, 0.16565461675197185, 0.24576783988709347)]\n"
     ]
    },
    {
     "name": "stderr",
     "output_type": "stream",
     "text": [
      "\n",
      "Train epoch=0:   6%|█▎                  | 552/8498 [1:35:25<22:53:42, 10.37s/it]\u001b[A"
     ]
    },
    {
     "name": "stdout",
     "output_type": "stream",
     "text": [
      "[(0.9220746666666667, 0.9266865655344293, 0.4424068325739861, 0.883439035281192)]\n"
     ]
    },
    {
     "name": "stderr",
     "output_type": "stream",
     "text": [
      "\n",
      "Train epoch=0:   7%|█▎                  | 553/8498 [1:35:36<22:53:32, 10.37s/it]\u001b[A"
     ]
    },
    {
     "name": "stdout",
     "output_type": "stream",
     "text": [
      "[(0.87536, 0.4840022411606853, 0.17941038225681274, 0.8111980630281035)]\n"
     ]
    },
    {
     "name": "stderr",
     "output_type": "stream",
     "text": [
      "\n",
      "Train epoch=0:   7%|█▎                  | 554/8498 [1:35:44<22:52:53, 10.37s/it]\u001b[A"
     ]
    },
    {
     "name": "stdout",
     "output_type": "stream",
     "text": [
      "[(0.6698078291814946, 0.45100689152792556, 0.21023331456808658, 0.6244513008456382)]\n"
     ]
    },
    {
     "name": "stderr",
     "output_type": "stream",
     "text": [
      "\n",
      "Train epoch=0:   7%|█▎                  | 555/8498 [1:35:56<22:53:06, 10.37s/it]\u001b[A"
     ]
    },
    {
     "name": "stdout",
     "output_type": "stream",
     "text": [
      "[(0.98985, 0.9226269918470014, 0.5558670394884868, 0.9830143531513268)]\n"
     ]
    },
    {
     "name": "stderr",
     "output_type": "stream",
     "text": [
      "\n",
      "Train epoch=0:   7%|█▎                  | 556/8498 [1:36:06<22:52:51, 10.37s/it]\u001b[A"
     ]
    },
    {
     "name": "stdout",
     "output_type": "stream",
     "text": [
      "[(0.5761706666666667, 0.38080735445483127, 0.1295658431278484, 0.49009057558167424)]\n"
     ]
    },
    {
     "name": "stderr",
     "output_type": "stream",
     "text": [
      "\n",
      "Train epoch=0:   7%|█▎                  | 557/8498 [1:36:16<22:52:27, 10.37s/it]\u001b[A"
     ]
    },
    {
     "name": "stdout",
     "output_type": "stream",
     "text": [
      "[(0.9041441441441441, 0.9168690403138482, 0.773549343611819, 0.8376386072092457)]\n"
     ]
    },
    {
     "name": "stderr",
     "output_type": "stream",
     "text": [
      "\n",
      "Train epoch=0:   7%|█▎                  | 558/8498 [1:36:26<22:52:16, 10.37s/it]\u001b[A"
     ]
    },
    {
     "name": "stdout",
     "output_type": "stream",
     "text": [
      "[(0.700304, 0.4188419382241485, 0.12451598198656605, 0.6234645233869915)]\n"
     ]
    },
    {
     "name": "stderr",
     "output_type": "stream",
     "text": [
      "\n",
      "Train epoch=0:   7%|█▎                  | 559/8498 [1:36:36<22:52:02, 10.37s/it]\u001b[A"
     ]
    },
    {
     "name": "stdout",
     "output_type": "stream",
     "text": [
      "[(0.584704, 0.5289064201534255, 0.16017767695536786, 0.3514515893353495)]\n"
     ]
    },
    {
     "name": "stderr",
     "output_type": "stream",
     "text": [
      "\n",
      "Train epoch=0:   7%|█▎                  | 560/8498 [1:36:48<22:52:08, 10.37s/it]\u001b[A"
     ]
    },
    {
     "name": "stdout",
     "output_type": "stream",
     "text": [
      "[(0.757312, 0.8262100450737144, 0.4425968862314358, 0.6630764467199892)]\n"
     ]
    },
    {
     "name": "stderr",
     "output_type": "stream",
     "text": [
      "\n",
      "Train epoch=0:   7%|█▎                  | 561/8498 [1:36:58<22:52:02, 10.37s/it]\u001b[A"
     ]
    },
    {
     "name": "stdout",
     "output_type": "stream",
     "text": [
      "[(0.4925210084033613, 0.4635840161989433, 0.2151804857990425, 0.45722417577481256)]\n"
     ]
    },
    {
     "name": "stderr",
     "output_type": "stream",
     "text": [
      "\n",
      "Train epoch=0:   7%|█▎                  | 562/8498 [1:37:09<22:52:00, 10.37s/it]\u001b[A"
     ]
    },
    {
     "name": "stdout",
     "output_type": "stream",
     "text": [
      "[(0.8230293333333333, 0.5499365312467099, 0.28394400924744584, 0.7086263466824672)]\n"
     ]
    },
    {
     "name": "stderr",
     "output_type": "stream",
     "text": [
      "\n",
      "Train epoch=0:   7%|█▎                  | 563/8498 [1:37:19<22:51:48, 10.37s/it]\u001b[A"
     ]
    },
    {
     "name": "stdout",
     "output_type": "stream",
     "text": [
      "[(0.9719253333333333, 0.9406779552239599, 0.8428008718789175, 0.9499138091655789)]\n"
     ]
    },
    {
     "name": "stderr",
     "output_type": "stream",
     "text": [
      "\n",
      "Train epoch=0:   7%|█▎                  | 564/8498 [1:37:30<22:51:35, 10.37s/it]\u001b[A"
     ]
    },
    {
     "name": "stdout",
     "output_type": "stream",
     "text": [
      "[(0.7421546666666666, 0.4543642302486761, 0.31597042848864404, 0.5971730667133972)]\n"
     ]
    },
    {
     "name": "stderr",
     "output_type": "stream",
     "text": [
      "\n",
      "Train epoch=0:   7%|█▎                  | 565/8498 [1:37:40<22:51:23, 10.37s/it]\u001b[A"
     ]
    },
    {
     "name": "stdout",
     "output_type": "stream",
     "text": [
      "[(0.5310133333333333, 0.7298318690329297, 0.3249470814932243, 0.47210506523084805)]\n"
     ]
    },
    {
     "name": "stderr",
     "output_type": "stream",
     "text": [
      "\n",
      "Train epoch=0:   7%|█▎                  | 566/8498 [1:37:49<22:50:59, 10.37s/it]\u001b[A"
     ]
    },
    {
     "name": "stdout",
     "output_type": "stream",
     "text": [
      "[(0.7517417417417417, 0.7368708305251519, 0.2542578892749679, 0.6599780193323854)]\n"
     ]
    },
    {
     "name": "stderr",
     "output_type": "stream",
     "text": [
      "\n",
      "Train epoch=0:   7%|█▎                  | 567/8498 [1:38:00<22:50:49, 10.37s/it]\u001b[A"
     ]
    },
    {
     "name": "stdout",
     "output_type": "stream",
     "text": [
      "[(0.8702826666666666, 0.8564796787481728, 0.7614863127078357, 0.7676787528243562)]\n"
     ]
    },
    {
     "name": "stderr",
     "output_type": "stream",
     "text": [
      "\n",
      "Train epoch=0:   7%|█▎                  | 568/8498 [1:38:10<22:50:43, 10.37s/it]\u001b[A"
     ]
    },
    {
     "name": "stdout",
     "output_type": "stream",
     "text": [
      "[(0.6961386666666667, 0.7431851088851996, 0.3567326854228043, 0.5261745688123586)]\n"
     ]
    },
    {
     "name": "stderr",
     "output_type": "stream",
     "text": [
      "\n",
      "Train epoch=0:   7%|█▎                  | 569/8498 [1:38:21<22:50:42, 10.37s/it]\u001b[A"
     ]
    },
    {
     "name": "stdout",
     "output_type": "stream",
     "text": [
      "[(0.5244533333333333, 0.33321134616231746, 0.10570314330738455, 0.33273996512930315)]\n"
     ]
    },
    {
     "name": "stderr",
     "output_type": "stream",
     "text": [
      "\n",
      "Train epoch=0:   7%|█▎                  | 570/8498 [1:38:32<22:50:29, 10.37s/it]\u001b[A"
     ]
    },
    {
     "name": "stdout",
     "output_type": "stream",
     "text": [
      "[(0.21586093990755006, 0.3333333333333333, 0.04164550690530749, 0.05393782958103624)]\n"
     ]
    },
    {
     "name": "stderr",
     "output_type": "stream",
     "text": [
      "\n",
      "Train epoch=0:   7%|█▎                  | 571/8498 [1:38:42<22:50:15, 10.37s/it]\u001b[A"
     ]
    },
    {
     "name": "stdout",
     "output_type": "stream",
     "text": [
      "[(0.882784, 0.3333333333333333, 0.2942613333333333, 0.779307590656)]\n"
     ]
    },
    {
     "name": "stderr",
     "output_type": "stream",
     "text": [
      "\n",
      "Train epoch=0:   7%|█▎                  | 572/8498 [1:38:56<22:51:05, 10.38s/it]\u001b[A"
     ]
    },
    {
     "name": "stdout",
     "output_type": "stream",
     "text": [
      "[(0.6776192468619247, 0.4805753218158187, 0.1995532105750843, 0.5627467334271126)]\n"
     ]
    },
    {
     "name": "stderr",
     "output_type": "stream",
     "text": [
      "\n",
      "Train epoch=0:   7%|█▎                  | 573/8498 [1:39:07<22:50:57, 10.38s/it]\u001b[A"
     ]
    },
    {
     "name": "stdout",
     "output_type": "stream",
     "text": [
      "[(0.8766613333333333, 0.8003170539958722, 0.48345333521841766, 0.7727603686035289)]\n"
     ]
    },
    {
     "name": "stderr",
     "output_type": "stream",
     "text": [
      "\n",
      "Train epoch=0:   7%|█▎                  | 574/8498 [1:39:19<22:51:07, 10.38s/it]\u001b[A"
     ]
    },
    {
     "name": "stdout",
     "output_type": "stream",
     "text": [
      "[(0.6059893333333334, 0.45948383235470147, 0.1844696920499266, 0.48657496884132323)]\n"
     ]
    },
    {
     "name": "stderr",
     "output_type": "stream",
     "text": [
      "\n",
      "Train epoch=0:   7%|█▎                  | 575/8498 [1:39:29<22:50:48, 10.38s/it]\u001b[A"
     ]
    },
    {
     "name": "stdout",
     "output_type": "stream",
     "text": [
      "[(0.6252743362831858, 0.5611457821093003, 0.397871764342586, 0.4269568327218323)]\n"
     ]
    },
    {
     "name": "stderr",
     "output_type": "stream",
     "text": [
      "\n",
      "Train epoch=0:   7%|█▎                  | 576/8498 [1:39:39<22:50:42, 10.38s/it]\u001b[A"
     ]
    },
    {
     "name": "stdout",
     "output_type": "stream",
     "text": [
      "[(0.9909386666666666, 0.5, 0.4954693333333333, 0.981959441095111)]\n"
     ]
    },
    {
     "name": "stderr",
     "output_type": "stream",
     "text": [
      "\n",
      "Train epoch=0:   7%|█▎                  | 577/8498 [1:39:51<22:50:52, 10.38s/it]\u001b[A"
     ]
    },
    {
     "name": "stdout",
     "output_type": "stream",
     "text": [
      "[(0.4492426666666667, 0.5181451740402587, 0.1734789981468421, 0.22892124054267002)]\n"
     ]
    },
    {
     "name": "stderr",
     "output_type": "stream",
     "text": [
      "\n",
      "Train epoch=0:   7%|█▎                  | 578/8498 [1:40:03<22:51:02, 10.39s/it]\u001b[A"
     ]
    },
    {
     "name": "stdout",
     "output_type": "stream",
     "text": [
      "[(0.923232, 0.499088927587042, 0.24226757953546696, 0.8963099344682613)]\n"
     ]
    },
    {
     "name": "stderr",
     "output_type": "stream",
     "text": [
      "\n",
      "Train epoch=0:   7%|█▎                  | 579/8498 [1:40:13<22:50:51, 10.39s/it]\u001b[A"
     ]
    },
    {
     "name": "stdout",
     "output_type": "stream",
     "text": [
      "[(0.8799733333333334, 0.6212489833672706, 0.5652291436446412, 0.7844640184384949)]\n"
     ]
    },
    {
     "name": "stderr",
     "output_type": "stream",
     "text": [
      "\n",
      "Train epoch=0:   7%|█▎                  | 580/8498 [1:40:26<22:51:06, 10.39s/it]\u001b[A"
     ]
    },
    {
     "name": "stdout",
     "output_type": "stream",
     "text": [
      "[(0.5874986666666666, 0.24986390360746172, 0.10298033056615062, 0.3632025636377234)]\n"
     ]
    },
    {
     "name": "stderr",
     "output_type": "stream",
     "text": [
      "\n",
      "Train epoch=0:   7%|█▎                  | 581/8498 [1:40:37<22:51:05, 10.39s/it]\u001b[A"
     ]
    },
    {
     "name": "stdout",
     "output_type": "stream",
     "text": [
      "[(0.5558018018018018, 0.5699839364731757, 0.17647803286445912, 0.43225904846824253)]\n"
     ]
    },
    {
     "name": "stderr",
     "output_type": "stream",
     "text": [
      "\n",
      "Train epoch=0:   7%|█▎                  | 582/8498 [1:40:48<22:51:04, 10.39s/it]\u001b[A"
     ]
    },
    {
     "name": "stdout",
     "output_type": "stream",
     "text": [
      "[(0.8462282282282282, 0.6269075835328577, 0.36436096183411565, 0.7185707271615182)]\n"
     ]
    },
    {
     "name": "stderr",
     "output_type": "stream",
     "text": [
      "\n",
      "Train epoch=0:   7%|█▎                  | 583/8498 [1:40:58<22:50:56, 10.39s/it]\u001b[A"
     ]
    },
    {
     "name": "stdout",
     "output_type": "stream",
     "text": [
      "[(0.9168, 0.5933563606427822, 0.5208398568119229, 0.850384357955116)]\n"
     ]
    },
    {
     "name": "stderr",
     "output_type": "stream",
     "text": [
      "\n",
      "Train epoch=0:   7%|█▎                  | 584/8498 [1:41:09<22:50:48, 10.39s/it]\u001b[A"
     ]
    },
    {
     "name": "stdout",
     "output_type": "stream",
     "text": [
      "[(0.8238078078078078, 0.3325840953011379, 0.2746026026026026, 0.6801881727493259)]\n"
     ]
    },
    {
     "name": "stderr",
     "output_type": "stream",
     "text": [
      "\n",
      "Train epoch=0:   7%|█▍                  | 585/8498 [1:41:20<22:50:43, 10.39s/it]\u001b[A"
     ]
    },
    {
     "name": "stdout",
     "output_type": "stream",
     "text": [
      "[(0.770464, 0.5555814989529048, 0.2532454137123984, 0.6747439163251414)]\n"
     ]
    },
    {
     "name": "stderr",
     "output_type": "stream",
     "text": [
      "\n",
      "Train epoch=0:   7%|█▍                  | 586/8498 [1:41:30<22:50:25, 10.39s/it]\u001b[A"
     ]
    },
    {
     "name": "stdout",
     "output_type": "stream",
     "text": [
      "[(0.8188048048048048, 0.5328140485629336, 0.29507611624143704, 0.6733885223275097)]\n"
     ]
    },
    {
     "name": "stderr",
     "output_type": "stream",
     "text": [
      "\n",
      "Train epoch=0:   7%|█▍                  | 587/8498 [1:41:40<22:50:13, 10.39s/it]\u001b[A"
     ]
    },
    {
     "name": "stdout",
     "output_type": "stream",
     "text": [
      "[(0.8317866666666667, 0.5162275168285207, 0.29900848461941765, 0.7178271895853129)]\n"
     ]
    },
    {
     "name": "stderr",
     "output_type": "stream",
     "text": [
      "\n",
      "Train epoch=0:   7%|█▍                  | 588/8498 [1:41:51<22:50:10, 10.39s/it]\u001b[A"
     ]
    },
    {
     "name": "stdout",
     "output_type": "stream",
     "text": [
      "[(0.5968, 0.559864622454505, 0.23825309501877334, 0.3763142396074048)]\n"
     ]
    },
    {
     "name": "stderr",
     "output_type": "stream",
     "text": [
      "\n",
      "Train epoch=0:   7%|█▍                  | 589/8498 [1:42:02<22:50:11, 10.39s/it]\u001b[A"
     ]
    },
    {
     "name": "stdout",
     "output_type": "stream",
     "text": [
      "[(0.6696426666666667, 0.668032500549889, 0.5021235595823195, 0.5031878980814706)]\n"
     ]
    },
    {
     "name": "stderr",
     "output_type": "stream",
     "text": [
      "\n",
      "Train epoch=0:   7%|█▍                  | 590/8498 [1:42:12<22:49:56, 10.39s/it]\u001b[A"
     ]
    },
    {
     "name": "stdout",
     "output_type": "stream",
     "text": [
      "[(0.4665611111111111, 0.5, 0.15840241429716603, 0.221713219251505)]\n"
     ]
    },
    {
     "name": "stderr",
     "output_type": "stream",
     "text": [
      "\n",
      "Train epoch=0:   7%|█▍                  | 591/8498 [1:42:22<22:49:42, 10.39s/it]\u001b[A"
     ]
    },
    {
     "name": "stdout",
     "output_type": "stream",
     "text": [
      "[(0.9893493333333333, 0.3333333333333333, 0.3297831111111111, 0.978812103367111)]\n"
     ]
    },
    {
     "name": "stderr",
     "output_type": "stream",
     "text": [
      "\n",
      "Train epoch=0:   7%|█▍                  | 592/8498 [1:42:33<22:49:39, 10.39s/it]\u001b[A"
     ]
    },
    {
     "name": "stdout",
     "output_type": "stream",
     "text": [
      "[(0.911904, 0.891269547586072, 0.8155142948139324, 0.8389422472359773)]\n"
     ]
    },
    {
     "name": "stderr",
     "output_type": "stream",
     "text": [
      "\n",
      "Train epoch=0:   7%|█▍                  | 593/8498 [1:42:43<22:49:28, 10.39s/it]\u001b[A"
     ]
    },
    {
     "name": "stdout",
     "output_type": "stream",
     "text": [
      "[(0.45253866666666664, 0.3336642546181903, 0.1135807659833539, 0.20541188757066237)]\n"
     ]
    },
    {
     "name": "stderr",
     "output_type": "stream",
     "text": [
      "\n",
      "Train epoch=0:   7%|█▍                  | 594/8498 [1:42:54<22:49:19, 10.39s/it]\u001b[A"
     ]
    },
    {
     "name": "stdout",
     "output_type": "stream",
     "text": [
      "[(0.5424610778443114, 0.701503347982214, 0.24649082106456585, 0.3998824481780777)]\n"
     ]
    },
    {
     "name": "stderr",
     "output_type": "stream",
     "text": [
      "\n",
      "Train epoch=0:   7%|█▍                  | 595/8498 [1:43:04<22:49:07, 10.39s/it]\u001b[A"
     ]
    },
    {
     "name": "stdout",
     "output_type": "stream",
     "text": [
      "[(0.9576906666666667, 0.6211212395332829, 0.39959616035416934, 0.9178426619024608)]\n"
     ]
    },
    {
     "name": "stderr",
     "output_type": "stream",
     "text": [
      "\n",
      "Train epoch=0:   7%|█▍                  | 596/8498 [1:43:14<22:48:44, 10.39s/it]\u001b[A"
     ]
    },
    {
     "name": "stdout",
     "output_type": "stream",
     "text": [
      "[(0.9693595166163143, 0.3333333333333333, 0.32311983887210477, 0.9396578724546144)]\n"
     ]
    },
    {
     "name": "stderr",
     "output_type": "stream",
     "text": [
      "\n",
      "Train epoch=0:   7%|█▍                  | 597/8498 [1:43:25<22:48:41, 10.39s/it]\u001b[A"
     ]
    },
    {
     "name": "stdout",
     "output_type": "stream",
     "text": [
      "[(0.7435075075075075, 0.3641699426220181, 0.2895057467633963, 0.5691693213624407)]\n"
     ]
    },
    {
     "name": "stderr",
     "output_type": "stream",
     "text": [
      "\n",
      "Train epoch=0:   7%|█▍                  | 598/8498 [1:43:34<22:48:22, 10.39s/it]\u001b[A"
     ]
    },
    {
     "name": "stdout",
     "output_type": "stream",
     "text": [
      "[(0.7467507507507507, 0.5, 0.24955241375434542, 0.5590603569681583)]\n"
     ]
    },
    {
     "name": "stderr",
     "output_type": "stream",
     "text": [
      "\n",
      "Train epoch=0:   7%|█▍                  | 599/8498 [1:43:44<22:48:06, 10.39s/it]\u001b[A"
     ]
    },
    {
     "name": "stdout",
     "output_type": "stream",
     "text": [
      "[(0.9918688524590163, 0.5, 0.4959344262295082, 0.9838038204783659)]\n"
     ]
    },
    {
     "name": "stderr",
     "output_type": "stream",
     "text": [
      "\n",
      "Train epoch=0:   7%|█▍                  | 600/8498 [1:43:53<22:47:33, 10.39s/it]\u001b[A"
     ]
    },
    {
     "name": "stdout",
     "output_type": "stream",
     "text": [
      "[(0.9574947368421053, 0.3333333333333333, 0.31916491228070176, 0.9167961710803325)]\n"
     ]
    },
    {
     "name": "stderr",
     "output_type": "stream",
     "text": [
      "\n",
      "Train epoch=0:   7%|█▍                  | 601/8498 [1:44:05<22:47:39, 10.39s/it]\u001b[A"
     ]
    },
    {
     "name": "stdout",
     "output_type": "stream",
     "text": [
      "[(0.9305546666666666, 0.5, 0.3133467666623565, 0.8747588880077007)]\n"
     ]
    },
    {
     "name": "stderr",
     "output_type": "stream",
     "text": [
      "\n",
      "Train epoch=0:   7%|█▍                  | 602/8498 [1:44:14<22:47:14, 10.39s/it]\u001b[A"
     ]
    },
    {
     "name": "stdout",
     "output_type": "stream",
     "text": [
      "[(0.903987987987988, 0.5, 0.23055407483655926, 0.8336724569357329)]\n"
     ]
    },
    {
     "name": "stderr",
     "output_type": "stream",
     "text": [
      "\n",
      "Train epoch=0:   7%|█▍                  | 603/8498 [1:44:22<22:46:32, 10.39s/it]\u001b[A"
     ]
    },
    {
     "name": "stdout",
     "output_type": "stream",
     "text": [
      "[(0.9226468085106383, 0.7163919540682032, 0.6515100952496946, 0.8619507999486301)]\n"
     ]
    },
    {
     "name": "stderr",
     "output_type": "stream",
     "text": [
      "\n",
      "Train epoch=0:   7%|█▍                  | 604/8498 [1:44:32<22:46:19, 10.39s/it]\u001b[A"
     ]
    },
    {
     "name": "stdout",
     "output_type": "stream",
     "text": [
      "[(0.9764213333333334, 0.5, 0.4882106666666667, 0.9533986201884445)]\n"
     ]
    },
    {
     "name": "stderr",
     "output_type": "stream",
     "text": [
      "\n",
      "Train epoch=0:   7%|█▍                  | 605/8498 [1:44:43<22:46:13, 10.39s/it]\u001b[A"
     ]
    },
    {
     "name": "stdout",
     "output_type": "stream",
     "text": [
      "[(0.6156036036036036, 0.6226784837107124, 0.42563541308812664, 0.4511354715425925)]\n"
     ]
    },
    {
     "name": "stderr",
     "output_type": "stream",
     "text": [
      "\n",
      "Train epoch=0:   7%|█▍                  | 606/8498 [1:44:51<22:45:40, 10.38s/it]\u001b[A"
     ]
    },
    {
     "name": "stdout",
     "output_type": "stream",
     "text": [
      "[(0.8255709342560553, 0.5186394713723693, 0.43083185731479007, 0.6817742686826476)]\n"
     ]
    },
    {
     "name": "stderr",
     "output_type": "stream",
     "text": [
      "\n",
      "Train epoch=0:   7%|█▍                  | 607/8498 [1:45:03<22:45:46, 10.38s/it]\u001b[A"
     ]
    },
    {
     "name": "stdout",
     "output_type": "stream",
     "text": [
      "[(0.7752906666666667, 0.33303092575664894, 0.20849397037394007, 0.6471608361693421)]\n"
     ]
    },
    {
     "name": "stderr",
     "output_type": "stream",
     "text": [
      "\n",
      "Train epoch=0:   7%|█▍                  | 608/8498 [1:45:13<22:45:27, 10.38s/it]\u001b[A"
     ]
    },
    {
     "name": "stdout",
     "output_type": "stream",
     "text": [
      "[(0.603945945945946, 0.7218795794769826, 0.4322549416830242, 0.4383407171463469)]\n"
     ]
    },
    {
     "name": "stderr",
     "output_type": "stream",
     "text": [
      "\n",
      "Train epoch=0:   7%|█▍                  | 609/8498 [1:45:23<22:45:17, 10.38s/it]\u001b[A"
     ]
    },
    {
     "name": "stdout",
     "output_type": "stream",
     "text": [
      "[(0.9145493333333333, 0.8295055637796331, 0.776359883300567, 0.8385869508510253)]\n"
     ]
    },
    {
     "name": "stderr",
     "output_type": "stream",
     "text": [
      "\n",
      "Train epoch=0:   7%|█▍                  | 610/8498 [1:45:34<22:45:07, 10.38s/it]\u001b[A"
     ]
    },
    {
     "name": "stdout",
     "output_type": "stream",
     "text": [
      "[(0.653584, 0.5005229079835746, 0.21826570789798208, 0.4274069675683755)]\n"
     ]
    },
    {
     "name": "stderr",
     "output_type": "stream",
     "text": [
      "\n",
      "Train epoch=0:   7%|█▍                  | 611/8498 [1:45:44<22:44:53, 10.38s/it]\u001b[A"
     ]
    },
    {
     "name": "stdout",
     "output_type": "stream",
     "text": [
      "[(0.8336853333333333, 0.49978578234207044, 0.2817357326181619, 0.7049388651844163)]\n"
     ]
    },
    {
     "name": "stderr",
     "output_type": "stream",
     "text": [
      "\n",
      "Train epoch=0:   7%|█▍                  | 612/8498 [1:45:54<22:44:42, 10.38s/it]\u001b[A"
     ]
    },
    {
     "name": "stdout",
     "output_type": "stream",
     "text": [
      "[(0.7552906666666667, 0.666353184497898, 0.35960821684637306, 0.5932467105630791)]\n"
     ]
    },
    {
     "name": "stderr",
     "output_type": "stream",
     "text": [
      "\n",
      "Train epoch=0:   7%|█▍                  | 613/8498 [1:46:03<22:44:19, 10.38s/it]\u001b[A"
     ]
    },
    {
     "name": "stdout",
     "output_type": "stream",
     "text": [
      "[(0.7848348348348348, 0.681295345064967, 0.5611683772610333, 0.6291651041064464)]\n"
     ]
    },
    {
     "name": "stderr",
     "output_type": "stream",
     "text": [
      "\n",
      "Train epoch=0:   7%|█▍                  | 614/8498 [1:46:14<22:44:13, 10.38s/it]\u001b[A"
     ]
    },
    {
     "name": "stdout",
     "output_type": "stream",
     "text": [
      "[(0.576528, 0.49616284940560884, 0.2518874255515477, 0.43902970723932555)]\n"
     ]
    },
    {
     "name": "stderr",
     "output_type": "stream",
     "text": [
      "\n",
      "Train epoch=0:   7%|█▍                  | 615/8498 [1:46:24<22:43:58, 10.38s/it]\u001b[A"
     ]
    },
    {
     "name": "stdout",
     "output_type": "stream",
     "text": [
      "[(0.8823733333333333, 0.7092058359728732, 0.6402776580372953, 0.7846677173728609)]\n"
     ]
    },
    {
     "name": "stderr",
     "output_type": "stream",
     "text": [
      "\n",
      "Train epoch=0:   7%|█▍                  | 616/8498 [1:46:35<22:43:58, 10.38s/it]\u001b[A"
     ]
    },
    {
     "name": "stdout",
     "output_type": "stream",
     "text": [
      "[(0.8269007263922518, 0.7664407255762584, 0.6585988974753083, 0.6911549460539572)]\n"
     ]
    },
    {
     "name": "stderr",
     "output_type": "stream",
     "text": [
      "\n",
      "Train epoch=0:   7%|█▍                  | 617/8498 [1:46:46<22:43:54, 10.38s/it]\u001b[A"
     ]
    },
    {
     "name": "stdout",
     "output_type": "stream",
     "text": [
      "[(0.897171858826672, 0.8260753330691151, 0.7072742828951022, 0.8267006192258268)]\n"
     ]
    },
    {
     "name": "stderr",
     "output_type": "stream",
     "text": [
      "\n",
      "Train epoch=0:   7%|█▍                  | 618/8498 [1:46:56<22:43:31, 10.38s/it]\u001b[A"
     ]
    },
    {
     "name": "stdout",
     "output_type": "stream",
     "text": [
      "[(0.672996996996997, 0.49741819306982976, 0.2698499963376929, 0.47907085459552656)]\n"
     ]
    },
    {
     "name": "stderr",
     "output_type": "stream",
     "text": [
      "\n",
      "Train epoch=0:   7%|█▍                  | 619/8498 [1:47:07<22:43:34, 10.38s/it]\u001b[A"
     ]
    },
    {
     "name": "stdout",
     "output_type": "stream",
     "text": [
      "[(0.19068266666666667, 0.371555463923758, 0.059174637515473305, 0.04713402555593531)]\n"
     ]
    },
    {
     "name": "stderr",
     "output_type": "stream",
     "text": [
      "\n",
      "Train epoch=0:   7%|█▍                  | 620/8498 [1:47:17<22:43:21, 10.38s/it]\u001b[A"
     ]
    },
    {
     "name": "stdout",
     "output_type": "stream",
     "text": [
      "[(0.9751413333333333, 0.49188350120523416, 0.3250471111111111, 0.9665912941226666)]\n"
     ]
    },
    {
     "name": "stderr",
     "output_type": "stream",
     "text": [
      "\n",
      "Train epoch=0:   7%|█▍                  | 621/8498 [1:47:28<22:43:12, 10.38s/it]\u001b[A"
     ]
    },
    {
     "name": "stdout",
     "output_type": "stream",
     "text": [
      "[(0.980048048048048, 0.5, 0.490024024024024, 0.960494176482789)]\n"
     ]
    },
    {
     "name": "stderr",
     "output_type": "stream",
     "text": [
      "\n",
      "Train epoch=0:   7%|█▍                  | 622/8498 [1:47:37<22:42:42, 10.38s/it]\u001b[A"
     ]
    },
    {
     "name": "stdout",
     "output_type": "stream",
     "text": [
      "[(0.8805940594059406, 0.863666502396846, 0.7761922732201768, 0.7826464803615444)]\n"
     ]
    },
    {
     "name": "stderr",
     "output_type": "stream",
     "text": [
      "\n",
      "Train epoch=0:   7%|█▍                  | 623/8498 [1:47:49<22:42:55, 10.38s/it]\u001b[A"
     ]
    },
    {
     "name": "stdout",
     "output_type": "stream",
     "text": [
      "[(0.4905473251028807, 0.5009030728666919, 0.2459417093052196, 0.24087614752937928)]\n"
     ]
    },
    {
     "name": "stderr",
     "output_type": "stream",
     "text": [
      "\n",
      "Train epoch=0:   7%|█▍                  | 624/8498 [1:48:00<22:42:55, 10.39s/it]\u001b[A"
     ]
    },
    {
     "name": "stdout",
     "output_type": "stream",
     "text": [
      "[(0.8111573333333333, 0.3198425265168606, 0.2699811311947398, 0.6606883272419901)]\n"
     ]
    },
    {
     "name": "stderr",
     "output_type": "stream",
     "text": [
      "\n",
      "Train epoch=0:   7%|█▍                  | 625/8498 [1:48:10<22:42:43, 10.39s/it]\u001b[A"
     ]
    },
    {
     "name": "stdout",
     "output_type": "stream",
     "text": [
      "[(0.9597386666666666, 0.9498003385916298, 0.8715259816443595, 0.9262020314912582)]\n"
     ]
    },
    {
     "name": "stderr",
     "output_type": "stream",
     "text": [
      "\n",
      "Train epoch=0:   7%|█▍                  | 626/8498 [1:48:20<22:42:27, 10.38s/it]\u001b[A"
     ]
    },
    {
     "name": "stdout",
     "output_type": "stream",
     "text": [
      "[(0.9363400576368877, 0.7354342480934171, 0.7009321307206662, 0.8772307809828399)]\n"
     ]
    },
    {
     "name": "stderr",
     "output_type": "stream",
     "text": [
      "\n",
      "Train epoch=0:   7%|█▍                  | 627/8498 [1:48:30<22:42:07, 10.38s/it]\u001b[A"
     ]
    },
    {
     "name": "stdout",
     "output_type": "stream",
     "text": [
      "[(0.5719161676646707, 0.3333333333333333, 0.19063872255489023, 0.32708810283624373)]\n"
     ]
    },
    {
     "name": "stderr",
     "output_type": "stream",
     "text": [
      "\n",
      "Train epoch=0:   7%|█▍                  | 628/8498 [1:48:39<22:41:47, 10.38s/it]\u001b[A"
     ]
    },
    {
     "name": "stdout",
     "output_type": "stream",
     "text": [
      "[(0.906972972972973, 0.6995040986049252, 0.6497653007687496, 0.8232894447295442)]\n"
     ]
    },
    {
     "name": "stderr",
     "output_type": "stream",
     "text": [
      "\n",
      "Train epoch=0:   7%|█▍                  | 629/8498 [1:48:50<22:41:42, 10.38s/it]\u001b[A"
     ]
    },
    {
     "name": "stdout",
     "output_type": "stream",
     "text": [
      "[(0.7577237237237238, 0.33573273348329585, 0.25490826274032136, 0.5742062608391846)]\n"
     ]
    },
    {
     "name": "stderr",
     "output_type": "stream",
     "text": [
      "\n",
      "Train epoch=0:   7%|█▍                  | 630/8498 [1:49:01<22:41:37, 10.38s/it]\u001b[A"
     ]
    },
    {
     "name": "stdout",
     "output_type": "stream",
     "text": [
      "[(0.942832, 0.6373570606942283, 0.6081404231015549, 0.8890045134757959)]\n"
     ]
    },
    {
     "name": "stderr",
     "output_type": "stream",
     "text": [
      "\n",
      "Train epoch=0:   7%|█▍                  | 631/8498 [1:49:12<22:41:39, 10.39s/it]\u001b[A"
     ]
    },
    {
     "name": "stdout",
     "output_type": "stream",
     "text": [
      "[(0.47862933333333335, 0.47178740493109156, 0.20878081954864286, 0.262162752451041)]\n"
     ]
    },
    {
     "name": "stderr",
     "output_type": "stream",
     "text": [
      "\n",
      "Train epoch=0:   7%|█▍                  | 632/8498 [1:49:22<22:41:19, 10.38s/it]\u001b[A"
     ]
    },
    {
     "name": "stdout",
     "output_type": "stream",
     "text": [
      "[(0.9717126099706744, 0.9789952233811965, 0.8971488311982557, 0.9481080685510441)]\n"
     ]
    },
    {
     "name": "stderr",
     "output_type": "stream",
     "text": [
      "\n",
      "Train epoch=0:   7%|█▍                  | 633/8498 [1:49:32<22:41:05, 10.38s/it]\u001b[A"
     ]
    },
    {
     "name": "stdout",
     "output_type": "stream",
     "text": [
      "[(0.8258346666666667, 0.44238735040904875, 0.30021177653809544, 0.699156453466397)]\n"
     ]
    },
    {
     "name": "stderr",
     "output_type": "stream",
     "text": [
      "\n",
      "Train epoch=0:   7%|█▍                  | 634/8498 [1:49:42<22:40:53, 10.38s/it]\u001b[A"
     ]
    },
    {
     "name": "stdout",
     "output_type": "stream",
     "text": [
      "[(0.8783626666666666, 0.49688340996584723, 0.2927875555555555, 0.7763601669119999)]\n"
     ]
    },
    {
     "name": "stderr",
     "output_type": "stream",
     "text": [
      "\n",
      "Train epoch=0:   7%|█▍                  | 635/8498 [1:49:53<22:40:46, 10.38s/it]\u001b[A"
     ]
    },
    {
     "name": "stdout",
     "output_type": "stream",
     "text": [
      "[(0.8034185463659148, 0.5, 0.2680439955917447, 0.6460545519012937)]\n"
     ]
    },
    {
     "name": "stderr",
     "output_type": "stream",
     "text": [
      "\n",
      "Train epoch=0:   7%|█▍                  | 636/8498 [1:50:04<22:40:39, 10.38s/it]\u001b[A"
     ]
    },
    {
     "name": "stdout",
     "output_type": "stream",
     "text": [
      "[(0.7937492537313433, 0.49978197291953297, 0.26458308457711444, 0.6303127282869236)]\n"
     ]
    },
    {
     "name": "stderr",
     "output_type": "stream",
     "text": [
      "\n",
      "Train epoch=0:   7%|█▍                  | 637/8498 [1:50:15<22:40:35, 10.38s/it]\u001b[A"
     ]
    },
    {
     "name": "stdout",
     "output_type": "stream",
     "text": [
      "[(0.654848, 0.6211427268668345, 0.21038272227465313, 0.45402822438764184)]\n"
     ]
    },
    {
     "name": "stderr",
     "output_type": "stream",
     "text": [
      "\n",
      "Train epoch=0:   8%|█▌                  | 638/8498 [1:50:25<22:40:27, 10.39s/it]\u001b[A"
     ]
    },
    {
     "name": "stdout",
     "output_type": "stream",
     "text": [
      "[(0.3898147138964578, 0.4969432132386656, 0.06703609571042461, 0.18404677880449474)]\n"
     ]
    },
    {
     "name": "stderr",
     "output_type": "stream",
     "text": [
      "\n",
      "Train epoch=0:   8%|█▌                  | 639/8498 [1:50:35<22:40:14, 10.38s/it]\u001b[A"
     ]
    },
    {
     "name": "stdout",
     "output_type": "stream",
     "text": [
      "[(0.8746933333333333, 0.7752880526692689, 0.6993467306692824, 0.7698881089047402)]\n"
     ]
    },
    {
     "name": "stderr",
     "output_type": "stream",
     "text": [
      "\n",
      "Train epoch=0:   8%|█▌                  | 640/8498 [1:50:46<22:40:04, 10.38s/it]\u001b[A"
     ]
    },
    {
     "name": "stdout",
     "output_type": "stream",
     "text": [
      "[(0.884432, 0.7918182680093504, 0.7220604058296265, 0.7854566919741314)]\n"
     ]
    },
    {
     "name": "stderr",
     "output_type": "stream",
     "text": [
      "\n",
      "Train epoch=0:   8%|█▌                  | 641/8498 [1:50:56<22:39:54, 10.38s/it]\u001b[A"
     ]
    },
    {
     "name": "stdout",
     "output_type": "stream",
     "text": [
      "[(0.9859626666666667, 0.5, 0.4929813333333333, 0.9721223800604444)]\n"
     ]
    },
    {
     "name": "stderr",
     "output_type": "stream",
     "text": [
      "\n",
      "Train epoch=0:   8%|█▌                  | 642/8498 [1:51:05<22:39:29, 10.38s/it]\u001b[A"
     ]
    },
    {
     "name": "stdout",
     "output_type": "stream",
     "text": [
      "[(0.8902215384615385, 0.47907644679926964, 0.13160158919621992, 0.8595298667813193)]\n"
     ]
    },
    {
     "name": "stderr",
     "output_type": "stream",
     "text": [
      "\n",
      "Train epoch=0:   8%|█▌                  | 643/8498 [1:51:14<22:38:55, 10.38s/it]\u001b[A"
     ]
    },
    {
     "name": "stdout",
     "output_type": "stream",
     "text": [
      "[(0.7703777777777778, 0.37538058298206406, 0.2984643492832548, 0.5998967924435317)]\n"
     ]
    },
    {
     "name": "stderr",
     "output_type": "stream",
     "text": [
      "\n",
      "Train epoch=0:   8%|█▌                  | 644/8498 [1:51:26<22:39:02, 10.38s/it]\u001b[A"
     ]
    },
    {
     "name": "stdout",
     "output_type": "stream",
     "text": [
      "[(0.888112600536193, 0.42265626856759936, 0.2865519660860659, 0.7929964595955765)]\n"
     ]
    },
    {
     "name": "stderr",
     "output_type": "stream",
     "text": [
      "\n",
      "Train epoch=0:   8%|█▌                  | 645/8498 [1:51:35<22:38:40, 10.38s/it]\u001b[A"
     ]
    },
    {
     "name": "stdout",
     "output_type": "stream",
     "text": [
      "[(0.7114534534534535, 0.5996809625661466, 0.2394380694749526, 0.5593542395271067)]\n"
     ]
    },
    {
     "name": "stderr",
     "output_type": "stream",
     "text": [
      "\n",
      "Train epoch=0:   8%|█▌                  | 646/8498 [1:51:45<22:38:29, 10.38s/it]\u001b[A"
     ]
    },
    {
     "name": "stdout",
     "output_type": "stream",
     "text": [
      "[(0.9963048128342246, 0.9062343097697252, 0.8705944138653117, 0.992931219944497)]\n"
     ]
    },
    {
     "name": "stderr",
     "output_type": "stream",
     "text": [
      "\n",
      "Train epoch=0:   8%|█▌                  | 647/8498 [1:51:56<22:38:16, 10.38s/it]\u001b[A"
     ]
    },
    {
     "name": "stdout",
     "output_type": "stream",
     "text": [
      "[(0.7328235294117647, 0.4428866912287506, 0.18491561010627675, 0.6119421184928786)]\n"
     ]
    },
    {
     "name": "stderr",
     "output_type": "stream",
     "text": [
      "\n",
      "Train epoch=0:   8%|█▌                  | 648/8498 [1:52:04<22:37:41, 10.38s/it]\u001b[A"
     ]
    },
    {
     "name": "stdout",
     "output_type": "stream",
     "text": [
      "[(0.9544285714285714, 0.5, 0.31917333104021556, 0.9138844391484343)]\n"
     ]
    },
    {
     "name": "stderr",
     "output_type": "stream",
     "text": [
      "\n",
      "Train epoch=0:   8%|█▌                  | 649/8498 [1:52:13<22:37:20, 10.38s/it]\u001b[A"
     ]
    },
    {
     "name": "stdout",
     "output_type": "stream",
     "text": [
      "[(0.35366265060240965, 0.42098760738778074, 0.14584817708377143, 0.23124885231413497)]\n"
     ]
    },
    {
     "name": "stderr",
     "output_type": "stream",
     "text": [
      "\n",
      "Train epoch=0:   8%|█▌                  | 650/8498 [1:52:24<22:37:10, 10.38s/it]\u001b[A"
     ]
    },
    {
     "name": "stdout",
     "output_type": "stream",
     "text": [
      "[(0.7738133333333334, 0.19007557237409092, 0.15504885428600967, 0.6178008239175796)]\n"
     ]
    },
    {
     "name": "stderr",
     "output_type": "stream",
     "text": [
      "\n",
      "Train epoch=0:   8%|█▌                  | 651/8498 [1:52:34<22:36:57, 10.38s/it]\u001b[A"
     ]
    },
    {
     "name": "stdout",
     "output_type": "stream",
     "text": [
      "[(0.914864, 0.5, 0.457432, 0.836976138496)]\n"
     ]
    },
    {
     "name": "stderr",
     "output_type": "stream",
     "text": [
      "\n",
      "Train epoch=0:   8%|█▌                  | 652/8498 [1:52:42<22:36:19, 10.37s/it]\u001b[A"
     ]
    },
    {
     "name": "stdout",
     "output_type": "stream",
     "text": [
      "[(0.38628, 0.48881352500506176, 0.13638327980815673, 0.16166328455339668)]\n"
     ]
    },
    {
     "name": "stderr",
     "output_type": "stream",
     "text": [
      "\n",
      "Train epoch=0:   8%|█▌                  | 653/8498 [1:52:52<22:36:06, 10.37s/it]\u001b[A"
     ]
    },
    {
     "name": "stdout",
     "output_type": "stream",
     "text": [
      "[(0.7151796407185629, 0.7080348003130229, 0.5386398710658382, 0.5414467027622393)]\n"
     ]
    },
    {
     "name": "stderr",
     "output_type": "stream",
     "text": [
      "\n",
      "Train epoch=0:   8%|█▌                  | 654/8498 [1:53:03<22:35:59, 10.37s/it]\u001b[A"
     ]
    },
    {
     "name": "stdout",
     "output_type": "stream",
     "text": [
      "[(0.9358386308068459, 0.7925016106995055, 0.7559858089306789, 0.8765363421353258)]\n"
     ]
    },
    {
     "name": "stderr",
     "output_type": "stream",
     "text": [
      "\n",
      "Train epoch=0:   8%|█▌                  | 655/8498 [1:53:14<22:35:54, 10.37s/it]\u001b[A"
     ]
    },
    {
     "name": "stdout",
     "output_type": "stream",
     "text": [
      "[(0.7655568862275449, 0.7691290272440141, 0.4032149247692403, 0.6461274021900573)]\n"
     ]
    },
    {
     "name": "stderr",
     "output_type": "stream",
     "text": [
      "\n",
      "Train epoch=0:   8%|█▌                  | 656/8498 [1:53:24<22:35:43, 10.37s/it]\u001b[A"
     ]
    },
    {
     "name": "stdout",
     "output_type": "stream",
     "text": [
      "[(0.9619573333333333, 0.3333333333333333, 0.32065244444444446, 0.9253619111537777)]\n"
     ]
    },
    {
     "name": "stderr",
     "output_type": "stream",
     "text": [
      "\n",
      "Train epoch=0:   8%|█▌                  | 657/8498 [1:53:34<22:35:32, 10.37s/it]\u001b[A"
     ]
    },
    {
     "name": "stdout",
     "output_type": "stream",
     "text": [
      "[(0.8287754010695187, 0.7663350345763276, 0.2830254194482596, 0.7908588337940364)]\n"
     ]
    },
    {
     "name": "stderr",
     "output_type": "stream",
     "text": [
      "\n",
      "Train epoch=0:   8%|█▌                  | 658/8498 [1:53:45<22:35:23, 10.37s/it]\u001b[A"
     ]
    },
    {
     "name": "stdout",
     "output_type": "stream",
     "text": [
      "[(0.31253333333333333, 0.47058056415683847, 0.19661064632747347, 0.20698757156346564)]\n"
     ]
    },
    {
     "name": "stderr",
     "output_type": "stream",
     "text": [
      "\n",
      "Train epoch=0:   8%|█▌                  | 659/8498 [1:53:56<22:35:19, 10.37s/it]\u001b[A"
     ]
    },
    {
     "name": "stdout",
     "output_type": "stream",
     "text": [
      "[(0.979936, 0.3782110559729373, 0.27949326352336384, 0.964694436248031)]\n"
     ]
    },
    {
     "name": "stderr",
     "output_type": "stream",
     "text": [
      "\n",
      "Train epoch=0:   8%|█▌                  | 660/8498 [1:54:06<22:35:06, 10.37s/it]\u001b[A"
     ]
    },
    {
     "name": "stdout",
     "output_type": "stream",
     "text": [
      "[(0.8862506666666666, 0.9034794272546695, 0.736189002361806, 0.8134710763694131)]\n"
     ]
    },
    {
     "name": "stderr",
     "output_type": "stream",
     "text": [
      "\n",
      "Train epoch=0:   8%|█▌                  | 661/8498 [1:54:16<22:34:53, 10.37s/it]\u001b[A"
     ]
    },
    {
     "name": "stdout",
     "output_type": "stream",
     "text": [
      "[(0.9740533333333333, 0.8545858920567464, 0.549290050535372, 0.950285532031289)]\n"
     ]
    },
    {
     "name": "stderr",
     "output_type": "stream",
     "text": [
      "\n",
      "Train epoch=0:   8%|█▌                  | 662/8498 [1:54:27<22:34:52, 10.37s/it]\u001b[A"
     ]
    },
    {
     "name": "stdout",
     "output_type": "stream",
     "text": [
      "[(0.7622964824120603, 0.8460311252683523, 0.5300993682971107, 0.6819011662281959)]\n"
     ]
    },
    {
     "name": "stderr",
     "output_type": "stream",
     "text": [
      "\n",
      "Train epoch=0:   8%|█▌                  | 663/8498 [1:54:39<22:34:57, 10.38s/it]\u001b[A"
     ]
    },
    {
     "name": "stdout",
     "output_type": "stream",
     "text": [
      "[(0.9146933333333334, 0.8836280021076189, 0.7704703029000526, 0.8521603859014243)]\n"
     ]
    },
    {
     "name": "stderr",
     "output_type": "stream",
     "text": [
      "\n",
      "Train epoch=0:   8%|█▌                  | 664/8498 [1:54:49<22:34:46, 10.38s/it]\u001b[A"
     ]
    },
    {
     "name": "stdout",
     "output_type": "stream",
     "text": [
      "[(0.8632906666666667, 0.4351754768011442, 0.21582266666666666, 0.8562876527786667)]\n"
     ]
    },
    {
     "name": "stderr",
     "output_type": "stream",
     "text": [
      "\n",
      "Train epoch=0:   8%|█▌                  | 665/8498 [1:55:01<22:34:49, 10.38s/it]\u001b[A"
     ]
    },
    {
     "name": "stdout",
     "output_type": "stream",
     "text": [
      "[(0.7884373333333333, 0.30189449866341556, 0.15924595373387554, 0.6931530477365146)]\n"
     ]
    },
    {
     "name": "stderr",
     "output_type": "stream",
     "text": [
      "\n",
      "Train epoch=0:   8%|█▌                  | 666/8498 [1:55:10<22:34:30, 10.38s/it]\u001b[A"
     ]
    },
    {
     "name": "stdout",
     "output_type": "stream",
     "text": [
      "[(0.9187327327327327, 0.3317592080337085, 0.1881945358569623, 0.8677611004450838)]\n"
     ]
    },
    {
     "name": "stderr",
     "output_type": "stream",
     "text": [
      "\n",
      "Train epoch=0:   8%|█▌                  | 667/8498 [1:55:21<22:34:21, 10.38s/it]\u001b[A"
     ]
    },
    {
     "name": "stdout",
     "output_type": "stream",
     "text": [
      "[(0.92674, 0.5347690268970695, 0.2496803095948331, 0.8621373561107746)]\n"
     ]
    },
    {
     "name": "stderr",
     "output_type": "stream",
     "text": [
      "\n",
      "Train epoch=0:   8%|█▌                  | 668/8498 [1:55:31<22:34:05, 10.38s/it]\u001b[A"
     ]
    },
    {
     "name": "stdout",
     "output_type": "stream",
     "text": [
      "[(0.9865405405405405, 0.5038665743863011, 0.33391053517766095, 0.9806393552401256)]\n"
     ]
    },
    {
     "name": "stderr",
     "output_type": "stream",
     "text": [
      "\n",
      "Train epoch=0:   8%|█▌                  | 669/8498 [1:55:43<22:34:14, 10.38s/it]\u001b[A"
     ]
    },
    {
     "name": "stdout",
     "output_type": "stream",
     "text": [
      "[(0.852096, 0.49609996025437203, 0.24040157210181345, 0.8258223519172782)]\n"
     ]
    },
    {
     "name": "stderr",
     "output_type": "stream",
     "text": [
      "\n",
      "Train epoch=0:   8%|█▌                  | 670/8498 [1:55:52<22:33:49, 10.38s/it]\u001b[A"
     ]
    },
    {
     "name": "stdout",
     "output_type": "stream",
     "text": [
      "[(0.42403174603174604, 0.4171715909800737, 0.19759343416412223, 0.4016854968296423)]\n"
     ]
    },
    {
     "name": "stderr",
     "output_type": "stream",
     "text": [
      "\n",
      "Train epoch=0:   8%|█▌                  | 671/8498 [1:56:01<22:33:27, 10.38s/it]\u001b[A"
     ]
    },
    {
     "name": "stdout",
     "output_type": "stream",
     "text": [
      "[(0.6571359516616314, 0.4404021807972874, 0.25558102284217205, 0.635230083600385)]\n"
     ]
    },
    {
     "name": "stderr",
     "output_type": "stream",
     "text": [
      "\n",
      "Train epoch=0:   8%|█▌                  | 672/8498 [1:56:11<22:33:10, 10.37s/it]\u001b[A"
     ]
    },
    {
     "name": "stdout",
     "output_type": "stream",
     "text": [
      "[(0.7052634730538923, 0.4857266578686902, 0.17017012822828245, 0.6177073756406277)]\n"
     ]
    },
    {
     "name": "stderr",
     "output_type": "stream",
     "text": [
      "\n",
      "Train epoch=0:   8%|█▌                  | 673/8498 [1:56:22<22:33:00, 10.37s/it]\u001b[A"
     ]
    },
    {
     "name": "stdout",
     "output_type": "stream",
     "text": [
      "[(0.626976, 0.8008752172588907, 0.36883208693140124, 0.5771383438309516)]\n"
     ]
    },
    {
     "name": "stderr",
     "output_type": "stream",
     "text": [
      "\n",
      "Train epoch=0:   8%|█▌                  | 674/8498 [1:56:33<22:33:04, 10.38s/it]\u001b[A"
     ]
    },
    {
     "name": "stdout",
     "output_type": "stream",
     "text": [
      "[(0.707088, 0.8102951997179297, 0.5122805551977218, 0.5938685110270261)]\n"
     ]
    },
    {
     "name": "stderr",
     "output_type": "stream",
     "text": [
      "\n",
      "Train epoch=0:   8%|█▌                  | 675/8498 [1:56:43<22:32:46, 10.38s/it]\u001b[A"
     ]
    },
    {
     "name": "stdout",
     "output_type": "stream",
     "text": [
      "[(0.9939281437125749, 0.7534142241832125, 0.7471917941405237, 0.9879701970443349)]\n"
     ]
    },
    {
     "name": "stderr",
     "output_type": "stream",
     "text": [
      "\n",
      "Train epoch=0:   8%|█▌                  | 676/8498 [1:56:53<22:32:36, 10.38s/it]\u001b[A"
     ]
    },
    {
     "name": "stdout",
     "output_type": "stream",
     "text": [
      "[(0.7734346666666667, 0.5386088238588224, 0.416224040351834, 0.6298764496786771)]\n"
     ]
    },
    {
     "name": "stderr",
     "output_type": "stream",
     "text": [
      "\n",
      "Train epoch=0:   8%|█▌                  | 677/8498 [1:57:04<22:32:25, 10.38s/it]\u001b[A"
     ]
    },
    {
     "name": "stdout",
     "output_type": "stream",
     "text": [
      "[(0.8855626666666667, 0.6851397623146586, 0.6019638005449557, 0.8046902430745344)]\n"
     ]
    },
    {
     "name": "stderr",
     "output_type": "stream",
     "text": [
      "\n",
      "Train epoch=0:   8%|█▌                  | 678/8498 [1:57:13<22:32:08, 10.37s/it]\u001b[A"
     ]
    },
    {
     "name": "stdout",
     "output_type": "stream",
     "text": [
      "[(0.7381321321321321, 0.6015875092691936, 0.3416902163923319, 0.5821313569157652)]\n"
     ]
    },
    {
     "name": "stderr",
     "output_type": "stream",
     "text": [
      "\n",
      "Train epoch=0:   8%|█▌                  | 679/8498 [1:57:24<22:32:03, 10.38s/it]\u001b[A"
     ]
    },
    {
     "name": "stdout",
     "output_type": "stream",
     "text": [
      "[(0.8891179775280899, 0.6504136408929065, 0.573198872860334, 0.8004570467825725)]\n"
     ]
    },
    {
     "name": "stderr",
     "output_type": "stream",
     "text": [
      "\n",
      "Train epoch=0:   8%|█▌                  | 680/8498 [1:57:34<22:31:45, 10.37s/it]\u001b[A"
     ]
    },
    {
     "name": "stdout",
     "output_type": "stream",
     "text": [
      "[(0.8527560975609756, 0.8655447004278578, 0.36953513057238185, 0.7539921971693938)]\n"
     ]
    },
    {
     "name": "stderr",
     "output_type": "stream",
     "text": [
      "\n",
      "Train epoch=0:   8%|█▌                  | 681/8498 [1:57:44<22:31:31, 10.37s/it]\u001b[A"
     ]
    },
    {
     "name": "stdout",
     "output_type": "stream",
     "text": [
      "[(0.8998453333333334, 0.531020550252667, 0.3529219533399228, 0.8969660112486278)]\n"
     ]
    },
    {
     "name": "stderr",
     "output_type": "stream",
     "text": [
      "\n",
      "Train epoch=0:   8%|█▌                  | 682/8498 [1:57:54<22:31:17, 10.37s/it]\u001b[A"
     ]
    },
    {
     "name": "stdout",
     "output_type": "stream",
     "text": [
      "[(0.5624213333333333, 0.42792096758036796, 0.20116433578940712, 0.3289314681843642)]\n"
     ]
    },
    {
     "name": "stderr",
     "output_type": "stream",
     "text": [
      "\n",
      "Train epoch=0:   8%|█▌                  | 683/8498 [1:58:01<22:30:29, 10.37s/it]\u001b[A"
     ]
    },
    {
     "name": "stdout",
     "output_type": "stream",
     "text": [
      "[(0.2756884205623799, 0.3075798908807483, 0.13828296101620674, 0.20657511670698403)]\n"
     ]
    },
    {
     "name": "stderr",
     "output_type": "stream",
     "text": [
      "\n",
      "Train epoch=0:   8%|█▌                  | 684/8498 [1:58:14<22:30:50, 10.37s/it]\u001b[A"
     ]
    },
    {
     "name": "stdout",
     "output_type": "stream",
     "text": [
      "[(0.96644, 0.49867699204544047, 0.24161, 0.9364842257599999)]\n"
     ]
    },
    {
     "name": "stderr",
     "output_type": "stream",
     "text": [
      "\n",
      "Train epoch=0:   8%|█▌                  | 685/8498 [1:58:26<22:30:50, 10.37s/it]\u001b[A"
     ]
    },
    {
     "name": "stdout",
     "output_type": "stream",
     "text": [
      "[(0.44577066666666665, 0.4979268437984034, 0.059481855550368355, 0.2130053178172764)]\n"
     ]
    },
    {
     "name": "stderr",
     "output_type": "stream",
     "text": [
      "\n",
      "Train epoch=0:   8%|█▌                  | 686/8498 [1:58:35<22:30:26, 10.37s/it]\u001b[A"
     ]
    },
    {
     "name": "stdout",
     "output_type": "stream",
     "text": [
      "[(0.9834363636363637, 0.9882787426894799, 0.9162355149059846, 0.9692732293908765)]\n"
     ]
    },
    {
     "name": "stderr",
     "output_type": "stream",
     "text": [
      "\n",
      "Train epoch=0:   8%|█▌                  | 687/8498 [1:58:44<22:30:07, 10.37s/it]\u001b[A"
     ]
    },
    {
     "name": "stdout",
     "output_type": "stream",
     "text": [
      "[(0.7230450450450451, 0.8159677352963264, 0.5105207566247443, 0.6248552718376322)]\n"
     ]
    },
    {
     "name": "stderr",
     "output_type": "stream",
     "text": [
      "\n",
      "Train epoch=0:   8%|█▌                  | 688/8498 [1:58:54<22:29:45, 10.37s/it]\u001b[A"
     ]
    },
    {
     "name": "stdout",
     "output_type": "stream",
     "text": [
      "[(0.7230355029585799, 0.44884053050711104, 0.2572396999714122, 0.5994529654597338)]\n"
     ]
    },
    {
     "name": "stderr",
     "output_type": "stream",
     "text": [
      "\n",
      "Train epoch=0:   8%|█▌                  | 689/8498 [1:59:05<22:29:48, 10.37s/it]\u001b[A"
     ]
    },
    {
     "name": "stdout",
     "output_type": "stream",
     "text": [
      "[(0.8367146666666667, 0.7685786317653435, 0.6593602022184067, 0.7181972443648956)]\n"
     ]
    },
    {
     "name": "stderr",
     "output_type": "stream",
     "text": [
      "\n",
      "Train epoch=0:   8%|█▌                  | 690/8498 [1:59:15<22:29:34, 10.37s/it]\u001b[A"
     ]
    },
    {
     "name": "stdout",
     "output_type": "stream",
     "text": [
      "[(0.5430453333333334, 0.266123559835373, 0.15055209254331098, 0.3774540137703088)]\n"
     ]
    },
    {
     "name": "stderr",
     "output_type": "stream",
     "text": [
      "\n",
      "Train epoch=0:   8%|█▋                  | 691/8498 [1:59:26<22:29:26, 10.37s/it]\u001b[A"
     ]
    },
    {
     "name": "stdout",
     "output_type": "stream",
     "text": [
      "[(0.9492746666666667, 0.9663063701352439, 0.8661573630529726, 0.9087691457515157)]\n"
     ]
    },
    {
     "name": "stderr",
     "output_type": "stream",
     "text": [
      "\n",
      "Train epoch=0:   8%|█▋                  | 692/8498 [1:59:36<22:29:18, 10.37s/it]\u001b[A"
     ]
    },
    {
     "name": "stdout",
     "output_type": "stream",
     "text": [
      "[(0.9349386666666667, 0.8036161083422085, 0.38966691450373186, 0.9091416213192506)]\n"
     ]
    },
    {
     "name": "stderr",
     "output_type": "stream",
     "text": [
      "\n",
      "Train epoch=0:   8%|█▋                  | 693/8498 [1:59:46<22:29:02, 10.37s/it]\u001b[A"
     ]
    },
    {
     "name": "stdout",
     "output_type": "stream",
     "text": [
      "[(0.8024564564564565, 0.8753319211685184, 0.6310461638048026, 0.7014811072474086)]\n"
     ]
    },
    {
     "name": "stderr",
     "output_type": "stream",
     "text": [
      "\n",
      "Train epoch=0:   8%|█▋                  | 694/8498 [1:59:59<22:29:18, 10.37s/it]\u001b[A"
     ]
    },
    {
     "name": "stdout",
     "output_type": "stream",
     "text": [
      "[(0.5889563218390804, 0.5, 0.2944781609195402, 0.34686954903421846)]\n"
     ]
    },
    {
     "name": "stderr",
     "output_type": "stream",
     "text": [
      "\n",
      "Train epoch=0:   8%|█▋                  | 695/8498 [2:00:09<22:29:06, 10.37s/it]\u001b[A"
     ]
    },
    {
     "name": "stdout",
     "output_type": "stream",
     "text": [
      "[(0.27354133333333336, 0.4851112087769547, 0.16073514771479108, 0.09730543833717155)]\n"
     ]
    },
    {
     "name": "stderr",
     "output_type": "stream",
     "text": [
      "\n",
      "Train epoch=0:   8%|█▋                  | 696/8498 [2:00:19<22:28:52, 10.37s/it]\u001b[A"
     ]
    },
    {
     "name": "stdout",
     "output_type": "stream",
     "text": [
      "[(0.9071146666666666, 0.8788872121659849, 0.3225056421601804, 0.8677444035685289)]\n"
     ]
    },
    {
     "name": "stderr",
     "output_type": "stream",
     "text": [
      "\n",
      "Train epoch=0:   8%|█▋                  | 697/8498 [2:00:30<22:28:42, 10.37s/it]\u001b[A"
     ]
    },
    {
     "name": "stdout",
     "output_type": "stream",
     "text": [
      "[(0.7345444126074498, 0.7090843098311818, 0.23739922542876668, 0.6088528636348661)]\n"
     ]
    },
    {
     "name": "stderr",
     "output_type": "stream",
     "text": [
      "\n",
      "Train epoch=0:   8%|█▋                  | 698/8498 [2:00:41<22:28:42, 10.37s/it]\u001b[A"
     ]
    },
    {
     "name": "stdout",
     "output_type": "stream",
     "text": [
      "[(0.8715626666666667, 0.9161916670402768, 0.7096662479344455, 0.7970354700828443)]\n"
     ]
    },
    {
     "name": "stderr",
     "output_type": "stream",
     "text": [
      "\n",
      "Train epoch=0:   8%|█▋                  | 699/8498 [2:00:51<22:28:23, 10.37s/it]\u001b[A"
     ]
    },
    {
     "name": "stdout",
     "output_type": "stream",
     "text": [
      "[(0.8813813813813813, 0.8846133527280755, 0.5303931710781619, 0.7972013315811007)]\n"
     ]
    },
    {
     "name": "stderr",
     "output_type": "stream",
     "text": [
      "\n",
      "Train epoch=0:   8%|█▋                  | 700/8498 [2:01:01<22:28:09, 10.37s/it]\u001b[A"
     ]
    },
    {
     "name": "stdout",
     "output_type": "stream",
     "text": [
      "[(0.641344, 0.7851189601299351, 0.27300582829738673, 0.5693040192847018)]\n"
     ]
    },
    {
     "name": "stderr",
     "output_type": "stream",
     "text": [
      "\n",
      "Train epoch=0:   8%|█▋                  | 701/8498 [2:01:11<22:27:59, 10.37s/it]\u001b[A"
     ]
    },
    {
     "name": "stdout",
     "output_type": "stream",
     "text": [
      "[(0.5792106666666667, 0.5, 0.15551806897657822, 0.3603108976425461)]\n"
     ]
    },
    {
     "name": "stderr",
     "output_type": "stream",
     "text": [
      "\n",
      "Train epoch=0:   8%|█▋                  | 702/8498 [2:01:21<22:27:49, 10.37s/it]\u001b[A"
     ]
    },
    {
     "name": "stdout",
     "output_type": "stream",
     "text": [
      "[(0.818544, 0.4919923064593685, 0.19117593936260985, 0.7951644571222153)]\n"
     ]
    },
    {
     "name": "stderr",
     "output_type": "stream",
     "text": [
      "\n",
      "Train epoch=0:   8%|█▋                  | 703/8498 [2:01:32<22:27:36, 10.37s/it]\u001b[A"
     ]
    },
    {
     "name": "stdout",
     "output_type": "stream",
     "text": [
      "[(0.854384, 0.7820028633027261, 0.3511783976327029, 0.749716542830013)]\n"
     ]
    },
    {
     "name": "stderr",
     "output_type": "stream",
     "text": [
      "\n",
      "Train epoch=0:   8%|█▋                  | 704/8498 [2:01:41<22:27:17, 10.37s/it]\u001b[A"
     ]
    },
    {
     "name": "stdout",
     "output_type": "stream",
     "text": [
      "[(0.8904892966360857, 0.5048463462464583, 0.24790281624439228, 0.8728989982925771)]\n"
     ]
    },
    {
     "name": "stderr",
     "output_type": "stream",
     "text": [
      "\n",
      "Train epoch=0:   8%|█▋                  | 705/8498 [2:01:53<22:27:27, 10.37s/it]\u001b[A"
     ]
    },
    {
     "name": "stdout",
     "output_type": "stream",
     "text": [
      "[(0.8796820512820512, 0.7789501828812624, 0.493202139723438, 0.8403520933725052)]\n"
     ]
    },
    {
     "name": "stderr",
     "output_type": "stream",
     "text": [
      "\n",
      "Train epoch=0:   8%|█▋                  | 706/8498 [2:02:04<22:27:18, 10.37s/it]\u001b[A"
     ]
    },
    {
     "name": "stdout",
     "output_type": "stream",
     "text": [
      "[(0.8180213333333334, 0.45632771187950893, 0.31592684151799627, 0.731639714820201)]\n"
     ]
    },
    {
     "name": "stderr",
     "output_type": "stream",
     "text": [
      "\n",
      "Train epoch=0:   8%|█▋                  | 707/8498 [2:02:15<22:27:10, 10.37s/it]\u001b[A"
     ]
    },
    {
     "name": "stdout",
     "output_type": "stream",
     "text": [
      "[(0.9122645161290323, 0.5972881929767783, 0.5517795289363678, 0.8338446326740945)]\n"
     ]
    },
    {
     "name": "stderr",
     "output_type": "stream",
     "text": [
      "\n",
      "Train epoch=0:   8%|█▋                  | 708/8498 [2:02:24<22:26:52, 10.37s/it]\u001b[A"
     ]
    },
    {
     "name": "stdout",
     "output_type": "stream",
     "text": [
      "[(0.9266006006006006, 0.3398805300503467, 0.31515826803064995, 0.8593231421842664)]\n"
     ]
    },
    {
     "name": "stderr",
     "output_type": "stream",
     "text": [
      "\n",
      "Train epoch=0:   8%|█▋                  | 709/8498 [2:02:36<22:26:55, 10.38s/it]\u001b[A"
     ]
    },
    {
     "name": "stdout",
     "output_type": "stream",
     "text": [
      "[(0.8519786666666667, 0.4474538633870301, 0.3863501987507404, 0.7405296223059703)]\n"
     ]
    },
    {
     "name": "stderr",
     "output_type": "stream",
     "text": [
      "\n",
      "Train epoch=0:   8%|█▋                  | 710/8498 [2:02:46<22:26:41, 10.38s/it]\u001b[A"
     ]
    },
    {
     "name": "stdout",
     "output_type": "stream",
     "text": [
      "[(0.8790718562874251, 0.8775336903875299, 0.7833045366364066, 0.7838992675034087)]\n"
     ]
    },
    {
     "name": "stderr",
     "output_type": "stream",
     "text": [
      "\n",
      "Train epoch=0:   8%|█▋                  | 711/8498 [2:02:52<22:25:49, 10.37s/it]\u001b[A"
     ]
    },
    {
     "name": "stdout",
     "output_type": "stream",
     "text": [
      "[(0.9280888888888889, 0.3333333333333333, 0.30936296296296295, 0.8613489856790123)]\n"
     ]
    },
    {
     "name": "stderr",
     "output_type": "stream",
     "text": [
      "\n",
      "Train epoch=0:   8%|█▋                  | 712/8498 [2:03:03<22:25:38, 10.37s/it]\u001b[A"
     ]
    },
    {
     "name": "stdout",
     "output_type": "stream",
     "text": [
      "[(0.46580266666666664, 0.45200389185608414, 0.1896277704439658, 0.39083345404015846)]\n"
     ]
    },
    {
     "name": "stderr",
     "output_type": "stream",
     "text": [
      "\n",
      "Train epoch=0:   8%|█▋                  | 713/8498 [2:03:15<22:25:44, 10.37s/it]\u001b[A"
     ]
    },
    {
     "name": "stdout",
     "output_type": "stream",
     "text": [
      "[(0.605152, 0.3333333333333333, 0.20171733333333333, 0.36620894310400004)]\n"
     ]
    },
    {
     "name": "stderr",
     "output_type": "stream",
     "text": [
      "\n",
      "Train epoch=0:   8%|█▋                  | 714/8498 [2:03:24<22:25:23, 10.37s/it]\u001b[A"
     ]
    },
    {
     "name": "stdout",
     "output_type": "stream",
     "text": [
      "[(0.8313353293413174, 0.5435643325333749, 0.45786091317954764, 0.6916017450886989)]\n"
     ]
    },
    {
     "name": "stderr",
     "output_type": "stream",
     "text": [
      "\n",
      "Train epoch=0:   8%|█▋                  | 715/8498 [2:03:36<22:25:27, 10.37s/it]\u001b[A"
     ]
    },
    {
     "name": "stdout",
     "output_type": "stream",
     "text": [
      "[(0.8680053333333333, 0.6357896541906748, 0.5715971666197475, 0.7583382241483125)]\n"
     ]
    },
    {
     "name": "stderr",
     "output_type": "stream",
     "text": [
      "\n",
      "Train epoch=0:   8%|█▋                  | 716/8498 [2:03:46<22:25:19, 10.37s/it]\u001b[A"
     ]
    },
    {
     "name": "stdout",
     "output_type": "stream",
     "text": [
      "[(0.6831893333333333, 0.5020371582404649, 0.11691130353401952, 0.4762748581342147)]\n"
     ]
    },
    {
     "name": "stderr",
     "output_type": "stream",
     "text": [
      "\n",
      "Train epoch=0:   8%|█▋                  | 717/8498 [2:03:58<22:25:29, 10.38s/it]\u001b[A"
     ]
    },
    {
     "name": "stdout",
     "output_type": "stream",
     "text": [
      "[(0.96365, 0.8158956801529449, 0.7908894184987398, 0.9294071013872871)]\n"
     ]
    },
    {
     "name": "stderr",
     "output_type": "stream",
     "text": [
      "\n",
      "Train epoch=0:   8%|█▋                  | 718/8498 [2:04:10<22:25:26, 10.38s/it]\u001b[A"
     ]
    },
    {
     "name": "stdout",
     "output_type": "stream",
     "text": [
      "[(0.8231471471471471, 0.4908502777681853, 0.4235044737181781, 0.6834061460012126)]\n"
     ]
    },
    {
     "name": "stderr",
     "output_type": "stream",
     "text": [
      "\n",
      "Train epoch=0:   8%|█▋                  | 719/8498 [2:04:21<22:25:22, 10.38s/it]\u001b[A"
     ]
    },
    {
     "name": "stdout",
     "output_type": "stream",
     "text": [
      "[(0.7625066666666667, 0.5497041364008647, 0.2869149766810071, 0.5864928152382399)]\n"
     ]
    },
    {
     "name": "stderr",
     "output_type": "stream",
     "text": [
      "\n",
      "Train epoch=0:   8%|█▋                  | 720/8498 [2:04:31<22:25:11, 10.38s/it]\u001b[A"
     ]
    },
    {
     "name": "stdout",
     "output_type": "stream",
     "text": [
      "[(0.7783072289156626, 0.5195190098182578, 0.20863078611708225, 0.6209736890453127)]\n"
     ]
    },
    {
     "name": "stderr",
     "output_type": "stream",
     "text": [
      "\n",
      "Train epoch=0:   8%|█▋                  | 721/8498 [2:04:42<22:25:05, 10.38s/it]\u001b[A"
     ]
    },
    {
     "name": "stdout",
     "output_type": "stream",
     "text": [
      "[(0.9645465465465466, 0.9100868658627365, 0.8321316183834351, 0.9355589507918278)]\n"
     ]
    },
    {
     "name": "stderr",
     "output_type": "stream",
     "text": [
      "\n",
      "Train epoch=0:   8%|█▋                  | 722/8498 [2:04:53<22:25:10, 10.38s/it]\u001b[A"
     ]
    },
    {
     "name": "stdout",
     "output_type": "stream",
     "text": [
      "[(0.7759946666666667, 0.250154324866251, 0.11308617881385231, 0.6137997655986693)]\n"
     ]
    },
    {
     "name": "stderr",
     "output_type": "stream",
     "text": [
      "\n",
      "Train epoch=0:   9%|█▋                  | 723/8498 [2:05:04<22:25:01, 10.38s/it]\u001b[A"
     ]
    },
    {
     "name": "stdout",
     "output_type": "stream",
     "text": [
      "[(0.8602986666666667, 0.4063561413476157, 0.3570950344913688, 0.7448006730074574)]\n"
     ]
    },
    {
     "name": "stderr",
     "output_type": "stream",
     "text": [
      "\n",
      "Train epoch=0:   9%|█▋                  | 724/8498 [2:05:15<22:24:53, 10.38s/it]\u001b[A"
     ]
    },
    {
     "name": "stdout",
     "output_type": "stream",
     "text": [
      "[(0.770912, 0.506514096643, 0.3916226649535711, 0.5944644966057357)]\n"
     ]
    },
    {
     "name": "stderr",
     "output_type": "stream",
     "text": [
      "\n",
      "Train epoch=0:   9%|█▋                  | 725/8498 [2:05:24<22:24:38, 10.38s/it]\u001b[A"
     ]
    },
    {
     "name": "stdout",
     "output_type": "stream",
     "text": [
      "[(0.9462634730538922, 0.7801802191514362, 0.7042029806226305, 0.9002980565818719)]\n"
     ]
    },
    {
     "name": "stderr",
     "output_type": "stream",
     "text": [
      "\n",
      "Train epoch=0:   9%|█▋                  | 726/8498 [2:05:36<22:24:38, 10.38s/it]\u001b[A"
     ]
    },
    {
     "name": "stdout",
     "output_type": "stream",
     "text": [
      "[(0.9776156156156156, 0.5, 0.4888078078078078, 0.9557322918954991)]\n"
     ]
    },
    {
     "name": "stderr",
     "output_type": "stream",
     "text": [
      "\n",
      "Train epoch=0:   9%|█▋                  | 727/8498 [2:05:46<22:24:30, 10.38s/it]\u001b[A"
     ]
    },
    {
     "name": "stdout",
     "output_type": "stream",
     "text": [
      "[(0.557744, 0.7177658381877807, 0.16148403940927425, 0.5055103418922313)]\n"
     ]
    },
    {
     "name": "stderr",
     "output_type": "stream",
     "text": [
      "\n",
      "Train epoch=0:   9%|█▋                  | 728/8498 [2:05:57<22:24:23, 10.38s/it]\u001b[A"
     ]
    },
    {
     "name": "stdout",
     "output_type": "stream",
     "text": [
      "[(0.8165105105105105, 0.33282656168904295, 0.20412762762762762, 0.6677045349493638)]\n"
     ]
    },
    {
     "name": "stderr",
     "output_type": "stream",
     "text": [
      "\n",
      "Train epoch=0:   9%|█▋                  | 729/8498 [2:06:08<22:24:13, 10.38s/it]\u001b[A"
     ]
    },
    {
     "name": "stdout",
     "output_type": "stream",
     "text": [
      "[(0.9578026666666667, 0.9094945874229132, 0.8651149799883361, 0.9198290801624807)]\n"
     ]
    },
    {
     "name": "stderr",
     "output_type": "stream",
     "text": [
      "\n",
      "Train epoch=0:   9%|█▋                  | 730/8498 [2:06:19<22:24:10, 10.38s/it]\u001b[A"
     ]
    },
    {
     "name": "stdout",
     "output_type": "stream",
     "text": [
      "[(0.7600617283950617, 0.3836175834734566, 0.22798552712710884, 0.5803271878248449)]\n"
     ]
    },
    {
     "name": "stderr",
     "output_type": "stream",
     "text": [
      "\n",
      "Train epoch=0:   9%|█▋                  | 731/8498 [2:06:31<22:24:17, 10.38s/it]\u001b[A"
     ]
    },
    {
     "name": "stdout",
     "output_type": "stream",
     "text": [
      "[(0.947376, 0.3333333333333333, 0.315792, 0.897521285376)]\n"
     ]
    },
    {
     "name": "stderr",
     "output_type": "stream",
     "text": [
      "\n",
      "Train epoch=0:   9%|█▋                  | 732/8498 [2:06:43<22:24:25, 10.39s/it]\u001b[A"
     ]
    },
    {
     "name": "stdout",
     "output_type": "stream",
     "text": [
      "[(0.856992, 0.8339780503824351, 0.37930065788555367, 0.7859744719227113)]\n"
     ]
    },
    {
     "name": "stderr",
     "output_type": "stream",
     "text": [
      "\n",
      "Train epoch=0:   9%|█▋                  | 733/8498 [2:06:54<22:24:19, 10.39s/it]\u001b[A"
     ]
    },
    {
     "name": "stdout",
     "output_type": "stream",
     "text": [
      "[(0.886688, 0.5, 0.443344, 0.786215609344)]\n"
     ]
    },
    {
     "name": "stderr",
     "output_type": "stream",
     "text": [
      "\n",
      "Train epoch=0:   9%|█▋                  | 734/8498 [2:07:05<22:24:22, 10.39s/it]\u001b[A"
     ]
    },
    {
     "name": "stdout",
     "output_type": "stream",
     "text": [
      "[(0.862176, 0.7104965097999221, 0.6337733261138206, 0.7457306487934375)]\n"
     ]
    },
    {
     "name": "stderr",
     "output_type": "stream",
     "text": [
      "\n",
      "Train epoch=0:   9%|█▋                  | 735/8498 [2:07:16<22:24:13, 10.39s/it]\u001b[A"
     ]
    },
    {
     "name": "stdout",
     "output_type": "stream",
     "text": [
      "[(0.564224, 0.5791458062921071, 0.17210637874580026, 0.3376207373777642)]\n"
     ]
    },
    {
     "name": "stderr",
     "output_type": "stream",
     "text": [
      "\n",
      "Train epoch=0:   9%|█▋                  | 736/8498 [2:07:30<22:24:41, 10.39s/it]\u001b[A"
     ]
    },
    {
     "name": "stdout",
     "output_type": "stream",
     "text": [
      "[(0.9836791666666667, 0.5732185661364132, 0.5650352361457727, 0.9676254508631111)]\n"
     ]
    },
    {
     "name": "stderr",
     "output_type": "stream",
     "text": [
      "\n",
      "Train epoch=0:   9%|█▋                  | 737/8498 [2:07:41<22:24:37, 10.40s/it]\u001b[A"
     ]
    },
    {
     "name": "stdout",
     "output_type": "stream",
     "text": [
      "[(0.8614234234234234, 0.49250056657807445, 0.17468090807229503, 0.7638276788382867)]\n"
     ]
    },
    {
     "name": "stderr",
     "output_type": "stream",
     "text": [
      "\n",
      "Train epoch=0:   9%|█▋                  | 738/8498 [2:07:51<22:24:21, 10.39s/it]\u001b[A"
     ]
    },
    {
     "name": "stdout",
     "output_type": "stream",
     "text": [
      "[(0.9451768292682927, 0.9275388896559298, 0.5977617786809883, 0.9072860838485548)]\n"
     ]
    },
    {
     "name": "stderr",
     "output_type": "stream",
     "text": [
      "\n",
      "Train epoch=0:   9%|█▋                  | 739/8498 [2:08:01<22:24:12, 10.39s/it]\u001b[A"
     ]
    },
    {
     "name": "stdout",
     "output_type": "stream",
     "text": [
      "[(0.8410773333333333, 0.8513752614110416, 0.7248095456059471, 0.7273144061252215)]\n"
     ]
    },
    {
     "name": "stderr",
     "output_type": "stream",
     "text": [
      "\n",
      "Train epoch=0:   9%|█▋                  | 740/8498 [2:08:11<22:23:54, 10.39s/it]\u001b[A"
     ]
    },
    {
     "name": "stdout",
     "output_type": "stream",
     "text": [
      "[(0.8772372372372372, 0.7675155656121981, 0.6954995132319197, 0.7725697813172763)]\n"
     ]
    },
    {
     "name": "stderr",
     "output_type": "stream",
     "text": [
      "\n",
      "Train epoch=0:   9%|█▋                  | 741/8498 [2:08:23<22:24:00, 10.40s/it]\u001b[A"
     ]
    },
    {
     "name": "stdout",
     "output_type": "stream",
     "text": [
      "[(0.8290453333333333, 0.8018530746881225, 0.6866437229237363, 0.7062815928485855)]\n"
     ]
    },
    {
     "name": "stderr",
     "output_type": "stream",
     "text": [
      "\n",
      "Train epoch=0:   9%|█▋                  | 742/8498 [2:08:34<22:23:59, 10.40s/it]\u001b[A"
     ]
    },
    {
     "name": "stdout",
     "output_type": "stream",
     "text": [
      "[(0.038012012012012014, 0.49039206570587324, 0.013117098445595854, 0.0020335047752415626)]\n"
     ]
    },
    {
     "name": "stderr",
     "output_type": "stream",
     "text": [
      "\n",
      "Train epoch=0:   9%|█▋                  | 743/8498 [2:08:45<22:23:49, 10.40s/it]\u001b[A"
     ]
    },
    {
     "name": "stdout",
     "output_type": "stream",
     "text": [
      "[(0.919216, 0.8307547611789663, 0.7700225727305217, 0.8501266644762098)]\n"
     ]
    },
    {
     "name": "stderr",
     "output_type": "stream",
     "text": [
      "\n",
      "Train epoch=0:   9%|█▊                  | 744/8498 [2:08:56<22:23:50, 10.40s/it]\u001b[A"
     ]
    },
    {
     "name": "stdout",
     "output_type": "stream",
     "text": [
      "[(0.7517142857142857, 0.7043555161555255, 0.5255919721722999, 0.6170234376557956)]\n"
     ]
    },
    {
     "name": "stderr",
     "output_type": "stream",
     "text": [
      "\n",
      "Train epoch=0:   9%|█▊                  | 745/8498 [2:09:06<22:23:37, 10.40s/it]\u001b[A"
     ]
    },
    {
     "name": "stdout",
     "output_type": "stream",
     "text": [
      "[(0.7589074626865672, 0.8187315502961325, 0.6013051783327952, 0.627888289914293)]\n"
     ]
    },
    {
     "name": "stderr",
     "output_type": "stream",
     "text": [
      "\n",
      "Train epoch=0:   9%|█▊                  | 746/8498 [2:09:18<22:23:40, 10.40s/it]\u001b[A"
     ]
    },
    {
     "name": "stdout",
     "output_type": "stream",
     "text": [
      "[(0.207136, 0.4519206764282533, 0.10504087212124266, 0.09833814609208585)]\n"
     ]
    },
    {
     "name": "stderr",
     "output_type": "stream",
     "text": [
      "\n",
      "Train epoch=0:   9%|█▊                  | 747/8498 [2:09:27<22:23:21, 10.40s/it]\u001b[A"
     ]
    },
    {
     "name": "stdout",
     "output_type": "stream",
     "text": [
      "[(0.6217297297297297, 0.5056358865755015, 0.16062207898904582, 0.39400317626735504)]\n"
     ]
    },
    {
     "name": "stderr",
     "output_type": "stream",
     "text": [
      "\n",
      "Train epoch=0:   9%|█▊                  | 748/8498 [2:09:39<22:23:26, 10.40s/it]\u001b[A"
     ]
    },
    {
     "name": "stdout",
     "output_type": "stream",
     "text": [
      "[(0.7128373333333333, 0.6914617156333294, 0.26571550414553413, 0.5830947923439808)]\n"
     ]
    },
    {
     "name": "stderr",
     "output_type": "stream",
     "text": [
      "\n",
      "Train epoch=0:   9%|█▊                  | 749/8498 [2:09:50<22:23:18, 10.40s/it]\u001b[A"
     ]
    },
    {
     "name": "stdout",
     "output_type": "stream",
     "text": [
      "[(0.7455626666666667, 0.33288565352916943, 0.2485208888888889, 0.5566112407608889)]\n"
     ]
    },
    {
     "name": "stderr",
     "output_type": "stream",
     "text": [
      "\n",
      "Train epoch=0:   9%|█▊                  | 750/8498 [2:10:00<22:23:03, 10.40s/it]\u001b[A"
     ]
    },
    {
     "name": "stdout",
     "output_type": "stream",
     "text": [
      "[(0.8555735735735736, 0.8116333358668458, 0.7167433921853255, 0.7387666687243457)]\n"
     ]
    },
    {
     "name": "stderr",
     "output_type": "stream",
     "text": [
      "\n",
      "Train epoch=0:   9%|█▊                  | 751/8498 [2:10:11<22:22:56, 10.40s/it]\u001b[A"
     ]
    },
    {
     "name": "stdout",
     "output_type": "stream",
     "text": [
      "[(0.8949973333333333, 0.5343851501681385, 0.4814748836765904, 0.801110796571388)]\n"
     ]
    },
    {
     "name": "stderr",
     "output_type": "stream",
     "text": [
      "\n",
      "Train epoch=0:   9%|█▊                  | 752/8498 [2:10:21<22:22:49, 10.40s/it]\u001b[A"
     ]
    },
    {
     "name": "stdout",
     "output_type": "stream",
     "text": [
      "[(0.8494397590361445, 0.7910280269441106, 0.6945676447180962, 0.7313410288384439)]\n"
     ]
    },
    {
     "name": "stderr",
     "output_type": "stream",
     "text": [
      "\n",
      "Train epoch=0:   9%|█▊                  | 753/8498 [2:10:31<22:22:31, 10.40s/it]\u001b[A"
     ]
    },
    {
     "name": "stdout",
     "output_type": "stream",
     "text": [
      "[(0.5134534534534535, 0.5508278164055136, 0.2933802370674218, 0.27742736819434016)]\n"
     ]
    },
    {
     "name": "stderr",
     "output_type": "stream",
     "text": [
      "\n",
      "Train epoch=0:   9%|█▊                  | 754/8498 [2:10:45<22:22:59, 10.41s/it]\u001b[A"
     ]
    },
    {
     "name": "stdout",
     "output_type": "stream",
     "text": [
      "[(0.73504, 0.7448253222814631, 0.5732021887863273, 0.5704620036294772)]\n"
     ]
    },
    {
     "name": "stderr",
     "output_type": "stream",
     "text": [
      "\n",
      "Train epoch=0:   9%|█▊                  | 755/8498 [2:10:55<22:22:44, 10.40s/it]\u001b[A"
     ]
    },
    {
     "name": "stdout",
     "output_type": "stream",
     "text": [
      "[(0.7707261904761905, 0.76831835608973, 0.6020505164723786, 0.6411361136802025)]\n"
     ]
    },
    {
     "name": "stderr",
     "output_type": "stream",
     "text": [
      "\n",
      "Train epoch=0:   9%|█▊                  | 756/8498 [2:11:06<22:22:42, 10.41s/it]\u001b[A"
     ]
    },
    {
     "name": "stdout",
     "output_type": "stream",
     "text": [
      "[(0.8533953488372094, 0.5171938423833958, 0.44350680190461717, 0.7283964234036382)]\n"
     ]
    },
    {
     "name": "stderr",
     "output_type": "stream",
     "text": [
      "\n",
      "Train epoch=0:   9%|█▊                  | 757/8498 [2:11:19<22:22:56, 10.41s/it]\u001b[A"
     ]
    },
    {
     "name": "stdout",
     "output_type": "stream",
     "text": [
      "[(0.8547431192660551, 0.8791964885884389, 0.3615420696946117, 0.773544201247113)]\n"
     ]
    },
    {
     "name": "stderr",
     "output_type": "stream",
     "text": [
      "\n",
      "Train epoch=0:   9%|█▊                  | 758/8498 [2:11:29<22:22:44, 10.41s/it]\u001b[A"
     ]
    },
    {
     "name": "stdout",
     "output_type": "stream",
     "text": [
      "[(0.897264, 0.6112387488493843, 0.5458100109794567, 0.8142639998752106)]\n"
     ]
    },
    {
     "name": "stderr",
     "output_type": "stream",
     "text": [
      "\n",
      "Train epoch=0:   9%|█▊                  | 759/8498 [2:11:41<22:22:47, 10.41s/it]\u001b[A"
     ]
    },
    {
     "name": "stdout",
     "output_type": "stream",
     "text": [
      "[(0.940304, 0.5, 0.470152, 0.8841716124160001)]\n"
     ]
    },
    {
     "name": "stderr",
     "output_type": "stream",
     "text": [
      "\n",
      "Train epoch=0:   9%|█▊                  | 760/8498 [2:11:51<22:22:33, 10.41s/it]\u001b[A"
     ]
    },
    {
     "name": "stdout",
     "output_type": "stream",
     "text": [
      "[(0.9367207207207208, 0.7746162065521793, 0.7357394200975508, 0.8790516665890683)]\n"
     ]
    },
    {
     "name": "stderr",
     "output_type": "stream",
     "text": [
      "\n",
      "Train epoch=0:   9%|█▊                  | 761/8498 [2:12:02<22:22:28, 10.41s/it]\u001b[A"
     ]
    },
    {
     "name": "stdout",
     "output_type": "stream",
     "text": [
      "[(0.6625808383233532, 0.46989952352236725, 0.2863060769306403, 0.6055579256000597)]\n"
     ]
    },
    {
     "name": "stderr",
     "output_type": "stream",
     "text": [
      "\n",
      "Train epoch=0:   9%|█▊                  | 762/8498 [2:12:12<22:22:15, 10.41s/it]\u001b[A"
     ]
    },
    {
     "name": "stdout",
     "output_type": "stream",
     "text": [
      "[(0.7321921921921922, 0.8224034521630954, 0.5601464136003479, 0.6054488456071152)]\n"
     ]
    },
    {
     "name": "stderr",
     "output_type": "stream",
     "text": [
      "\n",
      "Train epoch=0:   9%|█▊                  | 763/8498 [2:12:22<22:21:59, 10.41s/it]\u001b[A"
     ]
    },
    {
     "name": "stdout",
     "output_type": "stream",
     "text": [
      "[(0.6732132132132133, 0.494319807884978, 0.3090845058561509, 0.6313324094582596)]\n"
     ]
    },
    {
     "name": "stderr",
     "output_type": "stream",
     "text": [
      "\n",
      "Train epoch=0:   9%|█▊                  | 764/8498 [2:12:33<22:21:48, 10.41s/it]\u001b[A"
     ]
    },
    {
     "name": "stdout",
     "output_type": "stream",
     "text": [
      "[(0.8212693333333333, 0.5272265345533328, 0.44497623520877944, 0.6902884060250648)]\n"
     ]
    },
    {
     "name": "stderr",
     "output_type": "stream",
     "text": [
      "\n",
      "Train epoch=0:   9%|█▊                  | 765/8498 [2:12:45<22:21:57, 10.41s/it]\u001b[A"
     ]
    },
    {
     "name": "stdout",
     "output_type": "stream",
     "text": [
      "[(0.28790933333333335, 0.4319177826824914, 0.07323186823389409, 0.22695569241759828)]\n"
     ]
    },
    {
     "name": "stderr",
     "output_type": "stream",
     "text": [
      "\n",
      "Train epoch=0:   9%|█▊                  | 766/8498 [2:12:56<22:21:55, 10.41s/it]\u001b[A"
     ]
    },
    {
     "name": "stdout",
     "output_type": "stream",
     "text": [
      "[(0.8974346666666667, 0.6116652376691407, 0.40349648884234146, 0.8291160203916037)]\n"
     ]
    },
    {
     "name": "stderr",
     "output_type": "stream",
     "text": [
      "\n",
      "Train epoch=0:   9%|█▊                  | 767/8498 [2:13:06<22:21:38, 10.41s/it]\u001b[A"
     ]
    },
    {
     "name": "stdout",
     "output_type": "stream",
     "text": [
      "[(0.846038961038961, 0.5, 0.21355515489264054, 0.722703925479536)]\n"
     ]
    },
    {
     "name": "stderr",
     "output_type": "stream",
     "text": [
      "\n",
      "Train epoch=0:   9%|█▊                  | 768/8498 [2:13:16<22:21:22, 10.41s/it]\u001b[A"
     ]
    },
    {
     "name": "stdout",
     "output_type": "stream",
     "text": [
      "[(0.8196816816816817, 0.5, 0.4098408408408408, 0.6718780592845097)]\n"
     ]
    },
    {
     "name": "stderr",
     "output_type": "stream",
     "text": [
      "\n",
      "Train epoch=0:   9%|█▊                  | 769/8498 [2:13:26<22:21:06, 10.41s/it]\u001b[A"
     ]
    },
    {
     "name": "stdout",
     "output_type": "stream",
     "text": [
      "[(0.38837014925373137, 0.3931517584934951, 0.11010954867535128, 0.17278263686441853)]\n"
     ]
    },
    {
     "name": "stderr",
     "output_type": "stream",
     "text": [
      "\n",
      "Train epoch=0:   9%|█▊                  | 770/8498 [2:13:37<22:21:08, 10.41s/it]\u001b[A"
     ]
    },
    {
     "name": "stdout",
     "output_type": "stream",
     "text": [
      "[(0.898432, 0.5938706533353423, 0.5383740451796445, 0.8152654265584247)]\n"
     ]
    },
    {
     "name": "stderr",
     "output_type": "stream",
     "text": [
      "\n",
      "Train epoch=0:   9%|█▊                  | 771/8498 [2:13:48<22:21:02, 10.41s/it]\u001b[A"
     ]
    },
    {
     "name": "stdout",
     "output_type": "stream",
     "text": [
      "[(0.7622453333333333, 0.6779486561708349, 0.5464162556255533, 0.6121657625217148)]\n"
     ]
    },
    {
     "name": "stderr",
     "output_type": "stream",
     "text": [
      "\n",
      "Train epoch=0:   9%|█▊                  | 772/8498 [2:13:59<22:20:53, 10.41s/it]\u001b[A"
     ]
    },
    {
     "name": "stdout",
     "output_type": "stream",
     "text": [
      "[(0.840864, 0.8225989680349581, 0.711220981181565, 0.7182173465704392)]\n"
     ]
    },
    {
     "name": "stderr",
     "output_type": "stream",
     "text": [
      "\n",
      "Train epoch=0:   9%|█▊                  | 773/8498 [2:14:10<22:20:57, 10.42s/it]\u001b[A"
     ]
    },
    {
     "name": "stdout",
     "output_type": "stream",
     "text": [
      "[(0.9028, 0.5129788306668205, 0.3406557106783156, 0.899325393535327)]\n"
     ]
    },
    {
     "name": "stderr",
     "output_type": "stream",
     "text": [
      "\n",
      "Train epoch=0:   9%|█▊                  | 774/8498 [2:14:21<22:20:48, 10.42s/it]\u001b[A"
     ]
    },
    {
     "name": "stdout",
     "output_type": "stream",
     "text": [
      "[(0.9423466666666667, 0.9200070560593749, 0.8752009041416562, 0.8901385381561524)]\n"
     ]
    },
    {
     "name": "stderr",
     "output_type": "stream",
     "text": [
      "\n",
      "Train epoch=0:   9%|█▊                  | 775/8498 [2:14:32<22:20:41, 10.42s/it]\u001b[A"
     ]
    },
    {
     "name": "stdout",
     "output_type": "stream",
     "text": [
      "[(0.7307946666666667, 0.7074947222029766, 0.40540485373177576, 0.6241330556949919)]\n"
     ]
    },
    {
     "name": "stderr",
     "output_type": "stream",
     "text": [
      "\n",
      "Train epoch=0:   9%|█▊                  | 776/8498 [2:14:42<22:20:33, 10.42s/it]\u001b[A"
     ]
    },
    {
     "name": "stdout",
     "output_type": "stream",
     "text": [
      "[(0.8162774869109948, 0.8096163153859381, 0.6787657215076732, 0.6808473232261563)]\n"
     ]
    },
    {
     "name": "stderr",
     "output_type": "stream",
     "text": [
      "\n",
      "Train epoch=0:   9%|█▊                  | 777/8498 [2:14:53<22:20:22, 10.42s/it]\u001b[A"
     ]
    },
    {
     "name": "stdout",
     "output_type": "stream",
     "text": [
      "[(0.49328387096774196, 0.5, 0.16448313842923648, 0.24341063769989016)]\n"
     ]
    },
    {
     "name": "stderr",
     "output_type": "stream",
     "text": [
      "\n",
      "Train epoch=0:   9%|█▊                  | 778/8498 [2:15:01<22:19:48, 10.41s/it]\u001b[A"
     ]
    },
    {
     "name": "stdout",
     "output_type": "stream",
     "text": [
      "[(0.955625, 0.6281309219578035, 0.6055586534782085, 0.913267171629806)]\n"
     ]
    },
    {
     "name": "stderr",
     "output_type": "stream",
     "text": [
      "\n",
      "Train epoch=0:   9%|█▊                  | 779/8498 [2:15:12<22:19:42, 10.41s/it]\u001b[A"
     ]
    },
    {
     "name": "stdout",
     "output_type": "stream",
     "text": [
      "[(0.8307093333333333, 0.7562327663859412, 0.33761714689491285, 0.7357860015799211)]\n"
     ]
    },
    {
     "name": "stderr",
     "output_type": "stream",
     "text": [
      "\n",
      "Train epoch=0:   9%|█▊                  | 780/8498 [2:15:23<22:19:41, 10.41s/it]\u001b[A"
     ]
    },
    {
     "name": "stdout",
     "output_type": "stream",
     "text": [
      "[(0.8777237237237238, 0.6519351820851759, 0.30082360673567055, 0.8102741130958766)]\n"
     ]
    },
    {
     "name": "stderr",
     "output_type": "stream",
     "text": [
      "\n",
      "Train epoch=0:   9%|█▊                  | 781/8498 [2:15:35<22:19:45, 10.42s/it]\u001b[A"
     ]
    },
    {
     "name": "stdout",
     "output_type": "stream",
     "text": [
      "[(0.890544, 0.5675889060858471, 0.35685269794411356, 0.8604256983227582)]\n"
     ]
    },
    {
     "name": "stderr",
     "output_type": "stream",
     "text": [
      "\n",
      "Train epoch=0:   9%|█▊                  | 782/8498 [2:15:45<22:19:33, 10.42s/it]\u001b[A"
     ]
    },
    {
     "name": "stdout",
     "output_type": "stream",
     "text": [
      "[(0.9099146666666666, 0.7854946689582156, 0.4740297593666354, 0.8382116591140737)]\n"
     ]
    },
    {
     "name": "stderr",
     "output_type": "stream",
     "text": [
      "\n",
      "Train epoch=0:   9%|█▊                  | 783/8498 [2:15:58<22:19:51, 10.42s/it]\u001b[A"
     ]
    },
    {
     "name": "stdout",
     "output_type": "stream",
     "text": [
      "[(0.8343598971722365, 0.7550042675248118, 0.3497445287140329, 0.802656916700431)]\n"
     ]
    },
    {
     "name": "stderr",
     "output_type": "stream",
     "text": [
      "\n",
      "Train epoch=0:   9%|█▊                  | 784/8498 [2:16:09<22:19:41, 10.42s/it]\u001b[A"
     ]
    },
    {
     "name": "stdout",
     "output_type": "stream",
     "text": [
      "[(0.7910293333333334, 0.4521740839947632, 0.318729969533681, 0.6930853309595639)]\n"
     ]
    },
    {
     "name": "stderr",
     "output_type": "stream",
     "text": [
      "\n",
      "Train epoch=0:   9%|█▊                  | 785/8498 [2:16:19<22:19:28, 10.42s/it]\u001b[A"
     ]
    },
    {
     "name": "stdout",
     "output_type": "stream",
     "text": [
      "[(0.4006327683615819, 0.49946469825886064, 0.0885929350032795, 0.17765636355968376)]\n"
     ]
    },
    {
     "name": "stderr",
     "output_type": "stream",
     "text": [
      "\n",
      "Train epoch=0:   9%|█▊                  | 786/8498 [2:16:31<22:19:33, 10.42s/it]\u001b[A"
     ]
    },
    {
     "name": "stdout",
     "output_type": "stream",
     "text": [
      "[(0.987264, 0.9560672817477205, 0.9062402487536849, 0.9759017810844205)]\n"
     ]
    },
    {
     "name": "stderr",
     "output_type": "stream",
     "text": [
      "\n",
      "Train epoch=0:   9%|█▊                  | 787/8498 [2:16:39<22:19:00, 10.42s/it]\u001b[A"
     ]
    },
    {
     "name": "stdout",
     "output_type": "stream",
     "text": [
      "[(0.813275, 0.5, 0.4066375, 0.6614162256249999)]\n"
     ]
    },
    {
     "name": "stderr",
     "output_type": "stream",
     "text": [
      "\n",
      "Train epoch=0:   9%|█▊                  | 788/8498 [2:16:50<22:18:54, 10.42s/it]\u001b[A"
     ]
    },
    {
     "name": "stdout",
     "output_type": "stream",
     "text": [
      "[(0.36547305389221557, 0.5607037382722192, 0.16654545706316076, 0.25375679153601594)]\n"
     ]
    },
    {
     "name": "stderr",
     "output_type": "stream",
     "text": [
      "\n",
      "Train epoch=0:   9%|█▊                  | 789/8498 [2:17:01<22:18:47, 10.42s/it]\u001b[A"
     ]
    },
    {
     "name": "stdout",
     "output_type": "stream",
     "text": [
      "[(0.9210930930930931, 0.8895097176080455, 0.4904622270865607, 0.889477322435732)]\n"
     ]
    },
    {
     "name": "stderr",
     "output_type": "stream",
     "text": [
      "\n",
      "Train epoch=0:   9%|█▊                  | 790/8498 [2:17:11<22:18:30, 10.42s/it]\u001b[A"
     ]
    },
    {
     "name": "stdout",
     "output_type": "stream",
     "text": [
      "[(0.8157597597597598, 0.525085967072009, 0.22293787138741825, 0.6877446196055401)]\n"
     ]
    },
    {
     "name": "stderr",
     "output_type": "stream",
     "text": [
      "\n",
      "Train epoch=0:   9%|█▊                  | 791/8498 [2:17:23<22:18:34, 10.42s/it]\u001b[A"
     ]
    },
    {
     "name": "stdout",
     "output_type": "stream",
     "text": [
      "[(0.982624, 0.956834173870617, 0.9391089650878963, 0.9658950546161502)]\n"
     ]
    },
    {
     "name": "stderr",
     "output_type": "stream",
     "text": [
      "\n",
      "Train epoch=0:   9%|█▊                  | 792/8498 [2:17:35<22:18:47, 10.42s/it]\u001b[A"
     ]
    },
    {
     "name": "stdout",
     "output_type": "stream",
     "text": [
      "[(0.9132718446601942, 0.9502642822059573, 0.7468514925329672, 0.8618353412310418)]\n"
     ]
    },
    {
     "name": "stderr",
     "output_type": "stream",
     "text": [
      "\n",
      "Train epoch=0:   9%|█▊                  | 793/8498 [2:17:46<22:18:34, 10.42s/it]\u001b[A"
     ]
    },
    {
     "name": "stdout",
     "output_type": "stream",
     "text": [
      "[(0.7208648648648649, 0.7612561476317747, 0.5628712699074088, 0.5594191165977859)]\n"
     ]
    },
    {
     "name": "stderr",
     "output_type": "stream",
     "text": [
      "\n",
      "Train epoch=0:   9%|█▊                  | 794/8498 [2:17:56<22:18:24, 10.42s/it]\u001b[A"
     ]
    },
    {
     "name": "stdout",
     "output_type": "stream",
     "text": [
      "[(0.5923843843843843, 0.5, 0.2508264925183354, 0.4457570920733055)]\n"
     ]
    },
    {
     "name": "stderr",
     "output_type": "stream",
     "text": [
      "\n",
      "Train epoch=0:   9%|█▊                  | 795/8498 [2:18:07<22:18:19, 10.42s/it]\u001b[A"
     ]
    },
    {
     "name": "stdout",
     "output_type": "stream",
     "text": [
      "[(0.9939573333333334, 0.5, 0.4969786666666667, 0.9879511804871112)]\n"
     ]
    },
    {
     "name": "stderr",
     "output_type": "stream",
     "text": [
      "\n",
      "Train epoch=0:   9%|█▊                  | 796/8498 [2:18:19<22:18:22, 10.43s/it]\u001b[A"
     ]
    },
    {
     "name": "stdout",
     "output_type": "stream",
     "text": [
      "[(0.823696, 0.7576899553322095, 0.4332978561149249, 0.7379687608355034)]\n"
     ]
    },
    {
     "name": "stderr",
     "output_type": "stream",
     "text": [
      "\n",
      "Train epoch=0:   9%|█▉                  | 797/8498 [2:18:29<22:18:11, 10.43s/it]\u001b[A"
     ]
    },
    {
     "name": "stdout",
     "output_type": "stream",
     "text": [
      "[(0.9941493333333333, 0.3333333333333333, 0.33138311111111113, 0.9883328969671111)]\n"
     ]
    },
    {
     "name": "stderr",
     "output_type": "stream",
     "text": [
      "\n",
      "Train epoch=0:   9%|█▉                  | 798/8498 [2:18:40<22:18:04, 10.43s/it]\u001b[A"
     ]
    },
    {
     "name": "stdout",
     "output_type": "stream",
     "text": [
      "[(0.913024, 0.3700532758749545, 0.30829108036504255, 0.8446096909641813)]\n"
     ]
    },
    {
     "name": "stderr",
     "output_type": "stream",
     "text": [
      "\n",
      "Train epoch=0:   9%|█▉                  | 799/8498 [2:18:53<22:18:22, 10.43s/it]\u001b[A"
     ]
    },
    {
     "name": "stdout",
     "output_type": "stream",
     "text": [
      "[(0.8601446808510639, 0.5700257619818467, 0.27659157402351964, 0.856281340954051)]\n"
     ]
    },
    {
     "name": "stderr",
     "output_type": "stream",
     "text": [
      "\n",
      "Train epoch=0:   9%|█▉                  | 800/8498 [2:19:05<22:18:24, 10.43s/it]\u001b[A"
     ]
    },
    {
     "name": "stdout",
     "output_type": "stream",
     "text": [
      "[(0.909152, 0.5371549137117579, 0.3281001541546583, 0.8280208385189608)]\n"
     ]
    },
    {
     "name": "stderr",
     "output_type": "stream",
     "text": [
      "\n",
      "Train epoch=0:   9%|█▉                  | 801/8498 [2:19:16<22:18:16, 10.43s/it]\u001b[A"
     ]
    },
    {
     "name": "stdout",
     "output_type": "stream",
     "text": [
      "[(0.7932693333333334, 0.7423181049590031, 0.6173247561035484, 0.6471102146770478)]\n"
     ]
    },
    {
     "name": "stderr",
     "output_type": "stream",
     "text": [
      "\n",
      "Train epoch=0:   9%|█▉                  | 802/8498 [2:19:25<22:17:58, 10.43s/it]\u001b[A"
     ]
    },
    {
     "name": "stdout",
     "output_type": "stream",
     "text": [
      "[(0.8744624624624625, 0.38777593538282273, 0.25939362417536027, 0.7678265815597006)]\n"
     ]
    },
    {
     "name": "stderr",
     "output_type": "stream",
     "text": [
      "\n",
      "Train epoch=0:   9%|█▉                  | 803/8498 [2:19:35<22:17:42, 10.43s/it]\u001b[A"
     ]
    },
    {
     "name": "stdout",
     "output_type": "stream",
     "text": [
      "[(0.7757717717717718, 0.7080941626944197, 0.41937494704728073, 0.726649111002491)]\n"
     ]
    },
    {
     "name": "stderr",
     "output_type": "stream",
     "text": [
      "\n",
      "Train epoch=0:   9%|█▉                  | 804/8498 [2:19:47<22:17:44, 10.43s/it]\u001b[A"
     ]
    },
    {
     "name": "stdout",
     "output_type": "stream",
     "text": [
      "[(0.79472, 0.7946463022587189, 0.4905130495254242, 0.735833174736142)]\n"
     ]
    },
    {
     "name": "stderr",
     "output_type": "stream",
     "text": [
      "\n",
      "Train epoch=0:   9%|█▉                  | 805/8498 [2:19:57<22:17:34, 10.43s/it]\u001b[A"
     ]
    },
    {
     "name": "stdout",
     "output_type": "stream",
     "text": [
      "[(0.8920993788819875, 0.8469198001730023, 0.774981169901971, 0.8000631291787692)]\n"
     ]
    },
    {
     "name": "stderr",
     "output_type": "stream",
     "text": [
      "\n",
      "Train epoch=0:   9%|█▉                  | 806/8498 [2:20:08<22:17:25, 10.43s/it]\u001b[A"
     ]
    },
    {
     "name": "stdout",
     "output_type": "stream",
     "text": [
      "[(0.7145866666666667, 0.6979066417848078, 0.22485310932093872, 0.6519024538059263)]\n"
     ]
    },
    {
     "name": "stderr",
     "output_type": "stream",
     "text": [
      "\n",
      "Train epoch=0:   9%|█▉                  | 807/8498 [2:20:19<22:17:16, 10.43s/it]\u001b[A"
     ]
    },
    {
     "name": "stdout",
     "output_type": "stream",
     "text": [
      "[(0.8383733333333333, 0.8146069334901813, 0.7047773713559611, 0.7166918954404322)]\n"
     ]
    },
    {
     "name": "stderr",
     "output_type": "stream",
     "text": [
      "\n",
      "Train epoch=0:  10%|█▉                  | 808/8498 [2:20:30<22:17:17, 10.43s/it]\u001b[A"
     ]
    },
    {
     "name": "stdout",
     "output_type": "stream",
     "text": [
      "[(0.48267733333333335, 0.35793459792759563, 0.13001496176101318, 0.4319103299165211)]\n"
     ]
    },
    {
     "name": "stderr",
     "output_type": "stream",
     "text": [
      "\n",
      "Train epoch=0:  10%|█▉                  | 809/8498 [2:20:42<22:17:19, 10.44s/it]\u001b[A"
     ]
    },
    {
     "name": "stdout",
     "output_type": "stream",
     "text": [
      "[(0.9292053333333333, 0.4831364915198303, 0.38706937433419375, 0.8813043915258253)]\n"
     ]
    },
    {
     "name": "stderr",
     "output_type": "stream",
     "text": [
      "\n",
      "Train epoch=0:  10%|█▉                  | 810/8498 [2:20:51<22:16:57, 10.43s/it]\u001b[A"
     ]
    },
    {
     "name": "stdout",
     "output_type": "stream",
     "text": [
      "[(0.7075511551155116, 0.7597627983434498, 0.5374275280928204, 0.5657328387476395)]\n"
     ]
    },
    {
     "name": "stderr",
     "output_type": "stream",
     "text": [
      "\n",
      "Train epoch=0:  10%|█▉                  | 811/8498 [2:21:03<22:17:01, 10.44s/it]\u001b[A"
     ]
    },
    {
     "name": "stdout",
     "output_type": "stream",
     "text": [
      "[(0.8281493333333333, 0.7653413880137279, 0.657404618109331, 0.7013394451686424)]\n"
     ]
    },
    {
     "name": "stderr",
     "output_type": "stream",
     "text": [
      "\n",
      "Train epoch=0:  10%|█▉                  | 812/8498 [2:21:14<22:16:51, 10.44s/it]\u001b[A"
     ]
    },
    {
     "name": "stdout",
     "output_type": "stream",
     "text": [
      "[(0.6862186666666666, 0.6931778277629068, 0.2822772219148919, 0.5679565227407445)]\n"
     ]
    },
    {
     "name": "stderr",
     "output_type": "stream",
     "text": [
      "\n",
      "Train epoch=0:  10%|█▉                  | 813/8498 [2:21:23<22:16:33, 10.44s/it]\u001b[A"
     ]
    },
    {
     "name": "stdout",
     "output_type": "stream",
     "text": [
      "[(0.9578858858858859, 0.528114591360883, 0.5068923541515354, 0.9184055522871916)]\n"
     ]
    },
    {
     "name": "stderr",
     "output_type": "stream",
     "text": [
      "\n",
      "Train epoch=0:  10%|█▉                  | 814/8498 [2:21:35<22:16:38, 10.44s/it]\u001b[A"
     ]
    },
    {
     "name": "stdout",
     "output_type": "stream",
     "text": [
      "[(0.8191413333333334, 0.585144822780881, 0.38185804776117543, 0.7226090550541482)]\n"
     ]
    },
    {
     "name": "stderr",
     "output_type": "stream",
     "text": [
      "\n",
      "Train epoch=0:  10%|█▉                  | 815/8498 [2:21:46<22:16:33, 10.44s/it]\u001b[A"
     ]
    },
    {
     "name": "stdout",
     "output_type": "stream",
     "text": [
      "[(0.8322666666666667, 0.7811641933967788, 0.6693305680035468, 0.7123980727507185)]\n"
     ]
    },
    {
     "name": "stderr",
     "output_type": "stream",
     "text": [
      "\n",
      "Train epoch=0:  10%|█▉                  | 816/8498 [2:21:58<22:16:34, 10.44s/it]\u001b[A"
     ]
    },
    {
     "name": "stdout",
     "output_type": "stream",
     "text": [
      "[(0.958688, 0.9164078093332307, 0.8651014551239614, 0.922166819245611)]\n"
     ]
    },
    {
     "name": "stderr",
     "output_type": "stream",
     "text": [
      "\n",
      "Train epoch=0:  10%|█▉                  | 817/8498 [2:22:08<22:16:22, 10.44s/it]\u001b[A"
     ]
    },
    {
     "name": "stdout",
     "output_type": "stream",
     "text": [
      "[(0.657728, 0.44921525842155696, 0.32633282736481184, 0.4494861486802799)]\n"
     ]
    },
    {
     "name": "stderr",
     "output_type": "stream",
     "text": [
      "\n",
      "Train epoch=0:  10%|█▉                  | 818/8498 [2:22:20<22:16:25, 10.44s/it]\u001b[A"
     ]
    },
    {
     "name": "stdout",
     "output_type": "stream",
     "text": [
      "[(0.7145828877005348, 0.6278526943828945, 0.44569162067988355, 0.5247182833899706)]\n"
     ]
    },
    {
     "name": "stderr",
     "output_type": "stream",
     "text": [
      "\n",
      "Train epoch=0:  10%|█▉                  | 819/8498 [2:22:31<22:16:15, 10.44s/it]\u001b[A"
     ]
    },
    {
     "name": "stdout",
     "output_type": "stream",
     "text": [
      "[(0.702112, 0.41702846116739023, 0.23708007575308992, 0.49436426554187235)]\n"
     ]
    },
    {
     "name": "stderr",
     "output_type": "stream",
     "text": [
      "\n",
      "Train epoch=0:  10%|█▉                  | 820/8498 [2:22:42<22:16:13, 10.44s/it]\u001b[A"
     ]
    },
    {
     "name": "stdout",
     "output_type": "stream",
     "text": [
      "[(0.942695652173913, 0.8905369349796304, 0.808067155345248, 0.8966447087949947)]\n"
     ]
    },
    {
     "name": "stderr",
     "output_type": "stream",
     "text": [
      "\n",
      "Train epoch=0:  10%|█▉                  | 821/8498 [2:22:54<22:16:15, 10.44s/it]\u001b[A"
     ]
    },
    {
     "name": "stdout",
     "output_type": "stream",
     "text": [
      "[(0.827744, 0.8293445990589183, 0.5183532869949281, 0.7750634677665993)]\n"
     ]
    },
    {
     "name": "stderr",
     "output_type": "stream",
     "text": [
      "\n",
      "Train epoch=0:  10%|█▉                  | 822/8498 [2:23:03<22:15:58, 10.44s/it]\u001b[A"
     ]
    },
    {
     "name": "stdout",
     "output_type": "stream",
     "text": [
      "[(0.976936936936937, 0.6961209777836108, 0.675857441033604, 0.955482599446437)]\n"
     ]
    },
    {
     "name": "stderr",
     "output_type": "stream",
     "text": [
      "\n",
      "Train epoch=0:  10%|█▉                  | 823/8498 [2:23:15<22:15:54, 10.44s/it]\u001b[A"
     ]
    },
    {
     "name": "stdout",
     "output_type": "stream",
     "text": [
      "[(0.8756936936936937, 0.3934654087903489, 0.18858943823087618, 0.8364119435976224)]\n"
     ]
    },
    {
     "name": "stderr",
     "output_type": "stream",
     "text": [
      "\n",
      "Train epoch=0:  10%|█▉                  | 824/8498 [2:23:25<22:15:45, 10.44s/it]\u001b[A"
     ]
    },
    {
     "name": "stdout",
     "output_type": "stream",
     "text": [
      "[(0.8555596816976128, 0.48523208581853505, 0.3576939023814395, 0.7742460074672912)]\n"
     ]
    },
    {
     "name": "stderr",
     "output_type": "stream",
     "text": [
      "\n",
      "Train epoch=0:  10%|█▉                  | 825/8498 [2:23:37<22:15:44, 10.44s/it]\u001b[A"
     ]
    },
    {
     "name": "stdout",
     "output_type": "stream",
     "text": [
      "[(0.7126613333333334, 0.5563946311693427, 0.32580153887523383, 0.6210936574360651)]\n"
     ]
    },
    {
     "name": "stderr",
     "output_type": "stream",
     "text": [
      "\n",
      "Train epoch=0:  10%|█▉                  | 826/8498 [2:23:48<22:15:47, 10.45s/it]\u001b[A"
     ]
    },
    {
     "name": "stdout",
     "output_type": "stream",
     "text": [
      "[(0.8933066666666667, 0.46061492962717565, 0.39996835167557093, 0.8123729806132332)]\n"
     ]
    },
    {
     "name": "stderr",
     "output_type": "stream",
     "text": [
      "\n",
      "Train epoch=0:  10%|█▉                  | 827/8498 [2:24:02<22:16:06, 10.45s/it]\u001b[A"
     ]
    },
    {
     "name": "stdout",
     "output_type": "stream",
     "text": [
      "[(0.8714869565217391, 0.8212828386497384, 0.49963636779483056, 0.7938343217515247)]\n"
     ]
    },
    {
     "name": "stderr",
     "output_type": "stream",
     "text": [
      "\n",
      "Train epoch=0:  10%|█▉                  | 828/8498 [2:24:13<22:15:59, 10.45s/it]\u001b[A"
     ]
    },
    {
     "name": "stdout",
     "output_type": "stream",
     "text": [
      "[(0.7448053333333333, 0.41134170534302306, 0.251627225932165, 0.5909960857438781)]\n"
     ]
    },
    {
     "name": "stderr",
     "output_type": "stream",
     "text": [
      "\n",
      "Train epoch=0:  10%|█▉                  | 829/8498 [2:24:24<22:15:50, 10.45s/it]\u001b[A"
     ]
    },
    {
     "name": "stdout",
     "output_type": "stream",
     "text": [
      "[(0.8821382978723404, 0.889211827411581, 0.7890110364687966, 0.7895390817508623)]\n"
     ]
    },
    {
     "name": "stderr",
     "output_type": "stream",
     "text": [
      "\n",
      "Train epoch=0:  10%|█▉                  | 830/8498 [2:24:36<22:15:53, 10.45s/it]\u001b[A"
     ]
    },
    {
     "name": "stdout",
     "output_type": "stream",
     "text": [
      "[(0.8943946666666667, 0.8918261714189519, 0.8052111838667744, 0.8093553127963014)]\n"
     ]
    },
    {
     "name": "stderr",
     "output_type": "stream",
     "text": [
      "\n",
      "Train epoch=0:  10%|█▉                  | 831/8498 [2:24:47<22:15:50, 10.45s/it]\u001b[A"
     ]
    },
    {
     "name": "stdout",
     "output_type": "stream",
     "text": [
      "[(0.5428528528528529, 0.5242526863795695, 0.19728701037158214, 0.3055937935875388)]\n"
     ]
    },
    {
     "name": "stderr",
     "output_type": "stream",
     "text": [
      "\n",
      "Train epoch=0:  10%|█▉                  | 832/8498 [2:24:57<22:15:40, 10.45s/it]\u001b[A"
     ]
    },
    {
     "name": "stdout",
     "output_type": "stream",
     "text": [
      "[(0.6988228228228228, 0.6459097027778563, 0.5054037134106467, 0.5296248110740035)]\n"
     ]
    },
    {
     "name": "stderr",
     "output_type": "stream",
     "text": [
      "\n",
      "Train epoch=0:  10%|█▉                  | 833/8498 [2:25:08<22:15:33, 10.45s/it]\u001b[A"
     ]
    },
    {
     "name": "stdout",
     "output_type": "stream",
     "text": [
      "[(0.808128, 0.5, 0.2695542652207326, 0.6535030477329006)]\n"
     ]
    },
    {
     "name": "stderr",
     "output_type": "stream",
     "text": [
      "\n",
      "Train epoch=0:  10%|█▉                  | 834/8498 [2:25:20<22:15:34, 10.46s/it]\u001b[A"
     ]
    },
    {
     "name": "stdout",
     "output_type": "stream",
     "text": [
      "[(0.756944, 0.4104617978867442, 0.32703848666732965, 0.5876321639908425)]\n"
     ]
    },
    {
     "name": "stderr",
     "output_type": "stream",
     "text": [
      "\n",
      "Train epoch=0:  10%|█▉                  | 835/8498 [2:25:33<22:15:45, 10.46s/it]\u001b[A"
     ]
    },
    {
     "name": "stdout",
     "output_type": "stream",
     "text": [
      "[(0.79996, 0.808529257972211, 0.4633112338543907, 0.6937933375724817)]\n"
     ]
    },
    {
     "name": "stderr",
     "output_type": "stream",
     "text": [
      "\n",
      "Train epoch=0:  10%|█▉                  | 836/8498 [2:25:44<22:15:39, 10.46s/it]\u001b[A"
     ]
    },
    {
     "name": "stdout",
     "output_type": "stream",
     "text": [
      "[(0.7724864864864864, 0.6164337788578371, 0.4942377930254877, 0.6005754491209037)]\n"
     ]
    },
    {
     "name": "stderr",
     "output_type": "stream",
     "text": [
      "\n",
      "Train epoch=0:  10%|█▉                  | 837/8498 [2:25:54<22:15:28, 10.46s/it]\u001b[A"
     ]
    },
    {
     "name": "stdout",
     "output_type": "stream",
     "text": [
      "[(0.981952, 0.5, 0.490976, 0.964229730304)]\n"
     ]
    },
    {
     "name": "stderr",
     "output_type": "stream",
     "text": [
      "\n",
      "Train epoch=0:  10%|█▉                  | 838/8498 [2:26:05<22:15:27, 10.46s/it]\u001b[A"
     ]
    },
    {
     "name": "stdout",
     "output_type": "stream",
     "text": [
      "[(0.6011893333333334, 0.5976943331044895, 0.1948424604706716, 0.3913451560245238)]\n"
     ]
    },
    {
     "name": "stderr",
     "output_type": "stream",
     "text": [
      "\n",
      "Train epoch=0:  10%|█▉                  | 839/8498 [2:26:16<22:15:18, 10.46s/it]\u001b[A"
     ]
    },
    {
     "name": "stdout",
     "output_type": "stream",
     "text": [
      "[(0.846218085106383, 0.5802203823050043, 0.40808204324407377, 0.7674312637314844)]\n"
     ]
    },
    {
     "name": "stderr",
     "output_type": "stream",
     "text": [
      "\n",
      "Train epoch=0:  10%|█▉                  | 840/8498 [2:26:28<22:15:19, 10.46s/it]\u001b[A"
     ]
    },
    {
     "name": "stdout",
     "output_type": "stream",
     "text": [
      "[(0.840384, 0.6269904762875524, 0.49391184546937134, 0.7346003730438175)]\n"
     ]
    },
    {
     "name": "stderr",
     "output_type": "stream",
     "text": [
      "\n",
      "Train epoch=0:  10%|█▉                  | 841/8498 [2:26:37<22:15:00, 10.46s/it]\u001b[A"
     ]
    },
    {
     "name": "stdout",
     "output_type": "stream",
     "text": [
      "[(0.9510778443113772, 0.7275519525390866, 0.6976981005467815, 0.9057280746417972)]\n"
     ]
    },
    {
     "name": "stderr",
     "output_type": "stream",
     "text": [
      "\n",
      "Train epoch=0:  10%|█▉                  | 842/8498 [2:26:49<22:15:02, 10.46s/it]\u001b[A"
     ]
    },
    {
     "name": "stdout",
     "output_type": "stream",
     "text": [
      "[(0.9194613333333334, 0.48874375968256845, 0.4524578919538597, 0.848533473297053)]\n"
     ]
    },
    {
     "name": "stderr",
     "output_type": "stream",
     "text": [
      "\n",
      "Train epoch=0:  10%|█▉                  | 843/8498 [2:27:00<22:14:58, 10.46s/it]\u001b[A"
     ]
    },
    {
     "name": "stdout",
     "output_type": "stream",
     "text": [
      "[(0.7984804804804805, 0.6412047274778435, 0.48012993551047245, 0.6490522500809325)]\n"
     ]
    },
    {
     "name": "stderr",
     "output_type": "stream",
     "text": [
      "\n",
      "Train epoch=0:  10%|█▉                  | 844/8498 [2:27:11<22:14:46, 10.46s/it]\u001b[A"
     ]
    },
    {
     "name": "stdout",
     "output_type": "stream",
     "text": [
      "[(0.958352, 0.5, 0.479176, 0.9184385559039999)]\n"
     ]
    },
    {
     "name": "stderr",
     "output_type": "stream",
     "text": [
      "\n",
      "Train epoch=0:  10%|█▉                  | 845/8498 [2:27:22<22:14:44, 10.46s/it]\u001b[A"
     ]
    },
    {
     "name": "stdout",
     "output_type": "stream",
     "text": [
      "[(0.36623, 0.4526263595974221, 0.26682683278689895, 0.2116717641913034)]\n"
     ]
    },
    {
     "name": "stderr",
     "output_type": "stream",
     "text": [
      "\n",
      "Train epoch=0:  10%|█▉                  | 846/8498 [2:27:34<22:14:51, 10.47s/it]\u001b[A"
     ]
    },
    {
     "name": "stdout",
     "output_type": "stream",
     "text": [
      "[(0.7957333333333333, 0.7284805305426678, 0.40523021989547964, 0.6494893243859136)]\n"
     ]
    },
    {
     "name": "stderr",
     "output_type": "stream",
     "text": [
      "\n",
      "Train epoch=0:  10%|█▉                  | 847/8498 [2:27:45<22:14:44, 10.47s/it]\u001b[A"
     ]
    },
    {
     "name": "stdout",
     "output_type": "stream",
     "text": [
      "[(0.8856106666666667, 0.5177458638154426, 0.4481212872200312, 0.7859002743446138)]\n"
     ]
    },
    {
     "name": "stderr",
     "output_type": "stream",
     "text": [
      "\n",
      "Train epoch=0:  10%|█▉                  | 848/8498 [2:27:56<22:14:35, 10.47s/it]\u001b[A"
     ]
    },
    {
     "name": "stdout",
     "output_type": "stream",
     "text": [
      "[(0.9296, 0.5004163197335554, 0.465214254545731, 0.8641564507784456)]\n"
     ]
    },
    {
     "name": "stderr",
     "output_type": "stream",
     "text": [
      "\n",
      "Train epoch=0:  10%|█▉                  | 849/8498 [2:28:08<22:14:40, 10.47s/it]\u001b[A"
     ]
    },
    {
     "name": "stdout",
     "output_type": "stream",
     "text": [
      "[(0.757472, 0.7955967405824295, 0.6095183355457402, 0.6082061324721666)]\n"
     ]
    },
    {
     "name": "stderr",
     "output_type": "stream",
     "text": [
      "\n",
      "Train epoch=0:  10%|██                  | 850/8498 [2:28:18<22:14:28, 10.47s/it]\u001b[A"
     ]
    },
    {
     "name": "stdout",
     "output_type": "stream",
     "text": [
      "[(0.8773226666666667, 0.7460675954437179, 0.6813321020651699, 0.7797058600551938)]\n"
     ]
    },
    {
     "name": "stderr",
     "output_type": "stream",
     "text": [
      "\n",
      "Train epoch=0:  10%|██                  | 851/8498 [2:28:30<22:14:29, 10.47s/it]\u001b[A"
     ]
    },
    {
     "name": "stdout",
     "output_type": "stream",
     "text": [
      "[(0.962464, 0.48997170260746364, 0.47600828520524, 0.926548516088283)]\n"
     ]
    },
    {
     "name": "stderr",
     "output_type": "stream",
     "text": [
      "\n",
      "Train epoch=0:  10%|██                  | 852/8498 [2:28:40<22:14:18, 10.47s/it]\u001b[A"
     ]
    },
    {
     "name": "stdout",
     "output_type": "stream",
     "text": [
      "[(0.3708746666666667, 0.5, 0.12391898995839014, 0.13787524228346387)]\n"
     ]
    },
    {
     "name": "stderr",
     "output_type": "stream",
     "text": [
      "\n",
      "Train epoch=0:  10%|██                  | 853/8498 [2:28:53<22:14:29, 10.47s/it]\u001b[A"
     ]
    },
    {
     "name": "stdout",
     "output_type": "stream",
     "text": [
      "[(0.7561, 0.7792947675127693, 0.43091983974936793, 0.6379505230346341)]\n"
     ]
    },
    {
     "name": "stderr",
     "output_type": "stream",
     "text": [
      "\n",
      "Train epoch=0:  10%|██                  | 854/8498 [2:29:04<22:14:22, 10.47s/it]\u001b[A"
     ]
    },
    {
     "name": "stdout",
     "output_type": "stream",
     "text": [
      "[(0.808131343283582, 0.2129333318704525, 0.15029713807148787, 0.7181591300925556)]\n"
     ]
    },
    {
     "name": "stderr",
     "output_type": "stream",
     "text": [
      "\n",
      "Train epoch=0:  10%|██                  | 855/8498 [2:29:17<22:14:31, 10.48s/it]\u001b[A"
     ]
    },
    {
     "name": "stdout",
     "output_type": "stream",
     "text": [
      "[(0.861988, 0.8638394210530498, 0.7563170630214693, 0.7559915612791107)]\n"
     ]
    },
    {
     "name": "stderr",
     "output_type": "stream",
     "text": [
      "\n",
      "Train epoch=0:  10%|██                  | 856/8498 [2:29:27<22:14:17, 10.48s/it]\u001b[A"
     ]
    },
    {
     "name": "stdout",
     "output_type": "stream",
     "text": [
      "[(0.9530823181985972, 0.3659088929535755, 0.35019736209914515, 0.9083760822129179)]\n"
     ]
    },
    {
     "name": "stderr",
     "output_type": "stream",
     "text": [
      "\n",
      "Train epoch=0:  10%|██                  | 857/8498 [2:29:38<22:14:13, 10.48s/it]\u001b[A"
     ]
    },
    {
     "name": "stdout",
     "output_type": "stream",
     "text": [
      "[(0.7183543543543544, 0.3977467170897164, 0.2314495743832531, 0.533813972234749)]\n"
     ]
    },
    {
     "name": "stderr",
     "output_type": "stream",
     "text": [
      "\n",
      "Train epoch=0:  10%|██                  | 858/8498 [2:29:48<22:13:55, 10.48s/it]\u001b[A"
     ]
    },
    {
     "name": "stdout",
     "output_type": "stream",
     "text": [
      "[(0.8094174174174175, 0.8240274458409007, 0.47895688018363264, 0.7172957200552026)]\n"
     ]
    },
    {
     "name": "stderr",
     "output_type": "stream",
     "text": [
      "\n",
      "Train epoch=0:  10%|██                  | 859/8498 [2:29:58<22:13:45, 10.48s/it]\u001b[A"
     ]
    },
    {
     "name": "stdout",
     "output_type": "stream",
     "text": [
      "[(0.5605386666666666, 0.49825068739926043, 0.1831934267128684, 0.4121900952619996)]\n"
     ]
    },
    {
     "name": "stderr",
     "output_type": "stream",
     "text": [
      "\n",
      "Train epoch=0:  10%|██                  | 860/8498 [2:30:10<22:13:48, 10.48s/it]\u001b[A"
     ]
    },
    {
     "name": "stdout",
     "output_type": "stream",
     "text": [
      "[(0.9695093333333333, 0.25, 0.24237733333333333, 0.9399483474204444)]\n"
     ]
    },
    {
     "name": "stderr",
     "output_type": "stream",
     "text": [
      "\n",
      "Train epoch=0:  10%|██                  | 861/8498 [2:30:21<22:13:38, 10.48s/it]\u001b[A"
     ]
    },
    {
     "name": "stdout",
     "output_type": "stream",
     "text": [
      "[(0.71136, 0.7835686073495292, 0.3906339564338559, 0.582174840453757)]\n"
     ]
    },
    {
     "name": "stderr",
     "output_type": "stream",
     "text": [
      "\n",
      "Train epoch=0:  10%|██                  | 862/8498 [2:30:31<22:13:20, 10.48s/it]\u001b[A"
     ]
    },
    {
     "name": "stdout",
     "output_type": "stream",
     "text": [
      "[(0.9142878228782287, 0.9138301012812216, 0.8345584382958249, 0.843458695245694)]\n"
     ]
    },
    {
     "name": "stderr",
     "output_type": "stream",
     "text": [
      "\n",
      "Train epoch=0:  10%|██                  | 863/8498 [2:30:43<22:13:27, 10.48s/it]\u001b[A"
     ]
    },
    {
     "name": "stdout",
     "output_type": "stream",
     "text": [
      "[(0.8432693208430914, 0.8441060466949761, 0.7197848001857228, 0.7326274964352999)]\n"
     ]
    },
    {
     "name": "stderr",
     "output_type": "stream",
     "text": [
      "\n",
      "Train epoch=0:  10%|██                  | 864/8498 [2:30:54<22:13:25, 10.48s/it]\u001b[A"
     ]
    },
    {
     "name": "stdout",
     "output_type": "stream",
     "text": [
      "[(0.9907147147147147, 0.5, 0.49535735735735736, 0.9815156459522586)]\n"
     ]
    },
    {
     "name": "stderr",
     "output_type": "stream",
     "text": [
      "\n",
      "Train epoch=0:  10%|██                  | 865/8498 [2:31:05<22:13:15, 10.48s/it]\u001b[A"
     ]
    },
    {
     "name": "stdout",
     "output_type": "stream",
     "text": [
      "[(0.8166986666666667, 0.8247732942758815, 0.48011980754238975, 0.7185898058403204)]\n"
     ]
    },
    {
     "name": "stderr",
     "output_type": "stream",
     "text": [
      "\n",
      "Train epoch=0:  10%|██                  | 866/8498 [2:31:17<22:13:15, 10.48s/it]\u001b[A"
     ]
    },
    {
     "name": "stdout",
     "output_type": "stream",
     "text": [
      "[(0.7447584269662921, 0.7436655626431572, 0.5829472221512779, 0.5833181860846636)]\n"
     ]
    },
    {
     "name": "stderr",
     "output_type": "stream",
     "text": [
      "\n",
      "Train epoch=0:  10%|██                  | 867/8498 [2:31:27<22:13:02, 10.48s/it]\u001b[A"
     ]
    },
    {
     "name": "stdout",
     "output_type": "stream",
     "text": [
      "[(0.8705465838509316, 0.8156060531962911, 0.7167342364581474, 0.773349030787749)]\n"
     ]
    },
    {
     "name": "stderr",
     "output_type": "stream",
     "text": [
      "\n",
      "Train epoch=0:  10%|██                  | 868/8498 [2:31:38<22:12:58, 10.48s/it]\u001b[A"
     ]
    },
    {
     "name": "stdout",
     "output_type": "stream",
     "text": [
      "[(0.7299399399399399, 0.5, 0.36496996996996994, 0.532812315919523)]\n"
     ]
    },
    {
     "name": "stderr",
     "output_type": "stream",
     "text": [
      "\n",
      "Train epoch=0:  10%|██                  | 869/8498 [2:31:49<22:12:53, 10.48s/it]\u001b[A"
     ]
    },
    {
     "name": "stdout",
     "output_type": "stream",
     "text": [
      "[(0.9150074074074074, 0.8133992386115598, 0.5002240126916853, 0.8590640682480908)]\n"
     ]
    },
    {
     "name": "stderr",
     "output_type": "stream",
     "text": [
      "\n",
      "Train epoch=0:  10%|██                  | 870/8498 [2:31:59<22:12:35, 10.48s/it]\u001b[A"
     ]
    },
    {
     "name": "stdout",
     "output_type": "stream",
     "text": [
      "[(0.16756904069767442, 0.4363922704739078, 0.05288048839637161, 0.050033940912687765)]\n"
     ]
    },
    {
     "name": "stderr",
     "output_type": "stream",
     "text": [
      "\n",
      "Train epoch=0:  10%|██                  | 871/8498 [2:32:11<22:12:38, 10.48s/it]\u001b[A"
     ]
    },
    {
     "name": "stdout",
     "output_type": "stream",
     "text": [
      "[(0.5708315789473685, 0.3659308489721857, 0.17086481409851878, 0.33907591372764373)]\n"
     ]
    },
    {
     "name": "stderr",
     "output_type": "stream",
     "text": [
      "\n",
      "Train epoch=0:  10%|██                  | 872/8498 [2:32:21<22:12:28, 10.48s/it]\u001b[A"
     ]
    },
    {
     "name": "stdout",
     "output_type": "stream",
     "text": [
      "[(0.7982506666666667, 0.24980639303549015, 0.19959353713374337, 0.6377966237907019)]\n"
     ]
    },
    {
     "name": "stderr",
     "output_type": "stream",
     "text": [
      "\n",
      "Train epoch=0:  10%|██                  | 873/8498 [2:32:32<22:12:18, 10.48s/it]\u001b[A"
     ]
    },
    {
     "name": "stdout",
     "output_type": "stream",
     "text": [
      "[(0.835952, 0.8639208072348143, 0.6760370914415443, 0.7397055286042297)]\n"
     ]
    },
    {
     "name": "stderr",
     "output_type": "stream",
     "text": [
      "\n",
      "Train epoch=0:  10%|██                  | 874/8498 [2:32:46<22:12:40, 10.49s/it]\u001b[A"
     ]
    },
    {
     "name": "stdout",
     "output_type": "stream",
     "text": [
      "[(0.9670481927710843, 0.7553866362447916, 0.4905549963824223, 0.9399319681298326)]\n"
     ]
    },
    {
     "name": "stderr",
     "output_type": "stream",
     "text": [
      "\n",
      "Train epoch=0:  10%|██                  | 875/8498 [2:32:53<22:11:59, 10.48s/it]\u001b[A"
     ]
    },
    {
     "name": "stdout",
     "output_type": "stream",
     "text": [
      "[(0.4719572192513369, 0.5921341340849351, 0.3036318929081552, 0.3384008210845104)]\n"
     ]
    },
    {
     "name": "stderr",
     "output_type": "stream",
     "text": [
      "\n",
      "Train epoch=0:  10%|██                  | 876/8498 [2:33:03<22:11:48, 10.48s/it]\u001b[A"
     ]
    },
    {
     "name": "stdout",
     "output_type": "stream",
     "text": [
      "[(0.9151351351351351, 0.9303874333350775, 0.8405119847049589, 0.8456088022880481)]\n"
     ]
    },
    {
     "name": "stderr",
     "output_type": "stream",
     "text": [
      "\n",
      "Train epoch=0:  10%|██                  | 877/8498 [2:33:14<22:11:38, 10.48s/it]\u001b[A"
     ]
    },
    {
     "name": "stdout",
     "output_type": "stream",
     "text": [
      "[(0.5040600600600601, 0.6739921972821706, 0.16692058448097663, 0.39871710700395674)]\n"
     ]
    },
    {
     "name": "stderr",
     "output_type": "stream",
     "text": [
      "\n",
      "Train epoch=0:  10%|██                  | 878/8498 [2:33:24<22:11:21, 10.48s/it]\u001b[A"
     ]
    },
    {
     "name": "stdout",
     "output_type": "stream",
     "text": [
      "[(0.5234969325153375, 0.4573467164325079, 0.23667910361829447, 0.39956313996097226)]\n"
     ]
    },
    {
     "name": "stderr",
     "output_type": "stream",
     "text": [
      "\n",
      "Train epoch=0:  10%|██                  | 879/8498 [2:33:32<22:10:51, 10.48s/it]\u001b[A"
     ]
    },
    {
     "name": "stdout",
     "output_type": "stream",
     "text": [
      "[(0.744419726816477, 0.7134408396373113, 0.3715495416353749, 0.5713100357983023)]\n"
     ]
    },
    {
     "name": "stderr",
     "output_type": "stream",
     "text": [
      "\n",
      "Train epoch=0:  10%|██                  | 880/8498 [2:33:42<22:10:41, 10.48s/it]\u001b[A"
     ]
    },
    {
     "name": "stdout",
     "output_type": "stream",
     "text": [
      "[(0.6662133333333333, 0.5050456321275485, 0.22509532960486164, 0.44430082551509054)]\n"
     ]
    },
    {
     "name": "stderr",
     "output_type": "stream",
     "text": [
      "\n",
      "Train epoch=0:  10%|██                  | 881/8498 [2:33:55<22:10:45, 10.48s/it]\u001b[A"
     ]
    },
    {
     "name": "stdout",
     "output_type": "stream",
     "text": [
      "[(0.6932906666666667, 0.4992877352762361, 0.19660269110372994, 0.5459702839953466)]\n"
     ]
    },
    {
     "name": "stderr",
     "output_type": "stream",
     "text": [
      "\n",
      "Train epoch=0:  10%|██                  | 882/8498 [2:34:04<22:10:29, 10.48s/it]\u001b[A"
     ]
    },
    {
     "name": "stdout",
     "output_type": "stream",
     "text": [
      "[(0.8518078078078078, 0.8538376874790956, 0.7418568737652036, 0.7419502330934127)]\n"
     ]
    },
    {
     "name": "stderr",
     "output_type": "stream",
     "text": [
      "\n",
      "Train epoch=0:  10%|██                  | 883/8498 [2:34:16<22:10:25, 10.48s/it]\u001b[A"
     ]
    },
    {
     "name": "stdout",
     "output_type": "stream",
     "text": [
      "[(0.8489970501474926, 0.5, 0.4244985250737463, 0.7207959911591441)]\n"
     ]
    },
    {
     "name": "stderr",
     "output_type": "stream",
     "text": [
      "\n",
      "Train epoch=0:  10%|██                  | 884/8498 [2:34:27<22:10:18, 10.48s/it]\u001b[A"
     ]
    },
    {
     "name": "stdout",
     "output_type": "stream",
     "text": [
      "[(0.22956266666666666, 0.4878167641325536, 0.061002329945181094, 0.05741441690712532)]\n"
     ]
    },
    {
     "name": "stderr",
     "output_type": "stream",
     "text": [
      "\n",
      "Train epoch=0:  10%|██                  | 885/8498 [2:34:36<22:10:02, 10.48s/it]\u001b[A"
     ]
    },
    {
     "name": "stdout",
     "output_type": "stream",
     "text": [
      "[(0.8120540540540541, 0.3333333333333333, 0.2706846846846847, 0.6594317867056245)]\n"
     ]
    },
    {
     "name": "stderr",
     "output_type": "stream",
     "text": [
      "\n",
      "Train epoch=0:  10%|██                  | 886/8498 [2:34:46<22:09:46, 10.48s/it]\u001b[A"
     ]
    },
    {
     "name": "stdout",
     "output_type": "stream",
     "text": [
      "[(0.7855429795044356, 0.5427357217140604, 0.367435898602005, 0.7341645672774426)]\n"
     ]
    },
    {
     "name": "stderr",
     "output_type": "stream",
     "text": [
      "\n",
      "Train epoch=0:  10%|██                  | 887/8498 [2:34:56<22:09:31, 10.48s/it]\u001b[A"
     ]
    },
    {
     "name": "stdout",
     "output_type": "stream",
     "text": [
      "[(0.7329726443768997, 0.8250740705342636, 0.5600445061563222, 0.6074855762293672)]\n"
     ]
    },
    {
     "name": "stderr",
     "output_type": "stream",
     "text": [
      "\n",
      "Train epoch=0:  10%|██                  | 888/8498 [2:35:08<22:09:33, 10.48s/it]\u001b[A"
     ]
    },
    {
     "name": "stdout",
     "output_type": "stream",
     "text": [
      "[(0.9614933333333333, 0.46099423425861225, 0.4148834586234789, 0.9306560582724552)]\n"
     ]
    },
    {
     "name": "stderr",
     "output_type": "stream",
     "text": [
      "\n",
      "Train epoch=0:  10%|██                  | 889/8498 [2:35:18<22:09:20, 10.48s/it]\u001b[A"
     ]
    },
    {
     "name": "stdout",
     "output_type": "stream",
     "text": [
      "[(0.77, 0.5874644590945302, 0.33241871968232306, 0.6432065411199775)]\n"
     ]
    },
    {
     "name": "stderr",
     "output_type": "stream",
     "text": [
      "\n",
      "Train epoch=0:  10%|██                  | 890/8498 [2:35:30<22:09:19, 10.48s/it]\u001b[A"
     ]
    },
    {
     "name": "stdout",
     "output_type": "stream",
     "text": [
      "[(0.973088, 0.9754636038365555, 0.9099784732604426, 0.9497772620554387)]\n"
     ]
    },
    {
     "name": "stderr",
     "output_type": "stream",
     "text": [
      "\n",
      "Train epoch=0:  10%|██                  | 891/8498 [2:35:40<22:09:08, 10.48s/it]\u001b[A"
     ]
    },
    {
     "name": "stdout",
     "output_type": "stream",
     "text": [
      "[(0.5396906666666667, 0.5007985505586573, 0.21322170978781643, 0.4592856056661647)]\n"
     ]
    },
    {
     "name": "stderr",
     "output_type": "stream",
     "text": [
      "\n",
      "Train epoch=0:  10%|██                  | 892/8498 [2:35:50<22:08:52, 10.48s/it]\u001b[A"
     ]
    },
    {
     "name": "stdout",
     "output_type": "stream",
     "text": [
      "[(0.707952802359882, 0.47581246332217797, 0.22614677170102898, 0.6729594246125393)]\n"
     ]
    },
    {
     "name": "stderr",
     "output_type": "stream",
     "text": [
      "\n",
      "Train epoch=0:  11%|██                  | 893/8498 [2:36:00<22:08:33, 10.48s/it]\u001b[A"
     ]
    },
    {
     "name": "stdout",
     "output_type": "stream",
     "text": [
      "[(0.9543734939759037, 0.8197817859956784, 0.5248464527209534, 0.9249316996555538)]\n"
     ]
    },
    {
     "name": "stderr",
     "output_type": "stream",
     "text": [
      "\n",
      "Train epoch=0:  11%|██                  | 894/8498 [2:36:10<22:08:21, 10.48s/it]\u001b[A"
     ]
    },
    {
     "name": "stdout",
     "output_type": "stream",
     "text": [
      "[(0.9431919191919191, 0.9407734971528854, 0.8498249532021271, 0.8974074793513964)]\n"
     ]
    },
    {
     "name": "stderr",
     "output_type": "stream",
     "text": [
      "\n",
      "Train epoch=0:  11%|██                  | 895/8498 [2:36:21<22:08:16, 10.48s/it]\u001b[A"
     ]
    },
    {
     "name": "stdout",
     "output_type": "stream",
     "text": [
      "[(0.72352, 0.7680321788723626, 0.40496879775137, 0.5938442918387827)]\n"
     ]
    },
    {
     "name": "stderr",
     "output_type": "stream",
     "text": [
      "\n",
      "Train epoch=0:  11%|██                  | 896/8498 [2:36:33<22:08:15, 10.48s/it]\u001b[A"
     ]
    },
    {
     "name": "stdout",
     "output_type": "stream",
     "text": [
      "[(0.43036266666666667, 0.6708729307645848, 0.1305024502375052, 0.3375752811080332)]\n"
     ]
    },
    {
     "name": "stderr",
     "output_type": "stream",
     "text": [
      "\n",
      "Train epoch=0:  11%|██                  | 897/8498 [2:36:44<22:08:08, 10.48s/it]\u001b[A"
     ]
    },
    {
     "name": "stdout",
     "output_type": "stream",
     "text": [
      "[(0.8504906666666666, 0.7626478332492794, 0.44876155106509624, 0.7283652102108342)]\n"
     ]
    },
    {
     "name": "stderr",
     "output_type": "stream",
     "text": [
      "\n",
      "Train epoch=0:  11%|██                  | 898/8498 [2:36:55<22:08:07, 10.49s/it]\u001b[A"
     ]
    },
    {
     "name": "stdout",
     "output_type": "stream",
     "text": [
      "[(0.7530346666666666, 0.4099057362373123, 0.24424135419785803, 0.5828590812487181)]\n"
     ]
    },
    {
     "name": "stderr",
     "output_type": "stream",
     "text": [
      "\n",
      "Train epoch=0:  11%|██                  | 899/8498 [2:37:07<22:08:07, 10.49s/it]\u001b[A"
     ]
    },
    {
     "name": "stdout",
     "output_type": "stream",
     "text": [
      "[(0.652467032967033, 0.4092491812815951, 0.11633341636358559, 0.6507761239432437)]\n"
     ]
    },
    {
     "name": "stderr",
     "output_type": "stream",
     "text": [
      "\n",
      "Train epoch=0:  11%|██                  | 900/8498 [2:37:17<22:07:56, 10.49s/it]\u001b[A"
     ]
    },
    {
     "name": "stdout",
     "output_type": "stream",
     "text": [
      "[(0.6435093333333334, 0.42648260029710006, 0.27891969299761094, 0.4368253033641696)]\n"
     ]
    },
    {
     "name": "stderr",
     "output_type": "stream",
     "text": [
      "\n",
      "Train epoch=0:  11%|██                  | 901/8498 [2:37:28<22:07:50, 10.49s/it]\u001b[A"
     ]
    },
    {
     "name": "stdout",
     "output_type": "stream",
     "text": [
      "[(0.9070986666666667, 0.7405023870001564, 0.31011924816086495, 0.8750657976481557)]\n"
     ]
    },
    {
     "name": "stderr",
     "output_type": "stream",
     "text": [
      "\n",
      "Train epoch=0:  11%|██                  | 902/8498 [2:37:38<22:07:35, 10.49s/it]\u001b[A"
     ]
    },
    {
     "name": "stdout",
     "output_type": "stream",
     "text": [
      "[(0.9776416184971098, 0.47591978647168914, 0.2805506623664997, 0.9588514753547543)]\n"
     ]
    },
    {
     "name": "stderr",
     "output_type": "stream",
     "text": [
      "\n",
      "Train epoch=0:  11%|██▏                 | 903/8498 [2:37:49<22:07:25, 10.49s/it]\u001b[A"
     ]
    },
    {
     "name": "stdout",
     "output_type": "stream",
     "text": [
      "[(0.2772892561983471, 0.40974370664669296, 0.15226915163984026, 0.25761591401678097)]\n"
     ]
    },
    {
     "name": "stderr",
     "output_type": "stream",
     "text": [
      "\n",
      "Train epoch=0:  11%|██▏                 | 904/8498 [2:38:00<22:07:16, 10.49s/it]\u001b[A"
     ]
    },
    {
     "name": "stdout",
     "output_type": "stream",
     "text": [
      "[(0.5942986666666666, 0.3850160436194138, 0.25077798927150885, 0.39080747449601533)]\n"
     ]
    },
    {
     "name": "stderr",
     "output_type": "stream",
     "text": [
      "\n",
      "Train epoch=0:  11%|██▏                 | 905/8498 [2:38:11<22:07:12, 10.49s/it]\u001b[A"
     ]
    },
    {
     "name": "stdout",
     "output_type": "stream",
     "text": [
      "[(0.41074133333333335, 0.32726515557142005, 0.1306074687107825, 0.21856236929303896)]\n"
     ]
    },
    {
     "name": "stderr",
     "output_type": "stream",
     "text": [
      "\n",
      "Train epoch=0:  11%|██▏                 | 906/8498 [2:38:23<22:07:16, 10.49s/it]\u001b[A"
     ]
    },
    {
     "name": "stdout",
     "output_type": "stream",
     "text": [
      "[(0.8698613333333334, 0.2533087809261837, 0.19434231472808203, 0.784567486896459)]\n"
     ]
    },
    {
     "name": "stderr",
     "output_type": "stream",
     "text": [
      "\n",
      "Train epoch=0:  11%|██▏                 | 907/8498 [2:38:33<22:07:01, 10.49s/it]\u001b[A"
     ]
    },
    {
     "name": "stdout",
     "output_type": "stream",
     "text": [
      "[(0.9253333333333333, 0.7406976743209654, 0.6477150639890193, 0.8746951764771264)]\n"
     ]
    },
    {
     "name": "stderr",
     "output_type": "stream",
     "text": [
      "\n",
      "Train epoch=0:  11%|██▏                 | 908/8498 [2:38:44<22:06:53, 10.49s/it]\u001b[A"
     ]
    },
    {
     "name": "stdout",
     "output_type": "stream",
     "text": [
      "[(0.9707253333333333, 0.9569125321088542, 0.9068763801065673, 0.9445638042173268)]\n"
     ]
    },
    {
     "name": "stderr",
     "output_type": "stream",
     "text": [
      "\n",
      "Train epoch=0:  11%|██▏                 | 909/8498 [2:38:55<22:06:48, 10.49s/it]\u001b[A"
     ]
    },
    {
     "name": "stdout",
     "output_type": "stream",
     "text": [
      "[(0.3840660660660661, 0.35838335325276116, 0.17818717923389488, 0.3043905436785279)]\n"
     ]
    },
    {
     "name": "stderr",
     "output_type": "stream",
     "text": [
      "\n",
      "Train epoch=0:  11%|██▏                 | 910/8498 [2:39:04<22:06:27, 10.49s/it]\u001b[A"
     ]
    },
    {
     "name": "stdout",
     "output_type": "stream",
     "text": [
      "[(0.8681858974358975, 0.8906069266252675, 0.7660873242240547, 0.7692061980828113)]\n"
     ]
    },
    {
     "name": "stderr",
     "output_type": "stream",
     "text": [
      "\n",
      "Train epoch=0:  11%|██▏                 | 911/8498 [2:39:15<22:06:19, 10.49s/it]\u001b[A"
     ]
    },
    {
     "name": "stdout",
     "output_type": "stream",
     "text": [
      "[(0.6593066666666667, 0.6873888356487788, 0.42208201861486544, 0.6086954014818969)]\n"
     ]
    },
    {
     "name": "stderr",
     "output_type": "stream",
     "text": [
      "\n",
      "Train epoch=0:  11%|██▏                 | 912/8498 [2:39:27<22:06:20, 10.49s/it]\u001b[A"
     ]
    },
    {
     "name": "stdout",
     "output_type": "stream",
     "text": [
      "[(0.9379466666666667, 0.9410152907997398, 0.8821745098014897, 0.8835419549076926)]\n"
     ]
    },
    {
     "name": "stderr",
     "output_type": "stream",
     "text": [
      "\n",
      "Train epoch=0:  11%|██▏                 | 913/8498 [2:39:37<22:06:09, 10.49s/it]\u001b[A"
     ]
    },
    {
     "name": "stdout",
     "output_type": "stream",
     "text": [
      "[(0.7823522727272727, 0.6969578734040119, 0.5900627537363068, 0.6316278222816137)]\n"
     ]
    },
    {
     "name": "stderr",
     "output_type": "stream",
     "text": [
      "\n",
      "Train epoch=0:  11%|██▏                 | 914/8498 [2:39:48<22:05:58, 10.49s/it]\u001b[A"
     ]
    },
    {
     "name": "stdout",
     "output_type": "stream",
     "text": [
      "[(0.7604213333333333, 0.736248819968094, 0.2451830010262981, 0.6259621438997571)]\n"
     ]
    },
    {
     "name": "stderr",
     "output_type": "stream",
     "text": [
      "\n",
      "Train epoch=0:  11%|██▏                 | 915/8498 [2:39:58<22:05:48, 10.49s/it]\u001b[A"
     ]
    },
    {
     "name": "stdout",
     "output_type": "stream",
     "text": [
      "[(0.9567848159745393, 0.7006024071735438, 0.6687977352080922, 0.9178182098804815)]\n"
     ]
    },
    {
     "name": "stderr",
     "output_type": "stream",
     "text": [
      "\n",
      "Train epoch=0:  11%|██▏                 | 916/8498 [2:40:09<22:05:38, 10.49s/it]\u001b[A"
     ]
    },
    {
     "name": "stdout",
     "output_type": "stream",
     "text": [
      "[(0.7061153846153846, 0.7784030619827396, 0.5450646797255169, 0.5509622247075923)]\n"
     ]
    },
    {
     "name": "stderr",
     "output_type": "stream",
     "text": [
      "\n",
      "Train epoch=0:  11%|██▏                 | 917/8498 [2:40:20<22:05:31, 10.49s/it]\u001b[A"
     ]
    },
    {
     "name": "stdout",
     "output_type": "stream",
     "text": [
      "[(0.9313457446808511, 0.669357741061245, 0.3197167971460231, 0.8778022798547237)]\n"
     ]
    },
    {
     "name": "stderr",
     "output_type": "stream",
     "text": [
      "\n",
      "Train epoch=0:  11%|██▏                 | 918/8498 [2:40:31<22:05:27, 10.49s/it]\u001b[A"
     ]
    },
    {
     "name": "stdout",
     "output_type": "stream",
     "text": [
      "[(0.9168906666666666, 0.6104508873346274, 0.41075001816405177, 0.8494837690975594)]\n"
     ]
    },
    {
     "name": "stderr",
     "output_type": "stream",
     "text": [
      "\n",
      "Train epoch=0:  11%|██▏                 | 919/8498 [2:40:42<22:05:18, 10.49s/it]\u001b[A"
     ]
    },
    {
     "name": "stdout",
     "output_type": "stream",
     "text": [
      "[(0.198544, 0.31317932496550793, 0.15552464029678648, 0.14789522354238732)]\n"
     ]
    },
    {
     "name": "stderr",
     "output_type": "stream",
     "text": [
      "\n",
      "Train epoch=0:  11%|██▏                 | 920/8498 [2:40:52<22:05:10, 10.49s/it]\u001b[A"
     ]
    },
    {
     "name": "stdout",
     "output_type": "stream",
     "text": [
      "[(0.8694026666666667, 0.8316933748821993, 0.7120269359266664, 0.7782080835194571)]\n"
     ]
    },
    {
     "name": "stderr",
     "output_type": "stream",
     "text": [
      "\n",
      "Train epoch=0:  11%|██▏                 | 921/8498 [2:41:03<22:05:02, 10.49s/it]\u001b[A"
     ]
    },
    {
     "name": "stdout",
     "output_type": "stream",
     "text": [
      "[(0.7169013333333333, 0.7630658936865377, 0.42075368169453065, 0.5458295669094101)]\n"
     ]
    },
    {
     "name": "stderr",
     "output_type": "stream",
     "text": [
      "\n",
      "Train epoch=0:  11%|██▏                 | 922/8498 [2:41:15<22:05:03, 10.49s/it]\u001b[A"
     ]
    },
    {
     "name": "stdout",
     "output_type": "stream",
     "text": [
      "[(0.70328, 0.5802395826779083, 0.4504597756653484, 0.5363915464917315)]\n"
     ]
    },
    {
     "name": "stderr",
     "output_type": "stream",
     "text": [
      "\n",
      "Train epoch=0:  11%|██▏                 | 923/8498 [2:41:26<22:04:53, 10.49s/it]\u001b[A"
     ]
    },
    {
     "name": "stdout",
     "output_type": "stream",
     "text": [
      "[(0.7584, 0.3268395935880295, 0.21196768764681945, 0.5900716525877328)]\n"
     ]
    },
    {
     "name": "stderr",
     "output_type": "stream",
     "text": [
      "\n",
      "Train epoch=0:  11%|██▏                 | 924/8498 [2:41:36<22:04:43, 10.49s/it]\u001b[A"
     ]
    },
    {
     "name": "stdout",
     "output_type": "stream",
     "text": [
      "[(0.256192, 0.5130514936942221, 0.1335823977984439, 0.07688829856009403)]\n"
     ]
    },
    {
     "name": "stderr",
     "output_type": "stream",
     "text": [
      "\n",
      "Train epoch=0:  11%|██▏                 | 925/8498 [2:41:47<22:04:39, 10.50s/it]\u001b[A"
     ]
    },
    {
     "name": "stdout",
     "output_type": "stream",
     "text": [
      "[(0.6438918918918919, 0.691340373818986, 0.27005137733049334, 0.5240160321914027)]\n"
     ]
    },
    {
     "name": "stderr",
     "output_type": "stream",
     "text": [
      "\n",
      "Train epoch=0:  11%|██▏                 | 926/8498 [2:41:58<22:04:30, 10.50s/it]\u001b[A"
     ]
    },
    {
     "name": "stdout",
     "output_type": "stream",
     "text": [
      "[(0.6294133333333334, 0.5711063240322088, 0.30307260763254984, 0.4433726366467653)]\n"
     ]
    },
    {
     "name": "stderr",
     "output_type": "stream",
     "text": [
      "\n",
      "Train epoch=0:  11%|██▏                 | 927/8498 [2:42:08<22:04:18, 10.50s/it]\u001b[A"
     ]
    },
    {
     "name": "stdout",
     "output_type": "stream",
     "text": [
      "[(0.7956106666666667, 0.7989279775668852, 0.4436288525129947, 0.6645803452795119)]\n"
     ]
    },
    {
     "name": "stderr",
     "output_type": "stream",
     "text": [
      "\n",
      "Train epoch=0:  11%|██▏                 | 928/8498 [2:42:18<22:04:02, 10.49s/it]\u001b[A"
     ]
    },
    {
     "name": "stdout",
     "output_type": "stream",
     "text": [
      "[(0.950018018018018, 0.8520505264040159, 0.8230984315931692, 0.9029674278173565)]\n"
     ]
    },
    {
     "name": "stderr",
     "output_type": "stream",
     "text": [
      "\n",
      "Train epoch=0:  11%|██▏                 | 929/8498 [2:42:30<22:04:01, 10.50s/it]\u001b[A"
     ]
    },
    {
     "name": "stdout",
     "output_type": "stream",
     "text": [
      "[(0.7435573333333333, 0.5296444008131233, 0.36364704126627756, 0.6290813186259375)]\n"
     ]
    },
    {
     "name": "stderr",
     "output_type": "stream",
     "text": [
      "\n",
      "Train epoch=0:  11%|██▏                 | 930/8498 [2:42:39<22:03:40, 10.49s/it]\u001b[A"
     ]
    },
    {
     "name": "stdout",
     "output_type": "stream",
     "text": [
      "[(0.7731571428571429, 0.25, 0.19345372137745656, 0.5982805059811044)]\n"
     ]
    },
    {
     "name": "stderr",
     "output_type": "stream",
     "text": [
      "\n",
      "Train epoch=0:  11%|██▏                 | 931/8498 [2:42:50<22:03:30, 10.49s/it]\u001b[A"
     ]
    },
    {
     "name": "stdout",
     "output_type": "stream",
     "text": [
      "[(0.937664, 0.4977097853596118, 0.3125546666666667, 0.8832594845013334)]\n"
     ]
    },
    {
     "name": "stderr",
     "output_type": "stream",
     "text": [
      "\n",
      "Train epoch=0:  11%|██▏                 | 932/8498 [2:43:00<22:03:20, 10.49s/it]\u001b[A"
     ]
    },
    {
     "name": "stdout",
     "output_type": "stream",
     "text": [
      "[(0.9108533333333333, 0.9205976887062981, 0.8091459236415095, 0.8428968197444102)]\n"
     ]
    },
    {
     "name": "stderr",
     "output_type": "stream",
     "text": [
      "\n",
      "Train epoch=0:  11%|██▏                 | 933/8498 [2:43:12<22:03:20, 10.50s/it]\u001b[A"
     ]
    },
    {
     "name": "stdout",
     "output_type": "stream",
     "text": [
      "[(0.8982026666666667, 0.8919807970974101, 0.5422115261178054, 0.8152530694490217)]\n"
     ]
    },
    {
     "name": "stderr",
     "output_type": "stream",
     "text": [
      "\n",
      "Train epoch=0:  11%|██▏                 | 934/8498 [2:43:22<22:03:07, 10.50s/it]\u001b[A"
     ]
    },
    {
     "name": "stdout",
     "output_type": "stream",
     "text": [
      "[(0.6488837209302326, 0.5704213600623023, 0.3926883366202792, 0.4601548280933766)]\n"
     ]
    },
    {
     "name": "stderr",
     "output_type": "stream",
     "text": [
      "\n",
      "Train epoch=0:  11%|██▏                 | 935/8498 [2:43:32<22:02:50, 10.49s/it]\u001b[A"
     ]
    },
    {
     "name": "stdout",
     "output_type": "stream",
     "text": [
      "[(0.9574914285714285, 0.6050281228710129, 0.29461689422032566, 0.9373826092631173)]\n"
     ]
    },
    {
     "name": "stderr",
     "output_type": "stream",
     "text": [
      "\n",
      "Train epoch=0:  11%|██▏                 | 936/8498 [2:43:43<22:02:43, 10.49s/it]\u001b[A"
     ]
    },
    {
     "name": "stdout",
     "output_type": "stream",
     "text": [
      "[(0.7115253333333333, 0.3409005161060687, 0.24419403259331818, 0.5067427784542052)]\n"
     ]
    },
    {
     "name": "stderr",
     "output_type": "stream",
     "text": [
      "\n",
      "Train epoch=0:  11%|██▏                 | 937/8498 [2:43:53<22:02:31, 10.49s/it]\u001b[A"
     ]
    },
    {
     "name": "stdout",
     "output_type": "stream",
     "text": [
      "[(0.9842826666666666, 0.9503819845731145, 0.9219885578481156, 0.9695326134143063)]\n"
     ]
    },
    {
     "name": "stderr",
     "output_type": "stream",
     "text": [
      "\n",
      "Train epoch=0:  11%|██▏                 | 938/8498 [2:44:01<22:02:02, 10.49s/it]\u001b[A"
     ]
    },
    {
     "name": "stdout",
     "output_type": "stream",
     "text": [
      "[(0.7777660377358491, 0.6281236954738942, 0.34065747092825066, 0.6135137624699845)]\n"
     ]
    },
    {
     "name": "stderr",
     "output_type": "stream",
     "text": [
      "\n",
      "Train epoch=0:  11%|██▏                 | 939/8498 [2:44:10<22:01:40, 10.49s/it]\u001b[A"
     ]
    },
    {
     "name": "stdout",
     "output_type": "stream",
     "text": [
      "[(0.6557610062893082, 0.5684981283970264, 0.28380066268419946, 0.5033752271367687)]\n"
     ]
    },
    {
     "name": "stderr",
     "output_type": "stream",
     "text": [
      "\n",
      "Train epoch=0:  11%|██▏                 | 940/8498 [2:44:20<22:01:20, 10.49s/it]\u001b[A"
     ]
    },
    {
     "name": "stdout",
     "output_type": "stream",
     "text": [
      "[(0.6286726726726727, 0.3431330038627693, 0.2427500752469319, 0.40235154293499703)]\n"
     ]
    },
    {
     "name": "stderr",
     "output_type": "stream",
     "text": [
      "\n",
      "Train epoch=0:  11%|██▏                 | 941/8498 [2:44:30<22:01:05, 10.49s/it]\u001b[A"
     ]
    },
    {
     "name": "stdout",
     "output_type": "stream",
     "text": [
      "[(0.9738928571428571, 0.5, 0.48694642857142856, 0.9484672971938775)]\n"
     ]
    },
    {
     "name": "stderr",
     "output_type": "stream",
     "text": [
      "\n",
      "Train epoch=0:  11%|██▏                 | 942/8498 [2:44:40<22:00:52, 10.49s/it]\u001b[A"
     ]
    },
    {
     "name": "stdout",
     "output_type": "stream",
     "text": [
      "[(0.7245546666666667, 0.7969137038992459, 0.5223389249284839, 0.6165938004455025)]\n"
     ]
    },
    {
     "name": "stderr",
     "output_type": "stream",
     "text": [
      "\n",
      "Train epoch=0:  11%|██▏                 | 943/8498 [2:44:49<22:00:33, 10.49s/it]\u001b[A"
     ]
    },
    {
     "name": "stdout",
     "output_type": "stream",
     "text": [
      "[(0.7563243243243243, 0.6902367270041283, 0.42224321401557274, 0.6874983554069218)]\n"
     ]
    },
    {
     "name": "stderr",
     "output_type": "stream",
     "text": [
      "\n",
      "Train epoch=0:  11%|██▏                 | 944/8498 [2:45:00<22:00:23, 10.49s/it]\u001b[A"
     ]
    },
    {
     "name": "stdout",
     "output_type": "stream",
     "text": [
      "[(0.9410453333333333, 0.9399151908060801, 0.8882314819520256, 0.8884699123184987)]\n"
     ]
    },
    {
     "name": "stderr",
     "output_type": "stream",
     "text": [
      "\n",
      "Train epoch=0:  11%|██▏                 | 945/8498 [2:45:08<21:59:57, 10.49s/it]\u001b[A"
     ]
    },
    {
     "name": "stdout",
     "output_type": "stream",
     "text": [
      "[(0.9593154362416108, 0.541313559322034, 0.5208964604227115, 0.920292194007083)]\n"
     ]
    },
    {
     "name": "stderr",
     "output_type": "stream",
     "text": [
      "\n",
      "Train epoch=0:  11%|██▏                 | 946/8498 [2:45:19<21:59:45, 10.49s/it]\u001b[A"
     ]
    },
    {
     "name": "stdout",
     "output_type": "stream",
     "text": [
      "[(0.6372373333333333, 0.6102438671929804, 0.229521555897077, 0.4747970582569775)]\n"
     ]
    },
    {
     "name": "stderr",
     "output_type": "stream",
     "text": [
      "\n",
      "Train epoch=0:  11%|██▏                 | 947/8498 [2:45:27<21:59:20, 10.48s/it]\u001b[A"
     ]
    },
    {
     "name": "stdout",
     "output_type": "stream",
     "text": [
      "[(0.6116546762589928, 0.588062383115923, 0.3981284433413335, 0.41912011128731963)]\n"
     ]
    },
    {
     "name": "stderr",
     "output_type": "stream",
     "text": [
      "\n",
      "Train epoch=0:  11%|██▏                 | 948/8498 [2:45:38<21:59:10, 10.48s/it]\u001b[A"
     ]
    },
    {
     "name": "stdout",
     "output_type": "stream",
     "text": [
      "[(0.9419306666666667, 0.8907155805431208, 0.8529688215828135, 0.8883267153951823)]\n"
     ]
    },
    {
     "name": "stderr",
     "output_type": "stream",
     "text": [
      "\n",
      "Train epoch=0:  11%|██▏                 | 949/8498 [2:45:49<21:59:04, 10.48s/it]\u001b[A"
     ]
    },
    {
     "name": "stdout",
     "output_type": "stream",
     "text": [
      "[(0.5111893333333334, 0.5423244428782164, 0.07729268422602452, 0.29618417263969177)]\n"
     ]
    },
    {
     "name": "stderr",
     "output_type": "stream",
     "text": [
      "\n",
      "Train epoch=0:  11%|██▏                 | 950/8498 [2:45:58<21:58:46, 10.48s/it]\u001b[A"
     ]
    },
    {
     "name": "stdout",
     "output_type": "stream",
     "text": [
      "[(0.8901681681681681, 0.871344260208852, 0.7891702205365677, 0.8003490815421888)]\n"
     ]
    },
    {
     "name": "stderr",
     "output_type": "stream",
     "text": [
      "\n",
      "Train epoch=0:  11%|██▏                 | 951/8498 [2:46:09<21:58:37, 10.48s/it]\u001b[A"
     ]
    },
    {
     "name": "stdout",
     "output_type": "stream",
     "text": [
      "[(0.9142102102102102, 0.5335629000432678, 0.49568944555475264, 0.8396769591326597)]\n"
     ]
    },
    {
     "name": "stderr",
     "output_type": "stream",
     "text": [
      "\n",
      "Train epoch=0:  11%|██▏                 | 952/8498 [2:46:20<21:58:27, 10.48s/it]\u001b[A"
     ]
    },
    {
     "name": "stdout",
     "output_type": "stream",
     "text": [
      "[(0.7618453333333334, 0.30655490029443827, 0.15587139295203697, 0.6456151530368585)]\n"
     ]
    },
    {
     "name": "stderr",
     "output_type": "stream",
     "text": [
      "\n",
      "Train epoch=0:  11%|██▏                 | 953/8498 [2:46:30<21:58:14, 10.48s/it]\u001b[A"
     ]
    },
    {
     "name": "stdout",
     "output_type": "stream",
     "text": [
      "[(0.8605973333333333, 0.8777701379995798, 0.3815928697303384, 0.7627473880616357)]\n"
     ]
    },
    {
     "name": "stderr",
     "output_type": "stream",
     "text": [
      "\n",
      "Train epoch=0:  11%|██▏                 | 954/8498 [2:46:40<21:58:05, 10.48s/it]\u001b[A"
     ]
    },
    {
     "name": "stdout",
     "output_type": "stream",
     "text": [
      "[(0.8902933333333334, 0.5896968465003034, 0.35571645846540384, 0.7951301300952845)]\n"
     ]
    },
    {
     "name": "stderr",
     "output_type": "stream",
     "text": [
      "\n",
      "Train epoch=0:  11%|██▏                 | 955/8498 [2:46:52<21:58:01, 10.48s/it]\u001b[A"
     ]
    },
    {
     "name": "stdout",
     "output_type": "stream",
     "text": [
      "[(0.8082026666666666, 0.8058732533861805, 0.6708171127309952, 0.671504107219896)]\n"
     ]
    },
    {
     "name": "stderr",
     "output_type": "stream",
     "text": [
      "\n",
      "Train epoch=0:  11%|██▏                 | 956/8498 [2:47:02<21:57:45, 10.48s/it]\u001b[A"
     ]
    },
    {
     "name": "stdout",
     "output_type": "stream",
     "text": [
      "[(0.9410810810810811, 0.8428427560848832, 0.807235014961567, 0.8865163307386996)]\n"
     ]
    },
    {
     "name": "stderr",
     "output_type": "stream",
     "text": [
      "\n",
      "Train epoch=0:  11%|██▎                 | 957/8498 [2:47:11<21:57:27, 10.48s/it]\u001b[A"
     ]
    },
    {
     "name": "stdout",
     "output_type": "stream",
     "text": [
      "[(0.9541321321321321, 0.9350047527861034, 0.8970012046885936, 0.9119445392323589)]\n"
     ]
    },
    {
     "name": "stderr",
     "output_type": "stream",
     "text": [
      "\n",
      "Train epoch=0:  11%|██▎                 | 958/8498 [2:47:22<21:57:16, 10.48s/it]\u001b[A"
     ]
    },
    {
     "name": "stdout",
     "output_type": "stream",
     "text": [
      "[(0.335344, 0.35550642859566, 0.22398315771474983, 0.3169200413790155)]\n"
     ]
    },
    {
     "name": "stderr",
     "output_type": "stream",
     "text": [
      "\n",
      "Train epoch=0:  11%|██▎                 | 959/8498 [2:47:33<21:57:15, 10.48s/it]\u001b[A"
     ]
    },
    {
     "name": "stdout",
     "output_type": "stream",
     "text": [
      "[(0.9470071599045347, 0.24801858157943424, 0.15810470079340033, 0.905534674332217)]\n"
     ]
    },
    {
     "name": "stderr",
     "output_type": "stream",
     "text": [
      "\n",
      "Train epoch=0:  11%|██▎                 | 960/8498 [2:47:44<21:57:05, 10.48s/it]\u001b[A"
     ]
    },
    {
     "name": "stdout",
     "output_type": "stream",
     "text": [
      "[(0.5064373333333333, 0.4878476824003203, 0.23906290334557023, 0.2742721792985491)]\n"
     ]
    },
    {
     "name": "stderr",
     "output_type": "stream",
     "text": [
      "\n",
      "Train epoch=0:  11%|██▎                 | 961/8498 [2:47:54<21:56:51, 10.48s/it]\u001b[A"
     ]
    },
    {
     "name": "stdout",
     "output_type": "stream",
     "text": [
      "[(0.658016, 0.3721675697007109, 0.25952165247787906, 0.5965627385056604)]\n"
     ]
    },
    {
     "name": "stderr",
     "output_type": "stream",
     "text": [
      "\n",
      "Train epoch=0:  11%|██▎                 | 962/8498 [2:48:05<21:56:43, 10.48s/it]\u001b[A"
     ]
    },
    {
     "name": "stdout",
     "output_type": "stream",
     "text": [
      "[(0.7740906666666667, 0.4224813671743124, 0.32511108638967645, 0.6038201198077208)]\n"
     ]
    },
    {
     "name": "stderr",
     "output_type": "stream",
     "text": [
      "\n",
      "Train epoch=0:  11%|██▎                 | 963/8498 [2:48:14<21:56:24, 10.48s/it]\u001b[A"
     ]
    },
    {
     "name": "stdout",
     "output_type": "stream",
     "text": [
      "[(0.920996996996997, 0.5045574387947269, 0.46502720961916993, 0.8482400076225259)]\n"
     ]
    },
    {
     "name": "stderr",
     "output_type": "stream",
     "text": [
      "\n",
      "Train epoch=0:  11%|██▎                 | 964/8498 [2:48:24<21:56:11, 10.48s/it]\u001b[A"
     ]
    },
    {
     "name": "stdout",
     "output_type": "stream",
     "text": [
      "[(0.9180613425925926, 0.4989087226708934, 0.18361226851851853, 0.8446801894450875)]\n"
     ]
    },
    {
     "name": "stderr",
     "output_type": "stream",
     "text": [
      "\n",
      "Train epoch=0:  11%|██▎                 | 965/8498 [2:48:34<21:55:54, 10.48s/it]\u001b[A"
     ]
    },
    {
     "name": "stdout",
     "output_type": "stream",
     "text": [
      "[(0.7697717717717718, 0.4601929086665033, 0.3683998012274732, 0.6019206396960963)]\n"
     ]
    },
    {
     "name": "stderr",
     "output_type": "stream",
     "text": [
      "\n",
      "Train epoch=0:  11%|██▎                 | 966/8498 [2:48:48<21:56:13, 10.49s/it]\u001b[A"
     ]
    },
    {
     "name": "stdout",
     "output_type": "stream",
     "text": [
      "[(0.642184, 0.7690596248994879, 0.23296137777713502, 0.5058015654334419)]\n"
     ]
    },
    {
     "name": "stderr",
     "output_type": "stream",
     "text": [
      "\n",
      "Train epoch=0:  11%|██▎                 | 967/8498 [2:48:59<21:56:02, 10.49s/it]\u001b[A"
     ]
    },
    {
     "name": "stdout",
     "output_type": "stream",
     "text": [
      "[(0.957728, 0.6056277284871953, 0.5811642140742872, 0.9186939039552879)]\n"
     ]
    },
    {
     "name": "stderr",
     "output_type": "stream",
     "text": [
      "\n",
      "Train epoch=0:  11%|██▎                 | 968/8498 [2:49:08<21:55:41, 10.48s/it]\u001b[A"
     ]
    },
    {
     "name": "stdout",
     "output_type": "stream",
     "text": [
      "[(0.9226309148264984, 0.7360766118286163, 0.6940149473095084, 0.8519130898718223)]\n"
     ]
    },
    {
     "name": "stderr",
     "output_type": "stream",
     "text": [
      "\n",
      "Train epoch=0:  11%|██▎                 | 969/8498 [2:49:18<21:55:29, 10.48s/it]\u001b[A"
     ]
    },
    {
     "name": "stdout",
     "output_type": "stream",
     "text": [
      "[(0.7940586666666667, 0.526434916974115, 0.4380623294632227, 0.6408172478879788)]\n"
     ]
    },
    {
     "name": "stderr",
     "output_type": "stream",
     "text": [
      "\n",
      "Train epoch=0:  11%|██▎                 | 970/8498 [2:49:27<21:55:09, 10.48s/it]\u001b[A"
     ]
    },
    {
     "name": "stdout",
     "output_type": "stream",
     "text": [
      "[(0.830578313253012, 0.5023537531540337, 0.41880261491842513, 0.6916908493546338)]\n"
     ]
    },
    {
     "name": "stderr",
     "output_type": "stream",
     "text": [
      "\n",
      "Train epoch=0:  11%|██▎                 | 971/8498 [2:49:37<21:54:57, 10.48s/it]\u001b[A"
     ]
    },
    {
     "name": "stdout",
     "output_type": "stream",
     "text": [
      "[(0.8422453333333333, 0.4410437298568404, 0.21227881042891017, 0.8107624044778287)]\n"
     ]
    },
    {
     "name": "stderr",
     "output_type": "stream",
     "text": [
      "\n",
      "Train epoch=0:  11%|██▎                 | 972/8498 [2:49:48<21:54:47, 10.48s/it]\u001b[A"
     ]
    },
    {
     "name": "stdout",
     "output_type": "stream",
     "text": [
      "[(0.7010293333333333, 0.6592909682046693, 0.35014791837951753, 0.5504112271071953)]\n"
     ]
    },
    {
     "name": "stderr",
     "output_type": "stream",
     "text": [
      "\n",
      "Train epoch=0:  11%|██▎                 | 973/8498 [2:49:58<21:54:34, 10.48s/it]\u001b[A"
     ]
    },
    {
     "name": "stdout",
     "output_type": "stream",
     "text": [
      "[(0.959024, 0.3333333333333333, 0.31967466666666666, 0.919727032576)]\n"
     ]
    },
    {
     "name": "stderr",
     "output_type": "stream",
     "text": [
      "\n",
      "Train epoch=0:  11%|██▎                 | 974/8498 [2:50:08<21:54:21, 10.48s/it]\u001b[A"
     ]
    },
    {
     "name": "stdout",
     "output_type": "stream",
     "text": [
      "[(0.9758773333333334, 0.3917416644088356, 0.3756744414825152, 0.9552676444825122)]\n"
     ]
    },
    {
     "name": "stderr",
     "output_type": "stream",
     "text": [
      "\n",
      "Train epoch=0:  11%|██▎                 | 975/8498 [2:50:19<21:54:08, 10.48s/it]\u001b[A"
     ]
    },
    {
     "name": "stdout",
     "output_type": "stream",
     "text": [
      "[(0.8781813333333334, 0.818628692577288, 0.6835136674372723, 0.7975012372800664)]\n"
     ]
    },
    {
     "name": "stderr",
     "output_type": "stream",
     "text": [
      "\n",
      "Train epoch=0:  11%|██▎                 | 976/8498 [2:50:28<21:53:53, 10.48s/it]\u001b[A"
     ]
    },
    {
     "name": "stdout",
     "output_type": "stream",
     "text": [
      "[(0.668018018018018, 0.5578159873339706, 0.3999270542358307, 0.47613593597561654)]\n"
     ]
    },
    {
     "name": "stderr",
     "output_type": "stream",
     "text": [
      "\n",
      "Train epoch=0:  11%|██▎                 | 977/8498 [2:50:39<21:53:47, 10.48s/it]\u001b[A"
     ]
    },
    {
     "name": "stdout",
     "output_type": "stream",
     "text": [
      "[(0.42434666666666665, 0.4027674820854954, 0.13624450964523374, 0.26318282813989585)]\n"
     ]
    },
    {
     "name": "stderr",
     "output_type": "stream",
     "text": [
      "\n",
      "Train epoch=0:  12%|██▎                 | 978/8498 [2:50:50<21:53:38, 10.48s/it]\u001b[A"
     ]
    },
    {
     "name": "stdout",
     "output_type": "stream",
     "text": [
      "[(0.9137813333333333, 0.7935640403524454, 0.5015198523518579, 0.8484553192492909)]\n"
     ]
    },
    {
     "name": "stderr",
     "output_type": "stream",
     "text": [
      "\n",
      "Train epoch=0:  12%|██▎                 | 979/8498 [2:51:00<21:53:20, 10.48s/it]\u001b[A"
     ]
    },
    {
     "name": "stdout",
     "output_type": "stream",
     "text": [
      "[(0.592066066066066, 0.6301730957928365, 0.2671534732545723, 0.3905892397452144)]\n"
     ]
    },
    {
     "name": "stderr",
     "output_type": "stream",
     "text": [
      "\n",
      "Train epoch=0:  12%|██▎                 | 980/8498 [2:51:10<21:53:07, 10.48s/it]\u001b[A"
     ]
    },
    {
     "name": "stdout",
     "output_type": "stream",
     "text": [
      "[(0.8516426666666667, 0.4194239022782191, 0.27978988439119423, 0.739339808973083)]\n"
     ]
    },
    {
     "name": "stderr",
     "output_type": "stream",
     "text": [
      "\n",
      "Train epoch=0:  12%|██▎                 | 981/8498 [2:51:20<21:52:56, 10.48s/it]\u001b[A"
     ]
    },
    {
     "name": "stdout",
     "output_type": "stream",
     "text": [
      "[(0.9338095238095238, 0.9519186700321454, 0.8593802371060975, 0.8799529803133026)]\n"
     ]
    },
    {
     "name": "stderr",
     "output_type": "stream",
     "text": [
      "\n",
      "Train epoch=0:  12%|██▎                 | 982/8498 [2:51:30<21:52:39, 10.48s/it]\u001b[A"
     ]
    },
    {
     "name": "stdout",
     "output_type": "stream",
     "text": [
      "[(0.6885705705705706, 0.5994918888862631, 0.3889804967992188, 0.5487141441711186)]\n"
     ]
    },
    {
     "name": "stderr",
     "output_type": "stream",
     "text": [
      "\n",
      "Train epoch=0:  12%|██▎                 | 983/8498 [2:51:40<21:52:27, 10.48s/it]\u001b[A"
     ]
    },
    {
     "name": "stdout",
     "output_type": "stream",
     "text": [
      "[(0.9922666666666666, 0.5, 0.24896693108948625, 0.9881663472895769)]\n"
     ]
    },
    {
     "name": "stderr",
     "output_type": "stream",
     "text": [
      "\n",
      "Train epoch=0:  12%|██▎                 | 984/8498 [2:51:51<21:52:20, 10.48s/it]\u001b[A"
     ]
    },
    {
     "name": "stdout",
     "output_type": "stream",
     "text": [
      "[(0.7751815856777493, 0.6879393728054216, 0.5579552973059856, 0.6088727234057127)]\n"
     ]
    },
    {
     "name": "stderr",
     "output_type": "stream",
     "text": [
      "\n",
      "Train epoch=0:  12%|██▎                 | 985/8498 [2:52:01<21:52:08, 10.48s/it]\u001b[A"
     ]
    },
    {
     "name": "stdout",
     "output_type": "stream",
     "text": [
      "[(0.42317333333333335, 0.5413685896487659, 0.2366565208695569, 0.3749616317672073)]\n"
     ]
    },
    {
     "name": "stderr",
     "output_type": "stream",
     "text": [
      "\n",
      "Train epoch=0:  12%|██▎                 | 986/8498 [2:52:11<21:51:55, 10.48s/it]\u001b[A"
     ]
    },
    {
     "name": "stdout",
     "output_type": "stream",
     "text": [
      "[(0.9518346666666667, 0.7243793586613331, 0.35850354468483486, 0.9375192531342692)]\n"
     ]
    },
    {
     "name": "stderr",
     "output_type": "stream",
     "text": [
      "\n",
      "Train epoch=0:  12%|██▎                 | 987/8498 [2:52:21<21:51:36, 10.48s/it]\u001b[A"
     ]
    },
    {
     "name": "stdout",
     "output_type": "stream",
     "text": [
      "[(0.7457669902912621, 0.776669902681423, 0.43377010422532614, 0.6512634977337857)]\n"
     ]
    },
    {
     "name": "stderr",
     "output_type": "stream",
     "text": [
      "\n",
      "Train epoch=0:  12%|██▎                 | 988/8498 [2:52:31<21:51:24, 10.48s/it]\u001b[A"
     ]
    },
    {
     "name": "stdout",
     "output_type": "stream",
     "text": [
      "[(0.74528, 0.39904709105420577, 0.2456793999635246, 0.6480723674772372)]\n"
     ]
    },
    {
     "name": "stderr",
     "output_type": "stream",
     "text": [
      "\n",
      "Train epoch=0:  12%|██▎                 | 989/8498 [2:52:42<21:51:14, 10.48s/it]\u001b[A"
     ]
    },
    {
     "name": "stdout",
     "output_type": "stream",
     "text": [
      "[(0.974848, 0.5, 0.487424, 0.9503286231040001)]\n"
     ]
    },
    {
     "name": "stderr",
     "output_type": "stream",
     "text": [
      "\n",
      "Train epoch=0:  12%|██▎                 | 990/8498 [2:52:49<21:50:40, 10.47s/it]\u001b[A"
     ]
    },
    {
     "name": "stdout",
     "output_type": "stream",
     "text": [
      "[(0.9601076748704663, 0.3867525344009156, 0.3362798804500726, 0.9275083206704845)]\n"
     ]
    },
    {
     "name": "stderr",
     "output_type": "stream",
     "text": [
      "\n",
      "Train epoch=0:  12%|██▎                 | 991/8498 [2:53:01<21:50:41, 10.48s/it]\u001b[A"
     ]
    },
    {
     "name": "stdout",
     "output_type": "stream",
     "text": [
      "[(0.9549304812834225, 0.9745323621687287, 0.8235693186825915, 0.9234786188110482)]\n"
     ]
    },
    {
     "name": "stderr",
     "output_type": "stream",
     "text": [
      "\n",
      "Train epoch=0:  12%|██▎                 | 992/8498 [2:53:12<21:50:33, 10.48s/it]\u001b[A"
     ]
    },
    {
     "name": "stdout",
     "output_type": "stream",
     "text": [
      "[(0.8655093333333334, 0.8823741445569236, 0.7549408494047778, 0.7680312357774397)]\n"
     ]
    },
    {
     "name": "stderr",
     "output_type": "stream",
     "text": [
      "\n",
      "Train epoch=0:  12%|██▎                 | 993/8498 [2:53:22<21:50:19, 10.48s/it]\u001b[A"
     ]
    },
    {
     "name": "stdout",
     "output_type": "stream",
     "text": [
      "[(0.8996396396396397, 0.5847026538687514, 0.2686226096613907, 0.8162106731247285)]\n"
     ]
    },
    {
     "name": "stderr",
     "output_type": "stream",
     "text": [
      "\n",
      "Train epoch=0:  12%|██▎                 | 994/8498 [2:53:32<21:50:07, 10.48s/it]\u001b[A"
     ]
    },
    {
     "name": "stdout",
     "output_type": "stream",
     "text": [
      "[(0.9049493333333334, 0.936172034246104, 0.3328240411829869, 0.8743943518997722)]\n"
     ]
    },
    {
     "name": "stderr",
     "output_type": "stream",
     "text": [
      "\n",
      "Train epoch=0:  12%|██▎                 | 995/8498 [2:53:42<21:49:54, 10.48s/it]\u001b[A"
     ]
    },
    {
     "name": "stdout",
     "output_type": "stream",
     "text": [
      "[(0.6162026666666667, 0.7623687008925063, 0.29704302862699766, 0.49492834538046154)]\n"
     ]
    },
    {
     "name": "stderr",
     "output_type": "stream",
     "text": [
      "\n",
      "Train epoch=0:  12%|██▎                 | 996/8498 [2:53:53<21:49:42, 10.47s/it]\u001b[A"
     ]
    },
    {
     "name": "stdout",
     "output_type": "stream",
     "text": [
      "[(0.95656, 0.8663751923860566, 0.8243621152326142, 0.9174787066665502)]\n"
     ]
    },
    {
     "name": "stderr",
     "output_type": "stream",
     "text": [
      "\n",
      "Train epoch=0:  12%|██▎                 | 997/8498 [2:54:03<21:49:28, 10.47s/it]\u001b[A"
     ]
    },
    {
     "name": "stdout",
     "output_type": "stream",
     "text": [
      "[(0.8956636636636637, 0.47495159922558755, 0.2638569153867623, 0.8067202771461924)]\n"
     ]
    },
    {
     "name": "stderr",
     "output_type": "stream",
     "text": [
      "\n",
      "Train epoch=0:  12%|██▎                 | 998/8498 [2:54:14<21:49:22, 10.48s/it]\u001b[A"
     ]
    },
    {
     "name": "stdout",
     "output_type": "stream",
     "text": [
      "[(0.9169401197604791, 0.9334395738957766, 0.8326541520252264, 0.8510983174361914)]\n"
     ]
    },
    {
     "name": "stderr",
     "output_type": "stream",
     "text": [
      "\n",
      "Train epoch=0:  12%|██▎                 | 999/8498 [2:54:23<21:49:04, 10.47s/it]\u001b[A"
     ]
    },
    {
     "name": "stdout",
     "output_type": "stream",
     "text": [
      "[(0.852189349112426, 0.2391754905738086, 0.1719323587873289, 0.7657501013942876)]\n"
     ]
    },
    {
     "name": "stderr",
     "output_type": "stream",
     "text": [
      "\n",
      "Train epoch=0:  12%|██▏                | 1000/8498 [2:54:32<21:48:45, 10.47s/it]\u001b[A"
     ]
    },
    {
     "name": "stdout",
     "output_type": "stream",
     "text": [
      "[(0.7204550898203593, 0.5411065399119988, 0.2768523651907718, 0.5454490850135856)]\n"
     ]
    },
    {
     "name": "stderr",
     "output_type": "stream",
     "text": [
      "\n",
      "Train epoch=0:  12%|██▏                | 1001/8498 [2:54:42<21:48:31, 10.47s/it]\u001b[A"
     ]
    },
    {
     "name": "stdout",
     "output_type": "stream",
     "text": [
      "[(0.9026346666666667, 0.6660075649585842, 0.409638309597327, 0.8164043960686975)]\n"
     ]
    },
    {
     "name": "stderr",
     "output_type": "stream",
     "text": [
      "\n",
      "Train epoch=0:  12%|██▏                | 1002/8498 [2:54:54<21:48:28, 10.47s/it]\u001b[A"
     ]
    },
    {
     "name": "stdout",
     "output_type": "stream",
     "text": [
      "[(0.6988931116389548, 0.31422521345386306, 0.15566171937018192, 0.5796069913237804)]\n"
     ]
    },
    {
     "name": "stderr",
     "output_type": "stream",
     "text": [
      "\n",
      "Train epoch=0:  12%|██▏                | 1003/8498 [2:55:04<21:48:19, 10.47s/it]\u001b[A"
     ]
    },
    {
     "name": "stdout",
     "output_type": "stream",
     "text": [
      "[(0.8644225352112676, 0.7947327215896627, 0.705206638718999, 0.7576109404340993)]\n"
     ]
    },
    {
     "name": "stderr",
     "output_type": "stream",
     "text": [
      "\n",
      "Train epoch=0:  12%|██▏                | 1004/8498 [2:55:14<21:48:02, 10.47s/it]\u001b[A"
     ]
    },
    {
     "name": "stdout",
     "output_type": "stream",
     "text": [
      "[(0.9044564564564564, 0.9158271584106116, 0.7990012233762933, 0.8327578108665454)]\n"
     ]
    },
    {
     "name": "stderr",
     "output_type": "stream",
     "text": [
      "\n",
      "Train epoch=0:  12%|██▏                | 1005/8498 [2:55:23<21:47:43, 10.47s/it]\u001b[A"
     ]
    },
    {
     "name": "stdout",
     "output_type": "stream",
     "text": [
      "[(0.8541321321321321, 0.6631502426498854, 0.5563775348116314, 0.7447095077902319)]\n"
     ]
    },
    {
     "name": "stderr",
     "output_type": "stream",
     "text": [
      "\n",
      "Train epoch=0:  12%|██▏                | 1006/8498 [2:55:33<21:47:26, 10.47s/it]\u001b[A"
     ]
    },
    {
     "name": "stdout",
     "output_type": "stream",
     "text": [
      "[(0.6952916666666666, 0.5638493652551759, 0.40438180641002375, 0.48776552148621655)]\n"
     ]
    },
    {
     "name": "stderr",
     "output_type": "stream",
     "text": [
      "\n",
      "Train epoch=0:  12%|██▎                | 1007/8498 [2:55:45<21:47:27, 10.47s/it]\u001b[A"
     ]
    },
    {
     "name": "stdout",
     "output_type": "stream",
     "text": [
      "[(0.7748682170542636, 0.6271785790055132, 0.5056219985385108, 0.6053767501830692)]\n"
     ]
    },
    {
     "name": "stderr",
     "output_type": "stream",
     "text": [
      "\n",
      "Train epoch=0:  12%|██▎                | 1008/8498 [2:55:55<21:47:14, 10.47s/it]\u001b[A"
     ]
    },
    {
     "name": "stdout",
     "output_type": "stream",
     "text": [
      "[(0.969951871657754, 0.4945279952886776, 0.3233172905525847, 0.951216758500386)]\n"
     ]
    },
    {
     "name": "stderr",
     "output_type": "stream",
     "text": [
      "\n",
      "Train epoch=0:  12%|██▎                | 1009/8498 [2:56:07<21:47:15, 10.47s/it]\u001b[A"
     ]
    },
    {
     "name": "stdout",
     "output_type": "stream",
     "text": [
      "[(0.9814652631578947, 0.5672303052777143, 0.5557266476044652, 0.9639812097373422)]\n"
     ]
    },
    {
     "name": "stderr",
     "output_type": "stream",
     "text": [
      "\n",
      "Train epoch=0:  12%|██▎                | 1010/8498 [2:56:18<21:47:05, 10.47s/it]\u001b[A"
     ]
    },
    {
     "name": "stdout",
     "output_type": "stream",
     "text": [
      "[(0.957056, 0.5912458502467378, 0.38823942575592557, 0.9396898014472482)]\n"
     ]
    },
    {
     "name": "stderr",
     "output_type": "stream",
     "text": [
      "\n",
      "Train epoch=0:  12%|██▎                | 1011/8498 [2:56:27<21:46:45, 10.47s/it]\u001b[A"
     ]
    },
    {
     "name": "stdout",
     "output_type": "stream",
     "text": [
      "[(0.9827027027027027, 0.7054642162252082, 0.455797802401749, 0.9772241998019697)]\n"
     ]
    },
    {
     "name": "stderr",
     "output_type": "stream",
     "text": [
      "\n",
      "Train epoch=0:  12%|██▎                | 1012/8498 [2:56:37<21:46:29, 10.47s/it]\u001b[A"
     ]
    },
    {
     "name": "stdout",
     "output_type": "stream",
     "text": [
      "[(0.927144578313253, 0.9341796172672473, 0.8637757961449279, 0.8646985841847432)]\n"
     ]
    },
    {
     "name": "stderr",
     "output_type": "stream",
     "text": [
      "\n",
      "Train epoch=0:  12%|██▎                | 1013/8498 [2:56:46<21:46:13, 10.47s/it]\u001b[A"
     ]
    },
    {
     "name": "stdout",
     "output_type": "stream",
     "text": [
      "[(0.8906666666666667, 0.7845640279489388, 0.717235967882122, 0.797567078035694)]\n"
     ]
    },
    {
     "name": "stderr",
     "output_type": "stream",
     "text": [
      "\n",
      "Train epoch=0:  12%|██▎                | 1014/8498 [2:56:56<21:46:00, 10.47s/it]\u001b[A"
     ]
    },
    {
     "name": "stdout",
     "output_type": "stream",
     "text": [
      "[(0.858832, 0.5260916287476874, 0.44740025645948367, 0.7617297061304249)]\n"
     ]
    },
    {
     "name": "stderr",
     "output_type": "stream",
     "text": [
      "\n",
      "Train epoch=0:  12%|██▎                | 1015/8498 [2:57:07<21:45:48, 10.47s/it]\u001b[A"
     ]
    },
    {
     "name": "stdout",
     "output_type": "stream",
     "text": [
      "[(0.928384, 0.9359924521999119, 0.8529829693496739, 0.8692565175361462)]\n"
     ]
    },
    {
     "name": "stderr",
     "output_type": "stream",
     "text": [
      "\n",
      "Train epoch=0:  12%|██▎                | 1016/8498 [2:57:17<21:45:37, 10.47s/it]\u001b[A"
     ]
    },
    {
     "name": "stdout",
     "output_type": "stream",
     "text": [
      "[(0.6034026666666666, 0.47056885301713547, 0.1841625770978057, 0.4495755179815871)]\n"
     ]
    },
    {
     "name": "stderr",
     "output_type": "stream",
     "text": [
      "\n",
      "Train epoch=0:  12%|██▎                | 1017/8498 [2:57:28<21:45:30, 10.47s/it]\u001b[A"
     ]
    },
    {
     "name": "stdout",
     "output_type": "stream",
     "text": [
      "[(0.814624685138539, 0.615010755690313, 0.517530957477092, 0.6679912931942569)]\n"
     ]
    },
    {
     "name": "stderr",
     "output_type": "stream",
     "text": [
      "\n",
      "Train epoch=0:  12%|██▎                | 1018/8498 [2:57:39<21:45:24, 10.47s/it]\u001b[A"
     ]
    },
    {
     "name": "stdout",
     "output_type": "stream",
     "text": [
      "[(0.5612978208232445, 0.5011618558858187, 0.11284975600212685, 0.31585493762734723)]\n"
     ]
    },
    {
     "name": "stderr",
     "output_type": "stream",
     "text": [
      "\n",
      "Train epoch=0:  12%|██▎                | 1019/8498 [2:57:48<21:45:04, 10.47s/it]\u001b[A"
     ]
    },
    {
     "name": "stdout",
     "output_type": "stream",
     "text": [
      "[(0.8732709030100334, 0.6017523287291779, 0.5343738622047591, 0.7723244046279225)]\n"
     ]
    },
    {
     "name": "stderr",
     "output_type": "stream",
     "text": [
      "\n",
      "Train epoch=0:  12%|██▎                | 1020/8498 [2:57:57<21:44:42, 10.47s/it]\u001b[A"
     ]
    },
    {
     "name": "stdout",
     "output_type": "stream",
     "text": [
      "[(0.9780377358490566, 0.5260586319218241, 0.5150642235796751, 0.9565583958985004)]\n"
     ]
    },
    {
     "name": "stderr",
     "output_type": "stream",
     "text": [
      "\n",
      "Train epoch=0:  12%|██▎                | 1021/8498 [2:58:09<21:44:41, 10.47s/it]\u001b[A"
     ]
    },
    {
     "name": "stdout",
     "output_type": "stream",
     "text": [
      "[(0.501483692512386, 0.5, 0.102876254180602, 0.2579538190916554)]\n"
     ]
    },
    {
     "name": "stderr",
     "output_type": "stream",
     "text": [
      "\n",
      "Train epoch=0:  12%|██▎                | 1022/8498 [2:58:20<21:44:37, 10.47s/it]\u001b[A"
     ]
    },
    {
     "name": "stdout",
     "output_type": "stream",
     "text": [
      "[(0.9019413333333334, 0.3450825970034575, 0.31311355281215, 0.8175491075378019)]\n"
     ]
    },
    {
     "name": "stderr",
     "output_type": "stream",
     "text": [
      "\n",
      "Train epoch=0:  12%|██▎                | 1023/8498 [2:58:31<21:44:28, 10.47s/it]\u001b[A"
     ]
    },
    {
     "name": "stdout",
     "output_type": "stream",
     "text": [
      "[(0.9111413333333334, 0.5078281933120643, 0.46333597764725803, 0.8301897045887076)]\n"
     ]
    },
    {
     "name": "stderr",
     "output_type": "stream",
     "text": [
      "\n",
      "Train epoch=0:  12%|██▎                | 1024/8498 [2:58:41<21:44:13, 10.47s/it]\u001b[A"
     ]
    },
    {
     "name": "stdout",
     "output_type": "stream",
     "text": [
      "[(0.8958378378378379, 0.9285849983510676, 0.6648564569664923, 0.8484522378863578)]\n"
     ]
    },
    {
     "name": "stderr",
     "output_type": "stream",
     "text": [
      "\n",
      "Train epoch=0:  12%|██▎                | 1025/8498 [2:58:50<21:43:54, 10.47s/it]\u001b[A"
     ]
    },
    {
     "name": "stdout",
     "output_type": "stream",
     "text": [
      "[(0.6364084084084084, 0.4689497070226062, 0.24947673501484446, 0.5078447309640919)]\n"
     ]
    },
    {
     "name": "stderr",
     "output_type": "stream",
     "text": [
      "\n",
      "Train epoch=0:  12%|██▎                | 1026/8498 [2:59:01<21:43:44, 10.47s/it]\u001b[A"
     ]
    },
    {
     "name": "stdout",
     "output_type": "stream",
     "text": [
      "[(0.9205493333333333, 0.5074608241418077, 0.4769796002849975, 0.8488953731693678)]\n"
     ]
    },
    {
     "name": "stderr",
     "output_type": "stream",
     "text": [
      "\n",
      "Train epoch=0:  12%|██▎                | 1027/8498 [2:59:10<21:43:29, 10.47s/it]\u001b[A"
     ]
    },
    {
     "name": "stdout",
     "output_type": "stream",
     "text": [
      "[(0.7744564564564564, 0.5029817054263566, 0.17212816796899144, 0.661864194234231)]\n"
     ]
    },
    {
     "name": "stderr",
     "output_type": "stream",
     "text": [
      "\n",
      "Train epoch=0:  12%|██▎                | 1028/8498 [2:59:21<21:43:22, 10.47s/it]\u001b[A"
     ]
    },
    {
     "name": "stdout",
     "output_type": "stream",
     "text": [
      "[(0.9232373333333334, 0.5, 0.4616186666666667, 0.8523671736604445)]\n"
     ]
    },
    {
     "name": "stderr",
     "output_type": "stream",
     "text": [
      "\n",
      "Train epoch=0:  12%|██▎                | 1029/8498 [2:59:33<21:43:16, 10.47s/it]\u001b[A"
     ]
    },
    {
     "name": "stdout",
     "output_type": "stream",
     "text": [
      "[(0.8905226666666667, 0.7535241708892677, 0.6918392935558383, 0.7945515250882487)]\n"
     ]
    },
    {
     "name": "stderr",
     "output_type": "stream",
     "text": [
      "\n",
      "Train epoch=0:  12%|██▎                | 1030/8498 [2:59:42<21:43:01, 10.47s/it]\u001b[A"
     ]
    },
    {
     "name": "stdout",
     "output_type": "stream",
     "text": [
      "[(0.6997803468208093, 0.5255417108196002, 0.3729659781693688, 0.49117316072124534)]\n"
     ]
    },
    {
     "name": "stderr",
     "output_type": "stream",
     "text": [
      "\n",
      "Train epoch=0:  12%|██▎                | 1031/8498 [2:59:52<21:42:48, 10.47s/it]\u001b[A"
     ]
    },
    {
     "name": "stdout",
     "output_type": "stream",
     "text": [
      "[(0.5232426666666666, 0.49262874588254196, 0.1425474538247841, 0.4542177683858144)]\n"
     ]
    },
    {
     "name": "stderr",
     "output_type": "stream",
     "text": [
      "\n",
      "Train epoch=0:  12%|██▎                | 1032/8498 [3:00:01<21:42:23, 10.47s/it]\u001b[A"
     ]
    },
    {
     "name": "stdout",
     "output_type": "stream",
     "text": [
      "[(0.811288256227758, 0.3735205190382411, 0.3182386246795002, 0.6644445408246756)]\n"
     ]
    },
    {
     "name": "stderr",
     "output_type": "stream",
     "text": [
      "\n",
      "Train epoch=0:  12%|██▎                | 1033/8498 [3:00:09<21:41:55, 10.46s/it]\u001b[A"
     ]
    },
    {
     "name": "stdout",
     "output_type": "stream",
     "text": [
      "[(0.988804780876494, 0.5, 0.494402390438247, 0.9777348946842114)]\n"
     ]
    },
    {
     "name": "stderr",
     "output_type": "stream",
     "text": [
      "\n",
      "Train epoch=0:  12%|██▎                | 1034/8498 [3:00:18<21:41:36, 10.46s/it]\u001b[A"
     ]
    },
    {
     "name": "stdout",
     "output_type": "stream",
     "text": [
      "[(0.7671290322580645, 0.5328838389067191, 0.29461659751636543, 0.6305568206393556)]\n"
     ]
    },
    {
     "name": "stderr",
     "output_type": "stream",
     "text": [
      "\n",
      "Train epoch=0:  12%|██▎                | 1035/8498 [3:00:29<21:41:26, 10.46s/it]\u001b[A"
     ]
    },
    {
     "name": "stdout",
     "output_type": "stream",
     "text": [
      "[(0.824384, 0.8454957718356942, 0.31232699135907094, 0.7541072816418442)]\n"
     ]
    },
    {
     "name": "stderr",
     "output_type": "stream",
     "text": [
      "\n",
      "Train epoch=0:  12%|██▎                | 1036/8498 [3:00:40<21:41:20, 10.46s/it]\u001b[A"
     ]
    },
    {
     "name": "stdout",
     "output_type": "stream",
     "text": [
      "[(0.6389973333333333, 0.5435131592902955, 0.2178235036519301, 0.508316483451015)]\n"
     ]
    },
    {
     "name": "stderr",
     "output_type": "stream",
     "text": [
      "\n",
      "Train epoch=0:  12%|██▎                | 1037/8498 [3:00:51<21:41:11, 10.46s/it]\u001b[A"
     ]
    },
    {
     "name": "stdout",
     "output_type": "stream",
     "text": [
      "[(0.31419733333333333, 0.6281813805480907, 0.11138662031447392, 0.28900015094393)]\n"
     ]
    },
    {
     "name": "stderr",
     "output_type": "stream",
     "text": [
      "\n",
      "Train epoch=0:  12%|██▎                | 1038/8498 [3:01:01<21:41:01, 10.46s/it]\u001b[A"
     ]
    },
    {
     "name": "stdout",
     "output_type": "stream",
     "text": [
      "[(0.751184, 0.4274060867842335, 0.2761849222328542, 0.5850206092398342)]\n"
     ]
    },
    {
     "name": "stderr",
     "output_type": "stream",
     "text": [
      "\n",
      "Train epoch=0:  12%|██▎                | 1039/8498 [3:01:11<21:40:45, 10.46s/it]\u001b[A"
     ]
    },
    {
     "name": "stdout",
     "output_type": "stream",
     "text": [
      "[(0.6917671641791044, 0.7525970304170513, 0.3647473341550014, 0.5641501343313888)]\n"
     ]
    },
    {
     "name": "stderr",
     "output_type": "stream",
     "text": [
      "\n",
      "Train epoch=0:  12%|██▎                | 1040/8498 [3:01:21<21:40:32, 10.46s/it]\u001b[A"
     ]
    },
    {
     "name": "stdout",
     "output_type": "stream",
     "text": [
      "[(0.9497066666666667, 0.9427354166325943, 0.5971771632886447, 0.9076379645723129)]\n"
     ]
    },
    {
     "name": "stderr",
     "output_type": "stream",
     "text": [
      "\n",
      "Train epoch=0:  12%|██▎                | 1041/8498 [3:01:30<21:40:14, 10.46s/it]\u001b[A"
     ]
    },
    {
     "name": "stdout",
     "output_type": "stream",
     "text": [
      "[(0.5805645645645645, 0.6816720946858752, 0.29180884695011844, 0.4175919072319736)]\n"
     ]
    },
    {
     "name": "stderr",
     "output_type": "stream",
     "text": [
      "\n",
      "Train epoch=0:  12%|██▎                | 1042/8498 [3:01:41<21:40:08, 10.46s/it]\u001b[A"
     ]
    },
    {
     "name": "stdout",
     "output_type": "stream",
     "text": [
      "[(0.8162882882882883, 0.7953876679878058, 0.6714929874186595, 0.6799430698824127)]\n"
     ]
    },
    {
     "name": "stderr",
     "output_type": "stream",
     "text": [
      "\n",
      "Train epoch=0:  12%|██▎                | 1043/8498 [3:01:52<21:39:57, 10.46s/it]\u001b[A"
     ]
    },
    {
     "name": "stdout",
     "output_type": "stream",
     "text": [
      "[(0.939648, 0.6252235843285238, 0.5782828579138793, 0.8881403005622327)]\n"
     ]
    },
    {
     "name": "stderr",
     "output_type": "stream",
     "text": [
      "\n",
      "Train epoch=0:  12%|██▎                | 1044/8498 [3:02:02<21:39:47, 10.46s/it]\u001b[A"
     ]
    },
    {
     "name": "stdout",
     "output_type": "stream",
     "text": [
      "[(0.9917066666666666, 0.578302764534489, 0.5737514281215553, 0.983526798686779)]\n"
     ]
    },
    {
     "name": "stderr",
     "output_type": "stream",
     "text": [
      "\n",
      "Train epoch=0:  12%|██▎                | 1045/8498 [3:02:13<21:39:40, 10.46s/it]\u001b[A"
     ]
    },
    {
     "name": "stdout",
     "output_type": "stream",
     "text": [
      "[(0.5077783505154639, 0.33283696625857734, 0.1725282491529442, 0.29948129827165665)]\n"
     ]
    },
    {
     "name": "stderr",
     "output_type": "stream",
     "text": [
      "\n",
      "Train epoch=0:  12%|██▎                | 1046/8498 [3:02:24<21:39:35, 10.46s/it]\u001b[A"
     ]
    },
    {
     "name": "stdout",
     "output_type": "stream",
     "text": [
      "[(0.882768, 0.6976776531974296, 0.6446260010048478, 0.7830281065444721)]\n"
     ]
    },
    {
     "name": "stderr",
     "output_type": "stream",
     "text": [
      "\n",
      "Train epoch=0:  12%|██▎                | 1047/8498 [3:02:35<21:39:28, 10.46s/it]\u001b[A"
     ]
    },
    {
     "name": "stdout",
     "output_type": "stream",
     "text": [
      "[(0.503136, 0.613979272950473, 0.22852004477660948, 0.31226672216600576)]\n"
     ]
    },
    {
     "name": "stderr",
     "output_type": "stream",
     "text": [
      "\n",
      "Train epoch=0:  12%|██▎                | 1048/8498 [3:02:46<21:39:16, 10.46s/it]\u001b[A"
     ]
    },
    {
     "name": "stdout",
     "output_type": "stream",
     "text": [
      "[(0.9952266666666667, 0.5, 0.49761333333333335, 0.9904761180444445)]\n"
     ]
    },
    {
     "name": "stderr",
     "output_type": "stream",
     "text": [
      "\n",
      "Train epoch=0:  12%|██▎                | 1049/8498 [3:02:56<21:39:06, 10.46s/it]\u001b[A"
     ]
    },
    {
     "name": "stdout",
     "output_type": "stream",
     "text": [
      "[(0.9159253333333334, 0.8403685149704789, 0.7865160845377496, 0.8414079393526581)]\n"
     ]
    },
    {
     "name": "stderr",
     "output_type": "stream",
     "text": [
      "\n",
      "Train epoch=0:  12%|██▎                | 1050/8498 [3:03:07<21:38:58, 10.46s/it]\u001b[A"
     ]
    },
    {
     "name": "stdout",
     "output_type": "stream",
     "text": [
      "[(0.7753546666666666, 0.4809924300574363, 0.2256218689279706, 0.72740009215724)]\n"
     ]
    },
    {
     "name": "stderr",
     "output_type": "stream",
     "text": [
      "\n",
      "Train epoch=0:  12%|██▎                | 1051/8498 [3:03:18<21:38:48, 10.46s/it]\u001b[A"
     ]
    },
    {
     "name": "stdout",
     "output_type": "stream",
     "text": [
      "[(0.7042773333333333, 0.42394317026652184, 0.2034876845454704, 0.7012682394961066)]\n"
     ]
    },
    {
     "name": "stderr",
     "output_type": "stream",
     "text": [
      "\n",
      "Train epoch=0:  12%|██▎                | 1052/8498 [3:03:27<21:38:32, 10.46s/it]\u001b[A"
     ]
    },
    {
     "name": "stdout",
     "output_type": "stream",
     "text": [
      "[(0.9754774774774775, 0.9441250311631614, 0.8809380574316896, 0.9543573776659512)]\n"
     ]
    },
    {
     "name": "stderr",
     "output_type": "stream",
     "text": [
      "\n",
      "Train epoch=0:  12%|██▎                | 1053/8498 [3:03:38<21:38:21, 10.46s/it]\u001b[A"
     ]
    },
    {
     "name": "stdout",
     "output_type": "stream",
     "text": [
      "[(0.9531413333333333, 0.5249107197945292, 0.5074230042665383, 0.9087911246686832)]\n"
     ]
    },
    {
     "name": "stderr",
     "output_type": "stream",
     "text": [
      "\n",
      "Train epoch=0:  12%|██▎                | 1054/8498 [3:03:47<21:38:03, 10.46s/it]\u001b[A"
     ]
    },
    {
     "name": "stdout",
     "output_type": "stream",
     "text": [
      "[(0.9136876876876877, 0.48270402335321744, 0.3045625625625626, 0.864738173128083)]\n"
     ]
    },
    {
     "name": "stderr",
     "output_type": "stream",
     "text": [
      "\n",
      "Train epoch=0:  12%|██▎                | 1055/8498 [3:03:57<21:37:52, 10.46s/it]\u001b[A"
     ]
    },
    {
     "name": "stdout",
     "output_type": "stream",
     "text": [
      "[(0.8054826666666667, 0.6613822378272045, 0.42266011933462394, 0.6855663452736871)]\n"
     ]
    },
    {
     "name": "stderr",
     "output_type": "stream",
     "text": [
      "\n",
      "Train epoch=0:  12%|██▎                | 1056/8498 [3:04:08<21:37:40, 10.46s/it]\u001b[A"
     ]
    },
    {
     "name": "stdout",
     "output_type": "stream",
     "text": [
      "[(0.9947253333333334, 0.4997668785303165, 0.3315751111111111, 0.9899400413297779)]\n"
     ]
    },
    {
     "name": "stderr",
     "output_type": "stream",
     "text": [
      "\n",
      "Train epoch=0:  12%|██▎                | 1057/8498 [3:04:18<21:37:28, 10.46s/it]\u001b[A"
     ]
    },
    {
     "name": "stdout",
     "output_type": "stream",
     "text": [
      "[(0.2822826666666667, 0.6206563898739376, 0.3179008618925467, 0.12379943115752239)]\n"
     ]
    },
    {
     "name": "stderr",
     "output_type": "stream",
     "text": [
      "\n",
      "Train epoch=0:  12%|██▎                | 1058/8498 [3:04:27<21:37:07, 10.46s/it]\u001b[A"
     ]
    },
    {
     "name": "stdout",
     "output_type": "stream",
     "text": [
      "[(0.8667397260273972, 0.8187271560987246, 0.7298535103425663, 0.7596816530140091)]\n"
     ]
    },
    {
     "name": "stderr",
     "output_type": "stream",
     "text": [
      "\n",
      "Train epoch=0:  12%|██▎                | 1059/8498 [3:04:37<21:36:52, 10.46s/it]\u001b[A"
     ]
    },
    {
     "name": "stdout",
     "output_type": "stream",
     "text": [
      "[(0.953981981981982, 0.6176411961576198, 0.4740267040868453, 0.9160559034900784)]\n"
     ]
    },
    {
     "name": "stderr",
     "output_type": "stream",
     "text": [
      "\n",
      "Train epoch=0:  12%|██▎                | 1060/8498 [3:04:47<21:36:39, 10.46s/it]\u001b[A"
     ]
    },
    {
     "name": "stdout",
     "output_type": "stream",
     "text": [
      "[(0.8826047904191616, 0.8697634855139811, 0.6953850492433191, 0.8131720494359772)]\n"
     ]
    },
    {
     "name": "stderr",
     "output_type": "stream",
     "text": [
      "\n",
      "Train epoch=0:  12%|██▎                | 1061/8498 [3:04:57<21:36:26, 10.46s/it]\u001b[A"
     ]
    },
    {
     "name": "stdout",
     "output_type": "stream",
     "text": [
      "[(0.9581866666666666, 0.7334901252384393, 0.6860787993124182, 0.9213043081742925)]\n"
     ]
    },
    {
     "name": "stderr",
     "output_type": "stream",
     "text": [
      "\n",
      "Train epoch=0:  12%|██▎                | 1062/8498 [3:05:07<21:36:16, 10.46s/it]\u001b[A"
     ]
    },
    {
     "name": "stdout",
     "output_type": "stream",
     "text": [
      "[(0.855312, 0.8763301950554602, 0.31301911662600546, 0.79030962931586)]\n"
     ]
    },
    {
     "name": "stderr",
     "output_type": "stream",
     "text": [
      "\n",
      "Train epoch=0:  13%|██▍                | 1063/8498 [3:05:17<21:36:01, 10.46s/it]\u001b[A"
     ]
    },
    {
     "name": "stdout",
     "output_type": "stream",
     "text": [
      "[(0.5505105105105105, 0.5062542882778276, 0.280222588268163, 0.3042187679125922)]\n"
     ]
    },
    {
     "name": "stderr",
     "output_type": "stream",
     "text": [
      "\n",
      "Train epoch=0:  13%|██▍                | 1064/8498 [3:05:28<21:35:50, 10.46s/it]\u001b[A"
     ]
    },
    {
     "name": "stdout",
     "output_type": "stream",
     "text": [
      "[(0.8851168831168831, 0.5405041073227838, 0.2987252375234656, 0.8202508095973603)]\n"
     ]
    },
    {
     "name": "stderr",
     "output_type": "stream",
     "text": [
      "\n",
      "Train epoch=0:  13%|██▍                | 1065/8498 [3:05:37<21:35:33, 10.46s/it]\u001b[A"
     ]
    },
    {
     "name": "stdout",
     "output_type": "stream",
     "text": [
      "[(0.8626006006006006, 0.5301781632673342, 0.23159802490618125, 0.7478789469686042)]\n"
     ]
    },
    {
     "name": "stderr",
     "output_type": "stream",
     "text": [
      "\n",
      "Train epoch=0:  13%|██▍                | 1066/8498 [3:05:46<21:35:15, 10.46s/it]\u001b[A"
     ]
    },
    {
     "name": "stdout",
     "output_type": "stream",
     "text": [
      "[(0.676954954954955, 0.7439065587430067, 0.4725658377568681, 0.5626951752888597)]\n"
     ]
    },
    {
     "name": "stderr",
     "output_type": "stream",
     "text": [
      "\n",
      "Train epoch=0:  13%|██▍                | 1067/8498 [3:05:57<21:35:07, 10.46s/it]\u001b[A"
     ]
    },
    {
     "name": "stdout",
     "output_type": "stream",
     "text": [
      "[(0.6343123123123123, 0.646270331253209, 0.26970395515352175, 0.5310913606442755)]\n"
     ]
    },
    {
     "name": "stderr",
     "output_type": "stream",
     "text": [
      "\n",
      "Train epoch=0:  13%|██▍                | 1068/8498 [3:06:08<21:34:57, 10.46s/it]\u001b[A"
     ]
    },
    {
     "name": "stdout",
     "output_type": "stream",
     "text": [
      "[(0.8478684210526316, 0.8848838886094841, 0.3718399846944578, 0.7561375173618403)]\n"
     ]
    },
    {
     "name": "stderr",
     "output_type": "stream",
     "text": [
      "\n",
      "Train epoch=0:  13%|██▍                | 1069/8498 [3:06:18<21:34:47, 10.46s/it]\u001b[A"
     ]
    },
    {
     "name": "stdout",
     "output_type": "stream",
     "text": [
      "[(0.8149226666666667, 0.5574725202555365, 0.365807239738093, 0.7082609842952315)]\n"
     ]
    },
    {
     "name": "stderr",
     "output_type": "stream",
     "text": [
      "\n",
      "Train epoch=0:  13%|██▍                | 1070/8498 [3:06:29<21:34:36, 10.46s/it]\u001b[A"
     ]
    },
    {
     "name": "stdout",
     "output_type": "stream",
     "text": [
      "[(0.7455253333333334, 0.6515763312073599, 0.23040399435702547, 0.6580372744455216)]\n"
     ]
    },
    {
     "name": "stderr",
     "output_type": "stream",
     "text": [
      "\n",
      "Train epoch=0:  13%|██▍                | 1071/8498 [3:06:39<21:34:21, 10.46s/it]\u001b[A"
     ]
    },
    {
     "name": "stdout",
     "output_type": "stream",
     "text": [
      "[(0.7548768768768769, 0.6926282300741615, 0.5492601368293506, 0.5827174884415882)]\n"
     ]
    },
    {
     "name": "stderr",
     "output_type": "stream",
     "text": [
      "\n",
      "Train epoch=0:  13%|██▍                | 1072/8498 [3:06:49<21:34:08, 10.46s/it]\u001b[A"
     ]
    },
    {
     "name": "stdout",
     "output_type": "stream",
     "text": [
      "[(0.8567650602409639, 0.6379782042466055, 0.48719556655448476, 0.7740558227417125)]\n"
     ]
    },
    {
     "name": "stderr",
     "output_type": "stream",
     "text": [
      "\n",
      "Train epoch=0:  13%|██▍                | 1073/8498 [3:06:59<21:33:56, 10.46s/it]\u001b[A"
     ]
    },
    {
     "name": "stdout",
     "output_type": "stream",
     "text": [
      "[(0.5437066666666667, 0.49537787232028746, 0.1703807797093181, 0.3739866077004466)]\n"
     ]
    },
    {
     "name": "stderr",
     "output_type": "stream",
     "text": [
      "\n",
      "Train epoch=0:  13%|██▍                | 1074/8498 [3:07:09<21:33:46, 10.46s/it]\u001b[A"
     ]
    },
    {
     "name": "stdout",
     "output_type": "stream",
     "text": [
      "[(0.5161333333333333, 0.47835460417901876, 0.169163792442089, 0.39552595921951206)]\n"
     ]
    },
    {
     "name": "stderr",
     "output_type": "stream",
     "text": [
      "\n",
      "Train epoch=0:  13%|██▍                | 1075/8498 [3:07:17<21:33:15, 10.45s/it]\u001b[A"
     ]
    },
    {
     "name": "stdout",
     "output_type": "stream",
     "text": [
      "[(0.9528446601941748, 0.4988208386277001, 0.2436737146318936, 0.9309282204626226)]\n"
     ]
    },
    {
     "name": "stderr",
     "output_type": "stream",
     "text": [
      "\n",
      "Train epoch=0:  13%|██▍                | 1076/8498 [3:07:27<21:33:05, 10.45s/it]\u001b[A"
     ]
    },
    {
     "name": "stdout",
     "output_type": "stream",
     "text": [
      "[(0.7082026666666666, 0.2967363895220099, 0.20029912027911026, 0.6359827567805676)]\n"
     ]
    },
    {
     "name": "stderr",
     "output_type": "stream",
     "text": [
      "\n",
      "Train epoch=0:  13%|██▍                | 1077/8498 [3:07:38<21:32:53, 10.45s/it]\u001b[A"
     ]
    },
    {
     "name": "stdout",
     "output_type": "stream",
     "text": [
      "[(0.9594133333333333, 0.9086451404957658, 0.8079833992467769, 0.9283891681214878)]\n"
     ]
    },
    {
     "name": "stderr",
     "output_type": "stream",
     "text": [
      "\n",
      "Train epoch=0:  13%|██▍                | 1078/8498 [3:07:47<21:32:38, 10.45s/it]\u001b[A"
     ]
    },
    {
     "name": "stdout",
     "output_type": "stream",
     "text": [
      "[(0.8990449438202247, 0.4682850497753679, 0.4137509966629136, 0.8182374516910731)]\n"
     ]
    },
    {
     "name": "stderr",
     "output_type": "stream",
     "text": [
      "\n",
      "Train epoch=0:  13%|██▍                | 1079/8498 [3:07:58<21:32:30, 10.45s/it]\u001b[A"
     ]
    },
    {
     "name": "stdout",
     "output_type": "stream",
     "text": [
      "[(0.9914132047477745, 0.49996258955126166, 0.33047106824925815, 0.9829736895218987)]\n"
     ]
    },
    {
     "name": "stderr",
     "output_type": "stream",
     "text": [
      "\n",
      "Train epoch=0:  13%|██▍                | 1080/8498 [3:08:10<21:32:31, 10.45s/it]\u001b[A"
     ]
    },
    {
     "name": "stdout",
     "output_type": "stream",
     "text": [
      "[(0.8963466666666666, 0.5805093891646881, 0.5276307909168784, 0.8036554192740926)]\n"
     ]
    },
    {
     "name": "stderr",
     "output_type": "stream",
     "text": [
      "\n",
      "Train epoch=0:  13%|██▍                | 1081/8498 [3:08:20<21:32:14, 10.45s/it]\u001b[A"
     ]
    },
    {
     "name": "stdout",
     "output_type": "stream",
     "text": [
      "[(0.665176119402985, 0.7754690538728763, 0.2014906732531089, 0.6240196696948859)]\n"
     ]
    },
    {
     "name": "stderr",
     "output_type": "stream",
     "text": [
      "\n",
      "Train epoch=0:  13%|██▍                | 1082/8498 [3:08:29<21:31:57, 10.45s/it]\u001b[A"
     ]
    },
    {
     "name": "stdout",
     "output_type": "stream",
     "text": [
      "[(0.9660900900900901, 0.958446751287054, 0.8814847978809287, 0.9376811251268273)]\n"
     ]
    },
    {
     "name": "stderr",
     "output_type": "stream",
     "text": [
      "\n",
      "Train epoch=0:  13%|██▍                | 1083/8498 [3:08:40<21:31:47, 10.45s/it]\u001b[A"
     ]
    },
    {
     "name": "stdout",
     "output_type": "stream",
     "text": [
      "[(0.577984, 0.4008850726180666, 0.18959483944283484, 0.45741608825132196)]\n"
     ]
    },
    {
     "name": "stderr",
     "output_type": "stream",
     "text": [
      "\n",
      "Train epoch=0:  13%|██▍                | 1084/8498 [3:08:50<21:31:33, 10.45s/it]\u001b[A"
     ]
    },
    {
     "name": "stdout",
     "output_type": "stream",
     "text": [
      "[(0.7446646706586826, 0.6036631931388204, 0.32098067125091595, 0.5790836693683333)]\n"
     ]
    },
    {
     "name": "stderr",
     "output_type": "stream",
     "text": [
      "\n",
      "Train epoch=0:  13%|██▍                | 1085/8498 [3:09:01<21:31:24, 10.45s/it]\u001b[A"
     ]
    },
    {
     "name": "stdout",
     "output_type": "stream",
     "text": [
      "[(0.8795428571428572, 0.6211144798082109, 0.3586407068490701, 0.8135914986630449)]\n"
     ]
    },
    {
     "name": "stderr",
     "output_type": "stream",
     "text": [
      "\n",
      "Train epoch=0:  13%|██▍                | 1086/8498 [3:09:11<21:31:12, 10.45s/it]\u001b[A"
     ]
    },
    {
     "name": "stdout",
     "output_type": "stream",
     "text": [
      "[(0.8386506666666667, 0.7089527960044327, 0.4225579471626615, 0.7340684479105846)]\n"
     ]
    },
    {
     "name": "stderr",
     "output_type": "stream",
     "text": [
      "\n",
      "Train epoch=0:  13%|██▍                | 1087/8498 [3:09:21<21:31:00, 10.45s/it]\u001b[A"
     ]
    },
    {
     "name": "stdout",
     "output_type": "stream",
     "text": [
      "[(0.968032, 0.947111347504567, 0.6131634013926944, 0.9455430464587666)]\n"
     ]
    },
    {
     "name": "stderr",
     "output_type": "stream",
     "text": [
      "\n",
      "Train epoch=0:  13%|██▍                | 1088/8498 [3:09:31<21:30:47, 10.45s/it]\u001b[A"
     ]
    },
    {
     "name": "stdout",
     "output_type": "stream",
     "text": [
      "[(0.9150186666666666, 0.5562770897352985, 0.4927517335419294, 0.8489911773250954)]\n"
     ]
    },
    {
     "name": "stderr",
     "output_type": "stream",
     "text": [
      "\n",
      "Train epoch=0:  13%|██▍                | 1089/8498 [3:09:40<21:30:29, 10.45s/it]\u001b[A"
     ]
    },
    {
     "name": "stdout",
     "output_type": "stream",
     "text": [
      "[(0.8997537537537538, 0.561970213256199, 0.2694880752356177, 0.891439847092085)]\n"
     ]
    },
    {
     "name": "stderr",
     "output_type": "stream",
     "text": [
      "\n",
      "Train epoch=0:  13%|██▍                | 1090/8498 [3:09:48<21:30:03, 10.45s/it]\u001b[A"
     ]
    },
    {
     "name": "stdout",
     "output_type": "stream",
     "text": [
      "[(0.9025286343612334, 0.5, 0.4512643171806167, 0.814557935841953)]\n"
     ]
    },
    {
     "name": "stderr",
     "output_type": "stream",
     "text": [
      "\n",
      "Train epoch=0:  13%|██▍                | 1091/8498 [3:09:57<21:29:40, 10.45s/it]\u001b[A"
     ]
    },
    {
     "name": "stdout",
     "output_type": "stream",
     "text": [
      "[(0.947223076923077, 0.4986797877941117, 0.3277047705728626, 0.9336939115102727)]\n"
     ]
    },
    {
     "name": "stderr",
     "output_type": "stream",
     "text": [
      "\n",
      "Train epoch=0:  13%|██▍                | 1092/8498 [3:10:07<21:29:29, 10.45s/it]\u001b[A"
     ]
    },
    {
     "name": "stdout",
     "output_type": "stream",
     "text": [
      "[(0.828208, 0.458903948073424, 0.3961412107527454, 0.6888079442507297)]\n"
     ]
    },
    {
     "name": "stderr",
     "output_type": "stream",
     "text": [
      "\n",
      "Train epoch=0:  13%|██▍                | 1093/8498 [3:10:18<21:29:16, 10.45s/it]\u001b[A"
     ]
    },
    {
     "name": "stdout",
     "output_type": "stream",
     "text": [
      "[(0.823984, 0.8358379807353564, 0.7006352565846412, 0.700345491385314)]\n"
     ]
    },
    {
     "name": "stderr",
     "output_type": "stream",
     "text": [
      "\n",
      "Train epoch=0:  13%|██▍                | 1094/8498 [3:10:28<21:29:05, 10.45s/it]\u001b[A"
     ]
    },
    {
     "name": "stdout",
     "output_type": "stream",
     "text": [
      "[(0.9961273209549072, 0.5, 0.4980636604774536, 0.9922696395528007)]\n"
     ]
    },
    {
     "name": "stderr",
     "output_type": "stream",
     "text": [
      "\n",
      "Train epoch=0:  13%|██▍                | 1095/8498 [3:10:40<21:29:04, 10.45s/it]\u001b[A"
     ]
    },
    {
     "name": "stdout",
     "output_type": "stream",
     "text": [
      "[(0.8662826666666666, 0.7907426831500233, 0.4714158494099201, 0.7567185033628012)]\n"
     ]
    },
    {
     "name": "stderr",
     "output_type": "stream",
     "text": [
      "\n",
      "Train epoch=0:  13%|██▍                | 1096/8498 [3:10:52<21:29:08, 10.45s/it]\u001b[A"
     ]
    },
    {
     "name": "stdout",
     "output_type": "stream",
     "text": [
      "[(0.863372, 0.8523448028773544, 0.5016961454938337, 0.7586951140438658)]\n"
     ]
    },
    {
     "name": "stderr",
     "output_type": "stream",
     "text": [
      "\n",
      "Train epoch=0:  13%|██▍                | 1097/8498 [3:11:05<21:29:09, 10.45s/it]\u001b[A"
     ]
    },
    {
     "name": "stdout",
     "output_type": "stream",
     "text": [
      "[(0.783335, 0.6509094418002066, 0.5329679527697813, 0.6223662128364005)]\n"
     ]
    },
    {
     "name": "stderr",
     "output_type": "stream",
     "text": [
      "\n",
      "Train epoch=0:  13%|██▍                | 1098/8498 [3:11:15<21:28:58, 10.45s/it]\u001b[A"
     ]
    },
    {
     "name": "stdout",
     "output_type": "stream",
     "text": [
      "[(0.8098453333333333, 0.8247012949692538, 0.45091319635637644, 0.7263972472757798)]\n"
     ]
    },
    {
     "name": "stderr",
     "output_type": "stream",
     "text": [
      "\n",
      "Train epoch=0:  13%|██▍                | 1099/8498 [3:11:25<21:28:46, 10.45s/it]\u001b[A"
     ]
    },
    {
     "name": "stdout",
     "output_type": "stream",
     "text": [
      "[(0.9503946666666667, 0.5, 0.47519733333333336, 0.9032500224284445)]\n"
     ]
    },
    {
     "name": "stderr",
     "output_type": "stream",
     "text": [
      "\n",
      "Train epoch=0:  13%|██▍                | 1100/8498 [3:11:35<21:28:34, 10.45s/it]\u001b[A"
     ]
    },
    {
     "name": "stdout",
     "output_type": "stream",
     "text": [
      "[(0.6103146666666667, 0.5256619261361054, 0.29943982615934917, 0.43653863035783613)]\n"
     ]
    },
    {
     "name": "stderr",
     "output_type": "stream",
     "text": [
      "\n",
      "Train epoch=0:  13%|██▍                | 1101/8498 [3:11:46<21:28:24, 10.45s/it]\u001b[A"
     ]
    },
    {
     "name": "stdout",
     "output_type": "stream",
     "text": [
      "[(0.956066265060241, 0.888916077133517, 0.8380554969821122, 0.9174023486561111)]\n"
     ]
    },
    {
     "name": "stderr",
     "output_type": "stream",
     "text": [
      "\n",
      "Train epoch=0:  13%|██▍                | 1102/8498 [3:11:56<21:28:12, 10.45s/it]\u001b[A"
     ]
    },
    {
     "name": "stdout",
     "output_type": "stream",
     "text": [
      "[(0.9632586666666667, 0.4937017327070748, 0.3648383497403548, 0.9547019433124447)]\n"
     ]
    },
    {
     "name": "stderr",
     "output_type": "stream",
     "text": [
      "\n",
      "Train epoch=0:  13%|██▍                | 1103/8498 [3:12:06<21:28:01, 10.45s/it]\u001b[A"
     ]
    },
    {
     "name": "stdout",
     "output_type": "stream",
     "text": [
      "[(0.7236266666666666, 0.6672478854394237, 0.41233689060108397, 0.6669963359411651)]\n"
     ]
    },
    {
     "name": "stderr",
     "output_type": "stream",
     "text": [
      "\n",
      "Train epoch=0:  13%|██▍                | 1104/8498 [3:12:17<21:27:49, 10.45s/it]\u001b[A"
     ]
    },
    {
     "name": "stdout",
     "output_type": "stream",
     "text": [
      "[(0.8936053333333334, 0.8686085492462743, 0.5282638383477273, 0.8091904323768102)]\n"
     ]
    },
    {
     "name": "stderr",
     "output_type": "stream",
     "text": [
      "\n",
      "Train epoch=0:  13%|██▍                | 1105/8498 [3:12:28<21:27:41, 10.45s/it]\u001b[A"
     ]
    },
    {
     "name": "stdout",
     "output_type": "stream",
     "text": [
      "[(0.7576059701492537, 0.4939011100213286, 0.2001308983093616, 0.6139705309184584)]\n"
     ]
    },
    {
     "name": "stderr",
     "output_type": "stream",
     "text": [
      "\n",
      "Train epoch=0:  13%|██▍                | 1106/8498 [3:12:38<21:27:29, 10.45s/it]\u001b[A"
     ]
    },
    {
     "name": "stdout",
     "output_type": "stream",
     "text": [
      "[(0.8916906666666666, 0.3333333333333333, 0.29723022222222223, 0.7951122450204444)]\n"
     ]
    },
    {
     "name": "stderr",
     "output_type": "stream",
     "text": [
      "\n",
      "Train epoch=0:  13%|██▍                | 1107/8498 [3:12:48<21:27:16, 10.45s/it]\u001b[A"
     ]
    },
    {
     "name": "stdout",
     "output_type": "stream",
     "text": [
      "[(0.8685885885885886, 0.7708860285238712, 0.687934841759127, 0.7629543879495344)]\n"
     ]
    },
    {
     "name": "stderr",
     "output_type": "stream",
     "text": [
      "\n",
      "Train epoch=0:  13%|██▍                | 1108/8498 [3:12:56<21:26:54, 10.45s/it]\u001b[A"
     ]
    },
    {
     "name": "stdout",
     "output_type": "stream",
     "text": [
      "[(0.8971326164874552, 0.6675098005717529, 0.41846873341164686, 0.8330416198080509)]\n"
     ]
    },
    {
     "name": "stderr",
     "output_type": "stream",
     "text": [
      "\n",
      "Train epoch=0:  13%|██▍                | 1109/8498 [3:13:06<21:26:37, 10.45s/it]\u001b[A"
     ]
    },
    {
     "name": "stdout",
     "output_type": "stream",
     "text": [
      "[(0.7161561561561561, 0.4306589906023592, 0.27998102778677864, 0.6983836667707)]\n"
     ]
    },
    {
     "name": "stderr",
     "output_type": "stream",
     "text": [
      "\n",
      "Train epoch=0:  13%|██▍                | 1110/8498 [3:13:16<21:26:27, 10.45s/it]\u001b[A"
     ]
    },
    {
     "name": "stdout",
     "output_type": "stream",
     "text": [
      "[(0.6633066666666667, 0.3741175999719833, 0.256816621839747, 0.44521262691146757)]\n"
     ]
    },
    {
     "name": "stderr",
     "output_type": "stream",
     "text": [
      "\n",
      "Train epoch=0:  13%|██▍                | 1111/8498 [3:13:27<21:26:16, 10.45s/it]\u001b[A"
     ]
    },
    {
     "name": "stdout",
     "output_type": "stream",
     "text": [
      "[(0.8871893333333334, 0.9086014675585505, 0.5130094578258262, 0.8101664854377233)]\n"
     ]
    },
    {
     "name": "stderr",
     "output_type": "stream",
     "text": [
      "\n",
      "Train epoch=0:  13%|██▍                | 1112/8498 [3:13:36<21:25:59, 10.45s/it]\u001b[A"
     ]
    },
    {
     "name": "stdout",
     "output_type": "stream",
     "text": [
      "[(0.8995075075075075, 0.6543385162899277, 0.5067781807049114, 0.8409013402428211)]\n"
     ]
    },
    {
     "name": "stderr",
     "output_type": "stream",
     "text": [
      "\n",
      "Train epoch=0:  13%|██▍                | 1113/8498 [3:13:47<21:25:48, 10.45s/it]\u001b[A"
     ]
    },
    {
     "name": "stdout",
     "output_type": "stream",
     "text": [
      "[(0.8495867327894203, 0.7709969175220348, 0.6747879254882208, 0.7344714386739598)]\n"
     ]
    },
    {
     "name": "stderr",
     "output_type": "stream",
     "text": [
      "\n",
      "Train epoch=0:  13%|██▍                | 1114/8498 [3:13:57<21:25:40, 10.45s/it]\u001b[A"
     ]
    },
    {
     "name": "stdout",
     "output_type": "stream",
     "text": [
      "[(0.8250778443113772, 0.3707761452443412, 0.3174008448918767, 0.6965712444982486)]\n"
     ]
    },
    {
     "name": "stderr",
     "output_type": "stream",
     "text": [
      "\n",
      "Train epoch=0:  13%|██▍                | 1115/8498 [3:14:08<21:25:31, 10.45s/it]\u001b[A"
     ]
    },
    {
     "name": "stdout",
     "output_type": "stream",
     "text": [
      "[(0.9984853333333333, 0.6417086754544382, 0.6265388625966052, 0.9971276914749514)]\n"
     ]
    },
    {
     "name": "stderr",
     "output_type": "stream",
     "text": [
      "\n",
      "Train epoch=0:  13%|██▍                | 1116/8498 [3:14:18<21:25:20, 10.45s/it]\u001b[A"
     ]
    },
    {
     "name": "stdout",
     "output_type": "stream",
     "text": [
      "[(0.8612202380952381, 0.8558531388437383, 0.6713266372372967, 0.7827740370837173)]\n"
     ]
    },
    {
     "name": "stderr",
     "output_type": "stream",
     "text": [
      "\n",
      "Train epoch=0:  13%|██▍                | 1117/8498 [3:14:29<21:25:09, 10.45s/it]\u001b[A"
     ]
    },
    {
     "name": "stdout",
     "output_type": "stream",
     "text": [
      "[(0.7726230366492146, 0.8816854826406294, 0.4550493351270235, 0.7392605366530721)]\n"
     ]
    },
    {
     "name": "stderr",
     "output_type": "stream",
     "text": [
      "\n",
      "Train epoch=0:  13%|██▍                | 1118/8498 [3:14:39<21:24:57, 10.45s/it]\u001b[A"
     ]
    },
    {
     "name": "stdout",
     "output_type": "stream",
     "text": [
      "[(0.7152, 0.4816991923700651, 0.36249952365001564, 0.5317601495564984)]\n"
     ]
    },
    {
     "name": "stderr",
     "output_type": "stream",
     "text": [
      "\n",
      "Train epoch=0:  13%|██▌                | 1119/8498 [3:14:49<21:24:41, 10.45s/it]\u001b[A"
     ]
    },
    {
     "name": "stdout",
     "output_type": "stream",
     "text": [
      "[(0.9751291291291291, 0.813485715220605, 0.7990241330320271, 0.9510274958848279)]\n"
     ]
    },
    {
     "name": "stderr",
     "output_type": "stream",
     "text": [
      "\n",
      "Train epoch=0:  13%|██▌                | 1120/8498 [3:14:59<21:24:32, 10.45s/it]\u001b[A"
     ]
    },
    {
     "name": "stdout",
     "output_type": "stream",
     "text": [
      "[(0.8396853333333333, 0.6364567820469209, 0.4380618214610985, 0.7520612577488766)]\n"
     ]
    },
    {
     "name": "stderr",
     "output_type": "stream",
     "text": [
      "\n",
      "Train epoch=0:  13%|██▌                | 1121/8498 [3:15:10<21:24:26, 10.45s/it]\u001b[A"
     ]
    },
    {
     "name": "stdout",
     "output_type": "stream",
     "text": [
      "[(0.6674506666666666, 0.4958221993675045, 0.3304743844867096, 0.44753711930029744)]\n"
     ]
    },
    {
     "name": "stderr",
     "output_type": "stream",
     "text": [
      "\n",
      "Train epoch=0:  13%|██▌                | 1122/8498 [3:15:21<21:24:14, 10.45s/it]\u001b[A"
     ]
    },
    {
     "name": "stdout",
     "output_type": "stream",
     "text": [
      "[(0.8600853333333334, 0.2944384562555795, 0.2645851831378744, 0.7407539102192985)]\n"
     ]
    },
    {
     "name": "stderr",
     "output_type": "stream",
     "text": [
      "\n",
      "Train epoch=0:  13%|██▌                | 1123/8498 [3:15:30<21:23:56, 10.45s/it]\u001b[A"
     ]
    },
    {
     "name": "stdout",
     "output_type": "stream",
     "text": [
      "[(0.9897590361445783, 0.992023478172076, 0.6094058755252306, 0.9815851435438613)]\n"
     ]
    },
    {
     "name": "stderr",
     "output_type": "stream",
     "text": [
      "\n",
      "Train epoch=0:  13%|██▌                | 1124/8498 [3:15:40<21:23:45, 10.45s/it]\u001b[A"
     ]
    },
    {
     "name": "stdout",
     "output_type": "stream",
     "text": [
      "[(0.9544533333333334, 0.9513361298050145, 0.8821217370395351, 0.915565226633341)]\n"
     ]
    },
    {
     "name": "stderr",
     "output_type": "stream",
     "text": [
      "\n",
      "Train epoch=0:  13%|██▌                | 1125/8498 [3:15:51<21:23:39, 10.45s/it]\u001b[A"
     ]
    },
    {
     "name": "stdout",
     "output_type": "stream",
     "text": [
      "[(0.8749005847953216, 0.24655403133837403, 0.17817582011873784, 0.79032437825124)]\n"
     ]
    },
    {
     "name": "stderr",
     "output_type": "stream",
     "text": [
      "\n",
      "Train epoch=0:  13%|██▌                | 1126/8498 [3:16:02<21:23:27, 10.45s/it]\u001b[A"
     ]
    },
    {
     "name": "stdout",
     "output_type": "stream",
     "text": [
      "[(0.8744213333333334, 0.5, 0.4372106666666667, 0.7646126681884445)]\n"
     ]
    },
    {
     "name": "stderr",
     "output_type": "stream",
     "text": [
      "\n",
      "Train epoch=0:  13%|██▌                | 1127/8498 [3:16:12<21:23:14, 10.45s/it]\u001b[A"
     ]
    },
    {
     "name": "stdout",
     "output_type": "stream",
     "text": [
      "[(0.970528, 0.9439040211450402, 0.8843280736506387, 0.9448920903262259)]\n"
     ]
    },
    {
     "name": "stderr",
     "output_type": "stream",
     "text": [
      "\n",
      "Train epoch=0:  13%|██▌                | 1128/8498 [3:16:22<21:23:01, 10.45s/it]\u001b[A"
     ]
    },
    {
     "name": "stdout",
     "output_type": "stream",
     "text": [
      "[(0.8909304812834224, 0.8909790501416335, 0.4017291083039064, 0.8034537601967706)]\n"
     ]
    },
    {
     "name": "stderr",
     "output_type": "stream",
     "text": [
      "\n",
      "Train epoch=0:  13%|██▌                | 1129/8498 [3:16:32<21:22:49, 10.45s/it]\u001b[A"
     ]
    },
    {
     "name": "stdout",
     "output_type": "stream",
     "text": [
      "[(0.6720106666666666, 0.4992590479360325, 0.22621868895783062, 0.6089879496725268)]\n"
     ]
    },
    {
     "name": "stderr",
     "output_type": "stream",
     "text": [
      "\n",
      "Train epoch=0:  13%|██▌                | 1130/8498 [3:16:43<21:22:39, 10.45s/it]\u001b[A"
     ]
    },
    {
     "name": "stdout",
     "output_type": "stream",
     "text": [
      "[(0.41344, 0.6371203753204412, 0.18431798453143164, 0.2765133324158237)]\n"
     ]
    },
    {
     "name": "stderr",
     "output_type": "stream",
     "text": [
      "\n",
      "Train epoch=0:  13%|██▌                | 1131/8498 [3:16:53<21:22:28, 10.45s/it]\u001b[A"
     ]
    },
    {
     "name": "stdout",
     "output_type": "stream",
     "text": [
      "[(0.855248, 0.5481575053044603, 0.3228556471143444, 0.7464407111372682)]\n"
     ]
    },
    {
     "name": "stderr",
     "output_type": "stream",
     "text": [
      "\n",
      "Train epoch=0:  13%|██▌                | 1132/8498 [3:17:03<21:22:18, 10.45s/it]\u001b[A"
     ]
    },
    {
     "name": "stdout",
     "output_type": "stream",
     "text": [
      "[(0.8362133333333334, 0.4506573463557086, 0.1722172184266602, 0.7988904177559075)]\n"
     ]
    },
    {
     "name": "stderr",
     "output_type": "stream",
     "text": [
      "\n",
      "Train epoch=0:  13%|██▌                | 1133/8498 [3:17:13<21:22:04, 10.44s/it]\u001b[A"
     ]
    },
    {
     "name": "stdout",
     "output_type": "stream",
     "text": [
      "[(0.8695127478753542, 0.5094777645254728, 0.2964333999122915, 0.7571026792467057)]\n"
     ]
    },
    {
     "name": "stderr",
     "output_type": "stream",
     "text": [
      "\n",
      "Train epoch=0:  13%|██▌                | 1134/8498 [3:17:23<21:21:49, 10.44s/it]\u001b[A"
     ]
    },
    {
     "name": "stdout",
     "output_type": "stream",
     "text": [
      "[(0.3434834834834835, 0.37088197146562907, 0.09365353595729176, 0.21683746613535118)]\n"
     ]
    },
    {
     "name": "stderr",
     "output_type": "stream",
     "text": [
      "\n",
      "Train epoch=0:  13%|██▌                | 1135/8498 [3:17:33<21:21:36, 10.44s/it]\u001b[A"
     ]
    },
    {
     "name": "stdout",
     "output_type": "stream",
     "text": [
      "[(0.7355413333333334, 0.4257125022075935, 0.32915552088318323, 0.5747007113282465)]\n"
     ]
    },
    {
     "name": "stderr",
     "output_type": "stream",
     "text": [
      "\n",
      "Train epoch=0:  13%|██▌                | 1136/8498 [3:17:43<21:21:20, 10.44s/it]\u001b[A"
     ]
    },
    {
     "name": "stdout",
     "output_type": "stream",
     "text": [
      "[(0.556797619047619, 0.36590630485962966, 0.2487947184964825, 0.42347429468051195)]\n"
     ]
    },
    {
     "name": "stderr",
     "output_type": "stream",
     "text": [
      "\n",
      "Train epoch=0:  13%|██▌                | 1137/8498 [3:17:52<21:21:06, 10.44s/it]\u001b[A"
     ]
    },
    {
     "name": "stdout",
     "output_type": "stream",
     "text": [
      "[(0.9445815602836879, 0.9452496945560016, 0.5968755290298703, 0.8963100614155528)]\n"
     ]
    },
    {
     "name": "stderr",
     "output_type": "stream",
     "text": [
      "\n",
      "Train epoch=0:  13%|██▌                | 1138/8498 [3:18:03<21:20:53, 10.44s/it]\u001b[A"
     ]
    },
    {
     "name": "stdout",
     "output_type": "stream",
     "text": [
      "[(0.961072, 0.9627325320181777, 0.9125706682479824, 0.9261881014613487)]\n"
     ]
    },
    {
     "name": "stderr",
     "output_type": "stream",
     "text": [
      "\n",
      "Train epoch=0:  13%|██▌                | 1139/8498 [3:18:13<21:20:45, 10.44s/it]\u001b[A"
     ]
    },
    {
     "name": "stdout",
     "output_type": "stream",
     "text": [
      "[(0.887056, 0.5129708845039327, 0.2291768322544383, 0.7904875117956214)]\n"
     ]
    },
    {
     "name": "stderr",
     "output_type": "stream",
     "text": [
      "\n",
      "Train epoch=0:  13%|██▌                | 1140/8498 [3:18:23<21:20:27, 10.44s/it]\u001b[A"
     ]
    },
    {
     "name": "stdout",
     "output_type": "stream",
     "text": [
      "[(0.7323183183183183, 0.2816707142161367, 0.2066535727353276, 0.567183765278864)]\n"
     ]
    },
    {
     "name": "stderr",
     "output_type": "stream",
     "text": [
      "\n",
      "Train epoch=0:  13%|██▌                | 1141/8498 [3:18:33<21:20:16, 10.44s/it]\u001b[A"
     ]
    },
    {
     "name": "stdout",
     "output_type": "stream",
     "text": [
      "[(0.8936927374301676, 0.784222154632747, 0.7215516429217512, 0.8010889638083486)]\n"
     ]
    },
    {
     "name": "stderr",
     "output_type": "stream",
     "text": [
      "\n",
      "Train epoch=0:  13%|██▌                | 1142/8498 [3:18:44<21:20:11, 10.44s/it]\u001b[A"
     ]
    },
    {
     "name": "stdout",
     "output_type": "stream",
     "text": [
      "[(0.7376756756756757, 0.7266668335481933, 0.5590394156789885, 0.5632968496128921)]\n"
     ]
    },
    {
     "name": "stderr",
     "output_type": "stream",
     "text": [
      "\n",
      "Train epoch=0:  13%|██▌                | 1143/8498 [3:18:55<21:20:01, 10.44s/it]\u001b[A"
     ]
    },
    {
     "name": "stdout",
     "output_type": "stream",
     "text": [
      "[(0.4348746666666667, 0.32497283837199675, 0.11975751656441769, 0.2108260005420349)]\n"
     ]
    },
    {
     "name": "stderr",
     "output_type": "stream",
     "text": [
      "\n",
      "Train epoch=0:  13%|██▌                | 1144/8498 [3:19:05<21:19:50, 10.44s/it]\u001b[A"
     ]
    },
    {
     "name": "stdout",
     "output_type": "stream",
     "text": [
      "[(0.9503413333333334, 0.9527644942775613, 0.9037798042877065, 0.9057437302609908)]\n"
     ]
    },
    {
     "name": "stderr",
     "output_type": "stream",
     "text": [
      "\n",
      "Train epoch=0:  13%|██▌                | 1145/8498 [3:19:15<21:19:37, 10.44s/it]\u001b[A"
     ]
    },
    {
     "name": "stdout",
     "output_type": "stream",
     "text": [
      "[(0.43128533333333335, 0.2913238158927689, 0.14217754203636115, 0.1971674580273837)]\n"
     ]
    },
    {
     "name": "stderr",
     "output_type": "stream",
     "text": [
      "\n",
      "Train epoch=0:  13%|██▌                | 1146/8498 [3:19:25<21:19:20, 10.44s/it]\u001b[A"
     ]
    },
    {
     "name": "stdout",
     "output_type": "stream",
     "text": [
      "[(0.47664670658682634, 0.3697100666306501, 0.1426300523714178, 0.2296946951939556)]\n"
     ]
    },
    {
     "name": "stderr",
     "output_type": "stream",
     "text": [
      "\n",
      "Train epoch=0:  13%|██▌                | 1147/8498 [3:19:35<21:19:08, 10.44s/it]\u001b[A"
     ]
    },
    {
     "name": "stdout",
     "output_type": "stream",
     "text": [
      "[(0.81008, 0.6055585901612557, 0.508899026229926, 0.6746292468896186)]\n"
     ]
    },
    {
     "name": "stderr",
     "output_type": "stream",
     "text": [
      "\n",
      "Train epoch=0:  14%|██▌                | 1148/8498 [3:19:45<21:18:55, 10.44s/it]\u001b[A"
     ]
    },
    {
     "name": "stdout",
     "output_type": "stream",
     "text": [
      "[(0.9263626666666667, 0.6402234464689425, 0.5113116927529483, 0.8741953401488107)]\n"
     ]
    },
    {
     "name": "stderr",
     "output_type": "stream",
     "text": [
      "\n",
      "Train epoch=0:  14%|██▌                | 1149/8498 [3:19:56<21:18:48, 10.44s/it]\u001b[A"
     ]
    },
    {
     "name": "stdout",
     "output_type": "stream",
     "text": [
      "[(0.6325775075987842, 0.469633954140694, 0.3235404624194734, 0.42659652990417046)]\n"
     ]
    },
    {
     "name": "stderr",
     "output_type": "stream",
     "text": [
      "\n",
      "Train epoch=0:  14%|██▌                | 1150/8498 [3:20:06<21:18:36, 10.44s/it]\u001b[A"
     ]
    },
    {
     "name": "stdout",
     "output_type": "stream",
     "text": [
      "[(0.7207253333333333, 0.5311114534495256, 0.33623325803961895, 0.6156574452947488)]\n"
     ]
    },
    {
     "name": "stderr",
     "output_type": "stream",
     "text": [
      "\n",
      "Train epoch=0:  14%|██▌                | 1151/8498 [3:20:16<21:18:24, 10.44s/it]\u001b[A"
     ]
    },
    {
     "name": "stdout",
     "output_type": "stream",
     "text": [
      "[(0.8357177177177177, 0.7887767847522632, 0.6886861185859928, 0.7097892039829282)]\n"
     ]
    },
    {
     "name": "stderr",
     "output_type": "stream",
     "text": [
      "\n",
      "Train epoch=0:  14%|██▌                | 1152/8498 [3:20:27<21:18:19, 10.44s/it]\u001b[A"
     ]
    },
    {
     "name": "stdout",
     "output_type": "stream",
     "text": [
      "[(0.9723413333333333, 0.5960143428240213, 0.5387340280612835, 0.9504178969804934)]\n"
     ]
    },
    {
     "name": "stderr",
     "output_type": "stream",
     "text": [
      "\n",
      "Train epoch=0:  14%|██▌                | 1153/8498 [3:20:38<21:18:07, 10.44s/it]\u001b[A"
     ]
    },
    {
     "name": "stdout",
     "output_type": "stream",
     "text": [
      "[(0.9867322404371585, 0.5, 0.3290096294879153, 0.9739332264900302)]\n"
     ]
    },
    {
     "name": "stderr",
     "output_type": "stream",
     "text": [
      "\n",
      "Train epoch=0:  14%|██▌                | 1154/8498 [3:20:49<21:18:00, 10.44s/it]\u001b[A"
     ]
    },
    {
     "name": "stdout",
     "output_type": "stream",
     "text": [
      "[(0.759472, 0.6310162637146911, 0.38584370495319886, 0.6783280857687773)]\n"
     ]
    },
    {
     "name": "stderr",
     "output_type": "stream",
     "text": [
      "\n",
      "Train epoch=0:  14%|██▌                | 1155/8498 [3:20:59<21:17:47, 10.44s/it]\u001b[A"
     ]
    },
    {
     "name": "stdout",
     "output_type": "stream",
     "text": [
      "[(0.787136, 0.47660396351907347, 0.2990540948598484, 0.6365616468346733)]\n"
     ]
    },
    {
     "name": "stderr",
     "output_type": "stream",
     "text": [
      "\n",
      "Train epoch=0:  14%|██▌                | 1156/8498 [3:21:11<21:17:47, 10.44s/it]\u001b[A"
     ]
    },
    {
     "name": "stdout",
     "output_type": "stream",
     "text": [
      "[(0.577888, 0.4108256731639065, 0.24952464051777345, 0.38904732394824626)]\n"
     ]
    },
    {
     "name": "stderr",
     "output_type": "stream",
     "text": [
      "\n",
      "Train epoch=0:  14%|██▌                | 1157/8498 [3:21:22<21:17:39, 10.44s/it]\u001b[A"
     ]
    },
    {
     "name": "stdout",
     "output_type": "stream",
     "text": [
      "[(0.29062933333333335, 0.5920364715145043, 0.2926118617631961, 0.12455521932433965)]\n"
     ]
    },
    {
     "name": "stderr",
     "output_type": "stream",
     "text": [
      "\n",
      "Train epoch=0:  14%|██▌                | 1158/8498 [3:21:34<21:17:38, 10.44s/it]\u001b[A"
     ]
    },
    {
     "name": "stdout",
     "output_type": "stream",
     "text": [
      "[(0.7320599571734475, 0.7627035281096299, 0.2898716863307427, 0.580351503520463)]\n"
     ]
    },
    {
     "name": "stderr",
     "output_type": "stream",
     "text": [
      "\n",
      "Train epoch=0:  14%|██▌                | 1159/8498 [3:21:43<21:17:23, 10.44s/it]\u001b[A"
     ]
    },
    {
     "name": "stdout",
     "output_type": "stream",
     "text": [
      "[(0.8889249249249249, 0.6365028844100501, 0.5638832823306908, 0.794363766462975)]\n"
     ]
    },
    {
     "name": "stderr",
     "output_type": "stream",
     "text": [
      "\n",
      "Train epoch=0:  14%|██▌                | 1160/8498 [3:21:54<21:17:12, 10.44s/it]\u001b[A"
     ]
    },
    {
     "name": "stdout",
     "output_type": "stream",
     "text": [
      "[(0.8154026666666667, 0.7793791770534629, 0.3387842717350021, 0.6971467639304394)]\n"
     ]
    },
    {
     "name": "stderr",
     "output_type": "stream",
     "text": [
      "\n",
      "Train epoch=0:  14%|██▌                | 1161/8498 [3:22:03<21:16:54, 10.44s/it]\u001b[A"
     ]
    },
    {
     "name": "stdout",
     "output_type": "stream",
     "text": [
      "[(0.6149568627450981, 0.49997449337465405, 0.11032207229390327, 0.47492743587812347)]\n"
     ]
    },
    {
     "name": "stderr",
     "output_type": "stream",
     "text": [
      "\n",
      "Train epoch=0:  14%|██▌                | 1162/8498 [3:22:13<21:16:40, 10.44s/it]\u001b[A"
     ]
    },
    {
     "name": "stdout",
     "output_type": "stream",
     "text": [
      "[(0.9665432835820895, 0.9363877717545837, 0.8803352628324324, 0.9372256696111252)]\n"
     ]
    },
    {
     "name": "stderr",
     "output_type": "stream",
     "text": [
      "\n",
      "Train epoch=0:  14%|██▌                | 1163/8498 [3:22:23<21:16:28, 10.44s/it]\u001b[A"
     ]
    },
    {
     "name": "stdout",
     "output_type": "stream",
     "text": [
      "[(0.84616, 0.7763624850647028, 0.45544416974349966, 0.7249515717439745)]\n"
     ]
    },
    {
     "name": "stderr",
     "output_type": "stream",
     "text": [
      "\n",
      "Train epoch=0:  14%|██▌                | 1164/8498 [3:22:34<21:16:18, 10.44s/it]\u001b[A"
     ]
    },
    {
     "name": "stdout",
     "output_type": "stream",
     "text": [
      "[(0.6471146666666666, 0.7218740452646574, 0.28638273150420934, 0.5402290274689422)]\n"
     ]
    },
    {
     "name": "stderr",
     "output_type": "stream",
     "text": [
      "\n",
      "Train epoch=0:  14%|██▌                | 1165/8498 [3:22:41<21:15:47, 10.44s/it]\u001b[A"
     ]
    },
    {
     "name": "stdout",
     "output_type": "stream",
     "text": [
      "[(0.9702307692307692, 0.3895799727586084, 0.3769775951022094, 0.9419024382425787)]\n"
     ]
    },
    {
     "name": "stderr",
     "output_type": "stream",
     "text": [
      "\n",
      "Train epoch=0:  14%|██▌                | 1166/8498 [3:22:52<21:15:42, 10.44s/it]\u001b[A"
     ]
    },
    {
     "name": "stdout",
     "output_type": "stream",
     "text": [
      "[(0.7256848137535816, 0.32829811464787567, 0.19176904224566915, 0.5651649608430974)]\n"
     ]
    },
    {
     "name": "stderr",
     "output_type": "stream",
     "text": [
      "\n",
      "Train epoch=0:  14%|██▌                | 1167/8498 [3:23:02<21:15:30, 10.44s/it]\u001b[A"
     ]
    },
    {
     "name": "stdout",
     "output_type": "stream",
     "text": [
      "[(0.8364053333333333, 0.8174920029897756, 0.7052575582732922, 0.7141144334277656)]\n"
     ]
    },
    {
     "name": "stderr",
     "output_type": "stream",
     "text": [
      "\n",
      "Train epoch=0:  14%|██▌                | 1168/8498 [3:23:13<21:15:20, 10.44s/it]\u001b[A"
     ]
    },
    {
     "name": "stdout",
     "output_type": "stream",
     "text": [
      "[(0.6065333333333334, 0.481725277258108, 0.17007861716309508, 0.5344961291430534)]\n"
     ]
    },
    {
     "name": "stderr",
     "output_type": "stream",
     "text": [
      "\n",
      "Train epoch=0:  14%|██▌                | 1169/8498 [3:23:22<21:15:05, 10.44s/it]\u001b[A"
     ]
    },
    {
     "name": "stdout",
     "output_type": "stream",
     "text": [
      "[(0.9828298507462686, 0.5564466378778532, 0.5478427631426108, 0.9659551611192664)]\n"
     ]
    },
    {
     "name": "stderr",
     "output_type": "stream",
     "text": [
      "\n",
      "Train epoch=0:  14%|██▌                | 1170/8498 [3:23:34<21:15:00, 10.44s/it]\u001b[A"
     ]
    },
    {
     "name": "stdout",
     "output_type": "stream",
     "text": [
      "[(0.9526933333333333, 0.7855524124908303, 0.51590362974646, 0.9398059895073423)]\n"
     ]
    },
    {
     "name": "stderr",
     "output_type": "stream",
     "text": [
      "\n",
      "Train epoch=0:  14%|██▌                | 1171/8498 [3:23:44<21:14:48, 10.44s/it]\u001b[A"
     ]
    },
    {
     "name": "stdout",
     "output_type": "stream",
     "text": [
      "[(0.750416, 0.5603480624416671, 0.3778922579573029, 0.6386021493570542)]\n"
     ]
    },
    {
     "name": "stderr",
     "output_type": "stream",
     "text": [
      "\n",
      "Train epoch=0:  14%|██▌                | 1172/8498 [3:23:53<21:14:32, 10.44s/it]\u001b[A"
     ]
    },
    {
     "name": "stdout",
     "output_type": "stream",
     "text": [
      "[(0.7078198198198198, 0.7083256442085631, 0.27045645651665245, 0.6753221194185042)]\n"
     ]
    },
    {
     "name": "stderr",
     "output_type": "stream",
     "text": [
      "\n",
      "Train epoch=0:  14%|██▌                | 1173/8498 [3:24:04<21:14:20, 10.44s/it]\u001b[A"
     ]
    },
    {
     "name": "stdout",
     "output_type": "stream",
     "text": [
      "[(0.8007946666666667, 0.8766542290999415, 0.27554112304954687, 0.7462731582659771)]\n"
     ]
    },
    {
     "name": "stderr",
     "output_type": "stream",
     "text": [
      "\n",
      "Train epoch=0:  14%|██▌                | 1174/8498 [3:24:14<21:14:09, 10.44s/it]\u001b[A"
     ]
    },
    {
     "name": "stdout",
     "output_type": "stream",
     "text": [
      "[(0.828608, 0.6201527511891498, 0.34023086595970814, 0.7982843274657406)]\n"
     ]
    },
    {
     "name": "stderr",
     "output_type": "stream",
     "text": [
      "\n",
      "Train epoch=0:  14%|██▋                | 1175/8498 [3:24:24<21:13:53, 10.44s/it]\u001b[A"
     ]
    },
    {
     "name": "stdout",
     "output_type": "stream",
     "text": [
      "[(0.636054054054054, 0.5030031577506282, 0.34455417445924114, 0.45578239943680565)]\n"
     ]
    },
    {
     "name": "stderr",
     "output_type": "stream",
     "text": [
      "\n",
      "Train epoch=0:  14%|██▋                | 1176/8498 [3:24:34<21:13:41, 10.44s/it]\u001b[A"
     ]
    },
    {
     "name": "stdout",
     "output_type": "stream",
     "text": [
      "[(0.8298666666666666, 0.8228612767313923, 0.5183043041724152, 0.7917161654520806)]\n"
     ]
    },
    {
     "name": "stderr",
     "output_type": "stream",
     "text": [
      "\n",
      "Train epoch=0:  14%|██▋                | 1177/8498 [3:24:44<21:13:31, 10.44s/it]\u001b[A"
     ]
    },
    {
     "name": "stdout",
     "output_type": "stream",
     "text": [
      "[(0.5662186666666666, 0.4963030551529075, 0.1426075634864619, 0.48431208111969093)]\n"
     ]
    },
    {
     "name": "stderr",
     "output_type": "stream",
     "text": [
      "\n",
      "Train epoch=0:  14%|██▋                | 1178/8498 [3:24:55<21:13:21, 10.44s/it]\u001b[A"
     ]
    },
    {
     "name": "stdout",
     "output_type": "stream",
     "text": [
      "[(0.8796144578313253, 0.7712312877278897, 0.5002379929941232, 0.7995546955782743)]\n"
     ]
    },
    {
     "name": "stderr",
     "output_type": "stream",
     "text": [
      "\n",
      "Train epoch=0:  14%|██▋                | 1179/8498 [3:25:05<21:13:11, 10.44s/it]\u001b[A"
     ]
    },
    {
     "name": "stdout",
     "output_type": "stream",
     "text": [
      "[(0.9227413333333333, 0.9521340641747984, 0.79891275070152, 0.8692300901704044)]\n"
     ]
    },
    {
     "name": "stderr",
     "output_type": "stream",
     "text": [
      "\n",
      "Train epoch=0:  14%|██▋                | 1180/8498 [3:25:15<21:12:54, 10.44s/it]\u001b[A"
     ]
    },
    {
     "name": "stdout",
     "output_type": "stream",
     "text": [
      "[(0.9264984984984985, 0.582705335013356, 0.5427260605378528, 0.863193050163781)]\n"
     ]
    },
    {
     "name": "stderr",
     "output_type": "stream",
     "text": [
      "\n",
      "Train epoch=0:  14%|██▋                | 1181/8498 [3:25:25<21:12:42, 10.44s/it]\u001b[A"
     ]
    },
    {
     "name": "stdout",
     "output_type": "stream",
     "text": [
      "[(0.7385333333333334, 0.5747188663124563, 0.3728541851632223, 0.6553067496591493)]\n"
     ]
    },
    {
     "name": "stderr",
     "output_type": "stream",
     "text": [
      "\n",
      "Train epoch=0:  14%|██▋                | 1182/8498 [3:25:35<21:12:33, 10.44s/it]\u001b[A"
     ]
    },
    {
     "name": "stdout",
     "output_type": "stream",
     "text": [
      "[(0.9196266666666667, 0.665927732210153, 0.6240701092342898, 0.8459818067012934)]\n"
     ]
    },
    {
     "name": "stderr",
     "output_type": "stream",
     "text": [
      "\n",
      "Train epoch=0:  14%|██▋                | 1183/8498 [3:25:45<21:12:17, 10.44s/it]\u001b[A"
     ]
    },
    {
     "name": "stdout",
     "output_type": "stream",
     "text": [
      "[(0.8426628571428572, 0.49323096073658707, 0.4280435300473299, 0.7241731204876851)]\n"
     ]
    },
    {
     "name": "stderr",
     "output_type": "stream",
     "text": [
      "\n",
      "Train epoch=0:  14%|██▋                | 1184/8498 [3:25:55<21:12:05, 10.44s/it]\u001b[A"
     ]
    },
    {
     "name": "stdout",
     "output_type": "stream",
     "text": [
      "[(0.840176, 0.8603698092513601, 0.7243304643826856, 0.7250473097334921)]\n"
     ]
    },
    {
     "name": "stderr",
     "output_type": "stream",
     "text": [
      "\n",
      "Train epoch=0:  14%|██▋                | 1185/8498 [3:26:05<21:11:53, 10.44s/it]\u001b[A"
     ]
    },
    {
     "name": "stdout",
     "output_type": "stream",
     "text": [
      "[(0.9114346666666666, 0.9123284152974732, 0.5521364375186297, 0.8432772940831313)]\n"
     ]
    },
    {
     "name": "stderr",
     "output_type": "stream",
     "text": [
      "\n",
      "Train epoch=0:  14%|██▋                | 1186/8498 [3:26:16<21:11:42, 10.44s/it]\u001b[A"
     ]
    },
    {
     "name": "stdout",
     "output_type": "stream",
     "text": [
      "[(0.35885866666666666, 0.5966909233261891, 0.2185244888228417, 0.1939406014501012)]\n"
     ]
    },
    {
     "name": "stderr",
     "output_type": "stream",
     "text": [
      "\n",
      "Train epoch=0:  14%|██▋                | 1187/8498 [3:26:26<21:11:31, 10.44s/it]\u001b[A"
     ]
    },
    {
     "name": "stdout",
     "output_type": "stream",
     "text": [
      "[(0.740532212885154, 0.5429935922638118, 0.3204532801819314, 0.582988010475499)]\n"
     ]
    },
    {
     "name": "stderr",
     "output_type": "stream",
     "text": [
      "\n",
      "Train epoch=0:  14%|██▋                | 1188/8498 [3:26:37<21:11:22, 10.44s/it]\u001b[A"
     ]
    },
    {
     "name": "stdout",
     "output_type": "stream",
     "text": [
      "[(0.953552, 0.9559868757961023, 0.850068000266428, 0.9173616318046581)]\n"
     ]
    },
    {
     "name": "stderr",
     "output_type": "stream",
     "text": [
      "\n",
      "Train epoch=0:  14%|██▋                | 1189/8498 [3:26:47<21:11:09, 10.44s/it]\u001b[A"
     ]
    },
    {
     "name": "stdout",
     "output_type": "stream",
     "text": [
      "[(0.2345165165165165, 0.35371108262436646, 0.05231203436459653, 0.10984988771837029)]\n"
     ]
    },
    {
     "name": "stderr",
     "output_type": "stream",
     "text": [
      "\n",
      "Train epoch=0:  14%|██▋                | 1190/8498 [3:26:57<21:10:59, 10.44s/it]\u001b[A"
     ]
    },
    {
     "name": "stdout",
     "output_type": "stream",
     "text": [
      "[(0.956016, 0.6884964673217259, 0.6651190720596161, 0.9142323476471438)]\n"
     ]
    },
    {
     "name": "stderr",
     "output_type": "stream",
     "text": [
      "\n",
      "Train epoch=0:  14%|██▋                | 1191/8498 [3:27:08<21:10:52, 10.44s/it]\u001b[A"
     ]
    },
    {
     "name": "stdout",
     "output_type": "stream",
     "text": [
      "[(0.9176616915422886, 0.5052316890881914, 0.46402665983386543, 0.8421088879020805)]\n"
     ]
    },
    {
     "name": "stderr",
     "output_type": "stream",
     "text": [
      "\n",
      "Train epoch=0:  14%|██▋                | 1192/8498 [3:27:16<21:10:25, 10.43s/it]\u001b[A"
     ]
    },
    {
     "name": "stdout",
     "output_type": "stream",
     "text": [
      "[(0.8930516098484849, 0.8612482059703317, 0.7794419628877588, 0.8062683659505794)]\n"
     ]
    },
    {
     "name": "stderr",
     "output_type": "stream",
     "text": [
      "\n",
      "Train epoch=0:  14%|██▋                | 1193/8498 [3:27:26<21:10:14, 10.43s/it]\u001b[A"
     ]
    },
    {
     "name": "stdout",
     "output_type": "stream",
     "text": [
      "[(0.9244693333333334, 0.4756988468272656, 0.18590020645092098, 0.9031924350376705)]\n"
     ]
    },
    {
     "name": "stderr",
     "output_type": "stream",
     "text": [
      "\n",
      "Train epoch=0:  14%|██▋                | 1194/8498 [3:27:37<21:10:03, 10.43s/it]\u001b[A"
     ]
    },
    {
     "name": "stdout",
     "output_type": "stream",
     "text": [
      "[(0.9684528301886792, 0.9134918501619689, 0.8892689879929835, 0.9385386093897716)]\n"
     ]
    },
    {
     "name": "stderr",
     "output_type": "stream",
     "text": [
      "\n",
      "Train epoch=0:  14%|██▋                | 1195/8498 [3:27:47<21:09:53, 10.43s/it]\u001b[A"
     ]
    },
    {
     "name": "stdout",
     "output_type": "stream",
     "text": [
      "[(0.24226133333333333, 0.5127516793397028, 0.045658575338045675, 0.09516699379817636)]\n"
     ]
    },
    {
     "name": "stderr",
     "output_type": "stream",
     "text": [
      "\n",
      "Train epoch=0:  14%|██▋                | 1196/8498 [3:27:57<21:09:36, 10.43s/it]\u001b[A"
     ]
    },
    {
     "name": "stdout",
     "output_type": "stream",
     "text": [
      "[(0.7943473053892216, 0.6657022821605503, 0.30745273996047706, 0.727312229448358)]\n"
     ]
    },
    {
     "name": "stderr",
     "output_type": "stream",
     "text": [
      "\n",
      "Train epoch=0:  14%|██▋                | 1197/8498 [3:28:06<21:09:22, 10.43s/it]\u001b[A"
     ]
    },
    {
     "name": "stdout",
     "output_type": "stream",
     "text": [
      "[(0.9896955223880597, 0.4966058943004188, 0.32989850746268656, 0.9861917048073067)]\n"
     ]
    },
    {
     "name": "stderr",
     "output_type": "stream",
     "text": [
      "\n",
      "Train epoch=0:  14%|██▋                | 1198/8498 [3:28:18<21:09:17, 10.43s/it]\u001b[A"
     ]
    },
    {
     "name": "stdout",
     "output_type": "stream",
     "text": [
      "[(0.7194613333333333, 0.6770637858928701, 0.22589933744339766, 0.5841849675174595)]\n"
     ]
    },
    {
     "name": "stderr",
     "output_type": "stream",
     "text": [
      "\n",
      "Train epoch=0:  14%|██▋                | 1199/8498 [3:28:27<21:08:58, 10.43s/it]\u001b[A"
     ]
    },
    {
     "name": "stdout",
     "output_type": "stream",
     "text": [
      "[(0.8425170068027211, 0.8422741431030994, 0.7244101025942518, 0.7244686442413836)]\n"
     ]
    },
    {
     "name": "stderr",
     "output_type": "stream",
     "text": [
      "\n",
      "Train epoch=0:  14%|██▋                | 1200/8498 [3:28:37<21:08:46, 10.43s/it]\u001b[A"
     ]
    },
    {
     "name": "stdout",
     "output_type": "stream",
     "text": [
      "[(0.8164533333333334, 0.8633216619655658, 0.39968523786696203, 0.7462254244811304)]\n"
     ]
    },
    {
     "name": "stderr",
     "output_type": "stream",
     "text": [
      "\n",
      "Train epoch=0:  14%|██▋                | 1201/8498 [3:28:47<21:08:36, 10.43s/it]\u001b[A"
     ]
    },
    {
     "name": "stdout",
     "output_type": "stream",
     "text": [
      "[(0.9960586666666666, 0.3333333333333333, 0.33201955555555557, 0.9921328674417778)]\n"
     ]
    },
    {
     "name": "stderr",
     "output_type": "stream",
     "text": [
      "\n",
      "Train epoch=0:  14%|██▋                | 1202/8498 [3:28:58<21:08:27, 10.43s/it]\u001b[A"
     ]
    },
    {
     "name": "stdout",
     "output_type": "stream",
     "text": [
      "[(0.5375626666666666, 0.5475754399390345, 0.18967461902208657, 0.4658156992631401)]\n"
     ]
    },
    {
     "name": "stderr",
     "output_type": "stream",
     "text": [
      "\n",
      "Train epoch=0:  14%|██▋                | 1203/8498 [3:29:08<21:08:15, 10.43s/it]\u001b[A"
     ]
    },
    {
     "name": "stdout",
     "output_type": "stream",
     "text": [
      "[(0.9382293333333334, 0.7757347176657761, 0.7340363999690028, 0.8827721185504332)]\n"
     ]
    },
    {
     "name": "stderr",
     "output_type": "stream",
     "text": [
      "\n",
      "Train epoch=0:  14%|██▋                | 1204/8498 [3:29:18<21:07:58, 10.43s/it]\u001b[A"
     ]
    },
    {
     "name": "stdout",
     "output_type": "stream",
     "text": [
      "[(0.9078023952095808, 0.62887929011763, 0.5741744266968692, 0.8288642559298753)]\n"
     ]
    },
    {
     "name": "stderr",
     "output_type": "stream",
     "text": [
      "\n",
      "Train epoch=0:  14%|██▋                | 1205/8498 [3:29:28<21:07:47, 10.43s/it]\u001b[A"
     ]
    },
    {
     "name": "stdout",
     "output_type": "stream",
     "text": [
      "[(0.9579783197831978, 0.9289801512061754, 0.7902309671387602, 0.928962971968866)]\n"
     ]
    },
    {
     "name": "stderr",
     "output_type": "stream",
     "text": [
      "\n",
      "Train epoch=0:  14%|██▋                | 1206/8498 [3:29:39<21:07:40, 10.43s/it]\u001b[A"
     ]
    },
    {
     "name": "stdout",
     "output_type": "stream",
     "text": [
      "[(0.609331506849315, 0.6496237693762709, 0.32121190131805133, 0.3815889886970116)]\n"
     ]
    },
    {
     "name": "stderr",
     "output_type": "stream",
     "text": [
      "\n",
      "Train epoch=0:  14%|██▋                | 1207/8498 [3:29:48<21:07:23, 10.43s/it]\u001b[A"
     ]
    },
    {
     "name": "stdout",
     "output_type": "stream",
     "text": [
      "[(0.8670753424657535, 0.6732616208876713, 0.5938434982403177, 0.7657394449818853)]\n"
     ]
    },
    {
     "name": "stderr",
     "output_type": "stream",
     "text": [
      "\n",
      "Train epoch=0:  14%|██▋                | 1208/8498 [3:30:00<21:07:22, 10.43s/it]\u001b[A"
     ]
    },
    {
     "name": "stdout",
     "output_type": "stream",
     "text": [
      "[(0.9000496613995486, 0.8203769591998028, 0.47315613065740053, 0.8435355326218593)]\n"
     ]
    },
    {
     "name": "stderr",
     "output_type": "stream",
     "text": [
      "\n",
      "Train epoch=0:  14%|██▋                | 1209/8498 [3:30:11<21:07:13, 10.43s/it]\u001b[A"
     ]
    },
    {
     "name": "stdout",
     "output_type": "stream",
     "text": [
      "[(0.7601493333333333, 0.5585442678851907, 0.4486953110731042, 0.5896959974503126)]\n"
     ]
    },
    {
     "name": "stderr",
     "output_type": "stream",
     "text": [
      "\n",
      "Train epoch=0:  14%|██▋                | 1210/8498 [3:30:21<21:07:01, 10.43s/it]\u001b[A"
     ]
    },
    {
     "name": "stdout",
     "output_type": "stream",
     "text": [
      "[(0.817312, 0.5, 0.27250128030044385, 0.6681556992147492)]\n"
     ]
    },
    {
     "name": "stderr",
     "output_type": "stream",
     "text": [
      "\n",
      "Train epoch=0:  14%|██▋                | 1211/8498 [3:30:32<21:06:54, 10.43s/it]\u001b[A"
     ]
    },
    {
     "name": "stdout",
     "output_type": "stream",
     "text": [
      "[(0.961945945945946, 0.48667570146278616, 0.3229549152808948, 0.9575118622442516)]\n"
     ]
    },
    {
     "name": "stderr",
     "output_type": "stream",
     "text": [
      "\n",
      "Train epoch=0:  14%|██▋                | 1212/8498 [3:30:42<21:06:42, 10.43s/it]\u001b[A"
     ]
    },
    {
     "name": "stdout",
     "output_type": "stream",
     "text": [
      "[(0.8958986666666666, 0.7654087116846598, 0.6259931519134385, 0.8231168785960647)]\n"
     ]
    },
    {
     "name": "stderr",
     "output_type": "stream",
     "text": [
      "\n",
      "Train epoch=0:  14%|██▋                | 1213/8498 [3:30:53<21:06:34, 10.43s/it]\u001b[A"
     ]
    },
    {
     "name": "stdout",
     "output_type": "stream",
     "text": [
      "[(0.90752, 0.817482537960492, 0.7600632852388688, 0.8262601151649893)]\n"
     ]
    },
    {
     "name": "stderr",
     "output_type": "stream",
     "text": [
      "\n",
      "Train epoch=0:  14%|██▋                | 1214/8498 [3:31:03<21:06:21, 10.43s/it]\u001b[A"
     ]
    },
    {
     "name": "stdout",
     "output_type": "stream",
     "text": [
      "[(0.9857973333333333, 0.39086129895328187, 0.2897264787008188, 0.9723313417613303)]\n"
     ]
    },
    {
     "name": "stderr",
     "output_type": "stream",
     "text": [
      "\n",
      "Train epoch=0:  14%|██▋                | 1215/8498 [3:31:14<21:06:16, 10.43s/it]\u001b[A"
     ]
    },
    {
     "name": "stdout",
     "output_type": "stream",
     "text": [
      "[(0.942624, 0.5, 0.471312, 0.8885400053760001)]\n"
     ]
    },
    {
     "name": "stderr",
     "output_type": "stream",
     "text": [
      "\n",
      "Train epoch=0:  14%|██▋                | 1216/8498 [3:31:24<21:06:01, 10.43s/it]\u001b[A"
     ]
    },
    {
     "name": "stdout",
     "output_type": "stream",
     "text": [
      "[(0.9882899408284024, 0.5, 0.4941449704142012, 0.9767170071426071)]\n"
     ]
    },
    {
     "name": "stderr",
     "output_type": "stream",
     "text": [
      "\n",
      "Train epoch=0:  14%|██▋                | 1217/8498 [3:31:32<21:05:38, 10.43s/it]\u001b[A"
     ]
    },
    {
     "name": "stdout",
     "output_type": "stream",
     "text": [
      "[(0.9442720588235294, 0.9207493868004477, 0.8384661965550622, 0.898803736870969)]\n"
     ]
    },
    {
     "name": "stderr",
     "output_type": "stream",
     "text": [
      "\n",
      "Train epoch=0:  14%|██▋                | 1218/8498 [3:31:44<21:05:33, 10.43s/it]\u001b[A"
     ]
    },
    {
     "name": "stdout",
     "output_type": "stream",
     "text": [
      "[(0.3496, 0.5125743429046492, 0.1213286540120944, 0.1295509407235667)]\n"
     ]
    },
    {
     "name": "stderr",
     "output_type": "stream",
     "text": [
      "\n",
      "Train epoch=0:  14%|██▋                | 1219/8498 [3:31:54<21:05:21, 10.43s/it]\u001b[A"
     ]
    },
    {
     "name": "stdout",
     "output_type": "stream",
     "text": [
      "[(0.503024, 0.44120402813117937, 0.22889813182652607, 0.3045304222627639)]\n"
     ]
    },
    {
     "name": "stderr",
     "output_type": "stream",
     "text": [
      "\n",
      "Train epoch=0:  14%|██▋                | 1220/8498 [3:32:04<21:05:09, 10.43s/it]\u001b[A"
     ]
    },
    {
     "name": "stdout",
     "output_type": "stream",
     "text": [
      "[(0.886112676056338, 0.8665541136811455, 0.7832647192658396, 0.7925716787635075)]\n"
     ]
    },
    {
     "name": "stderr",
     "output_type": "stream",
     "text": [
      "\n",
      "Train epoch=0:  14%|██▋                | 1221/8498 [3:32:13<21:04:52, 10.43s/it]\u001b[A"
     ]
    },
    {
     "name": "stdout",
     "output_type": "stream",
     "text": [
      "[(0.8328048048048048, 0.8739686332912386, 0.6977857143385042, 0.7265625777852622)]\n"
     ]
    },
    {
     "name": "stderr",
     "output_type": "stream",
     "text": [
      "\n",
      "Train epoch=0:  14%|██▋                | 1222/8498 [3:32:23<21:04:35, 10.43s/it]\u001b[A"
     ]
    },
    {
     "name": "stdout",
     "output_type": "stream",
     "text": [
      "[(0.5766627218934911, 0.3659640468782845, 0.23162697288807263, 0.4846848380940127)]\n"
     ]
    },
    {
     "name": "stderr",
     "output_type": "stream",
     "text": [
      "\n",
      "Train epoch=0:  14%|██▋                | 1223/8498 [3:32:30<21:04:08, 10.43s/it]\u001b[A"
     ]
    },
    {
     "name": "stdout",
     "output_type": "stream",
     "text": [
      "[(0.8628833333333333, 0.8921018550873887, 0.7437063665928807, 0.7681785235022986)]\n"
     ]
    },
    {
     "name": "stderr",
     "output_type": "stream",
     "text": [
      "\n",
      "Train epoch=0:  14%|██▋                | 1224/8498 [3:32:41<21:03:57, 10.43s/it]\u001b[A"
     ]
    },
    {
     "name": "stdout",
     "output_type": "stream",
     "text": [
      "[(0.8471253333333333, 0.8289317872259232, 0.5007938522307065, 0.76106191208378)]\n"
     ]
    },
    {
     "name": "stderr",
     "output_type": "stream",
     "text": [
      "\n",
      "Train epoch=0:  14%|██▋                | 1225/8498 [3:32:51<21:03:46, 10.43s/it]\u001b[A"
     ]
    },
    {
     "name": "stdout",
     "output_type": "stream",
     "text": [
      "[(0.9064693333333333, 0.5015778992098656, 0.45626807135176417, 0.8242749396517766)]\n"
     ]
    },
    {
     "name": "stderr",
     "output_type": "stream",
     "text": [
      "\n",
      "Train epoch=0:  14%|██▋                | 1226/8498 [3:33:01<21:03:30, 10.43s/it]\u001b[A"
     ]
    },
    {
     "name": "stdout",
     "output_type": "stream",
     "text": [
      "[(0.8845465465465465, 0.3016463079935442, 0.22128814924332577, 0.8652060952084752)]\n"
     ]
    },
    {
     "name": "stderr",
     "output_type": "stream",
     "text": [
      "\n",
      "Train epoch=0:  14%|██▋                | 1227/8498 [3:33:12<21:03:26, 10.43s/it]\u001b[A"
     ]
    },
    {
     "name": "stdout",
     "output_type": "stream",
     "text": [
      "[(0.8810868347338936, 0.6278820287728879, 0.5696327985623254, 0.7837611988662612)]\n"
     ]
    },
    {
     "name": "stderr",
     "output_type": "stream",
     "text": [
      "\n",
      "Train epoch=0:  14%|██▋                | 1228/8498 [3:33:22<21:03:11, 10.43s/it]\u001b[A"
     ]
    },
    {
     "name": "stdout",
     "output_type": "stream",
     "text": [
      "[(0.8066526946107785, 0.4948644101418716, 0.3001421492611803, 0.7338691220441316)]\n"
     ]
    },
    {
     "name": "stderr",
     "output_type": "stream",
     "text": [
      "\n",
      "Train epoch=0:  14%|██▋                | 1229/8498 [3:33:33<21:03:04, 10.43s/it]\u001b[A"
     ]
    },
    {
     "name": "stdout",
     "output_type": "stream",
     "text": [
      "[(0.9768, 0.4979689717613664, 0.2459036202813089, 0.9647133452559331)]\n"
     ]
    },
    {
     "name": "stderr",
     "output_type": "stream",
     "text": [
      "\n",
      "Train epoch=0:  14%|██▊                | 1230/8498 [3:33:42<21:02:48, 10.42s/it]\u001b[A"
     ]
    },
    {
     "name": "stdout",
     "output_type": "stream",
     "text": [
      "[(0.8608912037037038, 0.35795728280070654, 0.31121439010051605, 0.7412894500241988)]\n"
     ]
    },
    {
     "name": "stderr",
     "output_type": "stream",
     "text": [
      "\n",
      "Train epoch=0:  14%|██▊                | 1231/8498 [3:33:53<21:02:38, 10.42s/it]\u001b[A"
     ]
    },
    {
     "name": "stdout",
     "output_type": "stream",
     "text": [
      "[(0.5641653333333333, 0.5639830661544284, 0.28391272831886066, 0.4259924310284274)]\n"
     ]
    },
    {
     "name": "stderr",
     "output_type": "stream",
     "text": [
      "\n",
      "Train epoch=0:  14%|██▊                | 1232/8498 [3:34:02<21:02:20, 10.42s/it]\u001b[A"
     ]
    },
    {
     "name": "stdout",
     "output_type": "stream",
     "text": [
      "[(0.8105508982035928, 0.7542136615393145, 0.6379550387678328, 0.6725132342335226)]\n"
     ]
    },
    {
     "name": "stderr",
     "output_type": "stream",
     "text": [
      "\n",
      "Train epoch=0:  15%|██▊                | 1233/8498 [3:34:12<21:02:08, 10.42s/it]\u001b[A"
     ]
    },
    {
     "name": "stdout",
     "output_type": "stream",
     "text": [
      "[(0.5674474474474475, 0.5009009009009009, 0.18969164087188162, 0.32223554924195846)]\n"
     ]
    },
    {
     "name": "stderr",
     "output_type": "stream",
     "text": [
      "\n",
      "Train epoch=0:  15%|██▊                | 1234/8498 [3:34:21<21:01:52, 10.42s/it]\u001b[A"
     ]
    },
    {
     "name": "stdout",
     "output_type": "stream",
     "text": [
      "[(0.9729080118694362, 0.5411897028973125, 0.35905006693802827, 0.9685207306097163)]\n"
     ]
    },
    {
     "name": "stderr",
     "output_type": "stream",
     "text": [
      "\n",
      "Train epoch=0:  15%|██▊                | 1235/8498 [3:34:32<21:01:42, 10.42s/it]\u001b[A"
     ]
    },
    {
     "name": "stdout",
     "output_type": "stream",
     "text": [
      "[(0.9490876132930514, 0.9193527913587707, 0.5914885872800705, 0.9416205142238653)]\n"
     ]
    },
    {
     "name": "stderr",
     "output_type": "stream",
     "text": [
      "\n",
      "Train epoch=0:  15%|██▊                | 1236/8498 [3:34:44<21:01:38, 10.42s/it]\u001b[A"
     ]
    },
    {
     "name": "stdout",
     "output_type": "stream",
     "text": [
      "[(0.6746125290023202, 0.3742383171262329, 0.26391604210273467, 0.5061002834132113)]\n"
     ]
    },
    {
     "name": "stderr",
     "output_type": "stream",
     "text": [
      "\n",
      "Train epoch=0:  15%|██▊                | 1237/8498 [3:34:55<21:01:32, 10.42s/it]\u001b[A"
     ]
    },
    {
     "name": "stdout",
     "output_type": "stream",
     "text": [
      "[(0.9790990990990991, 0.9660224248683991, 0.9152675788661535, 0.9604293973451843)]\n"
     ]
    },
    {
     "name": "stderr",
     "output_type": "stream",
     "text": [
      "\n",
      "Train epoch=0:  15%|██▊                | 1238/8498 [3:35:05<21:01:19, 10.42s/it]\u001b[A"
     ]
    },
    {
     "name": "stdout",
     "output_type": "stream",
     "text": [
      "[(0.8540112359550561, 0.8668331649396875, 0.5190641559075672, 0.8007431174361456)]\n"
     ]
    },
    {
     "name": "stderr",
     "output_type": "stream",
     "text": [
      "\n",
      "Train epoch=0:  15%|██▊                | 1239/8498 [3:35:15<21:01:06, 10.42s/it]\u001b[A"
     ]
    },
    {
     "name": "stdout",
     "output_type": "stream",
     "text": [
      "[(0.7067604790419162, 0.7014268989596767, 0.5224392023272533, 0.524504936184593)]\n"
     ]
    },
    {
     "name": "stderr",
     "output_type": "stream",
     "text": [
      "\n",
      "Train epoch=0:  15%|██▊                | 1240/8498 [3:35:23<21:00:46, 10.42s/it]\u001b[A"
     ]
    },
    {
     "name": "stdout",
     "output_type": "stream",
     "text": [
      "[(0.9102989323843417, 0.5286401638509127, 0.3661651753018921, 0.831528115489769)]\n"
     ]
    },
    {
     "name": "stderr",
     "output_type": "stream",
     "text": [
      "\n",
      "Train epoch=0:  15%|██▊                | 1241/8498 [3:35:35<21:00:42, 10.42s/it]\u001b[A"
     ]
    },
    {
     "name": "stdout",
     "output_type": "stream",
     "text": [
      "[(0.9814026666666666, 0.5, 0.4907013333333333, 0.9631511941404444)]\n"
     ]
    },
    {
     "name": "stderr",
     "output_type": "stream",
     "text": [
      "\n",
      "Train epoch=0:  15%|██▊                | 1242/8498 [3:35:45<21:00:30, 10.42s/it]\u001b[A"
     ]
    },
    {
     "name": "stdout",
     "output_type": "stream",
     "text": [
      "[(0.8464684684684685, 0.32450001610964957, 0.28368232729121656, 0.7184005688795484)]\n"
     ]
    },
    {
     "name": "stderr",
     "output_type": "stream",
     "text": [
      "\n",
      "Train epoch=0:  15%|██▊                | 1243/8498 [3:35:55<21:00:15, 10.42s/it]\u001b[A"
     ]
    },
    {
     "name": "stdout",
     "output_type": "stream",
     "text": [
      "[(0.9123423423423423, 0.8882800497031118, 0.8141106907820147, 0.8394494104051343)]\n"
     ]
    },
    {
     "name": "stderr",
     "output_type": "stream",
     "text": [
      "\n",
      "Train epoch=0:  15%|██▊                | 1244/8498 [3:36:04<20:59:57, 10.42s/it]\u001b[A"
     ]
    },
    {
     "name": "stdout",
     "output_type": "stream",
     "text": [
      "[(0.8163757575757575, 0.8238254065790882, 0.6729860377657977, 0.6989432345247992)]\n"
     ]
    },
    {
     "name": "stderr",
     "output_type": "stream",
     "text": [
      "\n",
      "Train epoch=0:  15%|██▊                | 1245/8498 [3:36:13<20:59:41, 10.42s/it]\u001b[A"
     ]
    },
    {
     "name": "stdout",
     "output_type": "stream",
     "text": [
      "[(0.9861556886227545, 0.954393031251682, 0.888493156529404, 0.9742925866404774)]\n"
     ]
    },
    {
     "name": "stderr",
     "output_type": "stream",
     "text": [
      "\n",
      "Train epoch=0:  15%|██▊                | 1246/8498 [3:36:24<20:59:30, 10.42s/it]\u001b[A"
     ]
    },
    {
     "name": "stdout",
     "output_type": "stream",
     "text": [
      "[(0.7310773333333334, 0.33278951597827644, 0.18462046115720288, 0.5407695773300291)]\n"
     ]
    },
    {
     "name": "stderr",
     "output_type": "stream",
     "text": [
      "\n",
      "Train epoch=0:  15%|██▊                | 1247/8498 [3:36:35<20:59:27, 10.42s/it]\u001b[A"
     ]
    },
    {
     "name": "stdout",
     "output_type": "stream",
     "text": [
      "[(0.8748213333333333, 0.46711157747041715, 0.42259494655397756, 0.7664785837225432)]\n"
     ]
    },
    {
     "name": "stderr",
     "output_type": "stream",
     "text": [
      "\n",
      "Train epoch=0:  15%|██▊                | 1248/8498 [3:36:45<20:59:14, 10.42s/it]\u001b[A"
     ]
    },
    {
     "name": "stdout",
     "output_type": "stream",
     "text": [
      "[(0.49287687687687687, 0.2876275246027428, 0.1470579006809565, 0.3579066634787026)]\n"
     ]
    },
    {
     "name": "stderr",
     "output_type": "stream",
     "text": [
      "\n",
      "Train epoch=0:  15%|██▊                | 1249/8498 [3:36:56<20:59:07, 10.42s/it]\u001b[A"
     ]
    },
    {
     "name": "stdout",
     "output_type": "stream",
     "text": [
      "[(0.9645705705705706, 0.9423216247673275, 0.9052570862263347, 0.9319613915646142)]\n"
     ]
    },
    {
     "name": "stderr",
     "output_type": "stream",
     "text": [
      "\n",
      "Train epoch=0:  15%|██▊                | 1250/8498 [3:37:05<20:58:47, 10.42s/it]\u001b[A"
     ]
    },
    {
     "name": "stdout",
     "output_type": "stream",
     "text": [
      "[(0.967453947368421, 0.25, 0.24186348684210526, 0.9359671402787396)]\n"
     ]
    },
    {
     "name": "stderr",
     "output_type": "stream",
     "text": [
      "\n",
      "Train epoch=0:  15%|██▊                | 1251/8498 [3:37:15<20:58:36, 10.42s/it]\u001b[A"
     ]
    },
    {
     "name": "stdout",
     "output_type": "stream",
     "text": [
      "[(0.8450613333333333, 0.843084007131521, 0.7296663739897442, 0.7302531971090716)]\n"
     ]
    },
    {
     "name": "stderr",
     "output_type": "stream",
     "text": [
      "\n",
      "Train epoch=0:  15%|██▊                | 1252/8498 [3:37:25<20:58:19, 10.42s/it]\u001b[A"
     ]
    },
    {
     "name": "stdout",
     "output_type": "stream",
     "text": [
      "[(0.92003003003003, 0.7712083845309686, 0.7110308786285822, 0.8529523769642634)]\n"
     ]
    },
    {
     "name": "stderr",
     "output_type": "stream",
     "text": [
      "\n",
      "Train epoch=0:  15%|██▊                | 1253/8498 [3:37:34<20:58:02, 10.42s/it]\u001b[A"
     ]
    },
    {
     "name": "stdout",
     "output_type": "stream",
     "text": [
      "[(0.7872072072072072, 0.7969619267198405, 0.32727344702811756, 0.6733025184612577)]\n"
     ]
    },
    {
     "name": "stderr",
     "output_type": "stream",
     "text": [
      "\n",
      "Train epoch=0:  15%|██▊                | 1254/8498 [3:37:44<20:57:51, 10.42s/it]\u001b[A"
     ]
    },
    {
     "name": "stdout",
     "output_type": "stream",
     "text": [
      "[(0.859392, 0.8380736277050294, 0.7385797837632659, 0.746824013219693)]\n"
     ]
    },
    {
     "name": "stderr",
     "output_type": "stream",
     "text": [
      "\n",
      "Train epoch=0:  15%|██▊                | 1255/8498 [3:37:54<20:57:39, 10.42s/it]\u001b[A"
     ]
    },
    {
     "name": "stdout",
     "output_type": "stream",
     "text": [
      "[(0.927616, 0.9283528694194194, 0.8580081579533794, 0.8661853161681742)]\n"
     ]
    },
    {
     "name": "stderr",
     "output_type": "stream",
     "text": [
      "\n",
      "Train epoch=0:  15%|██▊                | 1256/8498 [3:38:05<20:57:32, 10.42s/it]\u001b[A"
     ]
    },
    {
     "name": "stdout",
     "output_type": "stream",
     "text": [
      "[(0.9737866666666667, 0.8981650172264032, 0.8396143142229051, 0.9512769267355791)]\n"
     ]
    },
    {
     "name": "stderr",
     "output_type": "stream",
     "text": [
      "\n",
      "Train epoch=0:  15%|██▊                | 1257/8498 [3:38:16<20:57:20, 10.42s/it]\u001b[A"
     ]
    },
    {
     "name": "stdout",
     "output_type": "stream",
     "text": [
      "[(0.9782613333333333, 0.7707387468414768, 0.7550052381393825, 0.9573920584731541)]\n"
     ]
    },
    {
     "name": "stderr",
     "output_type": "stream",
     "text": [
      "\n",
      "Train epoch=0:  15%|██▊                | 1258/8498 [3:38:26<20:57:10, 10.42s/it]\u001b[A"
     ]
    },
    {
     "name": "stdout",
     "output_type": "stream",
     "text": [
      "[(0.343552, 0.25350250291219345, 0.08918165417629721, 0.11933961850855142)]\n"
     ]
    },
    {
     "name": "stderr",
     "output_type": "stream",
     "text": [
      "\n",
      "Train epoch=0:  15%|██▊                | 1259/8498 [3:38:37<20:57:01, 10.42s/it]\u001b[A"
     ]
    },
    {
     "name": "stdout",
     "output_type": "stream",
     "text": [
      "[(0.8716470588235294, 0.7503618430714074, 0.6763035482460246, 0.7626950004115369)]\n"
     ]
    },
    {
     "name": "stderr",
     "output_type": "stream",
     "text": [
      "\n",
      "Train epoch=0:  15%|██▊                | 1260/8498 [3:38:47<20:56:51, 10.42s/it]\u001b[A"
     ]
    },
    {
     "name": "stdout",
     "output_type": "stream",
     "text": [
      "[(0.9872533333333333, 0.6244706052677995, 0.6038113148252552, 0.9752944255356383)]\n"
     ]
    },
    {
     "name": "stderr",
     "output_type": "stream",
     "text": [
      "\n",
      "Train epoch=0:  15%|██▊                | 1261/8498 [3:38:57<20:56:35, 10.42s/it]\u001b[A"
     ]
    },
    {
     "name": "stdout",
     "output_type": "stream",
     "text": [
      "[(0.9964864864864865, 0.5, 0.49824324324324326, 0.9929853177501827)]\n"
     ]
    },
    {
     "name": "stderr",
     "output_type": "stream",
     "text": [
      "\n",
      "Train epoch=0:  15%|██▊                | 1262/8498 [3:39:08<20:56:29, 10.42s/it]\u001b[A"
     ]
    },
    {
     "name": "stdout",
     "output_type": "stream",
     "text": [
      "[(0.919488, 0.5230407673860912, 0.492592417055719, 0.8463941246626139)]\n"
     ]
    },
    {
     "name": "stderr",
     "output_type": "stream",
     "text": [
      "\n",
      "Train epoch=0:  15%|██▊                | 1263/8498 [3:39:18<20:56:18, 10.42s/it]\u001b[A"
     ]
    },
    {
     "name": "stdout",
     "output_type": "stream",
     "text": [
      "[(0.7498453333333334, 0.5083025830258303, 0.38269468191821837, 0.5625334719312153)]\n"
     ]
    },
    {
     "name": "stderr",
     "output_type": "stream",
     "text": [
      "\n",
      "Train epoch=0:  15%|██▊                | 1264/8498 [3:39:26<20:55:55, 10.42s/it]\u001b[A"
     ]
    },
    {
     "name": "stdout",
     "output_type": "stream",
     "text": [
      "[(0.8088326034282962, 0.6176377533777944, 0.5237558447227678, 0.6749621422765361)]\n"
     ]
    },
    {
     "name": "stderr",
     "output_type": "stream",
     "text": [
      "\n",
      "Train epoch=0:  15%|██▊                | 1265/8498 [3:39:36<20:55:43, 10.42s/it]\u001b[A"
     ]
    },
    {
     "name": "stdout",
     "output_type": "stream",
     "text": [
      "[(0.836048, 0.6319438989172923, 0.5378662085839755, 0.7052267960738966)]\n"
     ]
    },
    {
     "name": "stderr",
     "output_type": "stream",
     "text": [
      "\n",
      "Train epoch=0:  15%|██▊                | 1266/8498 [3:39:47<20:55:30, 10.42s/it]\u001b[A"
     ]
    },
    {
     "name": "stdout",
     "output_type": "stream",
     "text": [
      "[(0.795072, 0.7771376513282439, 0.6461836876207182, 0.6559663847372221)]\n"
     ]
    },
    {
     "name": "stderr",
     "output_type": "stream",
     "text": [
      "\n",
      "Train epoch=0:  15%|██▊                | 1267/8498 [3:39:57<20:55:18, 10.42s/it]\u001b[A"
     ]
    },
    {
     "name": "stdout",
     "output_type": "stream",
     "text": [
      "[(0.7921866666666667, 0.48022317024831523, 0.31341051257368574, 0.6561647676117388)]\n"
     ]
    },
    {
     "name": "stderr",
     "output_type": "stream",
     "text": [
      "\n",
      "Train epoch=0:  15%|██▊                | 1268/8498 [3:40:07<20:55:06, 10.42s/it]\u001b[A"
     ]
    },
    {
     "name": "stdout",
     "output_type": "stream",
     "text": [
      "[(0.60624, 0.5394203296360529, 0.3356737999226723, 0.3729344670798815)]\n"
     ]
    },
    {
     "name": "stderr",
     "output_type": "stream",
     "text": [
      "\n",
      "Train epoch=0:  15%|██▊                | 1269/8498 [3:40:18<20:54:59, 10.42s/it]\u001b[A"
     ]
    },
    {
     "name": "stdout",
     "output_type": "stream",
     "text": [
      "[(0.935488, 0.9058591361555368, 0.8452804491990944, 0.8797436659309409)]\n"
     ]
    },
    {
     "name": "stderr",
     "output_type": "stream",
     "text": [
      "\n",
      "Train epoch=0:  15%|██▊                | 1270/8498 [3:40:28<20:54:49, 10.42s/it]\u001b[A"
     ]
    },
    {
     "name": "stdout",
     "output_type": "stream",
     "text": [
      "[(0.7198418367346939, 0.5008968252755462, 0.33204785149727595, 0.6127227236313996)]\n"
     ]
    },
    {
     "name": "stderr",
     "output_type": "stream",
     "text": [
      "\n",
      "Train epoch=0:  15%|██▊                | 1271/8498 [3:40:39<20:54:39, 10.42s/it]\u001b[A"
     ]
    },
    {
     "name": "stdout",
     "output_type": "stream",
     "text": [
      "[(0.9288, 0.5057764372033359, 0.3167771946836363, 0.8714433240050414)]\n"
     ]
    },
    {
     "name": "stderr",
     "output_type": "stream",
     "text": [
      "\n",
      "Train epoch=0:  15%|██▊                | 1272/8498 [3:40:46<20:54:09, 10.41s/it]\u001b[A"
     ]
    },
    {
     "name": "stdout",
     "output_type": "stream",
     "text": [
      "[(0.9725925925925926, 0.5106539309331374, 0.49694204524002833, 0.9459367996602148)]\n"
     ]
    },
    {
     "name": "stderr",
     "output_type": "stream",
     "text": [
      "\n",
      "Train epoch=0:  15%|██▊                | 1273/8498 [3:40:56<20:53:56, 10.41s/it]\u001b[A"
     ]
    },
    {
     "name": "stdout",
     "output_type": "stream",
     "text": [
      "[(0.968752, 0.7534074262879349, 0.6449979138926941, 0.9483620896115771)]\n"
     ]
    },
    {
     "name": "stderr",
     "output_type": "stream",
     "text": [
      "\n",
      "Train epoch=0:  15%|██▊                | 1274/8498 [3:41:08<20:53:54, 10.41s/it]\u001b[A"
     ]
    },
    {
     "name": "stdout",
     "output_type": "stream",
     "text": [
      "[(0.8633878504672897, 0.7203179244237335, 0.6398030935998064, 0.7507577384484551)]\n"
     ]
    },
    {
     "name": "stderr",
     "output_type": "stream",
     "text": [
      "\n",
      "Train epoch=0:  15%|██▊                | 1275/8498 [3:41:18<20:53:46, 10.41s/it]\u001b[A"
     ]
    },
    {
     "name": "stdout",
     "output_type": "stream",
     "text": [
      "[(0.78432, 0.3350255403829362, 0.27595150740056884, 0.6186439407690352)]\n"
     ]
    },
    {
     "name": "stderr",
     "output_type": "stream",
     "text": [
      "\n",
      "Train epoch=0:  15%|██▊                | 1276/8498 [3:41:29<20:53:35, 10.41s/it]\u001b[A"
     ]
    },
    {
     "name": "stdout",
     "output_type": "stream",
     "text": [
      "[(0.8610427807486631, 0.5, 0.43052139037433157, 0.7413946702793904)]\n"
     ]
    },
    {
     "name": "stderr",
     "output_type": "stream",
     "text": [
      "\n",
      "Train epoch=0:  15%|██▊                | 1277/8498 [3:41:38<20:53:19, 10.41s/it]\u001b[A"
     ]
    },
    {
     "name": "stdout",
     "output_type": "stream",
     "text": [
      "[(0.8860958083832335, 0.8166914791475549, 0.6162700592303736, 0.8193451507237351)]\n"
     ]
    },
    {
     "name": "stderr",
     "output_type": "stream",
     "text": [
      "\n",
      "Train epoch=0:  15%|██▊                | 1278/8498 [3:41:47<20:53:02, 10.41s/it]\u001b[A"
     ]
    },
    {
     "name": "stdout",
     "output_type": "stream",
     "text": [
      "[(0.6626246246246246, 0.3394551585787602, 0.16596915504314444, 0.647951555782372)]\n"
     ]
    },
    {
     "name": "stderr",
     "output_type": "stream",
     "text": [
      "\n",
      "Train epoch=0:  15%|██▊                | 1279/8498 [3:41:59<20:52:57, 10.41s/it]\u001b[A"
     ]
    },
    {
     "name": "stdout",
     "output_type": "stream",
     "text": [
      "[(0.8300853333333333, 0.3355350921500822, 0.27884547133832405, 0.6890678607377355)]\n"
     ]
    },
    {
     "name": "stderr",
     "output_type": "stream",
     "text": [
      "\n",
      "Train epoch=0:  15%|██▊                | 1280/8498 [3:42:08<20:52:40, 10.41s/it]\u001b[A"
     ]
    },
    {
     "name": "stdout",
     "output_type": "stream",
     "text": [
      "[(0.963987987987988, 0.5, 0.32502662924397246, 0.9399652991022444)]\n"
     ]
    },
    {
     "name": "stderr",
     "output_type": "stream",
     "text": [
      "\n",
      "Train epoch=0:  15%|██▊                | 1281/8498 [3:42:18<20:52:26, 10.41s/it]\u001b[A"
     ]
    },
    {
     "name": "stdout",
     "output_type": "stream",
     "text": [
      "[(0.9776706586826347, 0.9728336219062418, 0.8648739671343173, 0.9603255059471077)]\n"
     ]
    },
    {
     "name": "stderr",
     "output_type": "stream",
     "text": [
      "\n",
      "Train epoch=0:  15%|██▊                | 1282/8498 [3:42:27<20:52:10, 10.41s/it]\u001b[A"
     ]
    },
    {
     "name": "stdout",
     "output_type": "stream",
     "text": [
      "[(0.8764088050314466, 0.5872987788720537, 0.5395908382987024, 0.7729661845698607)]\n"
     ]
    },
    {
     "name": "stderr",
     "output_type": "stream",
     "text": [
      "\n",
      "Train epoch=0:  15%|██▊                | 1283/8498 [3:42:37<20:51:57, 10.41s/it]\u001b[A"
     ]
    },
    {
     "name": "stdout",
     "output_type": "stream",
     "text": [
      "[(0.8265386666666666, 0.8311301714851531, 0.6883557059507799, 0.7121111392852433)]\n"
     ]
    },
    {
     "name": "stderr",
     "output_type": "stream",
     "text": [
      "\n",
      "Train epoch=0:  15%|██▊                | 1284/8498 [3:42:47<20:51:43, 10.41s/it]\u001b[A"
     ]
    },
    {
     "name": "stdout",
     "output_type": "stream",
     "text": [
      "[(0.6652340425531915, 0.4498389184172451, 0.21574707495825268, 0.5230285504074155)]\n"
     ]
    },
    {
     "name": "stderr",
     "output_type": "stream",
     "text": [
      "\n",
      "Train epoch=0:  15%|██▊                | 1285/8498 [3:42:58<20:51:38, 10.41s/it]\u001b[A"
     ]
    },
    {
     "name": "stdout",
     "output_type": "stream",
     "text": [
      "[(0.876933734939759, 0.6288393193331263, 0.4670430710367201, 0.8145862140337312)]\n"
     ]
    },
    {
     "name": "stderr",
     "output_type": "stream",
     "text": [
      "\n",
      "Train epoch=0:  15%|██▉                | 1286/8498 [3:43:09<20:51:30, 10.41s/it]\u001b[A"
     ]
    },
    {
     "name": "stdout",
     "output_type": "stream",
     "text": [
      "[(0.834144, 0.7733313828012425, 0.2690606431216874, 0.7903744890665069)]\n"
     ]
    },
    {
     "name": "stderr",
     "output_type": "stream",
     "text": [
      "\n",
      "Train epoch=0:  15%|██▉                | 1287/8498 [3:43:20<20:51:22, 10.41s/it]\u001b[A"
     ]
    },
    {
     "name": "stdout",
     "output_type": "stream",
     "text": [
      "[(0.7345245098039216, 0.60923518918976, 0.28680352586588687, 0.6875149445641503)]\n"
     ]
    },
    {
     "name": "stderr",
     "output_type": "stream",
     "text": [
      "\n",
      "Train epoch=0:  15%|██▉                | 1288/8498 [3:43:30<20:51:06, 10.41s/it]\u001b[A"
     ]
    },
    {
     "name": "stdout",
     "output_type": "stream",
     "text": [
      "[(0.9813813813813814, 0.5, 0.4906906906906907, 0.9631094157220285)]\n"
     ]
    },
    {
     "name": "stderr",
     "output_type": "stream",
     "text": [
      "\n",
      "Train epoch=0:  15%|██▉                | 1289/8498 [3:43:42<20:51:06, 10.41s/it]\u001b[A"
     ]
    },
    {
     "name": "stdout",
     "output_type": "stream",
     "text": [
      "[(0.9141604278074866, 0.3315605931891091, 0.22854010695187166, 0.8401574301810175)]\n"
     ]
    },
    {
     "name": "stderr",
     "output_type": "stream",
     "text": [
      "\n",
      "Train epoch=0:  15%|██▉                | 1290/8498 [3:43:54<20:51:04, 10.41s/it]\u001b[A"
     ]
    },
    {
     "name": "stdout",
     "output_type": "stream",
     "text": [
      "[(0.9649173333333333, 0.44858983641591205, 0.3201932810118795, 0.9341082458991506)]\n"
     ]
    },
    {
     "name": "stderr",
     "output_type": "stream",
     "text": [
      "\n",
      "Train epoch=0:  15%|██▉                | 1291/8498 [3:44:05<20:50:58, 10.41s/it]\u001b[A"
     ]
    },
    {
     "name": "stdout",
     "output_type": "stream",
     "text": [
      "[(0.9282666666666667, 0.6927204762437575, 0.4377847663910421, 0.8688829073079167)]\n"
     ]
    },
    {
     "name": "stderr",
     "output_type": "stream",
     "text": [
      "\n",
      "Train epoch=0:  15%|██▉                | 1292/8498 [3:44:15<20:50:48, 10.41s/it]\u001b[A"
     ]
    },
    {
     "name": "stdout",
     "output_type": "stream",
     "text": [
      "[(0.7007329545454546, 0.41056354294229175, 0.3197471765121626, 0.5341287823231367)]\n"
     ]
    },
    {
     "name": "stderr",
     "output_type": "stream",
     "text": [
      "\n",
      "Train epoch=0:  15%|██▉                | 1293/8498 [3:44:27<20:50:44, 10.42s/it]\u001b[A"
     ]
    },
    {
     "name": "stdout",
     "output_type": "stream",
     "text": [
      "[(0.9661292134831461, 0.7411211797605274, 0.48130866157194013, 0.9410534811774279)]\n"
     ]
    },
    {
     "name": "stderr",
     "output_type": "stream",
     "text": [
      "\n",
      "Train epoch=0:  15%|██▉                | 1294/8498 [3:44:38<20:50:37, 10.42s/it]\u001b[A"
     ]
    },
    {
     "name": "stdout",
     "output_type": "stream",
     "text": [
      "[(0.5130986666666667, 0.33993723119587427, 0.19336196142791678, 0.3317957138722645)]\n"
     ]
    },
    {
     "name": "stderr",
     "output_type": "stream",
     "text": [
      "\n",
      "Train epoch=0:  15%|██▉                | 1295/8498 [3:44:50<20:50:38, 10.42s/it]\u001b[A"
     ]
    },
    {
     "name": "stdout",
     "output_type": "stream",
     "text": [
      "[(0.8016558603491272, 0.29969474102135646, 0.16380374795114547, 0.7293350694183376)]\n"
     ]
    },
    {
     "name": "stderr",
     "output_type": "stream",
     "text": [
      "\n",
      "Train epoch=0:  15%|██▉                | 1296/8498 [3:45:02<20:50:32, 10.42s/it]\u001b[A"
     ]
    },
    {
     "name": "stdout",
     "output_type": "stream",
     "text": [
      "[(0.8598622754491018, 0.8600424368452233, 0.5031678556764289, 0.7555107901275825)]\n"
     ]
    },
    {
     "name": "stderr",
     "output_type": "stream",
     "text": [
      "\n",
      "Train epoch=0:  15%|██▉                | 1297/8498 [3:45:13<20:50:28, 10.42s/it]\u001b[A"
     ]
    },
    {
     "name": "stdout",
     "output_type": "stream",
     "text": [
      "[(0.7897597597597598, 0.7720751188995525, 0.42683867337550563, 0.6526533862210302)]\n"
     ]
    },
    {
     "name": "stderr",
     "output_type": "stream",
     "text": [
      "\n",
      "Train epoch=0:  15%|██▉                | 1298/8498 [3:45:24<20:50:20, 10.42s/it]\u001b[A"
     ]
    },
    {
     "name": "stdout",
     "output_type": "stream",
     "text": [
      "[(0.8530453333333333, 0.8668863052890222, 0.38190288852724785, 0.7607780447098388)]\n"
     ]
    },
    {
     "name": "stderr",
     "output_type": "stream",
     "text": [
      "\n",
      "Train epoch=0:  15%|██▉                | 1299/8498 [3:45:34<20:50:08, 10.42s/it]\u001b[A"
     ]
    },
    {
     "name": "stdout",
     "output_type": "stream",
     "text": [
      "[(0.7273706666666667, 0.5571135129555509, 0.24729749002708828, 0.5859181732579052)]\n"
     ]
    },
    {
     "name": "stderr",
     "output_type": "stream",
     "text": [
      "\n",
      "Train epoch=0:  15%|██▉                | 1300/8498 [3:45:45<20:50:01, 10.42s/it]\u001b[A"
     ]
    },
    {
     "name": "stdout",
     "output_type": "stream",
     "text": [
      "[(0.41639880952380953, 0.3333333333333333, 0.1387996031746032, 0.1733879685728458)]\n"
     ]
    },
    {
     "name": "stderr",
     "output_type": "stream",
     "text": [
      "\n",
      "Train epoch=0:  15%|██▉                | 1301/8498 [3:45:55<20:49:50, 10.42s/it]\u001b[A"
     ]
    },
    {
     "name": "stdout",
     "output_type": "stream",
     "text": [
      "[(0.990528, 0.6183111146417403, 0.5709948782698866, 0.9824547476661977)]\n"
     ]
    },
    {
     "name": "stderr",
     "output_type": "stream",
     "text": [
      "\n",
      "Train epoch=0:  15%|██▉                | 1302/8498 [3:46:05<20:49:36, 10.42s/it]\u001b[A"
     ]
    },
    {
     "name": "stdout",
     "output_type": "stream",
     "text": [
      "[(0.9664324324324325, 0.8801991514203513, 0.5568499634632835, 0.9426358539616337)]\n"
     ]
    },
    {
     "name": "stderr",
     "output_type": "stream",
     "text": [
      "\n",
      "Train epoch=0:  15%|██▉                | 1303/8498 [3:46:16<20:49:26, 10.42s/it]\u001b[A"
     ]
    },
    {
     "name": "stdout",
     "output_type": "stream",
     "text": [
      "[(0.5881493333333333, 0.47302541349386945, 0.18477828541068228, 0.46729523454708255)]\n"
     ]
    },
    {
     "name": "stderr",
     "output_type": "stream",
     "text": [
      "\n",
      "Train epoch=0:  15%|██▉                | 1304/8498 [3:46:29<20:49:33, 10.42s/it]\u001b[A"
     ]
    },
    {
     "name": "stdout",
     "output_type": "stream",
     "text": [
      "[(0.6630066815144766, 0.43886917411589144, 0.2381552491373494, 0.46594901066059613)]\n"
     ]
    },
    {
     "name": "stderr",
     "output_type": "stream",
     "text": [
      "\n",
      "Train epoch=0:  15%|██▉                | 1305/8498 [3:46:42<20:49:33, 10.42s/it]\u001b[A"
     ]
    },
    {
     "name": "stdout",
     "output_type": "stream",
     "text": [
      "[(0.713392, 0.6516688534013734, 0.29474198392715867, 0.5860558264736437)]\n"
     ]
    },
    {
     "name": "stderr",
     "output_type": "stream",
     "text": [
      "\n",
      "Train epoch=0:  15%|██▉                | 1306/8498 [3:46:52<20:49:22, 10.42s/it]\u001b[A"
     ]
    },
    {
     "name": "stdout",
     "output_type": "stream",
     "text": [
      "[(0.92096, 0.9504150334104119, 0.806001327608566, 0.8647856123283412)]\n"
     ]
    },
    {
     "name": "stderr",
     "output_type": "stream",
     "text": [
      "\n",
      "Train epoch=0:  15%|██▉                | 1307/8498 [3:47:04<20:49:19, 10.42s/it]\u001b[A"
     ]
    },
    {
     "name": "stdout",
     "output_type": "stream",
     "text": [
      "[(0.9214933333333334, 0.9079975660096278, 0.7332873038135512, 0.87374352267097)]\n"
     ]
    },
    {
     "name": "stderr",
     "output_type": "stream",
     "text": [
      "\n",
      "Train epoch=0:  15%|██▉                | 1308/8498 [3:47:14<20:49:07, 10.42s/it]\u001b[A"
     ]
    },
    {
     "name": "stdout",
     "output_type": "stream",
     "text": [
      "[(0.9087573333333333, 0.9321258210312866, 0.8161654235167305, 0.838964942212499)]\n"
     ]
    },
    {
     "name": "stderr",
     "output_type": "stream",
     "text": [
      "\n",
      "Train epoch=0:  15%|██▉                | 1309/8498 [3:47:25<20:49:02, 10.42s/it]\u001b[A"
     ]
    },
    {
     "name": "stdout",
     "output_type": "stream",
     "text": [
      "[(0.8998655462184874, 0.8992628783600998, 0.817608983579571, 0.8178794899497266)]\n"
     ]
    },
    {
     "name": "stderr",
     "output_type": "stream",
     "text": [
      "\n",
      "Train epoch=0:  15%|██▉                | 1310/8498 [3:47:35<20:48:46, 10.42s/it]\u001b[A"
     ]
    },
    {
     "name": "stdout",
     "output_type": "stream",
     "text": [
      "[(0.8506191539115646, 0.8174001756789145, 0.5228710872685726, 0.754930139157177)]\n"
     ]
    },
    {
     "name": "stderr",
     "output_type": "stream",
     "text": [
      "\n",
      "Train epoch=0:  15%|██▉                | 1311/8498 [3:47:46<20:48:42, 10.42s/it]\u001b[A"
     ]
    },
    {
     "name": "stdout",
     "output_type": "stream",
     "text": [
      "[(0.8044906666666667, 0.8396631968023838, 0.45033969242543764, 0.6777594255101675)]\n"
     ]
    },
    {
     "name": "stderr",
     "output_type": "stream",
     "text": [
      "\n",
      "Train epoch=0:  15%|██▉                | 1312/8498 [3:47:59<20:48:42, 10.43s/it]\u001b[A"
     ]
    },
    {
     "name": "stdout",
     "output_type": "stream",
     "text": [
      "[(0.4710933333333333, 0.5608993639119284, 0.3286725038652486, 0.25829487450793465)]\n"
     ]
    },
    {
     "name": "stderr",
     "output_type": "stream",
     "text": [
      "\n",
      "Train epoch=0:  15%|██▉                | 1313/8498 [3:48:12<20:48:45, 10.43s/it]\u001b[A"
     ]
    },
    {
     "name": "stdout",
     "output_type": "stream",
     "text": [
      "[(0.7537905982905982, 0.4907327034576392, 0.15495174970461242, 0.5950345844746482)]\n"
     ]
    },
    {
     "name": "stderr",
     "output_type": "stream",
     "text": [
      "\n",
      "Train epoch=0:  15%|██▉                | 1314/8498 [3:48:22<20:48:33, 10.43s/it]\u001b[A"
     ]
    },
    {
     "name": "stdout",
     "output_type": "stream",
     "text": [
      "[(0.7388408408408409, 0.7375458466423399, 0.2522545487966944, 0.6322170435397988)]\n"
     ]
    },
    {
     "name": "stderr",
     "output_type": "stream",
     "text": [
      "\n",
      "Train epoch=0:  15%|██▉                | 1315/8498 [3:48:32<20:48:22, 10.43s/it]\u001b[A"
     ]
    },
    {
     "name": "stdout",
     "output_type": "stream",
     "text": [
      "[(0.794288, 0.8292175359138576, 0.4867967484305075, 0.734205604820504)]\n"
     ]
    },
    {
     "name": "stderr",
     "output_type": "stream",
     "text": [
      "\n",
      "Train epoch=0:  15%|██▉                | 1316/8498 [3:48:44<20:48:20, 10.43s/it]\u001b[A"
     ]
    },
    {
     "name": "stdout",
     "output_type": "stream",
     "text": [
      "[(0.915328, 0.9302084843219308, 0.8412143671944474, 0.8457933791791483)]\n"
     ]
    },
    {
     "name": "stderr",
     "output_type": "stream",
     "text": [
      "\n",
      "Train epoch=0:  15%|██▉                | 1317/8498 [3:48:53<20:48:04, 10.43s/it]\u001b[A"
     ]
    },
    {
     "name": "stdout",
     "output_type": "stream",
     "text": [
      "[(0.8560239520958084, 0.8493485400357652, 0.7428502636582209, 0.7480685774176653)]\n"
     ]
    },
    {
     "name": "stderr",
     "output_type": "stream",
     "text": [
      "\n",
      "Train epoch=0:  16%|██▉                | 1318/8498 [3:49:04<20:47:53, 10.43s/it]\u001b[A"
     ]
    },
    {
     "name": "stdout",
     "output_type": "stream",
     "text": [
      "[(0.5326506666666667, 0.36713057926582704, 0.19674986062106858, 0.42818121267353415)]\n"
     ]
    },
    {
     "name": "stderr",
     "output_type": "stream",
     "text": [
      "\n",
      "Train epoch=0:  16%|██▉                | 1319/8498 [3:49:16<20:47:52, 10.43s/it]\u001b[A"
     ]
    },
    {
     "name": "stdout",
     "output_type": "stream",
     "text": [
      "[(0.9126133333333334, 0.4865659555590361, 0.37338552927020496, 0.8576358374079743)]\n"
     ]
    },
    {
     "name": "stderr",
     "output_type": "stream",
     "text": [
      "\n",
      "Train epoch=0:  16%|██▉                | 1320/8498 [3:49:27<20:47:47, 10.43s/it]\u001b[A"
     ]
    },
    {
     "name": "stdout",
     "output_type": "stream",
     "text": [
      "[(0.50136, 0.49938377195312417, 0.14337898846928193, 0.28789277383930206)]\n"
     ]
    },
    {
     "name": "stderr",
     "output_type": "stream",
     "text": [
      "\n",
      "Train epoch=0:  16%|██▉                | 1321/8498 [3:49:37<20:47:33, 10.43s/it]\u001b[A"
     ]
    },
    {
     "name": "stdout",
     "output_type": "stream",
     "text": [
      "[(0.6031111111111112, 0.5557034738730359, 0.21732098201196268, 0.46879920228327393)]\n"
     ]
    },
    {
     "name": "stderr",
     "output_type": "stream",
     "text": [
      "\n",
      "Train epoch=0:  16%|██▉                | 1322/8498 [3:49:48<20:47:23, 10.43s/it]\u001b[A"
     ]
    },
    {
     "name": "stdout",
     "output_type": "stream",
     "text": [
      "[(0.8328683473389356, 0.6979785877574464, 0.47879936557580804, 0.7999843133605626)]\n"
     ]
    },
    {
     "name": "stderr",
     "output_type": "stream",
     "text": [
      "\n",
      "Train epoch=0:  16%|██▉                | 1323/8498 [3:49:59<20:47:18, 10.43s/it]\u001b[A"
     ]
    },
    {
     "name": "stdout",
     "output_type": "stream",
     "text": [
      "[(0.6826346666666666, 0.38008368472225285, 0.2903699018916229, 0.5058840447317545)]\n"
     ]
    },
    {
     "name": "stderr",
     "output_type": "stream",
     "text": [
      "\n",
      "Train epoch=0:  16%|██▉                | 1324/8498 [3:50:09<20:47:08, 10.43s/it]\u001b[A"
     ]
    },
    {
     "name": "stdout",
     "output_type": "stream",
     "text": [
      "[(0.6307626666666667, 0.26542103836938336, 0.13840417240353584, 0.4043917667561916)]\n"
     ]
    },
    {
     "name": "stderr",
     "output_type": "stream",
     "text": [
      "\n",
      "Train epoch=0:  16%|██▉                | 1325/8498 [3:50:20<20:46:57, 10.43s/it]\u001b[A"
     ]
    },
    {
     "name": "stdout",
     "output_type": "stream",
     "text": [
      "[(0.9642513368983957, 0.9542086388169657, 0.9213825361044907, 0.9309615144762061)]\n"
     ]
    },
    {
     "name": "stderr",
     "output_type": "stream",
     "text": [
      "\n",
      "Train epoch=0:  16%|██▉                | 1326/8498 [3:50:31<20:46:49, 10.43s/it]\u001b[A"
     ]
    },
    {
     "name": "stdout",
     "output_type": "stream",
     "text": [
      "[(0.8052053333333333, 0.5481020138598127, 0.42199339388434665, 0.6788487513875945)]\n"
     ]
    },
    {
     "name": "stderr",
     "output_type": "stream",
     "text": [
      "\n",
      "Train epoch=0:  16%|██▉                | 1327/8498 [3:50:43<20:46:46, 10.43s/it]\u001b[A"
     ]
    },
    {
     "name": "stdout",
     "output_type": "stream",
     "text": [
      "[(0.890464, 0.8587033020819106, 0.7820267650278561, 0.7985127646317409)]\n"
     ]
    },
    {
     "name": "stderr",
     "output_type": "stream",
     "text": [
      "\n",
      "Train epoch=0:  16%|██▉                | 1328/8498 [3:50:53<20:46:34, 10.43s/it]\u001b[A"
     ]
    },
    {
     "name": "stdout",
     "output_type": "stream",
     "text": [
      "[(0.6184266666666667, 0.5775167838716446, 0.2792087038211707, 0.46443190423692227)]\n"
     ]
    },
    {
     "name": "stderr",
     "output_type": "stream",
     "text": [
      "\n",
      "Train epoch=0:  16%|██▉                | 1329/8498 [3:51:03<20:46:22, 10.43s/it]\u001b[A"
     ]
    },
    {
     "name": "stdout",
     "output_type": "stream",
     "text": [
      "[(0.8104213333333333, 0.6218765150354243, 0.3877929827806493, 0.6811735550300617)]\n"
     ]
    },
    {
     "name": "stderr",
     "output_type": "stream",
     "text": [
      "\n",
      "Train epoch=0:  16%|██▉                | 1330/8498 [3:51:13<20:46:12, 10.43s/it]\u001b[A"
     ]
    },
    {
     "name": "stdout",
     "output_type": "stream",
     "text": [
      "[(0.749504, 0.3861253088434639, 0.241522655094006, 0.6540600209349999)]\n"
     ]
    },
    {
     "name": "stderr",
     "output_type": "stream",
     "text": [
      "\n",
      "Train epoch=0:  16%|██▉                | 1331/8498 [3:51:24<20:46:00, 10.43s/it]\u001b[A"
     ]
    },
    {
     "name": "stdout",
     "output_type": "stream",
     "text": [
      "[(0.8096106666666667, 0.5525746070308064, 0.4603842886709202, 0.6739411165085811)]\n"
     ]
    },
    {
     "name": "stderr",
     "output_type": "stream",
     "text": [
      "\n",
      "Train epoch=0:  16%|██▉                | 1332/8498 [3:51:35<20:45:58, 10.43s/it]\u001b[A"
     ]
    },
    {
     "name": "stdout",
     "output_type": "stream",
     "text": [
      "[(0.779824, 0.48055602241335393, 0.3833495593032824, 0.6105752669912298)]\n"
     ]
    },
    {
     "name": "stderr",
     "output_type": "stream",
     "text": [
      "\n",
      "Train epoch=0:  16%|██▉                | 1333/8498 [3:51:45<20:45:42, 10.43s/it]\u001b[A"
     ]
    },
    {
     "name": "stdout",
     "output_type": "stream",
     "text": [
      "[(0.6897125748502994, 0.6725583626568078, 0.5233897879630934, 0.5289635655676831)]\n"
     ]
    },
    {
     "name": "stderr",
     "output_type": "stream",
     "text": [
      "\n",
      "Train epoch=0:  16%|██▉                | 1334/8498 [3:51:55<20:45:30, 10.43s/it]\u001b[A"
     ]
    },
    {
     "name": "stdout",
     "output_type": "stream",
     "text": [
      "[(0.8093066666666666, 0.36375420987416013, 0.17601191862494925, 0.7837317930298395)]\n"
     ]
    },
    {
     "name": "stderr",
     "output_type": "stream",
     "text": [
      "\n",
      "Train epoch=0:  16%|██▉                | 1335/8498 [3:52:06<20:45:22, 10.43s/it]\u001b[A"
     ]
    },
    {
     "name": "stdout",
     "output_type": "stream",
     "text": [
      "[(0.879245382585752, 0.8783532523622006, 0.5241251922570317, 0.7864070309401083)]\n"
     ]
    },
    {
     "name": "stderr",
     "output_type": "stream",
     "text": [
      "\n",
      "Train epoch=0:  16%|██▉                | 1336/8498 [3:52:16<20:45:10, 10.43s/it]\u001b[A"
     ]
    },
    {
     "name": "stdout",
     "output_type": "stream",
     "text": [
      "[(0.7215255255255255, 0.4619208577966439, 0.2535122558518249, 0.6670919003866257)]\n"
     ]
    },
    {
     "name": "stderr",
     "output_type": "stream",
     "text": [
      "\n",
      "Train epoch=0:  16%|██▉                | 1337/8498 [3:52:26<20:45:00, 10.43s/it]\u001b[A"
     ]
    },
    {
     "name": "stdout",
     "output_type": "stream",
     "text": [
      "[(0.47213813813813815, 0.46844293697425526, 0.1084585702354771, 0.327912625858248)]\n"
     ]
    },
    {
     "name": "stderr",
     "output_type": "stream",
     "text": [
      "\n",
      "Train epoch=0:  16%|██▉                | 1338/8498 [3:52:37<20:44:48, 10.43s/it]\u001b[A"
     ]
    },
    {
     "name": "stdout",
     "output_type": "stream",
     "text": [
      "[(0.8467306666666666, 0.24789829365178503, 0.14146204114073496, 0.7247745434547453)]\n"
     ]
    },
    {
     "name": "stderr",
     "output_type": "stream",
     "text": [
      "\n",
      "Train epoch=0:  16%|██▉                | 1339/8498 [3:52:47<20:44:36, 10.43s/it]\u001b[A"
     ]
    },
    {
     "name": "stdout",
     "output_type": "stream",
     "text": [
      "[(0.9105013333333334, 0.9521112049678098, 0.66351009741097, 0.8726614953163875)]\n"
     ]
    },
    {
     "name": "stderr",
     "output_type": "stream",
     "text": [
      "\n",
      "Train epoch=0:  16%|██▉                | 1340/8498 [3:52:59<20:44:37, 10.43s/it]\u001b[A"
     ]
    },
    {
     "name": "stdout",
     "output_type": "stream",
     "text": [
      "[(0.6440280561122245, 0.5746668050919531, 0.24365709867438196, 0.5433699391490402)]\n"
     ]
    },
    {
     "name": "stderr",
     "output_type": "stream",
     "text": [
      "\n",
      "Train epoch=0:  16%|██▉                | 1341/8498 [3:53:09<20:44:25, 10.43s/it]\u001b[A"
     ]
    },
    {
     "name": "stdout",
     "output_type": "stream",
     "text": [
      "[(0.7925765765765765, 0.5, 0.39628828828828827, 0.6281776297378459)]\n"
     ]
    },
    {
     "name": "stderr",
     "output_type": "stream",
     "text": [
      "\n",
      "Train epoch=0:  16%|███                | 1342/8498 [3:53:19<20:44:11, 10.43s/it]\u001b[A"
     ]
    },
    {
     "name": "stdout",
     "output_type": "stream",
     "text": [
      "[(0.9615576323987539, 0.8523368518047383, 0.5512316066595869, 0.9390341352999794)]\n"
     ]
    },
    {
     "name": "stderr",
     "output_type": "stream",
     "text": [
      "\n",
      "Train epoch=0:  16%|███                | 1343/8498 [3:53:29<20:43:58, 10.43s/it]\u001b[A"
     ]
    },
    {
     "name": "stdout",
     "output_type": "stream",
     "text": [
      "[(0.8699041916167665, 0.9245669834177288, 0.4520892715219777, 0.8059234171418713)]\n"
     ]
    },
    {
     "name": "stderr",
     "output_type": "stream",
     "text": [
      "\n",
      "Train epoch=0:  16%|███                | 1344/8498 [3:53:39<20:43:45, 10.43s/it]\u001b[A"
     ]
    },
    {
     "name": "stdout",
     "output_type": "stream",
     "text": [
      "[(0.5558198198198199, 0.5, 0.27790990990990994, 0.30893567210453704)]\n"
     ]
    },
    {
     "name": "stderr",
     "output_type": "stream",
     "text": [
      "\n",
      "Train epoch=0:  16%|███                | 1345/8498 [3:53:49<20:43:31, 10.43s/it]\u001b[A"
     ]
    },
    {
     "name": "stdout",
     "output_type": "stream",
     "text": [
      "[(0.7347027027027027, 0.5527936887799711, 0.30478812079862067, 0.6054574839625667)]\n"
     ]
    },
    {
     "name": "stderr",
     "output_type": "stream",
     "text": [
      "\n",
      "Train epoch=0:  16%|███                | 1346/8498 [3:53:59<20:43:21, 10.43s/it]\u001b[A"
     ]
    },
    {
     "name": "stdout",
     "output_type": "stream",
     "text": [
      "[(0.7721561561561562, 0.7530881108834904, 0.6095709948987988, 0.6177710367585331)]\n"
     ]
    },
    {
     "name": "stderr",
     "output_type": "stream",
     "text": [
      "\n",
      "Train epoch=0:  16%|███                | 1347/8498 [3:54:12<20:43:24, 10.43s/it]\u001b[A"
     ]
    },
    {
     "name": "stdout",
     "output_type": "stream",
     "text": [
      "[(0.5954285714285714, 0.6692664067302373, 0.24285741431258712, 0.45378291959752837)]\n"
     ]
    },
    {
     "name": "stderr",
     "output_type": "stream",
     "text": [
      "\n",
      "Train epoch=0:  16%|███                | 1348/8498 [3:54:22<20:43:09, 10.43s/it]\u001b[A"
     ]
    },
    {
     "name": "stdout",
     "output_type": "stream",
     "text": [
      "[(0.8539339339339339, 0.8351943992294586, 0.7316463165471492, 0.7388278095893857)]\n"
     ]
    },
    {
     "name": "stderr",
     "output_type": "stream",
     "text": [
      "\n",
      "Train epoch=0:  16%|███                | 1349/8498 [3:54:32<20:42:57, 10.43s/it]\u001b[A"
     ]
    },
    {
     "name": "stdout",
     "output_type": "stream",
     "text": [
      "[(0.9074026666666667, 0.374350770732169, 0.3409620294161139, 0.827327420801941)]\n"
     ]
    },
    {
     "name": "stderr",
     "output_type": "stream",
     "text": [
      "\n",
      "Train epoch=0:  16%|███                | 1350/8498 [3:54:42<20:42:44, 10.43s/it]\u001b[A"
     ]
    },
    {
     "name": "stdout",
     "output_type": "stream",
     "text": [
      "[(0.7212906666666666, 0.62941793838997, 0.36094255012834825, 0.6114690430805784)]\n"
     ]
    },
    {
     "name": "stderr",
     "output_type": "stream",
     "text": [
      "\n",
      "Train epoch=0:  16%|███                | 1351/8498 [3:54:51<20:42:28, 10.43s/it]\u001b[A"
     ]
    },
    {
     "name": "stdout",
     "output_type": "stream",
     "text": [
      "[(0.4032142857142857, 0.6015357231072718, 0.1603189491725237, 0.25618178353676646)]\n"
     ]
    },
    {
     "name": "stderr",
     "output_type": "stream",
     "text": [
      "\n",
      "Train epoch=0:  16%|███                | 1352/8498 [3:55:01<20:42:15, 10.43s/it]\u001b[A"
     ]
    },
    {
     "name": "stdout",
     "output_type": "stream",
     "text": [
      "[(0.996192, 0.5, 0.498096, 0.9923985008639999)]\n"
     ]
    },
    {
     "name": "stderr",
     "output_type": "stream",
     "text": [
      "\n",
      "Train epoch=0:  16%|███                | 1353/8498 [3:55:12<20:42:05, 10.43s/it]\u001b[A"
     ]
    },
    {
     "name": "stdout",
     "output_type": "stream",
     "text": [
      "[(0.8376332378223496, 0.8437604139421451, 0.7203743249625216, 0.7198109672711284)]\n"
     ]
    },
    {
     "name": "stderr",
     "output_type": "stream",
     "text": [
      "\n",
      "Train epoch=0:  16%|███                | 1354/8498 [3:55:22<20:41:53, 10.43s/it]\u001b[A"
     ]
    },
    {
     "name": "stdout",
     "output_type": "stream",
     "text": [
      "[(0.7954756756756757, 0.49136883297272754, 0.2342613817255651, 0.7584902354732956)]\n"
     ]
    },
    {
     "name": "stderr",
     "output_type": "stream",
     "text": [
      "\n",
      "Train epoch=0:  16%|███                | 1355/8498 [3:55:32<20:41:40, 10.43s/it]\u001b[A"
     ]
    },
    {
     "name": "stdout",
     "output_type": "stream",
     "text": [
      "[(0.9335786666666667, 0.3331981855940124, 0.23339466666666667, 0.8719226419768888)]\n"
     ]
    },
    {
     "name": "stderr",
     "output_type": "stream",
     "text": [
      "\n",
      "Train epoch=0:  16%|███                | 1356/8498 [3:55:42<20:41:26, 10.43s/it]\u001b[A"
     ]
    },
    {
     "name": "stdout",
     "output_type": "stream",
     "text": [
      "[(0.953814371257485, 0.5166332068382408, 0.49353909986401334, 0.9099526453630283)]\n"
     ]
    },
    {
     "name": "stderr",
     "output_type": "stream",
     "text": [
      "\n",
      "Train epoch=0:  16%|███                | 1357/8498 [3:55:53<20:41:19, 10.43s/it]\u001b[A"
     ]
    },
    {
     "name": "stdout",
     "output_type": "stream",
     "text": [
      "[(0.953745, 0.6924667529987969, 0.4508735225858295, 0.9238075923391793)]\n"
     ]
    },
    {
     "name": "stderr",
     "output_type": "stream",
     "text": [
      "\n",
      "Train epoch=0:  16%|███                | 1358/8498 [3:56:03<20:41:08, 10.43s/it]\u001b[A"
     ]
    },
    {
     "name": "stdout",
     "output_type": "stream",
     "text": [
      "[(0.650006006006006, 0.6827580451267885, 0.19825955982174817, 0.48384594505086004)]\n"
     ]
    },
    {
     "name": "stderr",
     "output_type": "stream",
     "text": [
      "\n",
      "Train epoch=0:  16%|███                | 1359/8498 [3:56:13<20:40:56, 10.43s/it]\u001b[A"
     ]
    },
    {
     "name": "stdout",
     "output_type": "stream",
     "text": [
      "[(0.7264624624624625, 0.5059446324741821, 0.24703479374247797, 0.5306386409665479)]\n"
     ]
    },
    {
     "name": "stderr",
     "output_type": "stream",
     "text": [
      "\n",
      "Train epoch=0:  16%|███                | 1360/8498 [3:56:24<20:40:46, 10.43s/it]\u001b[A"
     ]
    },
    {
     "name": "stdout",
     "output_type": "stream",
     "text": [
      "[(0.9088373493975903, 0.9259588592108328, 0.7610433706759465, 0.8493255527809611)]\n"
     ]
    },
    {
     "name": "stderr",
     "output_type": "stream",
     "text": [
      "\n",
      "Train epoch=0:  16%|███                | 1361/8498 [3:56:34<20:40:36, 10.43s/it]\u001b[A"
     ]
    },
    {
     "name": "stdout",
     "output_type": "stream",
     "text": [
      "[(0.973216, 0.9290156079851725, 0.9007607491614402, 0.9480869003983813)]\n"
     ]
    },
    {
     "name": "stderr",
     "output_type": "stream",
     "text": [
      "\n",
      "Train epoch=0:  16%|███                | 1362/8498 [3:56:46<20:40:33, 10.43s/it]\u001b[A"
     ]
    },
    {
     "name": "stdout",
     "output_type": "stream",
     "text": [
      "[(0.712624, 0.7501283522730087, 0.5522148910074101, 0.5589394712573175)]\n"
     ]
    },
    {
     "name": "stderr",
     "output_type": "stream",
     "text": [
      "\n",
      "Train epoch=0:  16%|███                | 1363/8498 [3:56:56<20:40:22, 10.43s/it]\u001b[A"
     ]
    },
    {
     "name": "stdout",
     "output_type": "stream",
     "text": [
      "[(0.9675084745762712, 0.9223016236591193, 0.8653020678224999, 0.9392262988563377)]\n"
     ]
    },
    {
     "name": "stderr",
     "output_type": "stream",
     "text": [
      "\n",
      "Train epoch=0:  16%|███                | 1364/8498 [3:57:06<20:40:06, 10.43s/it]\u001b[A"
     ]
    },
    {
     "name": "stdout",
     "output_type": "stream",
     "text": [
      "[(0.9895015015015015, 0.9018255045907815, 0.8547872091818729, 0.9802094264632981)]\n"
     ]
    },
    {
     "name": "stderr",
     "output_type": "stream",
     "text": [
      "\n",
      "Train epoch=0:  16%|███                | 1365/8498 [3:57:12<20:39:32, 10.43s/it]\u001b[A"
     ]
    },
    {
     "name": "stdout",
     "output_type": "stream",
     "text": [
      "[(0.586640625, 0.33899082972872047, 0.1711701240853911, 0.3934136965045983)]\n"
     ]
    },
    {
     "name": "stderr",
     "output_type": "stream",
     "text": [
      "\n",
      "Train epoch=0:  16%|███                | 1366/8498 [3:57:21<20:39:18, 10.43s/it]\u001b[A"
     ]
    },
    {
     "name": "stdout",
     "output_type": "stream",
     "text": [
      "[(0.6585105105105105, 0.41898454930579954, 0.3132954999797547, 0.44935867425229914)]\n"
     ]
    },
    {
     "name": "stderr",
     "output_type": "stream",
     "text": [
      "\n",
      "Train epoch=0:  16%|███                | 1367/8498 [3:57:32<20:39:06, 10.43s/it]\u001b[A"
     ]
    },
    {
     "name": "stdout",
     "output_type": "stream",
     "text": [
      "[(0.8516746666666667, 0.5825927310336453, 0.3937149740473299, 0.8326719604140376)]\n"
     ]
    },
    {
     "name": "stderr",
     "output_type": "stream",
     "text": [
      "\n",
      "Train epoch=0:  16%|███                | 1368/8498 [3:57:41<20:38:50, 10.42s/it]\u001b[A"
     ]
    },
    {
     "name": "stdout",
     "output_type": "stream",
     "text": [
      "[(0.9354654654654655, 0.7141037861873132, 0.5479470068455471, 0.8907100187742291)]\n"
     ]
    },
    {
     "name": "stderr",
     "output_type": "stream",
     "text": [
      "\n",
      "Train epoch=0:  16%|███                | 1369/8498 [3:57:52<20:38:41, 10.43s/it]\u001b[A"
     ]
    },
    {
     "name": "stdout",
     "output_type": "stream",
     "text": [
      "[(0.85383, 0.5, 0.426915, 0.7290256689)]\n"
     ]
    },
    {
     "name": "stderr",
     "output_type": "stream",
     "text": [
      "\n",
      "Train epoch=0:  16%|███                | 1370/8498 [3:58:02<20:38:30, 10.43s/it]\u001b[A"
     ]
    },
    {
     "name": "stdout",
     "output_type": "stream",
     "text": [
      "[(0.88192, 0.5015534242874511, 0.2951466691772106, 0.778190560944623)]\n"
     ]
    },
    {
     "name": "stderr",
     "output_type": "stream",
     "text": [
      "\n",
      "Train epoch=0:  16%|███                | 1371/8498 [3:58:09<20:38:04, 10.42s/it]\u001b[A"
     ]
    },
    {
     "name": "stdout",
     "output_type": "stream",
     "text": [
      "[(0.8778564102564103, 0.49592096876991715, 0.22118366376547932, 0.7830582262417246)]\n"
     ]
    },
    {
     "name": "stderr",
     "output_type": "stream",
     "text": [
      "\n",
      "Train epoch=0:  16%|███                | 1372/8498 [3:58:19<20:37:48, 10.42s/it]\u001b[A"
     ]
    },
    {
     "name": "stdout",
     "output_type": "stream",
     "text": [
      "[(0.7175226586102719, 0.41483685091666, 0.2198116701567616, 0.5352476086271445)]\n"
     ]
    },
    {
     "name": "stderr",
     "output_type": "stream",
     "text": [
      "\n",
      "Train epoch=0:  16%|███                | 1373/8498 [3:58:29<20:37:36, 10.42s/it]\u001b[A"
     ]
    },
    {
     "name": "stdout",
     "output_type": "stream",
     "text": [
      "[(0.8937226666666667, 0.471930393963369, 0.32008807143071716, 0.8059291913198516)]\n"
     ]
    },
    {
     "name": "stderr",
     "output_type": "stream",
     "text": [
      "\n",
      "Train epoch=0:  16%|███                | 1374/8498 [3:58:40<20:37:30, 10.42s/it]\u001b[A"
     ]
    },
    {
     "name": "stdout",
     "output_type": "stream",
     "text": [
      "[(0.8762139037433155, 0.9122886310258029, 0.6379928378723563, 0.8234856100597625)]\n"
     ]
    },
    {
     "name": "stderr",
     "output_type": "stream",
     "text": [
      "\n",
      "Train epoch=0:  16%|███                | 1375/8498 [3:58:53<20:37:30, 10.42s/it]\u001b[A"
     ]
    },
    {
     "name": "stdout",
     "output_type": "stream",
     "text": [
      "[(0.7024676409185804, 0.7067099688099223, 0.29978039120762223, 0.5969258294274145)]\n"
     ]
    },
    {
     "name": "stderr",
     "output_type": "stream",
     "text": [
      "\n",
      "Train epoch=0:  16%|███                | 1376/8498 [3:59:03<20:37:19, 10.42s/it]\u001b[A"
     ]
    },
    {
     "name": "stdout",
     "output_type": "stream",
     "text": [
      "[(0.9645866666666667, 0.9632391647521205, 0.929991548354691, 0.9316194450910114)]\n"
     ]
    },
    {
     "name": "stderr",
     "output_type": "stream",
     "text": [
      "\n",
      "Train epoch=0:  16%|███                | 1377/8498 [3:59:14<20:37:13, 10.42s/it]\u001b[A"
     ]
    },
    {
     "name": "stdout",
     "output_type": "stream",
     "text": [
      "[(0.5610346666666667, 0.5901781357592295, 0.30961083281116425, 0.44500239039717165)]\n"
     ]
    },
    {
     "name": "stderr",
     "output_type": "stream",
     "text": [
      "\n",
      "Train epoch=0:  16%|███                | 1378/8498 [3:59:24<20:37:00, 10.42s/it]\u001b[A"
     ]
    },
    {
     "name": "stdout",
     "output_type": "stream",
     "text": [
      "[(0.558832, 0.353679200702086, 0.18628826224471837, 0.4415180845809621)]\n"
     ]
    },
    {
     "name": "stderr",
     "output_type": "stream",
     "text": [
      "\n",
      "Train epoch=0:  16%|███                | 1379/8498 [3:59:35<20:36:51, 10.42s/it]\u001b[A"
     ]
    },
    {
     "name": "stdout",
     "output_type": "stream",
     "text": [
      "[(0.719216, 0.7698917822481591, 0.3908799873008357, 0.5760823785513327)]\n"
     ]
    },
    {
     "name": "stderr",
     "output_type": "stream",
     "text": [
      "\n",
      "Train epoch=0:  16%|███                | 1380/8498 [3:59:45<20:36:40, 10.42s/it]\u001b[A"
     ]
    },
    {
     "name": "stdout",
     "output_type": "stream",
     "text": [
      "[(0.9348266666666667, 0.1945275260666663, 0.15580444444444444, 0.898485591608889)]\n"
     ]
    },
    {
     "name": "stderr",
     "output_type": "stream",
     "text": [
      "\n",
      "Train epoch=0:  16%|███                | 1381/8498 [3:59:55<20:36:28, 10.42s/it]\u001b[A"
     ]
    },
    {
     "name": "stdout",
     "output_type": "stream",
     "text": [
      "[(0.7352746666666666, 0.5, 0.3676373333333333, 0.5406288354417778)]\n"
     ]
    },
    {
     "name": "stderr",
     "output_type": "stream",
     "text": [
      "\n",
      "Train epoch=0:  16%|███                | 1382/8498 [4:00:07<20:36:23, 10.42s/it]\u001b[A"
     ]
    },
    {
     "name": "stdout",
     "output_type": "stream",
     "text": [
      "[(0.5543413333333334, 0.555362207222518, 0.38338630848539845, 0.38375935243855186)]\n"
     ]
    },
    {
     "name": "stderr",
     "output_type": "stream",
     "text": [
      "\n",
      "Train epoch=0:  16%|███                | 1383/8498 [4:00:17<20:36:12, 10.42s/it]\u001b[A"
     ]
    },
    {
     "name": "stdout",
     "output_type": "stream",
     "text": [
      "[(0.9978453333333334, 0.7839572192513369, 0.7828768262450096, 0.9956953224402619)]\n"
     ]
    },
    {
     "name": "stderr",
     "output_type": "stream",
     "text": [
      "\n",
      "Train epoch=0:  16%|███                | 1384/8498 [4:00:26<20:35:56, 10.42s/it]\u001b[A"
     ]
    },
    {
     "name": "stdout",
     "output_type": "stream",
     "text": [
      "[(0.8066144578313253, 0.7834860532325607, 0.43085115600730783, 0.7227665074414794)]\n"
     ]
    },
    {
     "name": "stderr",
     "output_type": "stream",
     "text": [
      "\n",
      "Train epoch=0:  16%|███                | 1385/8498 [4:00:38<20:35:50, 10.42s/it]\u001b[A"
     ]
    },
    {
     "name": "stdout",
     "output_type": "stream",
     "text": [
      "[(0.901696, 0.5445234969447231, 0.49490004311295716, 0.8131797549059976)]\n"
     ]
    },
    {
     "name": "stderr",
     "output_type": "stream",
     "text": [
      "\n",
      "Train epoch=0:  16%|███                | 1386/8498 [4:00:48<20:35:40, 10.42s/it]\u001b[A"
     ]
    },
    {
     "name": "stdout",
     "output_type": "stream",
     "text": [
      "[(0.8389493333333333, 0.6338346848428029, 0.5277256307066188, 0.7149523190968072)]\n"
     ]
    },
    {
     "name": "stderr",
     "output_type": "stream",
     "text": [
      "\n",
      "Train epoch=0:  16%|███                | 1387/8498 [4:00:59<20:35:30, 10.42s/it]\u001b[A"
     ]
    },
    {
     "name": "stdout",
     "output_type": "stream",
     "text": [
      "[(0.9723146666666667, 0.5, 0.48615733333333333, 0.945395811015111)]\n"
     ]
    },
    {
     "name": "stderr",
     "output_type": "stream",
     "text": [
      "\n",
      "Train epoch=0:  16%|███                | 1388/8498 [4:01:10<20:35:24, 10.43s/it]\u001b[A"
     ]
    },
    {
     "name": "stdout",
     "output_type": "stream",
     "text": [
      "[(0.790304, 0.7451847859206874, 0.3256304377512131, 0.681922453911751)]\n"
     ]
    },
    {
     "name": "stderr",
     "output_type": "stream",
     "text": [
      "\n",
      "Train epoch=0:  16%|███                | 1389/8498 [4:01:20<20:35:13, 10.43s/it]\u001b[A"
     ]
    },
    {
     "name": "stdout",
     "output_type": "stream",
     "text": [
      "[(0.8540213333333333, 0.7322037069169894, 0.45770404954835026, 0.7880713310452877)]\n"
     ]
    },
    {
     "name": "stderr",
     "output_type": "stream",
     "text": [
      "\n",
      "Train epoch=0:  16%|███                | 1390/8498 [4:01:30<20:34:58, 10.42s/it]\u001b[A"
     ]
    },
    {
     "name": "stdout",
     "output_type": "stream",
     "text": [
      "[(0.9783303303303303, 0.7550544449273866, 0.7420661548247756, 0.957310832931187)]\n"
     ]
    },
    {
     "name": "stderr",
     "output_type": "stream",
     "text": [
      "\n",
      "Train epoch=0:  16%|███                | 1391/8498 [4:01:40<20:34:48, 10.42s/it]\u001b[A"
     ]
    },
    {
     "name": "stdout",
     "output_type": "stream",
     "text": [
      "[(0.7172906666666666, 0.2500301386377336, 0.14364739759397555, 0.5150997186503846)]\n"
     ]
    },
    {
     "name": "stderr",
     "output_type": "stream",
     "text": [
      "\n",
      "Train epoch=0:  16%|███                | 1392/8498 [4:01:52<20:34:46, 10.43s/it]\u001b[A"
     ]
    },
    {
     "name": "stdout",
     "output_type": "stream",
     "text": [
      "[(0.8660426666666666, 0.8461198536741613, 0.6403778622570618, 0.799118784919151)]\n"
     ]
    },
    {
     "name": "stderr",
     "output_type": "stream",
     "text": [
      "\n",
      "Train epoch=0:  16%|███                | 1393/8498 [4:02:02<20:34:34, 10.43s/it]\u001b[A"
     ]
    },
    {
     "name": "stdout",
     "output_type": "stream",
     "text": [
      "[(0.9231466666666667, 0.5852961952367184, 0.3855970934076547, 0.8674701368903855)]\n"
     ]
    },
    {
     "name": "stderr",
     "output_type": "stream",
     "text": [
      "\n",
      "Train epoch=0:  16%|███                | 1394/8498 [4:02:11<20:34:15, 10.42s/it]\u001b[A"
     ]
    },
    {
     "name": "stdout",
     "output_type": "stream",
     "text": [
      "[(0.4206273062730627, 0.6306967860906217, 0.26629283870998544, 0.26350600574342214)]\n"
     ]
    },
    {
     "name": "stderr",
     "output_type": "stream",
     "text": [
      "\n",
      "Train epoch=0:  16%|███                | 1395/8498 [4:02:21<20:34:03, 10.42s/it]\u001b[A"
     ]
    },
    {
     "name": "stdout",
     "output_type": "stream",
     "text": [
      "[(0.9182685714285714, 0.5024405307636259, 0.3290372834927743, 0.9019230084230904)]\n"
     ]
    },
    {
     "name": "stderr",
     "output_type": "stream",
     "text": [
      "\n",
      "Train epoch=0:  16%|███                | 1396/8498 [4:02:32<20:33:52, 10.42s/it]\u001b[A"
     ]
    },
    {
     "name": "stdout",
     "output_type": "stream",
     "text": [
      "[(0.8319306666666667, 0.6248335663339866, 0.5198233845530617, 0.6965055009600671)]\n"
     ]
    },
    {
     "name": "stderr",
     "output_type": "stream",
     "text": [
      "\n",
      "Train epoch=0:  16%|███                | 1397/8498 [4:02:42<20:33:43, 10.42s/it]\u001b[A"
     ]
    },
    {
     "name": "stdout",
     "output_type": "stream",
     "text": [
      "[(0.6776287425149701, 0.5500587062565981, 0.2791778890694486, 0.63590569776351)]\n"
     ]
    },
    {
     "name": "stderr",
     "output_type": "stream",
     "text": [
      "\n",
      "Train epoch=0:  16%|███▏               | 1398/8498 [4:02:52<20:33:28, 10.42s/it]\u001b[A"
     ]
    },
    {
     "name": "stdout",
     "output_type": "stream",
     "text": [
      "[(0.7970843373493975, 0.7678776482312992, 0.43137139460308793, 0.6611217414370738)]\n"
     ]
    },
    {
     "name": "stderr",
     "output_type": "stream",
     "text": [
      "\n",
      "Train epoch=0:  16%|███▏               | 1399/8498 [4:03:01<20:33:12, 10.42s/it]\u001b[A"
     ]
    },
    {
     "name": "stdout",
     "output_type": "stream",
     "text": [
      "[(0.9543783783783784, 0.9166894907299289, 0.8634786271867896, 0.9142167417600997)]\n"
     ]
    },
    {
     "name": "stderr",
     "output_type": "stream",
     "text": [
      "\n",
      "Train epoch=0:  16%|███▏               | 1400/8498 [4:03:11<20:33:00, 10.42s/it]\u001b[A"
     ]
    },
    {
     "name": "stdout",
     "output_type": "stream",
     "text": [
      "[(0.65568, 0.5301322913507922, 0.17200090219088424, 0.5276322231604188)]\n"
     ]
    },
    {
     "name": "stderr",
     "output_type": "stream",
     "text": [
      "\n",
      "Train epoch=0:  16%|███▏               | 1401/8498 [4:03:23<20:32:56, 10.42s/it]\u001b[A"
     ]
    },
    {
     "name": "stdout",
     "output_type": "stream",
     "text": [
      "[(0.803536, 0.4828849445202977, 0.3180073959626149, 0.793761724677693)]\n"
     ]
    },
    {
     "name": "stderr",
     "output_type": "stream",
     "text": [
      "\n",
      "Train epoch=0:  16%|███▏               | 1402/8498 [4:03:34<20:32:48, 10.42s/it]\u001b[A"
     ]
    },
    {
     "name": "stdout",
     "output_type": "stream",
     "text": [
      "[(0.70992, 0.5038857267950964, 0.23967818896915996, 0.5055959196127519)]\n"
     ]
    },
    {
     "name": "stderr",
     "output_type": "stream",
     "text": [
      "\n",
      "Train epoch=0:  17%|███▏               | 1403/8498 [4:03:43<20:32:33, 10.42s/it]\u001b[A"
     ]
    },
    {
     "name": "stdout",
     "output_type": "stream",
     "text": [
      "[(0.949656976744186, 0.9488536109800769, 0.9038082517961564, 0.9040734961735468)]\n"
     ]
    },
    {
     "name": "stderr",
     "output_type": "stream",
     "text": [
      "\n",
      "Train epoch=0:  17%|███▏               | 1404/8498 [4:03:54<20:32:22, 10.42s/it]\u001b[A"
     ]
    },
    {
     "name": "stdout",
     "output_type": "stream",
     "text": [
      "[(0.8618506666666667, 0.5199324676612374, 0.2411613959021409, 0.794962737102619)]\n"
     ]
    },
    {
     "name": "stderr",
     "output_type": "stream",
     "text": [
      "\n",
      "Train epoch=0:  17%|███▏               | 1405/8498 [4:04:04<20:32:09, 10.42s/it]\u001b[A"
     ]
    },
    {
     "name": "stdout",
     "output_type": "stream",
     "text": [
      "[(0.8037692307692308, 0.5644836246506467, 0.44944839431135214, 0.6764555472264621)]\n"
     ]
    },
    {
     "name": "stderr",
     "output_type": "stream",
     "text": [
      "\n",
      "Train epoch=0:  17%|███▏               | 1406/8498 [4:04:13<20:31:52, 10.42s/it]\u001b[A"
     ]
    },
    {
     "name": "stdout",
     "output_type": "stream",
     "text": [
      "[(0.8898576512455516, 0.5044742477706027, 0.2767130829490998, 0.8168865205392569)]\n"
     ]
    },
    {
     "name": "stderr",
     "output_type": "stream",
     "text": [
      "\n",
      "Train epoch=0:  17%|███▏               | 1407/8498 [4:04:22<20:31:38, 10.42s/it]\u001b[A"
     ]
    },
    {
     "name": "stdout",
     "output_type": "stream",
     "text": [
      "[(0.9016036036036036, 0.49081581941592667, 0.310061716155257, 0.8543513154010601)]\n"
     ]
    },
    {
     "name": "stderr",
     "output_type": "stream",
     "text": [
      "\n",
      "Train epoch=0:  17%|███▏               | 1408/8498 [4:04:33<20:31:26, 10.42s/it]\u001b[A"
     ]
    },
    {
     "name": "stdout",
     "output_type": "stream",
     "text": [
      "[(0.8064624624624624, 0.7922955085783319, 0.510244027386434, 0.778764296982799)]\n"
     ]
    },
    {
     "name": "stderr",
     "output_type": "stream",
     "text": [
      "\n",
      "Train epoch=0:  17%|███▏               | 1409/8498 [4:04:42<20:31:12, 10.42s/it]\u001b[A"
     ]
    },
    {
     "name": "stdout",
     "output_type": "stream",
     "text": [
      "[(0.5107402985074627, 0.4993929223347257, 0.22030304376653, 0.4505959265296009)]\n"
     ]
    },
    {
     "name": "stderr",
     "output_type": "stream",
     "text": [
      "\n",
      "Train epoch=0:  17%|███▏               | 1410/8498 [4:04:52<20:30:58, 10.42s/it]\u001b[A"
     ]
    },
    {
     "name": "stdout",
     "output_type": "stream",
     "text": [
      "[(0.9913093093093093, 0.5, 0.49565465465465464, 0.9826941467232998)]\n"
     ]
    },
    {
     "name": "stderr",
     "output_type": "stream",
     "text": [
      "\n",
      "Train epoch=0:  17%|███▏               | 1411/8498 [4:05:01<20:30:42, 10.42s/it]\u001b[A"
     ]
    },
    {
     "name": "stdout",
     "output_type": "stream",
     "text": [
      "[(0.9471480362537764, 0.8217715594994597, 0.5143360432075214, 0.9073713566946688)]\n"
     ]
    },
    {
     "name": "stderr",
     "output_type": "stream",
     "text": [
      "\n",
      "Train epoch=0:  17%|███▏               | 1412/8498 [4:05:12<20:30:33, 10.42s/it]\u001b[A"
     ]
    },
    {
     "name": "stdout",
     "output_type": "stream",
     "text": [
      "[(0.7849706666666667, 0.4999966028685378, 0.17534086644706667, 0.688191859900763)]\n"
     ]
    },
    {
     "name": "stderr",
     "output_type": "stream",
     "text": [
      "\n",
      "Train epoch=0:  17%|███▏               | 1413/8498 [4:05:22<20:30:18, 10.42s/it]\u001b[A"
     ]
    },
    {
     "name": "stdout",
     "output_type": "stream",
     "text": [
      "[(0.8831531531531531, 0.5382044030011782, 0.2570100699538709, 0.8410876285074638)]\n"
     ]
    },
    {
     "name": "stderr",
     "output_type": "stream",
     "text": [
      "\n",
      "Train epoch=0:  17%|███▏               | 1414/8498 [4:05:32<20:30:06, 10.42s/it]\u001b[A"
     ]
    },
    {
     "name": "stdout",
     "output_type": "stream",
     "text": [
      "[(0.87096, 0.6314220016249417, 0.5397601994909862, 0.765075835859155)]\n"
     ]
    },
    {
     "name": "stderr",
     "output_type": "stream",
     "text": [
      "\n",
      "Train epoch=0:  17%|███▏               | 1415/8498 [4:05:41<20:29:51, 10.42s/it]\u001b[A"
     ]
    },
    {
     "name": "stdout",
     "output_type": "stream",
     "text": [
      "[(0.9710337837837838, 0.9242183861957729, 0.771540865069519, 0.9521812305661094)]\n"
     ]
    },
    {
     "name": "stderr",
     "output_type": "stream",
     "text": [
      "\n",
      "Train epoch=0:  17%|███▏               | 1416/8498 [4:05:49<20:29:27, 10.42s/it]\u001b[A"
     ]
    },
    {
     "name": "stdout",
     "output_type": "stream",
     "text": [
      "[(0.8990083333333333, 0.5049023613040281, 0.30903305724475605, 0.8247380594357476)]\n"
     ]
    },
    {
     "name": "stderr",
     "output_type": "stream",
     "text": [
      "\n",
      "Train epoch=0:  17%|███▏               | 1417/8498 [4:06:00<20:29:22, 10.42s/it]\u001b[A"
     ]
    },
    {
     "name": "stdout",
     "output_type": "stream",
     "text": [
      "[(0.9092266666666666, 0.8191128898329811, 0.39249355403368374, 0.8804848957372875)]\n"
     ]
    },
    {
     "name": "stderr",
     "output_type": "stream",
     "text": [
      "\n",
      "Train epoch=0:  17%|███▏               | 1418/8498 [4:06:10<20:29:10, 10.42s/it]\u001b[A"
     ]
    },
    {
     "name": "stdout",
     "output_type": "stream",
     "text": [
      "[(0.7574826666666666, 0.8735862996354101, 0.29086700931453896, 0.7292696981651207)]\n"
     ]
    },
    {
     "name": "stderr",
     "output_type": "stream",
     "text": [
      "\n",
      "Train epoch=0:  17%|███▏               | 1419/8498 [4:06:20<20:28:55, 10.42s/it]\u001b[A"
     ]
    },
    {
     "name": "stdout",
     "output_type": "stream",
     "text": [
      "[(0.752966966966967, 0.5, 0.3764834834834835, 0.5669592533434336)]\n"
     ]
    },
    {
     "name": "stderr",
     "output_type": "stream",
     "text": [
      "\n",
      "Train epoch=0:  17%|███▏               | 1420/8498 [4:06:31<20:28:50, 10.42s/it]\u001b[A"
     ]
    },
    {
     "name": "stdout",
     "output_type": "stream",
     "text": [
      "[(0.742832, 0.5424038560189262, 0.2561905583164479, 0.7105275211164476)]\n"
     ]
    },
    {
     "name": "stderr",
     "output_type": "stream",
     "text": [
      "\n",
      "Train epoch=0:  17%|███▏               | 1421/8498 [4:06:41<20:28:37, 10.42s/it]\u001b[A"
     ]
    },
    {
     "name": "stdout",
     "output_type": "stream",
     "text": [
      "[(0.8358438438438438, 0.6619238906541268, 0.567910185105009, 0.7239238167490807)]\n"
     ]
    },
    {
     "name": "stderr",
     "output_type": "stream",
     "text": [
      "\n",
      "Train epoch=0:  17%|███▏               | 1422/8498 [4:06:53<20:28:33, 10.42s/it]\u001b[A"
     ]
    },
    {
     "name": "stdout",
     "output_type": "stream",
     "text": [
      "[(0.98571, 0.9256243500699726, 0.8231767254229259, 0.9748093021164098)]\n"
     ]
    },
    {
     "name": "stderr",
     "output_type": "stream",
     "text": [
      "\n",
      "Train epoch=0:  17%|███▏               | 1423/8498 [4:07:03<20:28:20, 10.42s/it]\u001b[A"
     ]
    },
    {
     "name": "stdout",
     "output_type": "stream",
     "text": [
      "[(0.9710214067278288, 0.8546963739580273, 0.8265653315662632, 0.9440196428758523)]\n"
     ]
    },
    {
     "name": "stderr",
     "output_type": "stream",
     "text": [
      "\n",
      "Train epoch=0:  17%|███▏               | 1424/8498 [4:07:12<20:28:05, 10.42s/it]\u001b[A"
     ]
    },
    {
     "name": "stdout",
     "output_type": "stream",
     "text": [
      "[(0.7285225225225225, 0.7044195633794161, 0.39202275163282635, 0.5986033884096397)]\n"
     ]
    },
    {
     "name": "stderr",
     "output_type": "stream",
     "text": [
      "\n",
      "Train epoch=0:  17%|███▏               | 1425/8498 [4:07:23<20:27:53, 10.42s/it]\u001b[A"
     ]
    },
    {
     "name": "stdout",
     "output_type": "stream",
     "text": [
      "[(0.7521066666666667, 0.2990220619199777, 0.24406517662143737, 0.6450153828444759)]\n"
     ]
    },
    {
     "name": "stderr",
     "output_type": "stream",
     "text": [
      "\n",
      "Train epoch=0:  17%|███▏               | 1426/8498 [4:07:34<20:27:50, 10.42s/it]\u001b[A"
     ]
    },
    {
     "name": "stdout",
     "output_type": "stream",
     "text": [
      "[(0.9430373626373626, 0.8945350590725434, 0.847758514494949, 0.8919901874386247)]\n"
     ]
    },
    {
     "name": "stderr",
     "output_type": "stream",
     "text": [
      "\n",
      "Train epoch=0:  17%|███▏               | 1427/8498 [4:07:40<20:27:16, 10.41s/it]\u001b[A"
     ]
    },
    {
     "name": "stdout",
     "output_type": "stream",
     "text": [
      "[(0.8576054421768707, 0.8833454835146586, 0.5446402752298821, 0.8076185012506897)]\n"
     ]
    },
    {
     "name": "stderr",
     "output_type": "stream",
     "text": [
      "\n",
      "Train epoch=0:  17%|███▏               | 1428/8498 [4:07:49<20:27:00, 10.41s/it]\u001b[A"
     ]
    },
    {
     "name": "stdout",
     "output_type": "stream",
     "text": [
      "[(0.21893655589123867, 0.4537190082644628, 0.14889603905469875, 0.10777194270913815)]\n"
     ]
    },
    {
     "name": "stderr",
     "output_type": "stream",
     "text": [
      "\n",
      "Train epoch=0:  17%|███▏               | 1429/8498 [4:08:00<20:26:50, 10.41s/it]\u001b[A"
     ]
    },
    {
     "name": "stdout",
     "output_type": "stream",
     "text": [
      "[(0.8647946666666667, 0.5898683764784373, 0.5170648495271822, 0.7566044904484361)]\n"
     ]
    },
    {
     "name": "stderr",
     "output_type": "stream",
     "text": [
      "\n",
      "Train epoch=0:  17%|███▏               | 1430/8498 [4:08:10<20:26:40, 10.41s/it]\u001b[A"
     ]
    },
    {
     "name": "stdout",
     "output_type": "stream",
     "text": [
      "[(0.9786026666666666, 0.6872243131472764, 0.6763604355613367, 0.9576723390825298)]\n"
     ]
    },
    {
     "name": "stderr",
     "output_type": "stream",
     "text": [
      "\n",
      "Train epoch=0:  17%|███▏               | 1431/8498 [4:08:20<20:26:28, 10.41s/it]\u001b[A"
     ]
    },
    {
     "name": "stdout",
     "output_type": "stream",
     "text": [
      "[(0.5090026666666667, 0.4735296160677959, 0.29295859386750894, 0.4723570620769677)]\n"
     ]
    },
    {
     "name": "stderr",
     "output_type": "stream",
     "text": [
      "\n",
      "Train epoch=0:  17%|███▏               | 1432/8498 [4:08:30<20:26:13, 10.41s/it]\u001b[A"
     ]
    },
    {
     "name": "stdout",
     "output_type": "stream",
     "text": [
      "[(0.833051051051051, 0.49797153689289714, 0.14542757087736957, 0.7298525023765587)]\n"
     ]
    },
    {
     "name": "stderr",
     "output_type": "stream",
     "text": [
      "\n",
      "Train epoch=0:  17%|███▏               | 1433/8498 [4:08:41<20:26:08, 10.41s/it]\u001b[A"
     ]
    },
    {
     "name": "stdout",
     "output_type": "stream",
     "text": [
      "[(0.5990133333333333, 0.31390296017093605, 0.20762118943478797, 0.3684969585663423)]\n"
     ]
    },
    {
     "name": "stderr",
     "output_type": "stream",
     "text": [
      "\n",
      "Train epoch=0:  17%|███▏               | 1434/8498 [4:08:52<20:25:58, 10.41s/it]\u001b[A"
     ]
    },
    {
     "name": "stdout",
     "output_type": "stream",
     "text": [
      "[(0.8574216867469879, 0.5557706395612181, 0.501362481617087, 0.7372495151429229)]\n"
     ]
    },
    {
     "name": "stderr",
     "output_type": "stream",
     "text": [
      "\n",
      "Train epoch=0:  17%|███▏               | 1435/8498 [4:09:02<20:25:47, 10.41s/it]\u001b[A"
     ]
    },
    {
     "name": "stdout",
     "output_type": "stream",
     "text": [
      "[(0.79128, 0.5127258375665656, 0.42151611648551324, 0.6557195920697771)]\n"
     ]
    },
    {
     "name": "stderr",
     "output_type": "stream",
     "text": [
      "\n",
      "Train epoch=0:  17%|███▏               | 1436/8498 [4:09:13<20:25:37, 10.41s/it]\u001b[A"
     ]
    },
    {
     "name": "stdout",
     "output_type": "stream",
     "text": [
      "[(0.777008, 0.5674888759958393, 0.35659700980709286, 0.6333051569527306)]\n"
     ]
    },
    {
     "name": "stderr",
     "output_type": "stream",
     "text": [
      "\n",
      "Train epoch=0:  17%|███▏               | 1437/8498 [4:09:23<20:25:24, 10.41s/it]\u001b[A"
     ]
    },
    {
     "name": "stdout",
     "output_type": "stream",
     "text": [
      "[(0.5400994152046784, 0.41498501383722886, 0.24591395593923834, 0.5316666320420085)]\n"
     ]
    },
    {
     "name": "stderr",
     "output_type": "stream",
     "text": [
      "\n",
      "Train epoch=0:  17%|███▏               | 1438/8498 [4:09:34<20:25:16, 10.41s/it]\u001b[A"
     ]
    },
    {
     "name": "stdout",
     "output_type": "stream",
     "text": [
      "[(0.8310666666666666, 0.7338256974866596, 0.48363639780483625, 0.7069053528500231)]\n"
     ]
    },
    {
     "name": "stderr",
     "output_type": "stream",
     "text": [
      "\n",
      "Train epoch=0:  17%|███▏               | 1439/8498 [4:09:44<20:25:04, 10.41s/it]\u001b[A"
     ]
    },
    {
     "name": "stdout",
     "output_type": "stream",
     "text": [
      "[(0.9090264550264551, 0.9105038469756236, 0.8325907315147963, 0.8324079737893786)]\n"
     ]
    },
    {
     "name": "stderr",
     "output_type": "stream",
     "text": [
      "\n",
      "Train epoch=0:  17%|███▏               | 1440/8498 [4:09:54<20:24:54, 10.41s/it]\u001b[A"
     ]
    },
    {
     "name": "stdout",
     "output_type": "stream",
     "text": [
      "[(0.9224848484848485, 0.7106190975998042, 0.5944879356582046, 0.8725420104219156)]\n"
     ]
    },
    {
     "name": "stderr",
     "output_type": "stream",
     "text": [
      "\n",
      "Train epoch=0:  17%|███▏               | 1441/8498 [4:10:04<20:24:41, 10.41s/it]\u001b[A"
     ]
    },
    {
     "name": "stdout",
     "output_type": "stream",
     "text": [
      "[(0.7614714714714714, 0.640710418514982, 0.5095291128886132, 0.5863377270707157)]\n"
     ]
    },
    {
     "name": "stderr",
     "output_type": "stream",
     "text": [
      "\n",
      "Train epoch=0:  17%|███▏               | 1442/8498 [4:10:16<20:24:36, 10.41s/it]\u001b[A"
     ]
    },
    {
     "name": "stdout",
     "output_type": "stream",
     "text": [
      "[(0.5998773333333334, 0.31690612095021475, 0.2064969431776146, 0.4084236692320695)]\n"
     ]
    },
    {
     "name": "stderr",
     "output_type": "stream",
     "text": [
      "\n",
      "Train epoch=0:  17%|███▏               | 1443/8498 [4:10:26<20:24:25, 10.41s/it]\u001b[A"
     ]
    },
    {
     "name": "stdout",
     "output_type": "stream",
     "text": [
      "[(0.9569655172413793, 0.7351061779714664, 0.7113739525159727, 0.9161377823779815)]\n"
     ]
    },
    {
     "name": "stderr",
     "output_type": "stream",
     "text": [
      "\n",
      "Train epoch=0:  17%|███▏               | 1444/8498 [4:10:38<20:24:22, 10.41s/it]\u001b[A"
     ]
    },
    {
     "name": "stdout",
     "output_type": "stream",
     "text": [
      "[(0.9332426666666667, 0.5, 0.23771375939400197, 0.8873784908808671)]\n"
     ]
    },
    {
     "name": "stderr",
     "output_type": "stream",
     "text": [
      "\n",
      "Train epoch=0:  17%|███▏               | 1445/8498 [4:10:48<20:24:12, 10.41s/it]\u001b[A"
     ]
    },
    {
     "name": "stdout",
     "output_type": "stream",
     "text": [
      "[(0.727648, 0.24143000504623, 0.15151996234199228, 0.6499833398959007)]\n"
     ]
    },
    {
     "name": "stderr",
     "output_type": "stream",
     "text": [
      "\n",
      "Train epoch=0:  17%|███▏               | 1446/8498 [4:11:00<20:24:08, 10.42s/it]\u001b[A"
     ]
    },
    {
     "name": "stdout",
     "output_type": "stream",
     "text": [
      "[(0.758672, 0.44820890198850605, 0.17936298779948565, 0.6351506377662662)]\n"
     ]
    },
    {
     "name": "stderr",
     "output_type": "stream",
     "text": [
      "\n",
      "Train epoch=0:  17%|███▏               | 1447/8498 [4:11:11<20:24:00, 10.42s/it]\u001b[A"
     ]
    },
    {
     "name": "stdout",
     "output_type": "stream",
     "text": [
      "[(0.7620463917525773, 0.6274845486961265, 0.30006323417036657, 0.7262833905172943)]\n"
     ]
    },
    {
     "name": "stderr",
     "output_type": "stream",
     "text": [
      "\n",
      "Train epoch=0:  17%|███▏               | 1448/8498 [4:11:21<20:23:48, 10.42s/it]\u001b[A"
     ]
    },
    {
     "name": "stdout",
     "output_type": "stream",
     "text": [
      "[(0.7925973333333334, 0.4983066987667402, 0.19814933333333334, 0.6303452616248889)]\n"
     ]
    },
    {
     "name": "stderr",
     "output_type": "stream",
     "text": [
      "\n",
      "Train epoch=0:  17%|███▏               | 1449/8498 [4:11:31<20:23:37, 10.42s/it]\u001b[A"
     ]
    },
    {
     "name": "stdout",
     "output_type": "stream",
     "text": [
      "[(0.9759146666666667, 0.6641102566559204, 0.4370798743945968, 0.9622090123422613)]\n"
     ]
    },
    {
     "name": "stderr",
     "output_type": "stream",
     "text": [
      "\n",
      "Train epoch=0:  17%|███▏               | 1450/8498 [4:11:42<20:23:29, 10.42s/it]\u001b[A"
     ]
    },
    {
     "name": "stdout",
     "output_type": "stream",
     "text": [
      "[(0.9840996884735203, 0.49496411895584597, 0.3296888632843647, 0.9832431136698468)]\n"
     ]
    },
    {
     "name": "stderr",
     "output_type": "stream",
     "text": [
      "\n",
      "Train epoch=0:  17%|███▏               | 1451/8498 [4:11:52<20:23:14, 10.42s/it]\u001b[A"
     ]
    },
    {
     "name": "stdout",
     "output_type": "stream",
     "text": [
      "[(0.7314610778443114, 0.7397851621429203, 0.5482766214519507, 0.5482642630167402)]\n"
     ]
    },
    {
     "name": "stderr",
     "output_type": "stream",
     "text": [
      "\n",
      "Train epoch=0:  17%|███▏               | 1452/8498 [4:12:02<20:23:01, 10.41s/it]\u001b[A"
     ]
    },
    {
     "name": "stdout",
     "output_type": "stream",
     "text": [
      "[(0.8536168981481481, 0.4561760654562737, 0.40394515791080426, 0.7302446269319792)]\n"
     ]
    },
    {
     "name": "stderr",
     "output_type": "stream",
     "text": [
      "\n",
      "Train epoch=0:  17%|███▏               | 1453/8498 [4:12:12<20:22:50, 10.41s/it]\u001b[A"
     ]
    },
    {
     "name": "stdout",
     "output_type": "stream",
     "text": [
      "[(0.5344533333333333, 0.5322399812235991, 0.22024256784801413, 0.44205356611223146)]\n"
     ]
    },
    {
     "name": "stderr",
     "output_type": "stream",
     "text": [
      "\n",
      "Train epoch=0:  17%|███▎               | 1454/8498 [4:12:21<20:22:35, 10.41s/it]\u001b[A"
     ]
    },
    {
     "name": "stdout",
     "output_type": "stream",
     "text": [
      "[(0.985039039039039, 0.5833845687754725, 0.5753840190297611, 0.9704009807598086)]\n"
     ]
    },
    {
     "name": "stderr",
     "output_type": "stream",
     "text": [
      "\n",
      "Train epoch=0:  17%|███▎               | 1455/8498 [4:12:32<20:22:27, 10.41s/it]\u001b[A"
     ]
    },
    {
     "name": "stdout",
     "output_type": "stream",
     "text": [
      "[(0.9165970149253732, 0.8809601729729848, 0.5279268277765875, 0.8591419840903206)]\n"
     ]
    },
    {
     "name": "stderr",
     "output_type": "stream",
     "text": [
      "\n",
      "Train epoch=0:  17%|███▎               | 1456/8498 [4:12:42<20:22:12, 10.41s/it]\u001b[A"
     ]
    },
    {
     "name": "stdout",
     "output_type": "stream",
     "text": [
      "[(0.7983614457831325, 0.4327181762034318, 0.33238410250355443, 0.6747055058159125)]\n"
     ]
    },
    {
     "name": "stderr",
     "output_type": "stream",
     "text": [
      "\n",
      "Train epoch=0:  17%|███▎               | 1457/8498 [4:12:53<20:22:04, 10.41s/it]\u001b[A"
     ]
    },
    {
     "name": "stdout",
     "output_type": "stream",
     "text": [
      "[(0.9622764705882353, 0.6822287115460304, 0.6627115458140648, 0.9260636371718417)]\n"
     ]
    },
    {
     "name": "stderr",
     "output_type": "stream",
     "text": [
      "\n",
      "Train epoch=0:  17%|███▎               | 1458/8498 [4:13:03<20:21:51, 10.41s/it]\u001b[A"
     ]
    },
    {
     "name": "stdout",
     "output_type": "stream",
     "text": [
      "[(0.93168, 0.9326751064671301, 0.8718839694616918, 0.8722172862168929)]\n"
     ]
    },
    {
     "name": "stderr",
     "output_type": "stream",
     "text": [
      "\n",
      "Train epoch=0:  17%|███▎               | 1459/8498 [4:13:12<20:21:37, 10.41s/it]\u001b[A"
     ]
    },
    {
     "name": "stdout",
     "output_type": "stream",
     "text": [
      "[(0.875874251497006, 0.46438923384033126, 0.398439652301073, 0.789760235203713)]\n"
     ]
    },
    {
     "name": "stderr",
     "output_type": "stream",
     "text": [
      "\n",
      "Train epoch=0:  17%|███▎               | 1460/8498 [4:13:22<20:21:26, 10.41s/it]\u001b[A"
     ]
    },
    {
     "name": "stdout",
     "output_type": "stream",
     "text": [
      "[(0.900256, 0.4469105557721669, 0.30756860196725966, 0.814849359931101)]\n"
     ]
    },
    {
     "name": "stderr",
     "output_type": "stream",
     "text": [
      "\n",
      "Train epoch=0:  17%|███▎               | 1461/8498 [4:13:32<20:21:11, 10.41s/it]\u001b[A"
     ]
    },
    {
     "name": "stdout",
     "output_type": "stream",
     "text": [
      "[(0.8409281437125748, 0.6747813626280534, 0.5725557921758531, 0.7193959214923715)]\n"
     ]
    },
    {
     "name": "stderr",
     "output_type": "stream",
     "text": [
      "\n",
      "Train epoch=0:  17%|███▎               | 1462/8498 [4:13:42<20:20:57, 10.41s/it]\u001b[A"
     ]
    },
    {
     "name": "stdout",
     "output_type": "stream",
     "text": [
      "[(0.7628108108108108, 0.5630976788821332, 0.2792940576807649, 0.6823893526996949)]\n"
     ]
    },
    {
     "name": "stderr",
     "output_type": "stream",
     "text": [
      "\n",
      "Train epoch=0:  17%|███▎               | 1463/8498 [4:13:52<20:20:45, 10.41s/it]\u001b[A"
     ]
    },
    {
     "name": "stdout",
     "output_type": "stream",
     "text": [
      "[(0.9277173333333333, 0.9449153940768222, 0.8507642852781996, 0.8692419873537429)]\n"
     ]
    },
    {
     "name": "stderr",
     "output_type": "stream",
     "text": [
      "\n",
      "Train epoch=0:  17%|███▎               | 1464/8498 [4:14:02<20:20:33, 10.41s/it]\u001b[A"
     ]
    },
    {
     "name": "stdout",
     "output_type": "stream",
     "text": [
      "[(0.6937013333333333, 0.34893283787235685, 0.26453459958913866, 0.5193240442661056)]\n"
     ]
    },
    {
     "name": "stderr",
     "output_type": "stream",
     "text": [
      "\n",
      "Train epoch=0:  17%|███▎               | 1465/8498 [4:14:11<20:20:18, 10.41s/it]\u001b[A"
     ]
    },
    {
     "name": "stdout",
     "output_type": "stream",
     "text": [
      "[(0.9176037735849056, 0.8821120982066716, 0.7999537441712189, 0.8510799089405002)]\n"
     ]
    },
    {
     "name": "stderr",
     "output_type": "stream",
     "text": [
      "\n",
      "Train epoch=0:  17%|███▎               | 1466/8498 [4:14:22<20:20:08, 10.41s/it]\u001b[A"
     ]
    },
    {
     "name": "stdout",
     "output_type": "stream",
     "text": [
      "[(0.8270501474926254, 0.5425970675969342, 0.3163822450995262, 0.716453154161425)]\n"
     ]
    },
    {
     "name": "stderr",
     "output_type": "stream",
     "text": [
      "\n",
      "Train epoch=0:  17%|███▎               | 1467/8498 [4:14:32<20:19:57, 10.41s/it]\u001b[A"
     ]
    },
    {
     "name": "stdout",
     "output_type": "stream",
     "text": [
      "[(0.7504266666666667, 0.47039272811592686, 0.27571053810598045, 0.6105914009373159)]\n"
     ]
    },
    {
     "name": "stderr",
     "output_type": "stream",
     "text": [
      "\n",
      "Train epoch=0:  17%|███▎               | 1468/8498 [4:14:42<20:19:46, 10.41s/it]\u001b[A"
     ]
    },
    {
     "name": "stdout",
     "output_type": "stream",
     "text": [
      "[(0.9687935656836462, 0.3333333333333333, 0.3229311885612154, 0.9385609729100333)]\n"
     ]
    },
    {
     "name": "stderr",
     "output_type": "stream",
     "text": [
      "\n",
      "Train epoch=0:  17%|███▎               | 1469/8498 [4:14:53<20:19:35, 10.41s/it]\u001b[A"
     ]
    },
    {
     "name": "stdout",
     "output_type": "stream",
     "text": [
      "[(0.31560533333333335, 0.17768680001478518, 0.1294295268446114, 0.30369145313509827)]\n"
     ]
    },
    {
     "name": "stderr",
     "output_type": "stream",
     "text": [
      "\n",
      "Train epoch=0:  17%|███▎               | 1470/8498 [4:15:03<20:19:24, 10.41s/it]\u001b[A"
     ]
    },
    {
     "name": "stdout",
     "output_type": "stream",
     "text": [
      "[(0.7704853333333334, 0.3333333333333333, 0.19884217712542807, 0.6128199244928446)]\n"
     ]
    },
    {
     "name": "stderr",
     "output_type": "stream",
     "text": [
      "\n",
      "Train epoch=0:  17%|███▎               | 1471/8498 [4:15:12<20:19:08, 10.41s/it]\u001b[A"
     ]
    },
    {
     "name": "stdout",
     "output_type": "stream",
     "text": [
      "[(0.8644324324324324, 0.8624942299799145, 0.75990878124475, 0.7609954488608177)]\n"
     ]
    },
    {
     "name": "stderr",
     "output_type": "stream",
     "text": [
      "\n",
      "Train epoch=0:  17%|███▎               | 1472/8498 [4:15:22<20:18:53, 10.41s/it]\u001b[A"
     ]
    },
    {
     "name": "stdout",
     "output_type": "stream",
     "text": [
      "[(0.855930029154519, 0.48026173728120397, 0.3122788879032138, 0.8348225255476731)]\n"
     ]
    },
    {
     "name": "stderr",
     "output_type": "stream",
     "text": [
      "\n",
      "Train epoch=0:  17%|███▎               | 1473/8498 [4:15:32<20:18:41, 10.41s/it]\u001b[A"
     ]
    },
    {
     "name": "stdout",
     "output_type": "stream",
     "text": [
      "[(0.8807449856733525, 0.5790161648669214, 0.346040893852902, 0.780000721751769)]\n"
     ]
    },
    {
     "name": "stderr",
     "output_type": "stream",
     "text": [
      "\n",
      "Train epoch=0:  17%|███▎               | 1474/8498 [4:15:41<20:18:26, 10.41s/it]\u001b[A"
     ]
    },
    {
     "name": "stdout",
     "output_type": "stream",
     "text": [
      "[(0.9306786786786787, 0.9173764478802571, 0.8571358057837892, 0.8704828617159232)]\n"
     ]
    },
    {
     "name": "stderr",
     "output_type": "stream",
     "text": [
      "\n",
      "Train epoch=0:  17%|███▎               | 1475/8498 [4:15:53<20:18:23, 10.41s/it]\u001b[A"
     ]
    },
    {
     "name": "stdout",
     "output_type": "stream",
     "text": [
      "[(0.889495, 0.6773388227049755, 0.6185135710454333, 0.7919909688692756)]\n"
     ]
    },
    {
     "name": "stderr",
     "output_type": "stream",
     "text": [
      "\n",
      "Train epoch=0:  17%|███▎               | 1476/8498 [4:16:03<20:18:11, 10.41s/it]\u001b[A"
     ]
    },
    {
     "name": "stdout",
     "output_type": "stream",
     "text": [
      "[(0.8135253333333333, 0.42515066831663734, 0.2665908845295776, 0.6721882336915637)]\n"
     ]
    },
    {
     "name": "stderr",
     "output_type": "stream",
     "text": [
      "\n",
      "Train epoch=0:  17%|███▎               | 1477/8498 [4:16:13<20:17:59, 10.41s/it]\u001b[A"
     ]
    },
    {
     "name": "stdout",
     "output_type": "stream",
     "text": [
      "[(0.8617226666666666, 0.7647422115067449, 0.6652427633950372, 0.76055268831654)]\n"
     ]
    },
    {
     "name": "stderr",
     "output_type": "stream",
     "text": [
      "\n",
      "Train epoch=0:  17%|███▎               | 1478/8498 [4:16:24<20:17:49, 10.41s/it]\u001b[A"
     ]
    },
    {
     "name": "stdout",
     "output_type": "stream",
     "text": [
      "[(0.7938613333333333, 0.5190508742760048, 0.34079820186294163, 0.6869442878642185)]\n"
     ]
    },
    {
     "name": "stderr",
     "output_type": "stream",
     "text": [
      "\n",
      "Train epoch=0:  17%|███▎               | 1479/8498 [4:16:33<20:17:34, 10.41s/it]\u001b[A"
     ]
    },
    {
     "name": "stdout",
     "output_type": "stream",
     "text": [
      "[(0.7611591591591591, 0.7032314855074503, 0.2139732006460342, 0.6893436257396556)]\n"
     ]
    },
    {
     "name": "stderr",
     "output_type": "stream",
     "text": [
      "\n",
      "Train epoch=0:  17%|███▎               | 1480/8498 [4:16:44<20:17:27, 10.41s/it]\u001b[A"
     ]
    },
    {
     "name": "stdout",
     "output_type": "stream",
     "text": [
      "[(0.5570084033613445, 0.5134180929021768, 0.15067337225878577, 0.32547401391659025)]\n"
     ]
    },
    {
     "name": "stderr",
     "output_type": "stream",
     "text": [
      "\n",
      "Train epoch=0:  17%|███▎               | 1481/8498 [4:16:54<20:17:16, 10.41s/it]\u001b[A"
     ]
    },
    {
     "name": "stdout",
     "output_type": "stream",
     "text": [
      "[(0.949744, 0.9260747054431941, 0.5935438455251331, 0.9032072197262706)]\n"
     ]
    },
    {
     "name": "stderr",
     "output_type": "stream",
     "text": [
      "\n",
      "Train epoch=0:  17%|███▎               | 1482/8498 [4:17:05<20:17:04, 10.41s/it]\u001b[A"
     ]
    },
    {
     "name": "stdout",
     "output_type": "stream",
     "text": [
      "[(0.8984266666666667, 0.6375245150528722, 0.5785761412776345, 0.8157762608379147)]\n"
     ]
    },
    {
     "name": "stderr",
     "output_type": "stream",
     "text": [
      "\n",
      "Train epoch=0:  17%|███▎               | 1483/8498 [4:17:15<20:16:54, 10.41s/it]\u001b[A"
     ]
    },
    {
     "name": "stdout",
     "output_type": "stream",
     "text": [
      "[(0.531024, 0.37870815531424123, 0.22413904559434417, 0.303759466125479)]\n"
     ]
    },
    {
     "name": "stderr",
     "output_type": "stream",
     "text": [
      "\n",
      "Train epoch=0:  17%|███▎               | 1484/8498 [4:17:25<20:16:42, 10.41s/it]\u001b[A"
     ]
    },
    {
     "name": "stdout",
     "output_type": "stream",
     "text": [
      "[(0.704816, 0.4994029219036966, 0.24548605693141035, 0.5196880908584294)]\n"
     ]
    },
    {
     "name": "stderr",
     "output_type": "stream",
     "text": [
      "\n",
      "Train epoch=0:  17%|███▎               | 1485/8498 [4:17:35<20:16:29, 10.41s/it]\u001b[A"
     ]
    },
    {
     "name": "stdout",
     "output_type": "stream",
     "text": [
      "[(0.95396996996997, 0.639644816027367, 0.6091111099385045, 0.9120318535938414)]\n"
     ]
    },
    {
     "name": "stderr",
     "output_type": "stream",
     "text": [
      "\n",
      "Train epoch=0:  17%|███▎               | 1486/8498 [4:17:46<20:16:20, 10.41s/it]\u001b[A"
     ]
    },
    {
     "name": "stdout",
     "output_type": "stream",
     "text": [
      "[(0.8252426666666667, 0.7983173605643655, 0.6812627525414093, 0.6929229290141792)]\n"
     ]
    },
    {
     "name": "stderr",
     "output_type": "stream",
     "text": [
      "\n",
      "Train epoch=0:  17%|███▎               | 1487/8498 [4:17:56<20:16:09, 10.41s/it]\u001b[A"
     ]
    },
    {
     "name": "stdout",
     "output_type": "stream",
     "text": [
      "[(0.9825345345345345, 0.8864803051142582, 0.8631872603507609, 0.9660405002321816)]\n"
     ]
    },
    {
     "name": "stderr",
     "output_type": "stream",
     "text": [
      "\n",
      "Train epoch=0:  18%|███▎               | 1488/8498 [4:18:05<20:15:54, 10.41s/it]\u001b[A"
     ]
    },
    {
     "name": "stdout",
     "output_type": "stream",
     "text": [
      "[(0.951915915915916, 0.9548849516726112, 0.8325994928816609, 0.9160984560476554)]\n"
     ]
    },
    {
     "name": "stderr",
     "output_type": "stream",
     "text": [
      "\n",
      "Train epoch=0:  18%|███▎               | 1489/8498 [4:18:16<20:15:43, 10.41s/it]\u001b[A"
     ]
    },
    {
     "name": "stdout",
     "output_type": "stream",
     "text": [
      "[(0.9220266666666667, 0.32906959037612304, 0.23886239160831432, 0.8923644163935575)]\n"
     ]
    },
    {
     "name": "stderr",
     "output_type": "stream",
     "text": [
      "\n",
      "Train epoch=0:  18%|███▎               | 1490/8498 [4:18:26<20:15:31, 10.41s/it]\u001b[A"
     ]
    },
    {
     "name": "stdout",
     "output_type": "stream",
     "text": [
      "[(0.9277493333333333, 0.5, 0.46387466666666666, 0.8607188255004444)]\n"
     ]
    },
    {
     "name": "stderr",
     "output_type": "stream",
     "text": [
      "\n",
      "Train epoch=0:  18%|███▎               | 1491/8498 [4:18:35<20:15:13, 10.41s/it]\u001b[A"
     ]
    },
    {
     "name": "stdout",
     "output_type": "stream",
     "text": [
      "[(0.8622214765100671, 0.6086158032301723, 0.5368702136059942, 0.746923122263047)]\n"
     ]
    },
    {
     "name": "stderr",
     "output_type": "stream",
     "text": [
      "\n",
      "Train epoch=0:  18%|███▎               | 1492/8498 [4:18:45<20:15:01, 10.41s/it]\u001b[A"
     ]
    },
    {
     "name": "stdout",
     "output_type": "stream",
     "text": [
      "[(0.7279888579387187, 0.24907554952386035, 0.1306855003240285, 0.5729441627966325)]\n"
     ]
    },
    {
     "name": "stderr",
     "output_type": "stream",
     "text": [
      "\n",
      "Train epoch=0:  18%|███▎               | 1493/8498 [4:18:54<20:14:46, 10.40s/it]\u001b[A"
     ]
    },
    {
     "name": "stdout",
     "output_type": "stream",
     "text": [
      "[(0.5927867867867868, 0.31479945730399617, 0.21560630458521457, 0.3853707238831097)]\n"
     ]
    },
    {
     "name": "stderr",
     "output_type": "stream",
     "text": [
      "\n",
      "Train epoch=0:  18%|███▎               | 1494/8498 [4:19:05<20:14:40, 10.41s/it]\u001b[A"
     ]
    },
    {
     "name": "stdout",
     "output_type": "stream",
     "text": [
      "[(0.9068829787234043, 0.9188121058789223, 0.8270648736377288, 0.8314349912596593)]\n"
     ]
    },
    {
     "name": "stderr",
     "output_type": "stream",
     "text": [
      "\n",
      "Train epoch=0:  18%|███▎               | 1495/8498 [4:19:15<20:14:24, 10.40s/it]\u001b[A"
     ]
    },
    {
     "name": "stdout",
     "output_type": "stream",
     "text": [
      "[(0.6234380664652568, 0.45294871682309457, 0.21262271569524469, 0.5853072978741096)]\n"
     ]
    },
    {
     "name": "stderr",
     "output_type": "stream",
     "text": [
      "\n",
      "Train epoch=0:  18%|███▎               | 1496/8498 [4:19:23<20:14:05, 10.40s/it]\u001b[A"
     ]
    },
    {
     "name": "stdout",
     "output_type": "stream",
     "text": [
      "[(0.7788065843621399, 0.4592267608904159, 0.27981605491521533, 0.634202115169097)]\n"
     ]
    },
    {
     "name": "stderr",
     "output_type": "stream",
     "text": [
      "\n",
      "Train epoch=0:  18%|███▎               | 1497/8498 [4:19:33<20:13:52, 10.40s/it]\u001b[A"
     ]
    },
    {
     "name": "stdout",
     "output_type": "stream",
     "text": [
      "[(0.8636507042253521, 0.4987506669616481, 0.32391577657337856, 0.8413525246538022)]\n"
     ]
    },
    {
     "name": "stderr",
     "output_type": "stream",
     "text": [
      "\n",
      "Train epoch=0:  18%|███▎               | 1498/8498 [4:19:43<20:13:41, 10.40s/it]\u001b[A"
     ]
    },
    {
     "name": "stdout",
     "output_type": "stream",
     "text": [
      "[(0.946212201591512, 0.9422036828639024, 0.8947079426886761, 0.8978358189162663)]\n"
     ]
    },
    {
     "name": "stderr",
     "output_type": "stream",
     "text": [
      "\n",
      "Train epoch=0:  18%|███▎               | 1499/8498 [4:19:53<20:13:26, 10.40s/it]\u001b[A"
     ]
    },
    {
     "name": "stdout",
     "output_type": "stream",
     "text": [
      "[(0.8961921921921921, 0.5210861734552508, 0.4689439498386005, 0.8032099242401223)]\n"
     ]
    },
    {
     "name": "stderr",
     "output_type": "stream",
     "text": [
      "\n",
      "Train epoch=0:  18%|███▎               | 1500/8498 [4:20:03<20:13:14, 10.40s/it]\u001b[A"
     ]
    },
    {
     "name": "stdout",
     "output_type": "stream",
     "text": [
      "[(0.43949333333333335, 0.509918673406577, 0.15312653858584183, 0.19953372942035333)]\n"
     ]
    },
    {
     "name": "stderr",
     "output_type": "stream",
     "text": [
      "\n",
      "Train epoch=0:  18%|███▎               | 1501/8498 [4:20:13<20:13:03, 10.40s/it]\u001b[A"
     ]
    },
    {
     "name": "stdout",
     "output_type": "stream",
     "text": [
      "[(0.9559946666666667, 0.8616087375277847, 0.8282056976776884, 0.9153193220009617)]\n"
     ]
    },
    {
     "name": "stderr",
     "output_type": "stream",
     "text": [
      "\n",
      "Train epoch=0:  18%|███▎               | 1502/8498 [4:20:22<20:12:48, 10.40s/it]\u001b[A"
     ]
    },
    {
     "name": "stdout",
     "output_type": "stream",
     "text": [
      "[(0.8639339339339339, 0.5639607365716418, 0.45861045692056795, 0.7604607639786128)]\n"
     ]
    },
    {
     "name": "stderr",
     "output_type": "stream",
     "text": [
      "\n",
      "Train epoch=0:  18%|███▎               | 1503/8498 [4:20:34<20:12:43, 10.40s/it]\u001b[A"
     ]
    },
    {
     "name": "stdout",
     "output_type": "stream",
     "text": [
      "[(0.9510163170163171, 0.9538868449665254, 0.9044888084728293, 0.9070557682134952)]\n"
     ]
    },
    {
     "name": "stderr",
     "output_type": "stream",
     "text": [
      "\n",
      "Train epoch=0:  18%|███▎               | 1504/8498 [4:20:45<20:12:34, 10.40s/it]\u001b[A"
     ]
    },
    {
     "name": "stdout",
     "output_type": "stream",
     "text": [
      "[(0.8119279279279279, 0.561295732625613, 0.4680333114898024, 0.6796309104063349)]\n"
     ]
    },
    {
     "name": "stderr",
     "output_type": "stream",
     "text": [
      "\n",
      "Train epoch=0:  18%|███▎               | 1505/8498 [4:20:55<20:12:22, 10.40s/it]\u001b[A"
     ]
    },
    {
     "name": "stdout",
     "output_type": "stream",
     "text": [
      "[(0.9496053333333333, 0.9350448680140582, 0.895970167612866, 0.903243869009869)]\n"
     ]
    },
    {
     "name": "stderr",
     "output_type": "stream",
     "text": [
      "\n",
      "Train epoch=0:  18%|███▎               | 1506/8498 [4:21:04<20:12:07, 10.40s/it]\u001b[A"
     ]
    },
    {
     "name": "stdout",
     "output_type": "stream",
     "text": [
      "[(0.8178378378378378, 0.7439449632927633, 0.4835984630771999, 0.803815093587042)]\n"
     ]
    },
    {
     "name": "stderr",
     "output_type": "stream",
     "text": [
      "\n",
      "Train epoch=0:  18%|███▎               | 1507/8498 [4:21:14<20:11:56, 10.40s/it]\u001b[A"
     ]
    },
    {
     "name": "stdout",
     "output_type": "stream",
     "text": [
      "[(0.56184, 0.5995905932792559, 0.35472620726724785, 0.3402269918510776)]\n"
     ]
    },
    {
     "name": "stderr",
     "output_type": "stream",
     "text": [
      "\n",
      "Train epoch=0:  18%|███▎               | 1508/8498 [4:21:24<20:11:41, 10.40s/it]\u001b[A"
     ]
    },
    {
     "name": "stdout",
     "output_type": "stream",
     "text": [
      "[(0.8913393393393393, 0.5748212249420134, 0.47412638166504034, 0.8330113913276893)]\n"
     ]
    },
    {
     "name": "stderr",
     "output_type": "stream",
     "text": [
      "\n",
      "Train epoch=0:  18%|███▎               | 1509/8498 [4:21:35<20:11:36, 10.40s/it]\u001b[A"
     ]
    },
    {
     "name": "stdout",
     "output_type": "stream",
     "text": [
      "[(0.5831936936936937, 0.5938247703255054, 0.25378117597461425, 0.4432849794159844)]\n"
     ]
    },
    {
     "name": "stderr",
     "output_type": "stream",
     "text": [
      "\n",
      "Train epoch=0:  18%|███▍               | 1510/8498 [4:21:46<20:11:27, 10.40s/it]\u001b[A"
     ]
    },
    {
     "name": "stdout",
     "output_type": "stream",
     "text": [
      "[(0.8217447916666667, 0.811780122298661, 0.6235216659440147, 0.7177502003293924)]\n"
     ]
    },
    {
     "name": "stderr",
     "output_type": "stream",
     "text": [
      "\n",
      "Train epoch=0:  18%|███▍               | 1511/8498 [4:21:56<20:11:16, 10.40s/it]\u001b[A"
     ]
    },
    {
     "name": "stdout",
     "output_type": "stream",
     "text": [
      "[(0.7025706666666667, 0.3616472715606498, 0.26059778800157396, 0.49793910913965733)]\n"
     ]
    },
    {
     "name": "stderr",
     "output_type": "stream",
     "text": [
      "\n",
      "Train epoch=0:  18%|███▍               | 1512/8498 [4:22:06<20:11:04, 10.40s/it]\u001b[A"
     ]
    },
    {
     "name": "stdout",
     "output_type": "stream",
     "text": [
      "[(0.937136, 0.9238526232653413, 0.5554543903749096, 0.8877097624426606)]\n"
     ]
    },
    {
     "name": "stderr",
     "output_type": "stream",
     "text": [
      "\n",
      "Train epoch=0:  18%|███▍               | 1513/8498 [4:22:16<20:10:50, 10.40s/it]\u001b[A"
     ]
    },
    {
     "name": "stdout",
     "output_type": "stream",
     "text": [
      "[(0.9302282282282283, 0.8578500774021904, 0.5427407334766993, 0.8744641505866544)]\n"
     ]
    },
    {
     "name": "stderr",
     "output_type": "stream",
     "text": [
      "\n",
      "Train epoch=0:  18%|███▍               | 1514/8498 [4:22:28<20:10:45, 10.40s/it]\u001b[A"
     ]
    },
    {
     "name": "stdout",
     "output_type": "stream",
     "text": [
      "[(0.6735857142857142, 0.5375986054053888, 0.30436383244002, 0.5139623786977235)]\n"
     ]
    },
    {
     "name": "stderr",
     "output_type": "stream",
     "text": [
      "\n",
      "Train epoch=0:  18%|███▍               | 1515/8498 [4:22:38<20:10:33, 10.40s/it]\u001b[A"
     ]
    },
    {
     "name": "stdout",
     "output_type": "stream",
     "text": [
      "[(0.5209066666666666, 0.43974211446256073, 0.231966904705901, 0.4055829886773233)]\n"
     ]
    },
    {
     "name": "stderr",
     "output_type": "stream",
     "text": [
      "\n",
      "Train epoch=0:  18%|███▍               | 1516/8498 [4:22:50<20:10:29, 10.40s/it]\u001b[A"
     ]
    },
    {
     "name": "stdout",
     "output_type": "stream",
     "text": [
      "[(0.8824693333333333, 0.8789809298916302, 0.7801587515191889, 0.7915082495929453)]\n"
     ]
    },
    {
     "name": "stderr",
     "output_type": "stream",
     "text": [
      "\n",
      "Train epoch=0:  18%|███▍               | 1517/8498 [4:23:00<20:10:18, 10.40s/it]\u001b[A"
     ]
    },
    {
     "name": "stdout",
     "output_type": "stream",
     "text": [
      "[(0.997712, 0.5, 0.498856, 0.995429234944)]\n"
     ]
    },
    {
     "name": "stderr",
     "output_type": "stream",
     "text": [
      "\n",
      "Train epoch=0:  18%|███▍               | 1518/8498 [4:23:11<20:10:12, 10.40s/it]\u001b[A"
     ]
    },
    {
     "name": "stdout",
     "output_type": "stream",
     "text": [
      "[(0.9331, 0.7981612158720709, 0.4994679298972335, 0.8744950205365365)]\n"
     ]
    },
    {
     "name": "stderr",
     "output_type": "stream",
     "text": [
      "\n",
      "Train epoch=0:  18%|███▍               | 1519/8498 [4:23:21<20:10:00, 10.40s/it]\u001b[A"
     ]
    },
    {
     "name": "stdout",
     "output_type": "stream",
     "text": [
      "[(0.8910506666666667, 0.8721098758428512, 0.3999765564512624, 0.8093663766512915)]\n"
     ]
    },
    {
     "name": "stderr",
     "output_type": "stream",
     "text": [
      "\n",
      "Train epoch=0:  18%|███▍               | 1520/8498 [4:23:31<20:09:48, 10.40s/it]\u001b[A"
     ]
    },
    {
     "name": "stdout",
     "output_type": "stream",
     "text": [
      "[(0.6066666666666667, 0.651722697152502, 0.3994849135214018, 0.37143189946658073)]\n"
     ]
    },
    {
     "name": "stderr",
     "output_type": "stream",
     "text": [
      "\n",
      "Train epoch=0:  18%|███▍               | 1521/8498 [4:23:41<20:09:33, 10.40s/it]\u001b[A"
     ]
    },
    {
     "name": "stdout",
     "output_type": "stream",
     "text": [
      "[(0.886960960960961, 0.2812794672324375, 0.2029844741295086, 0.7906269312434537)]\n"
     ]
    },
    {
     "name": "stderr",
     "output_type": "stream",
     "text": [
      "\n",
      "Train epoch=0:  18%|███▍               | 1522/8498 [4:23:50<20:09:18, 10.40s/it]\u001b[A"
     ]
    },
    {
     "name": "stdout",
     "output_type": "stream",
     "text": [
      "[(0.8512372372372372, 0.8195920490625804, 0.7050652361212241, 0.7426614369770911)]\n"
     ]
    },
    {
     "name": "stderr",
     "output_type": "stream",
     "text": [
      "\n",
      "Train epoch=0:  18%|███▍               | 1523/8498 [4:24:00<20:09:04, 10.40s/it]\u001b[A"
     ]
    },
    {
     "name": "stdout",
     "output_type": "stream",
     "text": [
      "[(0.8226287425149701, 0.7842835117742306, 0.6694297360726249, 0.6945005063321652)]\n"
     ]
    },
    {
     "name": "stderr",
     "output_type": "stream",
     "text": [
      "\n",
      "Train epoch=0:  18%|███▍               | 1524/8498 [4:24:09<20:08:48, 10.40s/it]\u001b[A"
     ]
    },
    {
     "name": "stdout",
     "output_type": "stream",
     "text": [
      "[(0.9285209580838323, 0.8638960606245664, 0.4464743345038915, 0.9085951365201764)]\n"
     ]
    },
    {
     "name": "stderr",
     "output_type": "stream",
     "text": [
      "\n",
      "Train epoch=0:  18%|███▍               | 1525/8498 [4:24:19<20:08:37, 10.40s/it]\u001b[A"
     ]
    },
    {
     "name": "stdout",
     "output_type": "stream",
     "text": [
      "[(0.9439253333333333, 0.9376457752364671, 0.4447205240300981, 0.9034143192341995)]\n"
     ]
    },
    {
     "name": "stderr",
     "output_type": "stream",
     "text": [
      "\n",
      "Train epoch=0:  18%|███▍               | 1526/8498 [4:24:31<20:08:33, 10.40s/it]\u001b[A"
     ]
    },
    {
     "name": "stdout",
     "output_type": "stream",
     "text": [
      "[(0.888352, 0.35674507831576313, 0.23939358098204835, 0.7965153208543687)]\n"
     ]
    },
    {
     "name": "stderr",
     "output_type": "stream",
     "text": [
      "\n",
      "Train epoch=0:  18%|███▍               | 1527/8498 [4:24:40<20:08:18, 10.40s/it]\u001b[A"
     ]
    },
    {
     "name": "stdout",
     "output_type": "stream",
     "text": [
      "[(0.9357417417417417, 0.3333333333333333, 0.31191391391391393, 0.8756126072378685)]\n"
     ]
    },
    {
     "name": "stderr",
     "output_type": "stream",
     "text": [
      "\n",
      "Train epoch=0:  18%|███▍               | 1528/8498 [4:24:50<20:08:04, 10.40s/it]\u001b[A"
     ]
    },
    {
     "name": "stdout",
     "output_type": "stream",
     "text": [
      "[(0.42, 0.5934962570292939, 0.14336349714631164, 0.24514283094588976)]\n"
     ]
    },
    {
     "name": "stderr",
     "output_type": "stream",
     "text": [
      "\n",
      "Train epoch=0:  18%|███▍               | 1529/8498 [4:25:00<20:07:52, 10.40s/it]\u001b[A"
     ]
    },
    {
     "name": "stdout",
     "output_type": "stream",
     "text": [
      "[(0.9495454545454546, 0.9468215319434057, 0.9028165010744008, 0.9037092945690699)]\n"
     ]
    },
    {
     "name": "stderr",
     "output_type": "stream",
     "text": [
      "\n",
      "Train epoch=0:  18%|███▍               | 1530/8498 [4:25:10<20:07:40, 10.40s/it]\u001b[A"
     ]
    },
    {
     "name": "stdout",
     "output_type": "stream",
     "text": [
      "[(0.9074042553191489, 0.3321281926978991, 0.23185821463520714, 0.8446101443810309)]\n"
     ]
    },
    {
     "name": "stderr",
     "output_type": "stream",
     "text": [
      "\n",
      "Train epoch=0:  18%|███▍               | 1531/8498 [4:25:19<20:07:24, 10.40s/it]\u001b[A"
     ]
    },
    {
     "name": "stdout",
     "output_type": "stream",
     "text": [
      "[(0.9000121212121213, 0.5698050122134382, 0.5263916729093028, 0.8131974300887472)]\n"
     ]
    },
    {
     "name": "stderr",
     "output_type": "stream",
     "text": [
      "\n",
      "Train epoch=0:  18%|███▍               | 1532/8498 [4:25:31<20:07:18, 10.40s/it]\u001b[A"
     ]
    },
    {
     "name": "stdout",
     "output_type": "stream",
     "text": [
      "[(0.8479591836734693, 0.4488893903891215, 0.2140575628520401, 0.8087162679331933)]\n"
     ]
    },
    {
     "name": "stderr",
     "output_type": "stream",
     "text": [
      "\n",
      "Train epoch=0:  18%|███▍               | 1533/8498 [4:25:41<20:07:07, 10.40s/it]\u001b[A"
     ]
    },
    {
     "name": "stdout",
     "output_type": "stream",
     "text": [
      "[(0.5989333333333333, 0.644473726389132, 0.3684334190207448, 0.520223798257915)]\n"
     ]
    },
    {
     "name": "stderr",
     "output_type": "stream",
     "text": [
      "\n",
      "Train epoch=0:  18%|███▍               | 1534/8498 [4:25:50<20:06:53, 10.40s/it]\u001b[A"
     ]
    },
    {
     "name": "stdout",
     "output_type": "stream",
     "text": [
      "[(0.9775615615615616, 0.984143891504166, 0.9303273915139334, 0.9575524272269278)]\n"
     ]
    },
    {
     "name": "stderr",
     "output_type": "stream",
     "text": [
      "\n",
      "Train epoch=0:  18%|███▍               | 1535/8498 [4:26:02<20:06:47, 10.40s/it]\u001b[A"
     ]
    },
    {
     "name": "stdout",
     "output_type": "stream",
     "text": [
      "[(0.9917386666666667, 0.49751178557477754, 0.3312402694797445, 0.990440204810306)]\n"
     ]
    },
    {
     "name": "stderr",
     "output_type": "stream",
     "text": [
      "\n",
      "Train epoch=0:  18%|███▍               | 1536/8498 [4:26:12<20:06:34, 10.40s/it]\u001b[A"
     ]
    },
    {
     "name": "stdout",
     "output_type": "stream",
     "text": [
      "[(0.49924324324324326, 0.5129282640338468, 0.3334249581429902, 0.48679567698571524)]\n"
     ]
    },
    {
     "name": "stderr",
     "output_type": "stream",
     "text": [
      "\n",
      "Train epoch=0:  18%|███▍               | 1537/8498 [4:26:23<20:06:28, 10.40s/it]\u001b[A"
     ]
    },
    {
     "name": "stdout",
     "output_type": "stream",
     "text": [
      "[(0.9660693333333333, 0.49974066390041494, 0.3261614475577235, 0.9457742634205015)]\n"
     ]
    },
    {
     "name": "stderr",
     "output_type": "stream",
     "text": [
      "\n",
      "Train epoch=0:  18%|███▍               | 1538/8498 [4:26:33<20:06:14, 10.40s/it]\u001b[A"
     ]
    },
    {
     "name": "stdout",
     "output_type": "stream",
     "text": [
      "[(0.7007251461988304, 0.45455341205856753, 0.3072999546793337, 0.5666827922402902)]\n"
     ]
    },
    {
     "name": "stderr",
     "output_type": "stream",
     "text": [
      "\n",
      "Train epoch=0:  18%|███▍               | 1539/8498 [4:26:44<20:06:09, 10.40s/it]\u001b[A"
     ]
    },
    {
     "name": "stdout",
     "output_type": "stream",
     "text": [
      "[(0.9847146666666666, 0.9203120964141694, 0.9011460776321589, 0.9700856601609751)]\n"
     ]
    },
    {
     "name": "stderr",
     "output_type": "stream",
     "text": [
      "\n",
      "Train epoch=0:  18%|███▍               | 1540/8498 [4:26:54<20:05:58, 10.40s/it]\u001b[A"
     ]
    },
    {
     "name": "stdout",
     "output_type": "stream",
     "text": [
      "[(0.8111626666666667, 0.3592666671700928, 0.20341854853954794, 0.7623601114917173)]\n"
     ]
    },
    {
     "name": "stderr",
     "output_type": "stream",
     "text": [
      "\n",
      "Train epoch=0:  18%|███▍               | 1541/8498 [4:27:06<20:05:52, 10.40s/it]\u001b[A"
     ]
    },
    {
     "name": "stdout",
     "output_type": "stream",
     "text": [
      "[(0.8853973333333334, 0.6232378441606263, 0.4610017746073707, 0.8266340226350151)]\n"
     ]
    },
    {
     "name": "stderr",
     "output_type": "stream",
     "text": [
      "\n",
      "Train epoch=0:  18%|███▍               | 1542/8498 [4:27:16<20:05:42, 10.40s/it]\u001b[A"
     ]
    },
    {
     "name": "stdout",
     "output_type": "stream",
     "text": [
      "[(0.8180106951871657, 0.7532458469795392, 0.45007904694000683, 0.725248933140759)]\n"
     ]
    },
    {
     "name": "stderr",
     "output_type": "stream",
     "text": [
      "\n",
      "Train epoch=0:  18%|███▍               | 1543/8498 [4:27:26<20:05:30, 10.40s/it]\u001b[A"
     ]
    },
    {
     "name": "stdout",
     "output_type": "stream",
     "text": [
      "[(0.7968906666666666, 0.7472547690116882, 0.44763042006464676, 0.7261206381716585)]\n"
     ]
    },
    {
     "name": "stderr",
     "output_type": "stream",
     "text": [
      "\n",
      "Train epoch=0:  18%|███▍               | 1544/8498 [4:27:37<20:05:19, 10.40s/it]\u001b[A"
     ]
    },
    {
     "name": "stdout",
     "output_type": "stream",
     "text": [
      "[(0.9134186666666667, 0.8948764676626013, 0.4235262009740456, 0.8678933056492595)]\n"
     ]
    },
    {
     "name": "stderr",
     "output_type": "stream",
     "text": [
      "\n",
      "Train epoch=0:  18%|███▍               | 1545/8498 [4:27:47<20:05:08, 10.40s/it]\u001b[A"
     ]
    },
    {
     "name": "stdout",
     "output_type": "stream",
     "text": [
      "[(0.91192, 0.3333333333333333, 0.23444698565223115, 0.8551875806239305)]\n"
     ]
    },
    {
     "name": "stderr",
     "output_type": "stream",
     "text": [
      "\n",
      "Train epoch=0:  18%|███▍               | 1546/8498 [4:27:58<20:04:59, 10.40s/it]\u001b[A"
     ]
    },
    {
     "name": "stdout",
     "output_type": "stream",
     "text": [
      "[(0.6348, 0.6295873631987323, 0.30752946803031106, 0.48399207154278)]\n"
     ]
    },
    {
     "name": "stderr",
     "output_type": "stream",
     "text": [
      "\n",
      "Train epoch=0:  18%|███▍               | 1547/8498 [4:28:09<20:04:52, 10.40s/it]\u001b[A"
     ]
    },
    {
     "name": "stdout",
     "output_type": "stream",
     "text": [
      "[(0.5757066666666667, 0.6139157611905639, 0.15736258832848515, 0.4494399400154301)]\n"
     ]
    },
    {
     "name": "stderr",
     "output_type": "stream",
     "text": [
      "\n",
      "Train epoch=0:  18%|███▍               | 1548/8498 [4:28:18<20:04:37, 10.40s/it]\u001b[A"
     ]
    },
    {
     "name": "stdout",
     "output_type": "stream",
     "text": [
      "[(0.5185345345345346, 0.5155281366397282, 0.20411771158065425, 0.30773699346603356)]\n"
     ]
    },
    {
     "name": "stderr",
     "output_type": "stream",
     "text": [
      "\n",
      "Train epoch=0:  18%|███▍               | 1549/8498 [4:28:29<20:04:27, 10.40s/it]\u001b[A"
     ]
    },
    {
     "name": "stdout",
     "output_type": "stream",
     "text": [
      "[(0.8168502994011976, 0.8290404486260714, 0.6885659154429068, 0.6866938268082116)]\n"
     ]
    },
    {
     "name": "stderr",
     "output_type": "stream",
     "text": [
      "\n",
      "Train epoch=0:  18%|███▍               | 1550/8498 [4:28:39<20:04:17, 10.40s/it]\u001b[A"
     ]
    },
    {
     "name": "stdout",
     "output_type": "stream",
     "text": [
      "[(0.8608533333333334, 0.6344942120941676, 0.5158199119358037, 0.7536377017555058)]\n"
     ]
    },
    {
     "name": "stderr",
     "output_type": "stream",
     "text": [
      "\n",
      "Train epoch=0:  18%|███▍               | 1551/8498 [4:28:50<20:04:07, 10.40s/it]\u001b[A"
     ]
    },
    {
     "name": "stdout",
     "output_type": "stream",
     "text": [
      "[(0.883744, 0.6395100705028215, 0.5696854360191065, 0.7848728656494369)]\n"
     ]
    },
    {
     "name": "stderr",
     "output_type": "stream",
     "text": [
      "\n",
      "Train epoch=0:  18%|███▍               | 1552/8498 [4:29:00<20:03:56, 10.40s/it]\u001b[A"
     ]
    },
    {
     "name": "stdout",
     "output_type": "stream",
     "text": [
      "[(0.8862133333333333, 0.642454857611033, 0.5248871213381268, 0.8072996522077804)]\n"
     ]
    },
    {
     "name": "stderr",
     "output_type": "stream",
     "text": [
      "\n",
      "Train epoch=0:  18%|███▍               | 1553/8498 [4:29:10<20:03:44, 10.40s/it]\u001b[A"
     ]
    },
    {
     "name": "stdout",
     "output_type": "stream",
     "text": [
      "[(0.6863893333333333, 0.7347704622393878, 0.3125246549273495, 0.5817566255809858)]\n"
     ]
    },
    {
     "name": "stderr",
     "output_type": "stream",
     "text": [
      "\n",
      "Train epoch=0:  18%|███▍               | 1554/8498 [4:29:20<20:03:33, 10.40s/it]\u001b[A"
     ]
    },
    {
     "name": "stdout",
     "output_type": "stream",
     "text": [
      "[(0.9786666666666667, 0.5, 0.48933333333333334, 0.9577884444444444)]\n"
     ]
    },
    {
     "name": "stderr",
     "output_type": "stream",
     "text": [
      "\n",
      "Train epoch=0:  18%|███▍               | 1555/8498 [4:29:31<20:03:22, 10.40s/it]\u001b[A"
     ]
    },
    {
     "name": "stdout",
     "output_type": "stream",
     "text": [
      "[(0.8494986666666666, 0.3333333333333333, 0.2831662222222222, 0.7216479846684444)]\n"
     ]
    },
    {
     "name": "stderr",
     "output_type": "stream",
     "text": [
      "\n",
      "Train epoch=0:  18%|███▍               | 1556/8498 [4:29:39<20:03:05, 10.40s/it]\u001b[A"
     ]
    },
    {
     "name": "stdout",
     "output_type": "stream",
     "text": [
      "[(0.9754226804123711, 0.5174089068825911, 0.5051093423201956, 0.9514499414828197)]\n"
     ]
    },
    {
     "name": "stderr",
     "output_type": "stream",
     "text": [
      "\n",
      "Train epoch=0:  18%|███▍               | 1557/8498 [4:29:50<20:02:54, 10.40s/it]\u001b[A"
     ]
    },
    {
     "name": "stdout",
     "output_type": "stream",
     "text": [
      "[(0.7928906666666666, 0.8687643609013165, 0.6207056242121727, 0.6885705570370367)]\n"
     ]
    },
    {
     "name": "stderr",
     "output_type": "stream",
     "text": [
      "\n",
      "Train epoch=0:  18%|███▍               | 1558/8498 [4:29:59<20:02:41, 10.40s/it]\u001b[A"
     ]
    },
    {
     "name": "stdout",
     "output_type": "stream",
     "text": [
      "[(0.8231951951951952, 0.5602414219307198, 0.38732906541802453, 0.800074624855912)]\n"
     ]
    },
    {
     "name": "stderr",
     "output_type": "stream",
     "text": [
      "\n",
      "Train epoch=0:  18%|███▍               | 1559/8498 [4:30:09<20:02:29, 10.40s/it]\u001b[A"
     ]
    },
    {
     "name": "stdout",
     "output_type": "stream",
     "text": [
      "[(0.670704, 0.6863805247979349, 0.31971995357207555, 0.6241060106771836)]\n"
     ]
    },
    {
     "name": "stderr",
     "output_type": "stream",
     "text": [
      "\n",
      "Train epoch=0:  18%|███▍               | 1560/8498 [4:30:19<20:02:16, 10.40s/it]\u001b[A"
     ]
    },
    {
     "name": "stdout",
     "output_type": "stream",
     "text": [
      "[(0.918084084084084, 0.927223646996268, 0.5653678802564274, 0.8505471289493249)]\n"
     ]
    },
    {
     "name": "stderr",
     "output_type": "stream",
     "text": [
      "\n",
      "Train epoch=0:  18%|███▍               | 1561/8498 [4:30:29<20:02:02, 10.40s/it]\u001b[A"
     ]
    },
    {
     "name": "stdout",
     "output_type": "stream",
     "text": [
      "[(0.916024024024024, 0.9244687538293905, 0.4289094392134044, 0.8579859094406398)]\n"
     ]
    },
    {
     "name": "stderr",
     "output_type": "stream",
     "text": [
      "\n",
      "Train epoch=0:  18%|███▍               | 1562/8498 [4:30:39<20:01:51, 10.40s/it]\u001b[A"
     ]
    },
    {
     "name": "stdout",
     "output_type": "stream",
     "text": [
      "[(0.6779786666666666, 0.7200081662158505, 0.5576871045598469, 0.5016411806053919)]\n"
     ]
    },
    {
     "name": "stderr",
     "output_type": "stream",
     "text": [
      "\n",
      "Train epoch=0:  18%|███▍               | 1563/8498 [4:30:50<20:01:44, 10.40s/it]\u001b[A"
     ]
    },
    {
     "name": "stdout",
     "output_type": "stream",
     "text": [
      "[(0.890828125, 0.9125470276331893, 0.5337070090637267, 0.8341254132549086)]\n"
     ]
    },
    {
     "name": "stderr",
     "output_type": "stream",
     "text": [
      "\n",
      "Train epoch=0:  18%|███▍               | 1564/8498 [4:31:01<20:01:36, 10.40s/it]\u001b[A"
     ]
    },
    {
     "name": "stdout",
     "output_type": "stream",
     "text": [
      "[(0.967552, 0.9711183224918211, 0.9033358162982619, 0.9396095044091164)]\n"
     ]
    },
    {
     "name": "stderr",
     "output_type": "stream",
     "text": [
      "\n",
      "Train epoch=0:  18%|███▍               | 1565/8498 [4:31:12<20:01:27, 10.40s/it]\u001b[A"
     ]
    },
    {
     "name": "stdout",
     "output_type": "stream",
     "text": [
      "[(0.9650826666666666, 0.5722090512410388, 0.559951882397706, 0.931429197775795)]\n"
     ]
    },
    {
     "name": "stderr",
     "output_type": "stream",
     "text": [
      "\n",
      "Train epoch=0:  18%|███▌               | 1566/8498 [4:31:22<20:01:17, 10.40s/it]\u001b[A"
     ]
    },
    {
     "name": "stdout",
     "output_type": "stream",
     "text": [
      "[(0.95168, 0.9526174497118265, 0.7703983082226847, 0.9218246454276608)]\n"
     ]
    },
    {
     "name": "stderr",
     "output_type": "stream",
     "text": [
      "\n",
      "Train epoch=0:  18%|███▌               | 1567/8498 [4:31:33<20:01:07, 10.40s/it]\u001b[A"
     ]
    },
    {
     "name": "stdout",
     "output_type": "stream",
     "text": [
      "[(0.8780600600600601, 0.8417551776609973, 0.7525573922511646, 0.7815773125698682)]\n"
     ]
    },
    {
     "name": "stderr",
     "output_type": "stream",
     "text": [
      "\n",
      "Train epoch=0:  18%|███▌               | 1568/8498 [4:31:43<20:00:56, 10.40s/it]\u001b[A"
     ]
    },
    {
     "name": "stdout",
     "output_type": "stream",
     "text": [
      "[(0.9616533333333334, 0.33267650434134444, 0.24041333333333334, 0.92660299264)]\n"
     ]
    },
    {
     "name": "stderr",
     "output_type": "stream",
     "text": [
      "\n",
      "Train epoch=0:  18%|███▌               | 1569/8498 [4:31:53<20:00:45, 10.40s/it]\u001b[A"
     ]
    },
    {
     "name": "stdout",
     "output_type": "stream",
     "text": [
      "[(0.8437173333333333, 0.5789221317343651, 0.2399546273577269, 0.7537488337044302)]\n"
     ]
    },
    {
     "name": "stderr",
     "output_type": "stream",
     "text": [
      "\n",
      "Train epoch=0:  18%|███▌               | 1570/8498 [4:32:03<20:00:30, 10.40s/it]\u001b[A"
     ]
    },
    {
     "name": "stdout",
     "output_type": "stream",
     "text": [
      "[(0.8811125, 0.879368279157816, 0.7864311815050564, 0.7870330078228671)]\n"
     ]
    },
    {
     "name": "stderr",
     "output_type": "stream",
     "text": [
      "\n",
      "Train epoch=0:  18%|███▌               | 1571/8498 [4:32:16<20:00:33, 10.40s/it]\u001b[A"
     ]
    },
    {
     "name": "stdout",
     "output_type": "stream",
     "text": [
      "[(0.92024, 0.8880249033155783, 0.40884449847535514, 0.8692499502866469)]\n"
     ]
    },
    {
     "name": "stderr",
     "output_type": "stream",
     "text": [
      "\n",
      "Train epoch=0:  18%|███▌               | 1572/8498 [4:32:27<20:00:26, 10.40s/it]\u001b[A"
     ]
    },
    {
     "name": "stdout",
     "output_type": "stream",
     "text": [
      "[(0.8432537313432836, 0.8617707066496952, 0.7163536350639828, 0.7370352895593834)]\n"
     ]
    },
    {
     "name": "stderr",
     "output_type": "stream",
     "text": [
      "\n",
      "Train epoch=0:  19%|███▌               | 1573/8498 [4:32:38<20:00:15, 10.40s/it]\u001b[A"
     ]
    },
    {
     "name": "stdout",
     "output_type": "stream",
     "text": [
      "[(0.9814186666666667, 0.5, 0.49070933333333333, 0.9631825992817777)]\n"
     ]
    },
    {
     "name": "stderr",
     "output_type": "stream",
     "text": [
      "\n",
      "Train epoch=0:  19%|███▌               | 1574/8498 [4:32:48<20:00:05, 10.40s/it]\u001b[A"
     ]
    },
    {
     "name": "stdout",
     "output_type": "stream",
     "text": [
      "[(0.9340373333333334, 0.8470275385807104, 0.7478083713060356, 0.8849759736492065)]\n"
     ]
    },
    {
     "name": "stderr",
     "output_type": "stream",
     "text": [
      "\n",
      "Train epoch=0:  19%|███▌               | 1575/8498 [4:32:58<19:59:54, 10.40s/it]\u001b[A"
     ]
    },
    {
     "name": "stdout",
     "output_type": "stream",
     "text": [
      "[(0.90112, 0.8627300922269738, 0.714755933223559, 0.8380106430933565)]\n"
     ]
    },
    {
     "name": "stderr",
     "output_type": "stream",
     "text": [
      "\n",
      "Train epoch=0:  19%|███▌               | 1576/8498 [4:33:09<19:59:45, 10.40s/it]\u001b[A"
     ]
    },
    {
     "name": "stdout",
     "output_type": "stream",
     "text": [
      "[(0.8497777777777777, 0.8526389591781661, 0.7292209678369793, 0.7427773950931917)]\n"
     ]
    },
    {
     "name": "stderr",
     "output_type": "stream",
     "text": [
      "\n",
      "Train epoch=0:  19%|███▌               | 1577/8498 [4:33:19<19:59:33, 10.40s/it]\u001b[A"
     ]
    },
    {
     "name": "stdout",
     "output_type": "stream",
     "text": [
      "[(0.7601013333333333, 0.7567112551801001, 0.5992583550178087, 0.6004131182204371)]\n"
     ]
    },
    {
     "name": "stderr",
     "output_type": "stream",
     "text": [
      "\n",
      "Train epoch=0:  19%|███▌               | 1578/8498 [4:33:30<19:59:23, 10.40s/it]\u001b[A"
     ]
    },
    {
     "name": "stdout",
     "output_type": "stream",
     "text": [
      "[(0.64728, 0.48527219244906433, 0.3685391723866077, 0.4660294924853535)]\n"
     ]
    },
    {
     "name": "stderr",
     "output_type": "stream",
     "text": [
      "\n",
      "Train epoch=0:  19%|███▌               | 1579/8498 [4:33:40<19:59:12, 10.40s/it]\u001b[A"
     ]
    },
    {
     "name": "stdout",
     "output_type": "stream",
     "text": [
      "[(0.40280533333333335, 0.47870344547828514, 0.10179570502616798, 0.2997962235032534)]\n"
     ]
    },
    {
     "name": "stderr",
     "output_type": "stream",
     "text": [
      "\n",
      "Train epoch=0:  19%|███▌               | 1580/8498 [4:33:50<19:59:01, 10.40s/it]\u001b[A"
     ]
    },
    {
     "name": "stdout",
     "output_type": "stream",
     "text": [
      "[(0.8728906666666667, 0.8146438248305031, 0.5392461690254173, 0.7850876233721827)]\n"
     ]
    },
    {
     "name": "stderr",
     "output_type": "stream",
     "text": [
      "\n",
      "Train epoch=0:  19%|███▌               | 1581/8498 [4:34:01<19:58:53, 10.40s/it]\u001b[A"
     ]
    },
    {
     "name": "stdout",
     "output_type": "stream",
     "text": [
      "[(0.6235803814713896, 0.4343412760058043, 0.23942599276921533, 0.4283171546464184)]\n"
     ]
    },
    {
     "name": "stderr",
     "output_type": "stream",
     "text": [
      "\n",
      "Train epoch=0:  19%|███▌               | 1582/8498 [4:34:14<19:58:51, 10.40s/it]\u001b[A"
     ]
    },
    {
     "name": "stdout",
     "output_type": "stream",
     "text": [
      "[(0.9309153225806451, 0.9333546400938705, 0.7410550605840918, 0.8902095038554108)]\n"
     ]
    },
    {
     "name": "stderr",
     "output_type": "stream",
     "text": [
      "\n",
      "Train epoch=0:  19%|███▌               | 1583/8498 [4:34:25<19:58:44, 10.40s/it]\u001b[A"
     ]
    },
    {
     "name": "stdout",
     "output_type": "stream",
     "text": [
      "[(0.45856164383561643, 0.524758959344569, 0.2672581452952585, 0.2645385540530682)]\n"
     ]
    },
    {
     "name": "stderr",
     "output_type": "stream",
     "text": [
      "\n",
      "Train epoch=0:  19%|███▌               | 1584/8498 [4:34:35<19:58:32, 10.40s/it]\u001b[A"
     ]
    },
    {
     "name": "stdout",
     "output_type": "stream",
     "text": [
      "[(0.8986186666666667, 0.8938743435515029, 0.5516651292076189, 0.838594276179648)]\n"
     ]
    },
    {
     "name": "stderr",
     "output_type": "stream",
     "text": [
      "\n",
      "Train epoch=0:  19%|███▌               | 1585/8498 [4:34:45<19:58:22, 10.40s/it]\u001b[A"
     ]
    },
    {
     "name": "stdout",
     "output_type": "stream",
     "text": [
      "[(0.9885013333333333, 0.9486099562406818, 0.8905801396900457, 0.9784727713112416)]\n"
     ]
    },
    {
     "name": "stderr",
     "output_type": "stream",
     "text": [
      "\n",
      "Train epoch=0:  19%|███▌               | 1586/8498 [4:34:56<19:58:11, 10.40s/it]\u001b[A"
     ]
    },
    {
     "name": "stdout",
     "output_type": "stream",
     "text": [
      "[(0.77496, 0.8000269125162706, 0.622286456235658, 0.6437620990974005)]\n"
     ]
    },
    {
     "name": "stderr",
     "output_type": "stream",
     "text": [
      "\n",
      "Train epoch=0:  19%|███▌               | 1587/8498 [4:35:06<19:58:00, 10.40s/it]\u001b[A"
     ]
    },
    {
     "name": "stdout",
     "output_type": "stream",
     "text": [
      "[(0.8932698412698413, 0.4971202431009505, 0.18691170772211457, 0.8396489270227881)]\n"
     ]
    },
    {
     "name": "stderr",
     "output_type": "stream",
     "text": [
      "\n",
      "Train epoch=0:  19%|███▌               | 1588/8498 [4:35:15<19:57:47, 10.40s/it]\u001b[A"
     ]
    },
    {
     "name": "stdout",
     "output_type": "stream",
     "text": [
      "[(0.8994097222222223, 0.5269915606392366, 0.472864062389928, 0.8175366876078684)]\n"
     ]
    },
    {
     "name": "stderr",
     "output_type": "stream",
     "text": [
      "\n",
      "Train epoch=0:  19%|███▌               | 1589/8498 [4:35:26<19:57:35, 10.40s/it]\u001b[A"
     ]
    },
    {
     "name": "stdout",
     "output_type": "stream",
     "text": [
      "[(0.7064746666666667, 0.5933312658655311, 0.39565783143202776, 0.5348943261358687)]\n"
     ]
    },
    {
     "name": "stderr",
     "output_type": "stream",
     "text": [
      "\n",
      "Train epoch=0:  19%|███▌               | 1590/8498 [4:35:35<19:57:22, 10.40s/it]\u001b[A"
     ]
    },
    {
     "name": "stdout",
     "output_type": "stream",
     "text": [
      "[(0.7234096385542169, 0.7378794791627594, 0.3819748773275826, 0.574621846701045)]\n"
     ]
    },
    {
     "name": "stderr",
     "output_type": "stream",
     "text": [
      "\n",
      "Train epoch=0:  19%|███▌               | 1591/8498 [4:35:46<19:57:13, 10.40s/it]\u001b[A"
     ]
    },
    {
     "name": "stdout",
     "output_type": "stream",
     "text": [
      "[(0.7310506666666666, 0.4770230188552748, 0.3841816083521841, 0.536888078450422)]\n"
     ]
    },
    {
     "name": "stderr",
     "output_type": "stream",
     "text": [
      "\n",
      "Train epoch=0:  19%|███▌               | 1592/8498 [4:35:56<19:57:03, 10.40s/it]\u001b[A"
     ]
    },
    {
     "name": "stdout",
     "output_type": "stream",
     "text": [
      "[(0.9607946666666667, 0.8385745257801174, 0.5403781878440624, 0.9316298690073569)]\n"
     ]
    },
    {
     "name": "stderr",
     "output_type": "stream",
     "text": [
      "\n",
      "Train epoch=0:  19%|███▌               | 1593/8498 [4:36:06<19:56:48, 10.40s/it]\u001b[A"
     ]
    },
    {
     "name": "stdout",
     "output_type": "stream",
     "text": [
      "[(0.8127027027027027, 0.5145547735909913, 0.26193901314955836, 0.6765211229267503)]\n"
     ]
    },
    {
     "name": "stderr",
     "output_type": "stream",
     "text": [
      "\n",
      "Train epoch=0:  19%|███▌               | 1594/8498 [4:36:16<19:56:38, 10.40s/it]\u001b[A"
     ]
    },
    {
     "name": "stdout",
     "output_type": "stream",
     "text": [
      "[(0.9377333333333333, 0.49432555856839, 0.19239502058540775, 0.9118130683901636)]\n"
     ]
    },
    {
     "name": "stderr",
     "output_type": "stream",
     "text": [
      "\n",
      "Train epoch=0:  19%|███▌               | 1595/8498 [4:36:26<19:56:25, 10.40s/it]\u001b[A"
     ]
    },
    {
     "name": "stdout",
     "output_type": "stream",
     "text": [
      "[(0.8460300300300301, 0.49994321408290743, 0.28979889934680864, 0.735619260179791)]\n"
     ]
    },
    {
     "name": "stderr",
     "output_type": "stream",
     "text": [
      "\n",
      "Train epoch=0:  19%|███▌               | 1596/8498 [4:36:37<19:56:18, 10.40s/it]\u001b[A"
     ]
    },
    {
     "name": "stdout",
     "output_type": "stream",
     "text": [
      "[(0.8351253333333334, 0.6173832335100453, 0.44108946714205555, 0.7534749561723364)]\n"
     ]
    },
    {
     "name": "stderr",
     "output_type": "stream",
     "text": [
      "\n",
      "Train epoch=0:  19%|███▌               | 1597/8498 [4:36:48<19:56:07, 10.40s/it]\u001b[A"
     ]
    },
    {
     "name": "stdout",
     "output_type": "stream",
     "text": [
      "[(0.8684202127659575, 0.5, 0.43421010638297874, 0.7541536659404708)]\n"
     ]
    },
    {
     "name": "stderr",
     "output_type": "stream",
     "text": [
      "\n",
      "Train epoch=0:  19%|███▌               | 1598/8498 [4:36:56<19:55:48, 10.40s/it]\u001b[A"
     ]
    },
    {
     "name": "stdout",
     "output_type": "stream",
     "text": [
      "[(0.8234445654447241, 0.8336274593315999, 0.5471636961073089, 0.72698018427016)]\n"
     ]
    },
    {
     "name": "stderr",
     "output_type": "stream",
     "text": [
      "\n",
      "Train epoch=0:  19%|███▌               | 1599/8498 [4:37:06<19:55:37, 10.40s/it]\u001b[A"
     ]
    },
    {
     "name": "stdout",
     "output_type": "stream",
     "text": [
      "[(0.8714453333333333, 0.763672550650643, 0.6854964582124115, 0.7655142075279839)]\n"
     ]
    },
    {
     "name": "stderr",
     "output_type": "stream",
     "text": [
      "\n",
      "Train epoch=0:  19%|███▌               | 1600/8498 [4:37:17<19:55:28, 10.40s/it]\u001b[A"
     ]
    },
    {
     "name": "stdout",
     "output_type": "stream",
     "text": [
      "[(0.8913386666666666, 0.4838109302014162, 0.43543077440491423, 0.7990491621513245)]\n"
     ]
    },
    {
     "name": "stderr",
     "output_type": "stream",
     "text": [
      "\n",
      "Train epoch=0:  19%|███▌               | 1601/8498 [4:37:27<19:55:16, 10.40s/it]\u001b[A"
     ]
    },
    {
     "name": "stdout",
     "output_type": "stream",
     "text": [
      "[(0.9865226666666667, 0.8875427562051841, 0.8475852052945985, 0.9743912011008743)]\n"
     ]
    },
    {
     "name": "stderr",
     "output_type": "stream",
     "text": [
      "\n",
      "Train epoch=0:  19%|███▌               | 1602/8498 [4:37:38<19:55:07, 10.40s/it]\u001b[A"
     ]
    },
    {
     "name": "stdout",
     "output_type": "stream",
     "text": [
      "[(0.9527784431137725, 0.9410466598685097, 0.877227329208722, 0.9120604123561371)]\n"
     ]
    },
    {
     "name": "stderr",
     "output_type": "stream",
     "text": [
      "\n",
      "Train epoch=0:  19%|███▌               | 1603/8498 [4:37:48<19:54:56, 10.40s/it]\u001b[A"
     ]
    },
    {
     "name": "stdout",
     "output_type": "stream",
     "text": [
      "[(0.674736, 0.687998936036954, 0.41497209895146264, 0.6225084401540121)]\n"
     ]
    },
    {
     "name": "stderr",
     "output_type": "stream",
     "text": [
      "\n",
      "Train epoch=0:  19%|███▌               | 1604/8498 [4:37:58<19:54:45, 10.40s/it]\u001b[A"
     ]
    },
    {
     "name": "stdout",
     "output_type": "stream",
     "text": [
      "[(0.276992, 0.5435555555555556, 0.0657236229628437, 0.11922545677024633)]\n"
     ]
    },
    {
     "name": "stderr",
     "output_type": "stream",
     "text": [
      "\n",
      "Train epoch=0:  19%|███▌               | 1605/8498 [4:38:08<19:54:34, 10.40s/it]\u001b[A"
     ]
    },
    {
     "name": "stdout",
     "output_type": "stream",
     "text": [
      "[(0.9354895658314462, 0.9320880983920812, 0.8611035438217414, 0.880857760990934)]\n"
     ]
    },
    {
     "name": "stderr",
     "output_type": "stream",
     "text": [
      "\n",
      "Train epoch=0:  19%|███▌               | 1606/8498 [4:38:19<19:54:24, 10.40s/it]\u001b[A"
     ]
    },
    {
     "name": "stdout",
     "output_type": "stream",
     "text": [
      "[(0.9400533333333333, 0.934862446669936, 0.8498836884418521, 0.8910899505924303)]\n"
     ]
    },
    {
     "name": "stderr",
     "output_type": "stream",
     "text": [
      "\n",
      "Train epoch=0:  19%|███▌               | 1607/8498 [4:38:30<19:54:17, 10.40s/it]\u001b[A"
     ]
    },
    {
     "name": "stdout",
     "output_type": "stream",
     "text": [
      "[(0.29886, 0.44999311439003514, 0.24451946744232575, 0.25678860646029267)]\n"
     ]
    },
    {
     "name": "stderr",
     "output_type": "stream",
     "text": [
      "\n",
      "Train epoch=0:  19%|███▌               | 1608/8498 [4:38:40<19:54:05, 10.40s/it]\u001b[A"
     ]
    },
    {
     "name": "stdout",
     "output_type": "stream",
     "text": [
      "[(0.7690346666666666, 0.44775910384570494, 0.2864263048704311, 0.6036984819414972)]\n"
     ]
    },
    {
     "name": "stderr",
     "output_type": "stream",
     "text": [
      "\n",
      "Train epoch=0:  19%|███▌               | 1609/8498 [4:38:51<19:53:55, 10.40s/it]\u001b[A"
     ]
    },
    {
     "name": "stdout",
     "output_type": "stream",
     "text": [
      "[(0.65888, 0.6150540826772675, 0.3476884981666471, 0.5526778509954824)]\n"
     ]
    },
    {
     "name": "stderr",
     "output_type": "stream",
     "text": [
      "\n",
      "Train epoch=0:  19%|███▌               | 1610/8498 [4:39:02<19:53:48, 10.40s/it]\u001b[A"
     ]
    },
    {
     "name": "stdout",
     "output_type": "stream",
     "text": [
      "[(0.9105042016806723, 0.9186350282607518, 0.41518119880230747, 0.8943986085859021)]\n"
     ]
    },
    {
     "name": "stderr",
     "output_type": "stream",
     "text": [
      "\n",
      "Train epoch=0:  19%|███▌               | 1611/8498 [4:39:11<19:53:33, 10.40s/it]\u001b[A"
     ]
    },
    {
     "name": "stdout",
     "output_type": "stream",
     "text": [
      "[(0.8561796407185629, 0.7040808154628733, 0.4174520978697294, 0.7393010902729686)]\n"
     ]
    },
    {
     "name": "stderr",
     "output_type": "stream",
     "text": [
      "\n",
      "Train epoch=0:  19%|███▌               | 1612/8498 [4:39:21<19:53:21, 10.40s/it]\u001b[A"
     ]
    },
    {
     "name": "stdout",
     "output_type": "stream",
     "text": [
      "[(0.7167146666666667, 0.7196202472394024, 0.35915082403044246, 0.5376994018859035)]\n"
     ]
    },
    {
     "name": "stderr",
     "output_type": "stream",
     "text": [
      "\n",
      "Train epoch=0:  19%|███▌               | 1613/8498 [4:39:32<19:53:12, 10.40s/it]\u001b[A"
     ]
    },
    {
     "name": "stdout",
     "output_type": "stream",
     "text": [
      "[(0.9638978978978979, 0.9625851615403443, 0.92947166511582, 0.9302753086151314)]\n"
     ]
    },
    {
     "name": "stderr",
     "output_type": "stream",
     "text": [
      "\n",
      "Train epoch=0:  19%|███▌               | 1614/8498 [4:39:43<19:53:04, 10.40s/it]\u001b[A"
     ]
    },
    {
     "name": "stdout",
     "output_type": "stream",
     "text": [
      "[(0.8714773333333333, 0.8992544148645085, 0.7643559005197227, 0.7783348463090651)]\n"
     ]
    },
    {
     "name": "stderr",
     "output_type": "stream",
     "text": [
      "\n",
      "Train epoch=0:  19%|███▌               | 1615/8498 [4:39:54<19:52:57, 10.40s/it]\u001b[A"
     ]
    },
    {
     "name": "stdout",
     "output_type": "stream",
     "text": [
      "[(0.9899626666666667, 0.5, 0.3299893154985715, 0.9800313082274217)]\n"
     ]
    },
    {
     "name": "stderr",
     "output_type": "stream",
     "text": [
      "\n",
      "Train epoch=0:  19%|███▌               | 1616/8498 [4:40:04<19:52:46, 10.40s/it]\u001b[A"
     ]
    },
    {
     "name": "stdout",
     "output_type": "stream",
     "text": [
      "[(0.8613173333333334, 0.5, 0.4306586666666667, 0.7418675487004445)]\n"
     ]
    },
    {
     "name": "stderr",
     "output_type": "stream",
     "text": [
      "\n",
      "Train epoch=0:  19%|███▌               | 1617/8498 [4:40:14<19:52:32, 10.40s/it]\u001b[A"
     ]
    },
    {
     "name": "stdout",
     "output_type": "stream",
     "text": [
      "[(0.971491124260355, 0.2550047664442326, 0.24797942143266755, 0.9477194948963423)]\n"
     ]
    },
    {
     "name": "stderr",
     "output_type": "stream",
     "text": [
      "\n",
      "Train epoch=0:  19%|███▌               | 1618/8498 [4:40:23<19:52:16, 10.40s/it]\u001b[A"
     ]
    },
    {
     "name": "stdout",
     "output_type": "stream",
     "text": [
      "[(0.908222891566265, 0.9393414286259947, 0.7786951411651948, 0.8462751341981508)]\n"
     ]
    },
    {
     "name": "stderr",
     "output_type": "stream",
     "text": [
      "\n",
      "Train epoch=0:  19%|███▌               | 1619/8498 [4:40:35<19:52:11, 10.40s/it]\u001b[A"
     ]
    },
    {
     "name": "stdout",
     "output_type": "stream",
     "text": [
      "[(0.8814613333333333, 0.620822542757549, 0.4184304960397874, 0.7954624811203083)]\n"
     ]
    },
    {
     "name": "stderr",
     "output_type": "stream",
     "text": [
      "\n",
      "Train epoch=0:  19%|███▌               | 1620/8498 [4:40:45<19:52:01, 10.40s/it]\u001b[A"
     ]
    },
    {
     "name": "stdout",
     "output_type": "stream",
     "text": [
      "[(0.9015146666666667, 0.779223684936618, 0.3699438581067137, 0.8545996825086056)]\n"
     ]
    },
    {
     "name": "stderr",
     "output_type": "stream",
     "text": [
      "\n",
      "Train epoch=0:  19%|███▌               | 1621/8498 [4:40:54<19:51:42, 10.40s/it]\u001b[A"
     ]
    },
    {
     "name": "stdout",
     "output_type": "stream",
     "text": [
      "[(0.46898932384341635, 0.3315821520407804, 0.17695476566444307, 0.3337127582171779)]\n"
     ]
    },
    {
     "name": "stderr",
     "output_type": "stream",
     "text": [
      "\n",
      "Train epoch=0:  19%|███▋               | 1622/8498 [4:41:05<19:51:34, 10.40s/it]\u001b[A"
     ]
    },
    {
     "name": "stdout",
     "output_type": "stream",
     "text": [
      "[(0.6029973333333334, 0.6327329167159692, 0.4673126694745873, 0.38629100824090323)]\n"
     ]
    },
    {
     "name": "stderr",
     "output_type": "stream",
     "text": [
      "\n",
      "Train epoch=0:  19%|███▋               | 1623/8498 [4:41:15<19:51:23, 10.40s/it]\u001b[A"
     ]
    },
    {
     "name": "stdout",
     "output_type": "stream",
     "text": [
      "[(0.7043733333333333, 0.43929781990397876, 0.3207248877343234, 0.5150991004491358)]\n"
     ]
    },
    {
     "name": "stderr",
     "output_type": "stream",
     "text": [
      "\n",
      "Train epoch=0:  19%|███▋               | 1624/8498 [4:41:25<19:51:11, 10.40s/it]\u001b[A"
     ]
    },
    {
     "name": "stdout",
     "output_type": "stream",
     "text": [
      "[(0.749008, 0.8614018553968488, 0.4981983855113797, 0.6803383306269873)]\n"
     ]
    },
    {
     "name": "stderr",
     "output_type": "stream",
     "text": [
      "\n",
      "Train epoch=0:  19%|███▋               | 1625/8498 [4:41:38<19:51:11, 10.40s/it]\u001b[A"
     ]
    },
    {
     "name": "stdout",
     "output_type": "stream",
     "text": [
      "[(0.403776, 0.431373554524243, 0.159581380275233, 0.37343000472686166)]\n"
     ]
    },
    {
     "name": "stderr",
     "output_type": "stream",
     "text": [
      "\n",
      "Train epoch=0:  19%|███▋               | 1626/8498 [4:41:48<19:51:00, 10.40s/it]\u001b[A"
     ]
    },
    {
     "name": "stdout",
     "output_type": "stream",
     "text": [
      "[(0.9739733333333334, 0.9255558993768007, 0.8917134173320925, 0.9499128221427239)]\n"
     ]
    },
    {
     "name": "stderr",
     "output_type": "stream",
     "text": [
      "\n",
      "Train epoch=0:  19%|███▋               | 1627/8498 [4:41:58<19:50:50, 10.40s/it]\u001b[A"
     ]
    },
    {
     "name": "stdout",
     "output_type": "stream",
     "text": [
      "[(0.9429386666666667, 0.8649015914981727, 0.8194521109151247, 0.8915040099846214)]\n"
     ]
    },
    {
     "name": "stderr",
     "output_type": "stream",
     "text": [
      "\n",
      "Train epoch=0:  19%|███▋               | 1628/8498 [4:42:08<19:50:38, 10.40s/it]\u001b[A"
     ]
    },
    {
     "name": "stdout",
     "output_type": "stream",
     "text": [
      "[(0.9954293333333334, 0.5, 0.4977146666666667, 0.9908795576604446)]\n"
     ]
    },
    {
     "name": "stderr",
     "output_type": "stream",
     "text": [
      "\n",
      "Train epoch=0:  19%|███▋               | 1629/8498 [4:42:19<19:50:26, 10.40s/it]\u001b[A"
     ]
    },
    {
     "name": "stdout",
     "output_type": "stream",
     "text": [
      "[(0.669216, 0.419147026001368, 0.30455091853749894, 0.4919789154227604)]\n"
     ]
    },
    {
     "name": "stderr",
     "output_type": "stream",
     "text": [
      "\n",
      "Train epoch=0:  19%|███▋               | 1630/8498 [4:42:29<19:50:15, 10.40s/it]\u001b[A"
     ]
    },
    {
     "name": "stdout",
     "output_type": "stream",
     "text": [
      "[(0.9289066666666667, 0.6095940599869653, 0.5639272811763429, 0.8660564647116493)]\n"
     ]
    },
    {
     "name": "stderr",
     "output_type": "stream",
     "text": [
      "\n",
      "Train epoch=0:  19%|███▋               | 1631/8498 [4:42:40<19:50:10, 10.40s/it]\u001b[A"
     ]
    },
    {
     "name": "stdout",
     "output_type": "stream",
     "text": [
      "[(0.790112, 0.48053808851669433, 0.25117994323123866, 0.6740298576136886)]\n"
     ]
    },
    {
     "name": "stderr",
     "output_type": "stream",
     "text": [
      "\n",
      "Train epoch=0:  19%|███▋               | 1632/8498 [4:42:50<19:49:55, 10.40s/it]\u001b[A"
     ]
    },
    {
     "name": "stdout",
     "output_type": "stream",
     "text": [
      "[(0.5881144578313253, 0.363730689028637, 0.23616928142890703, 0.3534535071850793)]\n"
     ]
    },
    {
     "name": "stderr",
     "output_type": "stream",
     "text": [
      "\n",
      "Train epoch=0:  19%|███▋               | 1633/8498 [4:43:00<19:49:43, 10.40s/it]\u001b[A"
     ]
    },
    {
     "name": "stdout",
     "output_type": "stream",
     "text": [
      "[(0.8999093333333333, 0.2550305099520558, 0.22997082177271885, 0.8098516302519811)]\n"
     ]
    },
    {
     "name": "stderr",
     "output_type": "stream",
     "text": [
      "\n",
      "Train epoch=0:  19%|███▋               | 1634/8498 [4:43:10<19:49:33, 10.40s/it]\u001b[A"
     ]
    },
    {
     "name": "stdout",
     "output_type": "stream",
     "text": [
      "[(0.8553229166666667, 0.6639270927265865, 0.34416934897517515, 0.7675176136079834)]\n"
     ]
    },
    {
     "name": "stderr",
     "output_type": "stream",
     "text": [
      "\n",
      "Train epoch=0:  19%|███▋               | 1635/8498 [4:43:21<19:49:24, 10.40s/it]\u001b[A"
     ]
    },
    {
     "name": "stdout",
     "output_type": "stream",
     "text": [
      "[(0.35307692307692307, 0.4118192651556511, 0.17418330341174018, 0.15127262079379625)]\n"
     ]
    },
    {
     "name": "stderr",
     "output_type": "stream",
     "text": [
      "\n",
      "Train epoch=0:  19%|███▋               | 1636/8498 [4:43:31<19:49:11, 10.40s/it]\u001b[A"
     ]
    },
    {
     "name": "stdout",
     "output_type": "stream",
     "text": [
      "[(0.9630891719745223, 0.9107195630839574, 0.883441836435271, 0.928316266040148)]\n"
     ]
    },
    {
     "name": "stderr",
     "output_type": "stream",
     "text": [
      "\n",
      "Train epoch=0:  19%|███▋               | 1637/8498 [4:43:41<19:48:58, 10.40s/it]\u001b[A"
     ]
    },
    {
     "name": "stdout",
     "output_type": "stream",
     "text": [
      "[(0.9441878453038675, 0.7555047588742995, 0.7226567532055506, 0.8925076369515424)]\n"
     ]
    },
    {
     "name": "stderr",
     "output_type": "stream",
     "text": [
      "\n",
      "Train epoch=0:  19%|███▋               | 1638/8498 [4:43:52<19:48:50, 10.40s/it]\u001b[A"
     ]
    },
    {
     "name": "stdout",
     "output_type": "stream",
     "text": [
      "[(0.9757366946778712, 0.7990810742967767, 0.5199400574888363, 0.9529833543332091)]\n"
     ]
    },
    {
     "name": "stderr",
     "output_type": "stream",
     "text": [
      "\n",
      "Train epoch=0:  19%|███▋               | 1639/8498 [4:44:01<19:48:36, 10.40s/it]\u001b[A"
     ]
    },
    {
     "name": "stdout",
     "output_type": "stream",
     "text": [
      "[(0.9251771771771772, 0.6748932104374328, 0.6336581048890486, 0.8575305385476438)]\n"
     ]
    },
    {
     "name": "stderr",
     "output_type": "stream",
     "text": [
      "\n",
      "Train epoch=0:  19%|███▋               | 1640/8498 [4:44:10<19:48:21, 10.40s/it]\u001b[A"
     ]
    },
    {
     "name": "stdout",
     "output_type": "stream",
     "text": [
      "[(0.9887447447447447, 0.5, 0.49437237237237236, 0.9776161702603504)]\n"
     ]
    },
    {
     "name": "stderr",
     "output_type": "stream",
     "text": [
      "\n",
      "Train epoch=0:  19%|███▋               | 1641/8498 [4:44:20<19:48:10, 10.40s/it]\u001b[A"
     ]
    },
    {
     "name": "stdout",
     "output_type": "stream",
     "text": [
      "[(0.9885226666666667, 0.9196113117471911, 0.8901376129205592, 0.9778302713758342)]\n"
     ]
    },
    {
     "name": "stderr",
     "output_type": "stream",
     "text": [
      "\n",
      "Train epoch=0:  19%|███▋               | 1642/8498 [4:44:32<19:48:03, 10.40s/it]\u001b[A"
     ]
    },
    {
     "name": "stdout",
     "output_type": "stream",
     "text": [
      "[(0.46797333333333335, 0.40208879319185076, 0.2278788353332723, 0.2621339058542496)]\n"
     ]
    },
    {
     "name": "stderr",
     "output_type": "stream",
     "text": [
      "\n",
      "Train epoch=0:  19%|███▋               | 1643/8498 [4:44:42<19:47:51, 10.40s/it]\u001b[A"
     ]
    },
    {
     "name": "stdout",
     "output_type": "stream",
     "text": [
      "[(0.6896010928961749, 0.29830565649475194, 0.22211193626859121, 0.6387301121426349)]\n"
     ]
    },
    {
     "name": "stderr",
     "output_type": "stream",
     "text": [
      "\n",
      "Train epoch=0:  19%|███▋               | 1644/8498 [4:44:52<19:47:40, 10.40s/it]\u001b[A"
     ]
    },
    {
     "name": "stdout",
     "output_type": "stream",
     "text": [
      "[(0.78608, 0.5741558194859052, 0.3497907590111938, 0.6856996816514676)]\n"
     ]
    },
    {
     "name": "stderr",
     "output_type": "stream",
     "text": [
      "\n",
      "Train epoch=0:  19%|███▋               | 1645/8498 [4:45:01<19:47:25, 10.40s/it]\u001b[A"
     ]
    },
    {
     "name": "stdout",
     "output_type": "stream",
     "text": [
      "[(0.9068168168168168, 0.6250887415368371, 0.5766531428167216, 0.8231209175717895)]\n"
     ]
    },
    {
     "name": "stderr",
     "output_type": "stream",
     "text": [
      "\n",
      "Train epoch=0:  19%|███▋               | 1646/8498 [4:45:13<19:47:20, 10.40s/it]\u001b[A"
     ]
    },
    {
     "name": "stdout",
     "output_type": "stream",
     "text": [
      "[(0.8450026666666667, 0.5937815716718841, 0.3571248361920161, 0.7501718629757284)]\n"
     ]
    },
    {
     "name": "stderr",
     "output_type": "stream",
     "text": [
      "\n",
      "Train epoch=0:  19%|███▋               | 1647/8498 [4:45:23<19:47:08, 10.40s/it]\u001b[A"
     ]
    },
    {
     "name": "stdout",
     "output_type": "stream",
     "text": [
      "[(0.836272, 0.5750138719327338, 0.3437535808115142, 0.7611346222686208)]\n"
     ]
    },
    {
     "name": "stderr",
     "output_type": "stream",
     "text": [
      "\n",
      "Train epoch=0:  19%|███▋               | 1648/8498 [4:45:33<19:46:54, 10.40s/it]\u001b[A"
     ]
    },
    {
     "name": "stdout",
     "output_type": "stream",
     "text": [
      "[(0.9293033033033034, 0.9068576179698198, 0.8330828773825819, 0.8703791492497226)]\n"
     ]
    },
    {
     "name": "stderr",
     "output_type": "stream",
     "text": [
      "\n",
      "Train epoch=0:  19%|███▋               | 1649/8498 [4:45:42<19:46:41, 10.40s/it]\u001b[A"
     ]
    },
    {
     "name": "stdout",
     "output_type": "stream",
     "text": [
      "[(0.8771130952380952, 0.7710860024692388, 0.6954832891555051, 0.7752282625221313)]\n"
     ]
    },
    {
     "name": "stderr",
     "output_type": "stream",
     "text": [
      "\n",
      "Train epoch=0:  19%|███▋               | 1650/8498 [4:45:52<19:46:30, 10.40s/it]\u001b[A"
     ]
    },
    {
     "name": "stdout",
     "output_type": "stream",
     "text": [
      "[(0.7245653333333333, 0.6036701208714207, 0.45806231031241634, 0.5346877880614409)]\n"
     ]
    },
    {
     "name": "stderr",
     "output_type": "stream",
     "text": [
      "\n",
      "Train epoch=0:  19%|███▋               | 1651/8498 [4:46:02<19:46:16, 10.40s/it]\u001b[A"
     ]
    },
    {
     "name": "stdout",
     "output_type": "stream",
     "text": [
      "[(0.9666606606606607, 0.9108517474424435, 0.8746462914722435, 0.9360430977765714)]\n"
     ]
    },
    {
     "name": "stderr",
     "output_type": "stream",
     "text": [
      "\n",
      "Train epoch=0:  19%|███▋               | 1652/8498 [4:46:12<19:46:04, 10.40s/it]\u001b[A"
     ]
    },
    {
     "name": "stdout",
     "output_type": "stream",
     "text": [
      "[(0.7747946666666666, 0.565709414143632, 0.3536543536584329, 0.6275317137575855)]\n"
     ]
    },
    {
     "name": "stderr",
     "output_type": "stream",
     "text": [
      "\n",
      "Train epoch=0:  19%|███▋               | 1653/8498 [4:46:22<19:45:53, 10.39s/it]\u001b[A"
     ]
    },
    {
     "name": "stdout",
     "output_type": "stream",
     "text": [
      "[(0.7862666666666667, 0.6311700688445301, 0.34585320867827124, 0.6269456054374162)]\n"
     ]
    },
    {
     "name": "stderr",
     "output_type": "stream",
     "text": [
      "\n",
      "Train epoch=0:  19%|███▋               | 1654/8498 [4:46:32<19:45:38, 10.39s/it]\u001b[A"
     ]
    },
    {
     "name": "stdout",
     "output_type": "stream",
     "text": [
      "[(0.9107378048780488, 0.5983332000264797, 0.5376653706543789, 0.839885701375251)]\n"
     ]
    },
    {
     "name": "stderr",
     "output_type": "stream",
     "text": [
      "\n",
      "Train epoch=0:  19%|███▋               | 1655/8498 [4:46:44<19:45:34, 10.40s/it]\u001b[A"
     ]
    },
    {
     "name": "stdout",
     "output_type": "stream",
     "text": [
      "[(0.721072, 0.4990590540401584, 0.38000216519412167, 0.5387100932260992)]\n"
     ]
    },
    {
     "name": "stderr",
     "output_type": "stream",
     "text": [
      "\n",
      "Train epoch=0:  19%|███▋               | 1656/8498 [4:46:54<19:45:22, 10.40s/it]\u001b[A"
     ]
    },
    {
     "name": "stdout",
     "output_type": "stream",
     "text": [
      "[(0.973531914893617, 0.3319187830515114, 0.32451063829787236, 0.9518035110909914)]\n"
     ]
    },
    {
     "name": "stderr",
     "output_type": "stream",
     "text": [
      "\n",
      "Train epoch=0:  19%|███▋               | 1657/8498 [4:47:04<19:45:10, 10.39s/it]\u001b[A"
     ]
    },
    {
     "name": "stdout",
     "output_type": "stream",
     "text": [
      "[(0.8828869047619048, 0.9007191900633621, 0.5256914793637181, 0.7990440250458763)]\n"
     ]
    },
    {
     "name": "stderr",
     "output_type": "stream",
     "text": [
      "\n",
      "Train epoch=0:  20%|███▋               | 1658/8498 [4:47:14<19:45:00, 10.39s/it]\u001b[A"
     ]
    },
    {
     "name": "stdout",
     "output_type": "stream",
     "text": [
      "[(0.5712492492492492, 0.6659196996147487, 0.3935571547905008, 0.3760827700543167)]\n"
     ]
    },
    {
     "name": "stderr",
     "output_type": "stream",
     "text": [
      "\n",
      "Train epoch=0:  20%|███▋               | 1659/8498 [4:47:23<19:44:45, 10.39s/it]\u001b[A"
     ]
    },
    {
     "name": "stdout",
     "output_type": "stream",
     "text": [
      "[(0.8734707692307693, 0.6874057973349219, 0.31496277166270037, 0.7813948305249575)]\n"
     ]
    },
    {
     "name": "stderr",
     "output_type": "stream",
     "text": [
      "\n",
      "Train epoch=0:  20%|███▋               | 1660/8498 [4:47:33<19:44:33, 10.39s/it]\u001b[A"
     ]
    },
    {
     "name": "stdout",
     "output_type": "stream",
     "text": [
      "[(0.7899887955182073, 0.6355298660906871, 0.36412568929547445, 0.6629731307470043)]\n"
     ]
    },
    {
     "name": "stderr",
     "output_type": "stream",
     "text": [
      "\n",
      "Train epoch=0:  20%|███▋               | 1661/8498 [4:47:43<19:44:19, 10.39s/it]\u001b[A"
     ]
    },
    {
     "name": "stdout",
     "output_type": "stream",
     "text": [
      "[(0.5465645645645646, 0.3540416518958371, 0.19867218627701214, 0.3057093661784613)]\n"
     ]
    },
    {
     "name": "stderr",
     "output_type": "stream",
     "text": [
      "\n",
      "Train epoch=0:  20%|███▋               | 1662/8498 [4:47:53<19:44:06, 10.39s/it]\u001b[A"
     ]
    },
    {
     "name": "stdout",
     "output_type": "stream",
     "text": [
      "[(0.8146606606606607, 0.8528795943447666, 0.39921945361855826, 0.734091976729307)]\n"
     ]
    },
    {
     "name": "stderr",
     "output_type": "stream",
     "text": [
      "\n",
      "Train epoch=0:  20%|███▋               | 1663/8498 [4:48:03<19:43:55, 10.39s/it]\u001b[A"
     ]
    },
    {
     "name": "stdout",
     "output_type": "stream",
     "text": [
      "[(0.712592, 0.8363578391181561, 0.31208987052415393, 0.6608884410623395)]\n"
     ]
    },
    {
     "name": "stderr",
     "output_type": "stream",
     "text": [
      "\n",
      "Train epoch=0:  20%|███▋               | 1664/8498 [4:48:13<19:43:45, 10.39s/it]\u001b[A"
     ]
    },
    {
     "name": "stdout",
     "output_type": "stream",
     "text": [
      "[(0.7743893333333334, 0.6187921674065641, 0.40042407977974775, 0.6666165089639458)]\n"
     ]
    },
    {
     "name": "stderr",
     "output_type": "stream",
     "text": [
      "\n",
      "Train epoch=0:  20%|███▋               | 1665/8498 [4:48:23<19:43:31, 10.39s/it]\u001b[A"
     ]
    },
    {
     "name": "stdout",
     "output_type": "stream",
     "text": [
      "[(0.9444264264264264, 0.7219963504214221, 0.4646839946426115, 0.9001813245611531)]\n"
     ]
    },
    {
     "name": "stderr",
     "output_type": "stream",
     "text": [
      "\n",
      "Train epoch=0:  20%|███▋               | 1666/8498 [4:48:33<19:43:19, 10.39s/it]\u001b[A"
     ]
    },
    {
     "name": "stdout",
     "output_type": "stream",
     "text": [
      "[(0.6955466666666666, 0.6934501523409321, 0.31342713520570614, 0.6284458063367429)]\n"
     ]
    },
    {
     "name": "stderr",
     "output_type": "stream",
     "text": [
      "\n",
      "Train epoch=0:  20%|███▋               | 1667/8498 [4:48:43<19:43:08, 10.39s/it]\u001b[A"
     ]
    },
    {
     "name": "stdout",
     "output_type": "stream",
     "text": [
      "[(0.92488, 0.4988809233389335, 0.24069103163411465, 0.8924386999922275)]\n"
     ]
    },
    {
     "name": "stderr",
     "output_type": "stream",
     "text": [
      "\n",
      "Train epoch=0:  20%|███▋               | 1668/8498 [4:48:53<19:42:56, 10.39s/it]\u001b[A"
     ]
    },
    {
     "name": "stdout",
     "output_type": "stream",
     "text": [
      "[(0.9118543417366947, 0.24169339510572582, 0.22796358543417367, 0.8600548850128287)]\n"
     ]
    },
    {
     "name": "stderr",
     "output_type": "stream",
     "text": [
      "\n",
      "Train epoch=0:  20%|███▋               | 1669/8498 [4:49:05<19:42:51, 10.39s/it]\u001b[A"
     ]
    },
    {
     "name": "stdout",
     "output_type": "stream",
     "text": [
      "[(0.8182186666666666, 0.6998415075758002, 0.31139117711121167, 0.7158483759894001)]\n"
     ]
    },
    {
     "name": "stderr",
     "output_type": "stream",
     "text": [
      "\n",
      "Train epoch=0:  20%|███▋               | 1670/8498 [4:49:15<19:42:39, 10.39s/it]\u001b[A"
     ]
    },
    {
     "name": "stdout",
     "output_type": "stream",
     "text": [
      "[(0.591472, 0.4959306329430915, 0.2992479742255106, 0.5353474439380571)]\n"
     ]
    },
    {
     "name": "stderr",
     "output_type": "stream",
     "text": [
      "\n",
      "Train epoch=0:  20%|███▋               | 1671/8498 [4:49:26<19:42:31, 10.39s/it]\u001b[A"
     ]
    },
    {
     "name": "stdout",
     "output_type": "stream",
     "text": [
      "[(0.9554939759036145, 0.9144820161766622, 0.8831566784996386, 0.9138841367797927)]\n"
     ]
    },
    {
     "name": "stderr",
     "output_type": "stream",
     "text": [
      "\n",
      "Train epoch=0:  20%|███▋               | 1672/8498 [4:49:36<19:42:20, 10.39s/it]\u001b[A"
     ]
    },
    {
     "name": "stdout",
     "output_type": "stream",
     "text": [
      "[(0.8765226666666667, 0.9113698130473875, 0.7618235081893625, 0.7903281186135627)]\n"
     ]
    },
    {
     "name": "stderr",
     "output_type": "stream",
     "text": [
      "\n",
      "Train epoch=0:  20%|███▋               | 1673/8498 [4:49:47<19:42:12, 10.39s/it]\u001b[A"
     ]
    },
    {
     "name": "stdout",
     "output_type": "stream",
     "text": [
      "[(0.85376, 0.4999063144088439, 0.23308774279973207, 0.7961531413261889)]\n"
     ]
    },
    {
     "name": "stderr",
     "output_type": "stream",
     "text": [
      "\n",
      "Train epoch=0:  20%|███▋               | 1674/8498 [4:49:59<19:42:07, 10.39s/it]\u001b[A"
     ]
    },
    {
     "name": "stdout",
     "output_type": "stream",
     "text": [
      "[(0.7107306666666666, 0.8477623837966497, 0.29395767543325574, 0.6700958138374793)]\n"
     ]
    },
    {
     "name": "stderr",
     "output_type": "stream",
     "text": [
      "\n",
      "Train epoch=0:  20%|███▋               | 1675/8498 [4:50:09<19:41:56, 10.39s/it]\u001b[A"
     ]
    },
    {
     "name": "stdout",
     "output_type": "stream",
     "text": [
      "[(0.925968, 0.8436892779700094, 0.7942444198944768, 0.8599412074853009)]\n"
     ]
    },
    {
     "name": "stderr",
     "output_type": "stream",
     "text": [
      "\n",
      "Train epoch=0:  20%|███▋               | 1676/8498 [4:50:21<19:41:52, 10.39s/it]\u001b[A"
     ]
    },
    {
     "name": "stdout",
     "output_type": "stream",
     "text": [
      "[(0.8607786666666667, 0.26614741182188695, 0.18643374491500667, 0.7469510539928316)]\n"
     ]
    },
    {
     "name": "stderr",
     "output_type": "stream",
     "text": [
      "\n",
      "Train epoch=0:  20%|███▋               | 1677/8498 [4:50:31<19:41:41, 10.39s/it]\u001b[A"
     ]
    },
    {
     "name": "stdout",
     "output_type": "stream",
     "text": [
      "[(0.879616, 0.5659797543000491, 0.36852892340872695, 0.8042957959548854)]\n"
     ]
    },
    {
     "name": "stderr",
     "output_type": "stream",
     "text": [
      "\n",
      "Train epoch=0:  20%|███▊               | 1678/8498 [4:50:41<19:41:26, 10.39s/it]\u001b[A"
     ]
    },
    {
     "name": "stdout",
     "output_type": "stream",
     "text": [
      "[(0.7901321321321322, 0.522338165583188, 0.29678848461311524, 0.6882162611964142)]\n"
     ]
    },
    {
     "name": "stderr",
     "output_type": "stream",
     "text": [
      "\n",
      "Train epoch=0:  20%|███▊               | 1679/8498 [4:50:52<19:41:20, 10.39s/it]\u001b[A"
     ]
    },
    {
     "name": "stdout",
     "output_type": "stream",
     "text": [
      "[(0.9432872340425532, 0.49934954862616787, 0.18955582040414945, 0.8951924859932024)]\n"
     ]
    },
    {
     "name": "stderr",
     "output_type": "stream",
     "text": [
      "\n",
      "Train epoch=0:  20%|███▊               | 1680/8498 [4:51:02<19:41:09, 10.39s/it]\u001b[A"
     ]
    },
    {
     "name": "stdout",
     "output_type": "stream",
     "text": [
      "[(0.9148586666666667, 0.7328961922945199, 0.6163585969723234, 0.8492129216357711)]\n"
     ]
    },
    {
     "name": "stderr",
     "output_type": "stream",
     "text": [
      "\n",
      "Train epoch=0:  20%|███▊               | 1681/8498 [4:51:11<19:40:51, 10.39s/it]\u001b[A"
     ]
    },
    {
     "name": "stdout",
     "output_type": "stream",
     "text": [
      "[(0.9140526315789473, 0.9310633105579178, 0.7661443040100946, 0.8578027773915893)]\n"
     ]
    },
    {
     "name": "stderr",
     "output_type": "stream",
     "text": [
      "\n",
      "Train epoch=0:  20%|███▊               | 1682/8498 [4:51:21<19:40:39, 10.39s/it]\u001b[A"
     ]
    },
    {
     "name": "stdout",
     "output_type": "stream",
     "text": [
      "[(0.9062506666666666, 0.4888716266758732, 0.19068470399443394, 0.8837091921918047)]\n"
     ]
    },
    {
     "name": "stderr",
     "output_type": "stream",
     "text": [
      "\n",
      "Train epoch=0:  20%|███▊               | 1683/8498 [4:51:31<19:40:29, 10.39s/it]\u001b[A"
     ]
    },
    {
     "name": "stdout",
     "output_type": "stream",
     "text": [
      "[(0.7101546666666667, 0.3997215415021407, 0.28371810513470597, 0.5502470078398122)]\n"
     ]
    },
    {
     "name": "stderr",
     "output_type": "stream",
     "text": [
      "\n",
      "Train epoch=0:  20%|███▊               | 1684/8498 [4:51:42<19:40:21, 10.39s/it]\u001b[A"
     ]
    },
    {
     "name": "stdout",
     "output_type": "stream",
     "text": [
      "[(0.640785, 0.6461930486871714, 0.4360935011558067, 0.43391373932968647)]\n"
     ]
    },
    {
     "name": "stderr",
     "output_type": "stream",
     "text": [
      "\n",
      "Train epoch=0:  20%|███▊               | 1685/8498 [4:51:53<19:40:12, 10.39s/it]\u001b[A"
     ]
    },
    {
     "name": "stdout",
     "output_type": "stream",
     "text": [
      "[(0.941904, 0.9584155804728732, 0.4389568623739577, 0.9234578176262085)]\n"
     ]
    },
    {
     "name": "stderr",
     "output_type": "stream",
     "text": [
      "\n",
      "Train epoch=0:  20%|███▊               | 1686/8498 [4:52:02<19:39:58, 10.39s/it]\u001b[A"
     ]
    },
    {
     "name": "stdout",
     "output_type": "stream",
     "text": [
      "[(0.6609461077844312, 0.5, 0.23653577459476605, 0.4690121987105585)]\n"
     ]
    },
    {
     "name": "stderr",
     "output_type": "stream",
     "text": [
      "\n",
      "Train epoch=0:  20%|███▊               | 1687/8498 [4:52:12<19:39:46, 10.39s/it]\u001b[A"
     ]
    },
    {
     "name": "stdout",
     "output_type": "stream",
     "text": [
      "[(0.5020485175202156, 0.502770553143632, 0.232594373558821, 0.46493969988143113)]\n"
     ]
    },
    {
     "name": "stderr",
     "output_type": "stream",
     "text": [
      "\n",
      "Train epoch=0:  20%|███▊               | 1688/8498 [4:52:23<19:39:35, 10.39s/it]\u001b[A"
     ]
    },
    {
     "name": "stdout",
     "output_type": "stream",
     "text": [
      "[(0.44765333333333335, 0.5066972456453498, 0.14450050063418998, 0.25608528246814655)]\n"
     ]
    },
    {
     "name": "stderr",
     "output_type": "stream",
     "text": [
      "\n",
      "Train epoch=0:  20%|███▊               | 1689/8498 [4:52:33<19:39:24, 10.39s/it]\u001b[A"
     ]
    },
    {
     "name": "stdout",
     "output_type": "stream",
     "text": [
      "[(0.41408533333333336, 0.3333333333333333, 0.10356828428887763, 0.1715444300900853)]\n"
     ]
    },
    {
     "name": "stderr",
     "output_type": "stream",
     "text": [
      "\n",
      "Train epoch=0:  20%|███▊               | 1690/8498 [4:52:42<19:39:09, 10.39s/it]\u001b[A"
     ]
    },
    {
     "name": "stdout",
     "output_type": "stream",
     "text": [
      "[(0.8354457831325302, 0.730186027832892, 0.626716314340267, 0.7177181898955907)]\n"
     ]
    },
    {
     "name": "stderr",
     "output_type": "stream",
     "text": [
      "\n",
      "Train epoch=0:  20%|███▊               | 1691/8498 [4:52:54<19:39:04, 10.39s/it]\u001b[A"
     ]
    },
    {
     "name": "stdout",
     "output_type": "stream",
     "text": [
      "[(0.8617386666666667, 0.4853473031588307, 0.1767635217924033, 0.7846132068382052)]\n"
     ]
    },
    {
     "name": "stderr",
     "output_type": "stream",
     "text": [
      "\n",
      "Train epoch=0:  20%|███▊               | 1692/8498 [4:53:06<19:38:59, 10.39s/it]\u001b[A"
     ]
    },
    {
     "name": "stdout",
     "output_type": "stream",
     "text": [
      "[(0.7233365155131265, 0.5371013591983375, 0.23360706555221702, 0.6234893829917895)]\n"
     ]
    },
    {
     "name": "stderr",
     "output_type": "stream",
     "text": [
      "\n",
      "Train epoch=0:  20%|███▊               | 1693/8498 [4:53:17<19:38:53, 10.39s/it]\u001b[A"
     ]
    },
    {
     "name": "stdout",
     "output_type": "stream",
     "text": [
      "[(0.4282666666666667, 0.7199739146934158, 0.2748425058412245, 0.3180548952328918)]\n"
     ]
    },
    {
     "name": "stderr",
     "output_type": "stream",
     "text": [
      "\n",
      "Train epoch=0:  20%|███▊               | 1694/8498 [4:53:26<19:38:39, 10.39s/it]\u001b[A"
     ]
    },
    {
     "name": "stdout",
     "output_type": "stream",
     "text": [
      "[(0.8310059880239521, 0.6047257136500037, 0.3628841349999459, 0.7538914130937161)]\n"
     ]
    },
    {
     "name": "stderr",
     "output_type": "stream",
     "text": [
      "\n",
      "Train epoch=0:  20%|███▊               | 1695/8498 [4:53:37<19:38:27, 10.39s/it]\u001b[A"
     ]
    },
    {
     "name": "stdout",
     "output_type": "stream",
     "text": [
      "[(0.09203733333333333, 0.5231475106338888, 0.045630249989744, 0.060598357730878516)]\n"
     ]
    },
    {
     "name": "stderr",
     "output_type": "stream",
     "text": [
      "\n",
      "Train epoch=0:  20%|███▊               | 1696/8498 [4:53:48<19:38:19, 10.39s/it]\u001b[A"
     ]
    },
    {
     "name": "stdout",
     "output_type": "stream",
     "text": [
      "[(0.8023306666666666, 0.8262913280245459, 0.6656564421880826, 0.675862457800507)]\n"
     ]
    },
    {
     "name": "stderr",
     "output_type": "stream",
     "text": [
      "\n",
      "Train epoch=0:  20%|███▊               | 1697/8498 [4:53:58<19:38:07, 10.39s/it]\u001b[A"
     ]
    },
    {
     "name": "stdout",
     "output_type": "stream",
     "text": [
      "[(0.9407413333333333, 0.9171777790545448, 0.8512343374262925, 0.8902094382420546)]\n"
     ]
    },
    {
     "name": "stderr",
     "output_type": "stream",
     "text": [
      "\n",
      "Train epoch=0:  20%|███▊               | 1698/8498 [4:54:08<19:37:58, 10.39s/it]\u001b[A"
     ]
    },
    {
     "name": "stdout",
     "output_type": "stream",
     "text": [
      "[(0.868128, 0.7801560805393939, 0.6999970892714678, 0.7583484215008112)]\n"
     ]
    },
    {
     "name": "stderr",
     "output_type": "stream",
     "text": [
      "\n",
      "Train epoch=0:  20%|███▊               | 1699/8498 [4:54:19<19:37:48, 10.39s/it]\u001b[A"
     ]
    },
    {
     "name": "stdout",
     "output_type": "stream",
     "text": [
      "[(0.8100426666666667, 0.39441750955766963, 0.3062527776524982, 0.6804602682363176)]\n"
     ]
    },
    {
     "name": "stderr",
     "output_type": "stream",
     "text": [
      "\n",
      "Train epoch=0:  20%|███▊               | 1700/8498 [4:54:28<19:37:34, 10.39s/it]\u001b[A"
     ]
    },
    {
     "name": "stdout",
     "output_type": "stream",
     "text": [
      "[(0.9376216216216217, 0.7869101354123923, 0.7528612487382074, 0.8794910719158929)]\n"
     ]
    },
    {
     "name": "stderr",
     "output_type": "stream",
     "text": [
      "\n",
      "Train epoch=0:  20%|███▊               | 1701/8498 [4:54:38<19:37:22, 10.39s/it]\u001b[A"
     ]
    },
    {
     "name": "stdout",
     "output_type": "stream",
     "text": [
      "[(0.8336636636636636, 0.8384651977329299, 0.7128654354241555, 0.7119794611933852)]\n"
     ]
    },
    {
     "name": "stderr",
     "output_type": "stream",
     "text": [
      "\n",
      "Train epoch=0:  20%|███▊               | 1702/8498 [4:54:50<19:37:15, 10.39s/it]\u001b[A"
     ]
    },
    {
     "name": "stdout",
     "output_type": "stream",
     "text": [
      "[(0.76816, 0.5978939562764602, 0.4047278119174467, 0.6703530400689713)]\n"
     ]
    },
    {
     "name": "stderr",
     "output_type": "stream",
     "text": [
      "\n",
      "Train epoch=0:  20%|███▊               | 1703/8498 [4:55:00<19:37:06, 10.39s/it]\u001b[A"
     ]
    },
    {
     "name": "stdout",
     "output_type": "stream",
     "text": [
      "[(0.7702, 0.5, 0.19989503189415525, 0.6158366142595135)]\n"
     ]
    },
    {
     "name": "stderr",
     "output_type": "stream",
     "text": [
      "\n",
      "Train epoch=0:  20%|███▊               | 1704/8498 [4:55:10<19:36:51, 10.39s/it]\u001b[A"
     ]
    },
    {
     "name": "stdout",
     "output_type": "stream",
     "text": [
      "[(0.9204324324324324, 0.6272461667175229, 0.5678263835639177, 0.8551522206595052)]\n"
     ]
    },
    {
     "name": "stderr",
     "output_type": "stream",
     "text": [
      "\n",
      "Train epoch=0:  20%|███▊               | 1705/8498 [4:55:19<19:36:36, 10.39s/it]\u001b[A"
     ]
    },
    {
     "name": "stdout",
     "output_type": "stream",
     "text": [
      "[(0.991216049382716, 0.44235836627140973, 0.4394243879989312, 0.982509414526205)]\n"
     ]
    },
    {
     "name": "stderr",
     "output_type": "stream",
     "text": [
      "\n",
      "Train epoch=0:  20%|███▊               | 1706/8498 [4:55:29<19:36:25, 10.39s/it]\u001b[A"
     ]
    },
    {
     "name": "stdout",
     "output_type": "stream",
     "text": [
      "[(0.9343786666666667, 0.7844098567566071, 0.37594341081581617, 0.8852383855954782)]\n"
     ]
    },
    {
     "name": "stderr",
     "output_type": "stream",
     "text": [
      "\n",
      "Train epoch=0:  20%|███▊               | 1707/8498 [4:55:40<19:36:18, 10.39s/it]\u001b[A"
     ]
    },
    {
     "name": "stdout",
     "output_type": "stream",
     "text": [
      "[(0.9551771771771772, 0.9117663456200036, 0.7890509822449185, 0.9230856541769822)]\n"
     ]
    },
    {
     "name": "stderr",
     "output_type": "stream",
     "text": [
      "\n",
      "Train epoch=0:  20%|███▊               | 1708/8498 [4:55:50<19:36:06, 10.39s/it]\u001b[A"
     ]
    },
    {
     "name": "stdout",
     "output_type": "stream",
     "text": [
      "[(0.9616853333333333, 0.5176229907811895, 0.4807048720453045, 0.9290568124833871)]\n"
     ]
    },
    {
     "name": "stderr",
     "output_type": "stream",
     "text": [
      "\n",
      "Train epoch=0:  20%|███▊               | 1709/8498 [4:56:01<19:35:56, 10.39s/it]\u001b[A"
     ]
    },
    {
     "name": "stdout",
     "output_type": "stream",
     "text": [
      "[(0.7863626666666667, 0.7906771796163663, 0.6419552810889182, 0.640822210760925)]\n"
     ]
    },
    {
     "name": "stderr",
     "output_type": "stream",
     "text": [
      "\n",
      "Train epoch=0:  20%|███▊               | 1710/8498 [4:56:11<19:35:45, 10.39s/it]\u001b[A"
     ]
    },
    {
     "name": "stdout",
     "output_type": "stream",
     "text": [
      "[(0.8707987987987988, 0.8542199837987354, 0.3888379759124473, 0.7874850330439651)]\n"
     ]
    },
    {
     "name": "stderr",
     "output_type": "stream",
     "text": [
      "\n",
      "Train epoch=0:  20%|███▊               | 1711/8498 [4:56:21<19:35:34, 10.39s/it]\u001b[A"
     ]
    },
    {
     "name": "stdout",
     "output_type": "stream",
     "text": [
      "[(0.9109779005524862, 0.910426264191513, 0.5808646481683671, 0.8696745542208901)]\n"
     ]
    },
    {
     "name": "stderr",
     "output_type": "stream",
     "text": [
      "\n",
      "Train epoch=0:  20%|███▊               | 1712/8498 [4:56:31<19:35:23, 10.39s/it]\u001b[A"
     ]
    },
    {
     "name": "stdout",
     "output_type": "stream",
     "text": [
      "[(0.8522613333333333, 0.8145348486455367, 0.7160625740545921, 0.7347600624985817)]\n"
     ]
    },
    {
     "name": "stderr",
     "output_type": "stream",
     "text": [
      "\n",
      "Train epoch=0:  20%|███▊               | 1713/8498 [4:56:42<19:35:12, 10.39s/it]\u001b[A"
     ]
    },
    {
     "name": "stdout",
     "output_type": "stream",
     "text": [
      "[(0.9746133333333333, 0.5293652363061103, 0.3470920292477679, 0.9576297048605875)]\n"
     ]
    },
    {
     "name": "stderr",
     "output_type": "stream",
     "text": [
      "\n",
      "Train epoch=0:  20%|███▊               | 1714/8498 [4:56:54<19:35:08, 10.39s/it]\u001b[A"
     ]
    },
    {
     "name": "stdout",
     "output_type": "stream",
     "text": [
      "[(0.6320857787810383, 0.6093721026376088, 0.4043098327421873, 0.4150985925638083)]\n"
     ]
    },
    {
     "name": "stderr",
     "output_type": "stream",
     "text": [
      "\n",
      "Train epoch=0:  20%|███▊               | 1715/8498 [4:57:04<19:34:55, 10.39s/it]\u001b[A"
     ]
    },
    {
     "name": "stdout",
     "output_type": "stream",
     "text": [
      "[(0.7004144144144144, 0.5290902180096175, 0.3519388974555163, 0.5476387581193602)]\n"
     ]
    },
    {
     "name": "stderr",
     "output_type": "stream",
     "text": [
      "\n",
      "Train epoch=0:  20%|███▊               | 1716/8498 [4:57:15<19:34:48, 10.39s/it]\u001b[A"
     ]
    },
    {
     "name": "stdout",
     "output_type": "stream",
     "text": [
      "[(0.7751356783919598, 0.6574591027227507, 0.406814857932143, 0.6216452002699664)]\n"
     ]
    },
    {
     "name": "stderr",
     "output_type": "stream",
     "text": [
      "\n",
      "Train epoch=0:  20%|███▊               | 1717/8498 [4:57:24<19:34:35, 10.39s/it]\u001b[A"
     ]
    },
    {
     "name": "stdout",
     "output_type": "stream",
     "text": [
      "[(0.9780365853658537, 0.35051026870154844, 0.34308931613500193, 0.9566009539510846)]\n"
     ]
    },
    {
     "name": "stderr",
     "output_type": "stream",
     "text": [
      "\n",
      "Train epoch=0:  20%|███▊               | 1718/8498 [4:57:35<19:34:24, 10.39s/it]\u001b[A"
     ]
    },
    {
     "name": "stdout",
     "output_type": "stream",
     "text": [
      "[(0.9318453333333333, 0.5066579755143159, 0.4726076042783972, 0.8684624863861872)]\n"
     ]
    },
    {
     "name": "stderr",
     "output_type": "stream",
     "text": [
      "\n",
      "Train epoch=0:  20%|███▊               | 1719/8498 [4:57:44<19:34:09, 10.39s/it]\u001b[A"
     ]
    },
    {
     "name": "stdout",
     "output_type": "stream",
     "text": [
      "[(0.9585568862275449, 0.9619535450722427, 0.9181455922651262, 0.9208423535267496)]\n"
     ]
    },
    {
     "name": "stderr",
     "output_type": "stream",
     "text": [
      "\n",
      "Train epoch=0:  20%|███▊               | 1720/8498 [4:57:54<19:33:57, 10.39s/it]\u001b[A"
     ]
    },
    {
     "name": "stdout",
     "output_type": "stream",
     "text": [
      "[(0.7134773333333333, 0.6107423884533453, 0.2395095003649788, 0.5469888065972546)]\n"
     ]
    },
    {
     "name": "stderr",
     "output_type": "stream",
     "text": [
      "\n",
      "Train epoch=0:  20%|███▊               | 1721/8498 [4:58:04<19:33:46, 10.39s/it]\u001b[A"
     ]
    },
    {
     "name": "stdout",
     "output_type": "stream",
     "text": [
      "[(0.8424373333333334, 0.7364313283110543, 0.40521072241968115, 0.7467319744896651)]\n"
     ]
    },
    {
     "name": "stderr",
     "output_type": "stream",
     "text": [
      "\n",
      "Train epoch=0:  20%|███▊               | 1722/8498 [4:58:14<19:33:35, 10.39s/it]\u001b[A"
     ]
    },
    {
     "name": "stdout",
     "output_type": "stream",
     "text": [
      "[(0.8750666666666667, 0.9007696116754458, 0.4553818205466535, 0.8131173375981271)]\n"
     ]
    },
    {
     "name": "stderr",
     "output_type": "stream",
     "text": [
      "\n",
      "Train epoch=0:  20%|███▊               | 1723/8498 [4:58:25<19:33:24, 10.39s/it]\u001b[A"
     ]
    },
    {
     "name": "stdout",
     "output_type": "stream",
     "text": [
      "[(0.99104, 0.8329668635783367, 0.8261536070054638, 0.9822232098763487)]\n"
     ]
    },
    {
     "name": "stderr",
     "output_type": "stream",
     "text": [
      "\n",
      "Train epoch=0:  20%|███▊               | 1724/8498 [4:58:35<19:33:12, 10.39s/it]\u001b[A"
     ]
    },
    {
     "name": "stdout",
     "output_type": "stream",
     "text": [
      "[(0.8983296089385475, 0.8962915795044233, 0.7707471201788956, 0.8252352186852868)]\n"
     ]
    },
    {
     "name": "stderr",
     "output_type": "stream",
     "text": [
      "\n",
      "Train epoch=0:  20%|███▊               | 1725/8498 [4:58:45<19:33:02, 10.39s/it]\u001b[A"
     ]
    },
    {
     "name": "stdout",
     "output_type": "stream",
     "text": [
      "[(0.9558933333333334, 0.5, 0.4779466666666667, 0.9137320647111112)]\n"
     ]
    },
    {
     "name": "stderr",
     "output_type": "stream",
     "text": [
      "\n",
      "Train epoch=0:  20%|███▊               | 1726/8498 [4:58:56<19:32:52, 10.39s/it]\u001b[A"
     ]
    },
    {
     "name": "stdout",
     "output_type": "stream",
     "text": [
      "[(0.990944, 0.5, 0.495472, 0.9819700111360001)]\n"
     ]
    },
    {
     "name": "stderr",
     "output_type": "stream",
     "text": [
      "\n",
      "Train epoch=0:  20%|███▊               | 1727/8498 [4:59:06<19:32:42, 10.39s/it]\u001b[A"
     ]
    },
    {
     "name": "stdout",
     "output_type": "stream",
     "text": [
      "[(0.62408, 0.508865453209292, 0.11346979933226613, 0.41608034577885195)]\n"
     ]
    },
    {
     "name": "stderr",
     "output_type": "stream",
     "text": [
      "\n",
      "Train epoch=0:  20%|███▊               | 1728/8498 [4:59:16<19:32:30, 10.39s/it]\u001b[A"
     ]
    },
    {
     "name": "stdout",
     "output_type": "stream",
     "text": [
      "[(0.9848586666666667, 0.3333333333333333, 0.3282862222222222, 0.9699465933084445)]\n"
     ]
    },
    {
     "name": "stderr",
     "output_type": "stream",
     "text": [
      "\n",
      "Train epoch=0:  20%|███▊               | 1729/8498 [4:59:24<19:32:11, 10.39s/it]\u001b[A"
     ]
    },
    {
     "name": "stdout",
     "output_type": "stream",
     "text": [
      "[(0.8666349206349206, 0.5087576426450378, 0.22379177349596116, 0.7608943394815004)]\n"
     ]
    },
    {
     "name": "stderr",
     "output_type": "stream",
     "text": [
      "\n",
      "Train epoch=0:  20%|███▊               | 1730/8498 [4:59:34<19:31:57, 10.39s/it]\u001b[A"
     ]
    },
    {
     "name": "stdout",
     "output_type": "stream",
     "text": [
      "[(0.8748888888888889, 0.5904872882056127, 0.40830219533437323, 0.810759291084386)]\n"
     ]
    },
    {
     "name": "stderr",
     "output_type": "stream",
     "text": [
      "\n",
      "Train epoch=0:  20%|███▊               | 1731/8498 [4:59:44<19:31:48, 10.39s/it]\u001b[A"
     ]
    },
    {
     "name": "stdout",
     "output_type": "stream",
     "text": [
      "[(0.9405843373493976, 0.6277098197946177, 0.5646395941484054, 0.8884957162398798)]\n"
     ]
    },
    {
     "name": "stderr",
     "output_type": "stream",
     "text": [
      "\n",
      "Train epoch=0:  20%|███▊               | 1732/8498 [4:59:54<19:31:36, 10.39s/it]\u001b[A"
     ]
    },
    {
     "name": "stdout",
     "output_type": "stream",
     "text": [
      "[(0.610032, 0.6863386780241183, 0.4442784514788978, 0.49000012307151797)]\n"
     ]
    },
    {
     "name": "stderr",
     "output_type": "stream",
     "text": [
      "\n",
      "Train epoch=0:  20%|███▊               | 1733/8498 [5:00:05<19:31:25, 10.39s/it]\u001b[A"
     ]
    },
    {
     "name": "stdout",
     "output_type": "stream",
     "text": [
      "[(0.8896693333333333, 0.5860155067152066, 0.5345937358977785, 0.7949562061743627)]\n"
     ]
    },
    {
     "name": "stderr",
     "output_type": "stream",
     "text": [
      "\n",
      "Train epoch=0:  20%|███▉               | 1734/8498 [5:00:14<19:31:11, 10.39s/it]\u001b[A"
     ]
    },
    {
     "name": "stdout",
     "output_type": "stream",
     "text": [
      "[(0.9244024024024025, 0.9234410250296315, 0.8587009152091797, 0.8588551750273)]\n"
     ]
    },
    {
     "name": "stderr",
     "output_type": "stream",
     "text": [
      "\n",
      "Train epoch=0:  20%|███▉               | 1735/8498 [5:00:24<19:30:57, 10.39s/it]\u001b[A"
     ]
    },
    {
     "name": "stdout",
     "output_type": "stream",
     "text": [
      "[(0.8728528528528529, 0.873848019959822, 0.7742390680385491, 0.7745579832060834)]\n"
     ]
    },
    {
     "name": "stderr",
     "output_type": "stream",
     "text": [
      "\n",
      "Train epoch=0:  20%|███▉               | 1736/8498 [5:00:34<19:30:46, 10.39s/it]\u001b[A"
     ]
    },
    {
     "name": "stdout",
     "output_type": "stream",
     "text": [
      "[(0.73888, 0.8529879064498798, 0.5593248385316018, 0.6178238300364494)]\n"
     ]
    },
    {
     "name": "stderr",
     "output_type": "stream",
     "text": [
      "\n",
      "Train epoch=0:  20%|███▉               | 1737/8498 [5:00:44<19:30:36, 10.39s/it]\u001b[A"
     ]
    },
    {
     "name": "stdout",
     "output_type": "stream",
     "text": [
      "[(0.456656, 0.491585414876525, 0.11695458927169711, 0.21787691058515624)]\n"
     ]
    },
    {
     "name": "stderr",
     "output_type": "stream",
     "text": [
      "\n",
      "Train epoch=0:  20%|███▉               | 1738/8498 [5:00:55<19:30:25, 10.39s/it]\u001b[A"
     ]
    },
    {
     "name": "stdout",
     "output_type": "stream",
     "text": [
      "[(0.5025013333333334, 0.5632268501816337, 0.20695485742651984, 0.4193432745173445)]\n"
     ]
    },
    {
     "name": "stderr",
     "output_type": "stream",
     "text": [
      "\n",
      "Train epoch=0:  20%|███▉               | 1739/8498 [5:01:05<19:30:14, 10.39s/it]\u001b[A"
     ]
    },
    {
     "name": "stdout",
     "output_type": "stream",
     "text": [
      "[(0.740576, 0.7243030204902975, 0.5725790565692277, 0.5803495729649659)]\n"
     ]
    },
    {
     "name": "stderr",
     "output_type": "stream",
     "text": [
      "\n",
      "Train epoch=0:  20%|███▉               | 1740/8498 [5:01:14<19:30:01, 10.39s/it]\u001b[A"
     ]
    },
    {
     "name": "stdout",
     "output_type": "stream",
     "text": [
      "[(0.9935443786982249, 0.5, 0.49677218934911244, 0.9871304324428417)]\n"
     ]
    },
    {
     "name": "stderr",
     "output_type": "stream",
     "text": [
      "\n",
      "Train epoch=0:  20%|███▉               | 1741/8498 [5:01:25<19:29:50, 10.39s/it]\u001b[A"
     ]
    },
    {
     "name": "stdout",
     "output_type": "stream",
     "text": [
      "[(0.903872, 0.9192645947802873, 0.8186086596749397, 0.827750118039837)]\n"
     ]
    },
    {
     "name": "stderr",
     "output_type": "stream",
     "text": [
      "\n",
      "Train epoch=0:  20%|███▉               | 1742/8498 [5:01:35<19:29:40, 10.39s/it]\u001b[A"
     ]
    },
    {
     "name": "stdout",
     "output_type": "stream",
     "text": [
      "[(0.6657386666666667, 0.5944178656639902, 0.32897791842865165, 0.4808739738220438)]\n"
     ]
    },
    {
     "name": "stderr",
     "output_type": "stream",
     "text": [
      "\n",
      "Train epoch=0:  21%|███▉               | 1743/8498 [5:01:46<19:29:30, 10.39s/it]\u001b[A"
     ]
    },
    {
     "name": "stdout",
     "output_type": "stream",
     "text": [
      "[(0.9416213333333333, 0.5965663583994915, 0.42676295107094664, 0.8892751704926034)]\n"
     ]
    },
    {
     "name": "stderr",
     "output_type": "stream",
     "text": [
      "\n",
      "Train epoch=0:  21%|███▉               | 1744/8498 [5:01:57<19:29:24, 10.39s/it]\u001b[A"
     ]
    },
    {
     "name": "stdout",
     "output_type": "stream",
     "text": [
      "[(0.8079146666666667, 0.7744405685394469, 0.26449608260991847, 0.6776476116534267)]\n"
     ]
    },
    {
     "name": "stderr",
     "output_type": "stream",
     "text": [
      "\n",
      "Train epoch=0:  21%|███▉               | 1745/8498 [5:02:04<19:29:00, 10.39s/it]\u001b[A"
     ]
    },
    {
     "name": "stdout",
     "output_type": "stream",
     "text": [
      "[(0.8442573099415205, 0.8186104758726627, 0.7000775085265043, 0.7347785513828778)]\n"
     ]
    },
    {
     "name": "stderr",
     "output_type": "stream",
     "text": [
      "\n",
      "Train epoch=0:  21%|███▉               | 1746/8498 [5:02:14<19:28:49, 10.39s/it]\u001b[A"
     ]
    },
    {
     "name": "stdout",
     "output_type": "stream",
     "text": [
      "[(0.8802613333333333, 0.8696732207764246, 0.7796484288062338, 0.7839810364151325)]\n"
     ]
    },
    {
     "name": "stderr",
     "output_type": "stream",
     "text": [
      "\n",
      "Train epoch=0:  21%|███▉               | 1747/8498 [5:02:25<19:28:42, 10.39s/it]\u001b[A"
     ]
    },
    {
     "name": "stdout",
     "output_type": "stream",
     "text": [
      "[(0.711855421686747, 0.4984483569143869, 0.36195405036499756, 0.559704277434557)]\n"
     ]
    },
    {
     "name": "stderr",
     "output_type": "stream",
     "text": [
      "\n",
      "Train epoch=0:  21%|███▉               | 1748/8498 [5:02:36<19:28:31, 10.39s/it]\u001b[A"
     ]
    },
    {
     "name": "stdout",
     "output_type": "stream",
     "text": [
      "[(0.9327413333333333, 0.9359210184426017, 0.5727250249727528, 0.8767329414535192)]\n"
     ]
    },
    {
     "name": "stderr",
     "output_type": "stream",
     "text": [
      "\n",
      "Train epoch=0:  21%|███▉               | 1749/8498 [5:02:46<19:28:20, 10.39s/it]\u001b[A"
     ]
    },
    {
     "name": "stdout",
     "output_type": "stream",
     "text": [
      "[(0.8764746666666666, 0.7997069195029427, 0.7126167113955821, 0.7796739219667862)]\n"
     ]
    },
    {
     "name": "stderr",
     "output_type": "stream",
     "text": [
      "\n",
      "Train epoch=0:  21%|███▉               | 1750/8498 [5:02:56<19:28:09, 10.39s/it]\u001b[A"
     ]
    },
    {
     "name": "stdout",
     "output_type": "stream",
     "text": [
      "[(0.7292266666666667, 0.5029079444651144, 0.18423418529952112, 0.5335787265997886)]\n"
     ]
    },
    {
     "name": "stderr",
     "output_type": "stream",
     "text": [
      "\n",
      "Train epoch=0:  21%|███▉               | 1751/8498 [5:03:06<19:27:58, 10.39s/it]\u001b[A"
     ]
    },
    {
     "name": "stdout",
     "output_type": "stream",
     "text": [
      "[(0.888848, 0.6858471028907376, 0.5584684956542468, 0.8103374250001806)]\n"
     ]
    },
    {
     "name": "stderr",
     "output_type": "stream",
     "text": [
      "\n",
      "Train epoch=0:  21%|███▉               | 1752/8498 [5:03:16<19:27:43, 10.39s/it]\u001b[A"
     ]
    },
    {
     "name": "stdout",
     "output_type": "stream",
     "text": [
      "[(0.93475, 0.6725477159232796, 0.59009040702947, 0.8840017328024636)]\n"
     ]
    },
    {
     "name": "stderr",
     "output_type": "stream",
     "text": [
      "\n",
      "Train epoch=0:  21%|███▉               | 1753/8498 [5:03:27<19:27:37, 10.39s/it]\u001b[A"
     ]
    },
    {
     "name": "stdout",
     "output_type": "stream",
     "text": [
      "[(0.8270346666666667, 0.8210149215278617, 0.39015981157117685, 0.7845306441788902)]\n"
     ]
    },
    {
     "name": "stderr",
     "output_type": "stream",
     "text": [
      "\n",
      "Train epoch=0:  21%|███▉               | 1754/8498 [5:03:34<19:27:14, 10.38s/it]\u001b[A"
     ]
    },
    {
     "name": "stdout",
     "output_type": "stream",
     "text": [
      "[(0.6919417475728156, 0.5638255448937037, 0.4027728968838583, 0.48355399394045057)]\n"
     ]
    },
    {
     "name": "stderr",
     "output_type": "stream",
     "text": [
      "\n",
      "Train epoch=0:  21%|███▉               | 1755/8498 [5:03:45<19:27:03, 10.38s/it]\u001b[A"
     ]
    },
    {
     "name": "stdout",
     "output_type": "stream",
     "text": [
      "[(0.9091893333333333, 0.8464529822385647, 0.39697517948192307, 0.8361052048788681)]\n"
     ]
    },
    {
     "name": "stderr",
     "output_type": "stream",
     "text": [
      "\n",
      "Train epoch=0:  21%|███▉               | 1756/8498 [5:03:54<19:26:50, 10.38s/it]\u001b[A"
     ]
    },
    {
     "name": "stdout",
     "output_type": "stream",
     "text": [
      "[(0.8895857988165681, 0.7809388097888288, 0.7131077624809308, 0.7957585804719429)]\n"
     ]
    },
    {
     "name": "stderr",
     "output_type": "stream",
     "text": [
      "\n",
      "Train epoch=0:  21%|███▉               | 1757/8498 [5:04:06<19:26:44, 10.38s/it]\u001b[A"
     ]
    },
    {
     "name": "stdout",
     "output_type": "stream",
     "text": [
      "[(0.8371466666666667, 0.32190981647175726, 0.17010489375581297, 0.73633442007863)]\n"
     ]
    },
    {
     "name": "stderr",
     "output_type": "stream",
     "text": [
      "\n",
      "Train epoch=0:  21%|███▉               | 1758/8498 [5:04:15<19:26:30, 10.38s/it]\u001b[A"
     ]
    },
    {
     "name": "stdout",
     "output_type": "stream",
     "text": [
      "[(0.9204790419161677, 0.4333343892903761, 0.31428709099552543, 0.883422260419485)]\n"
     ]
    },
    {
     "name": "stderr",
     "output_type": "stream",
     "text": [
      "\n",
      "Train epoch=0:  21%|███▉               | 1759/8498 [5:04:25<19:26:19, 10.38s/it]\u001b[A"
     ]
    },
    {
     "name": "stdout",
     "output_type": "stream",
     "text": [
      "[(0.4460693333333333, 0.5174242578082707, 0.10385612936318671, 0.22640992427127168)]\n"
     ]
    },
    {
     "name": "stderr",
     "output_type": "stream",
     "text": [
      "\n",
      "Train epoch=0:  21%|███▉               | 1760/8498 [5:04:34<19:26:03, 10.38s/it]\u001b[A"
     ]
    },
    {
     "name": "stdout",
     "output_type": "stream",
     "text": [
      "[(0.945003194888179, 0.9490340250676519, 0.8926687120647944, 0.8964532856519851)]\n"
     ]
    },
    {
     "name": "stderr",
     "output_type": "stream",
     "text": [
      "\n",
      "Train epoch=0:  21%|███▉               | 1761/8498 [5:04:46<19:25:57, 10.38s/it]\u001b[A"
     ]
    },
    {
     "name": "stdout",
     "output_type": "stream",
     "text": [
      "[(0.9168373333333333, 0.8663756381482698, 0.5459326684347832, 0.851655246192401)]\n"
     ]
    },
    {
     "name": "stderr",
     "output_type": "stream",
     "text": [
      "\n",
      "Train epoch=0:  21%|███▉               | 1762/8498 [5:04:57<19:25:51, 10.38s/it]\u001b[A"
     ]
    },
    {
     "name": "stdout",
     "output_type": "stream",
     "text": [
      "[(0.616256, 0.5183642020729383, 0.22121209122209384, 0.4051343191552028)]\n"
     ]
    },
    {
     "name": "stderr",
     "output_type": "stream",
     "text": [
      "\n",
      "Train epoch=0:  21%|███▉               | 1763/8498 [5:05:08<19:25:42, 10.38s/it]\u001b[A"
     ]
    },
    {
     "name": "stdout",
     "output_type": "stream",
     "text": [
      "[(0.7663558897243108, 0.7732463717068818, 0.5009424287468042, 0.7436089468827495)]\n"
     ]
    },
    {
     "name": "stderr",
     "output_type": "stream",
     "text": [
      "\n",
      "Train epoch=0:  21%|███▉               | 1764/8498 [5:05:18<19:25:28, 10.38s/it]\u001b[A"
     ]
    },
    {
     "name": "stdout",
     "output_type": "stream",
     "text": [
      "[(0.9862282282282282, 0.5, 0.4931141141141141, 0.9726461181541902)]\n"
     ]
    },
    {
     "name": "stderr",
     "output_type": "stream",
     "text": [
      "\n",
      "Train epoch=0:  21%|███▉               | 1765/8498 [5:05:29<19:25:21, 10.38s/it]\u001b[A"
     ]
    },
    {
     "name": "stdout",
     "output_type": "stream",
     "text": [
      "[(0.9005973333333334, 0.5, 0.4502986666666667, 0.8110755568071112)]\n"
     ]
    },
    {
     "name": "stderr",
     "output_type": "stream",
     "text": [
      "\n",
      "Train epoch=0:  21%|███▉               | 1766/8498 [5:05:39<19:25:10, 10.38s/it]\u001b[A"
     ]
    },
    {
     "name": "stdout",
     "output_type": "stream",
     "text": [
      "[(0.7786946778711484, 0.6787454756984888, 0.5562828828998991, 0.6232300453234035)]\n"
     ]
    },
    {
     "name": "stderr",
     "output_type": "stream",
     "text": [
      "\n",
      "Train epoch=0:  21%|███▉               | 1767/8498 [5:05:48<19:24:56, 10.38s/it]\u001b[A"
     ]
    },
    {
     "name": "stdout",
     "output_type": "stream",
     "text": [
      "[(0.9533753753753754, 0.9550920719239613, 0.9090984631012698, 0.9112171890313802)]\n"
     ]
    },
    {
     "name": "stderr",
     "output_type": "stream",
     "text": [
      "\n",
      "Train epoch=0:  21%|███▉               | 1768/8498 [5:05:58<19:24:41, 10.38s/it]\u001b[A"
     ]
    },
    {
     "name": "stdout",
     "output_type": "stream",
     "text": [
      "[(0.7491473354231974, 0.7325511789600273, 0.5855043286731441, 0.594690360382895)]\n"
     ]
    },
    {
     "name": "stderr",
     "output_type": "stream",
     "text": [
      "\n",
      "Train epoch=0:  21%|███▉               | 1769/8498 [5:06:08<19:24:29, 10.38s/it]\u001b[A"
     ]
    },
    {
     "name": "stdout",
     "output_type": "stream",
     "text": [
      "[(0.9610478723404255, 0.6694655000830414, 0.4329606394214894, 0.9238598167076382)]\n"
     ]
    },
    {
     "name": "stderr",
     "output_type": "stream",
     "text": [
      "\n",
      "Train epoch=0:  21%|███▉               | 1770/8498 [5:06:18<19:24:17, 10.38s/it]\u001b[A"
     ]
    },
    {
     "name": "stdout",
     "output_type": "stream",
     "text": [
      "[(0.896112, 0.8792041697888247, 0.5353488888479327, 0.8211669765526093)]\n"
     ]
    },
    {
     "name": "stderr",
     "output_type": "stream",
     "text": [
      "\n",
      "Train epoch=0:  21%|███▉               | 1771/8498 [5:06:28<19:24:07, 10.38s/it]\u001b[A"
     ]
    },
    {
     "name": "stdout",
     "output_type": "stream",
     "text": [
      "[(0.939968, 0.932067760949183, 0.8738094903916125, 0.8875002679108379)]\n"
     ]
    },
    {
     "name": "stderr",
     "output_type": "stream",
     "text": [
      "\n",
      "Train epoch=0:  21%|███▉               | 1772/8498 [5:06:39<19:23:57, 10.38s/it]\u001b[A"
     ]
    },
    {
     "name": "stdout",
     "output_type": "stream",
     "text": [
      "[(0.8064693333333334, 0.8026425321714228, 0.6688857482841104, 0.670090662886708)]\n"
     ]
    },
    {
     "name": "stderr",
     "output_type": "stream",
     "text": [
      "\n",
      "Train epoch=0:  21%|███▉               | 1773/8498 [5:06:49<19:23:48, 10.38s/it]\u001b[A"
     ]
    },
    {
     "name": "stdout",
     "output_type": "stream",
     "text": [
      "[(0.993168, 0.796119547432983, 0.5280700464988134, 0.9871015368714345)]\n"
     ]
    },
    {
     "name": "stderr",
     "output_type": "stream",
     "text": [
      "\n",
      "Train epoch=0:  21%|███▉               | 1774/8498 [5:07:01<19:23:42, 10.38s/it]\u001b[A"
     ]
    },
    {
     "name": "stdout",
     "output_type": "stream",
     "text": [
      "[(0.940912, 0.6603308891777485, 0.4451381026981861, 0.9012399661216639)]\n"
     ]
    },
    {
     "name": "stderr",
     "output_type": "stream",
     "text": [
      "\n",
      "Train epoch=0:  21%|███▉               | 1775/8498 [5:07:11<19:23:32, 10.38s/it]\u001b[A"
     ]
    },
    {
     "name": "stdout",
     "output_type": "stream",
     "text": [
      "[(0.825568, 0.8566920853105713, 0.701058546871419, 0.7070709741915153)]\n"
     ]
    },
    {
     "name": "stderr",
     "output_type": "stream",
     "text": [
      "\n",
      "Train epoch=0:  21%|███▉               | 1776/8498 [5:07:22<19:23:21, 10.38s/it]\u001b[A"
     ]
    },
    {
     "name": "stdout",
     "output_type": "stream",
     "text": [
      "[(0.9863946666666666, 0.6819876094324008, 0.4442725523881504, 0.9778924624171769)]\n"
     ]
    },
    {
     "name": "stderr",
     "output_type": "stream",
     "text": [
      "\n",
      "Train epoch=0:  21%|███▉               | 1777/8498 [5:07:34<19:23:18, 10.39s/it]\u001b[A"
     ]
    },
    {
     "name": "stdout",
     "output_type": "stream",
     "text": [
      "[(0.8957929606625259, 0.8960838791259237, 0.2786296007593943, 0.835772135899267)]\n"
     ]
    },
    {
     "name": "stderr",
     "output_type": "stream",
     "text": [
      "\n",
      "Train epoch=0:  21%|███▉               | 1778/8498 [5:07:44<19:23:08, 10.39s/it]\u001b[A"
     ]
    },
    {
     "name": "stdout",
     "output_type": "stream",
     "text": [
      "[(0.9656276276276277, 0.9065266103668872, 0.8518079805866816, 0.9356476585949998)]\n"
     ]
    },
    {
     "name": "stderr",
     "output_type": "stream",
     "text": [
      "\n",
      "Train epoch=0:  21%|███▉               | 1779/8498 [5:07:54<19:22:55, 10.38s/it]\u001b[A"
     ]
    },
    {
     "name": "stdout",
     "output_type": "stream",
     "text": [
      "[(0.4485585585585586, 0.46144553114702297, 0.277719859076959, 0.40503905776684074)]\n"
     ]
    },
    {
     "name": "stderr",
     "output_type": "stream",
     "text": [
      "\n",
      "Train epoch=0:  21%|███▉               | 1780/8498 [5:08:05<19:22:48, 10.39s/it]\u001b[A"
     ]
    },
    {
     "name": "stdout",
     "output_type": "stream",
     "text": [
      "[(0.921824, 0.8468085110086909, 0.5081876835667365, 0.8632170042806205)]\n"
     ]
    },
    {
     "name": "stderr",
     "output_type": "stream",
     "text": [
      "\n",
      "Train epoch=0:  21%|███▉               | 1781/8498 [5:08:15<19:22:34, 10.38s/it]\u001b[A"
     ]
    },
    {
     "name": "stdout",
     "output_type": "stream",
     "text": [
      "[(0.9274658753709198, 0.3560018742613184, 0.20189933801138865, 0.8729213134744378)]\n"
     ]
    },
    {
     "name": "stderr",
     "output_type": "stream",
     "text": [
      "\n",
      "Train epoch=0:  21%|███▉               | 1782/8498 [5:08:25<19:22:24, 10.38s/it]\u001b[A"
     ]
    },
    {
     "name": "stdout",
     "output_type": "stream",
     "text": [
      "[(0.5471938775510204, 0.3654109381317243, 0.2128137399943649, 0.3177257084970245)]\n"
     ]
    },
    {
     "name": "stderr",
     "output_type": "stream",
     "text": [
      "\n",
      "Train epoch=0:  21%|███▉               | 1783/8498 [5:08:35<19:22:13, 10.38s/it]\u001b[A"
     ]
    },
    {
     "name": "stdout",
     "output_type": "stream",
     "text": [
      "[(0.886592, 0.3626411036154396, 0.24360922227421467, 0.7930749049880782)]\n"
     ]
    }
   ],
   "source": [
    "trainer = Trainer(\n",
    "    cuda=cuda,\n",
    "    model=mod,\n",
    "    optimizer=optim,\n",
    "    train_loader=train_loader,\n",
    "    val_loader=val_loader,\n",
    "    out=out,\n",
    "    max_iter=cfg['max_iteration'],\n",
    "    interval_validate=cfg.get('interval_validate', len(train_loader)),\n",
    ")\n",
    "trainer.epoch = start_epoch\n",
    "trainer.iteration = start_iteration\n",
    "trainer.train()\n"
   ]
  },
  {
   "cell_type": "code",
   "execution_count": null,
   "metadata": {},
   "outputs": [],
   "source": []
  }
 ],
 "metadata": {
  "kernelspec": {
   "display_name": "Python 3",
   "language": "python",
   "name": "python3"
  },
  "language_info": {
   "codemirror_mode": {
    "name": "ipython",
    "version": 3
   },
   "file_extension": ".py",
   "mimetype": "text/x-python",
   "name": "python",
   "nbconvert_exporter": "python",
   "pygments_lexer": "ipython3",
   "version": "3.5.2"
  }
 },
 "nbformat": 4,
 "nbformat_minor": 2
}
